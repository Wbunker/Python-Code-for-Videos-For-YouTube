{
 "cells": [
  {
   "cell_type": "code",
   "execution_count": 2,
   "id": "9d566afb",
   "metadata": {},
   "outputs": [
    {
     "name": "stdout",
     "output_type": "stream",
     "text": [
      "{'one': 1, 'two': 2, 'three': 3, 'four': 4, 'five': 5, 'six': 6, 'seven': 7, 'eight': 8}\n"
     ]
    }
   ],
   "source": [
    "jumbled = {\n",
    "    \"eight\": 8, \n",
    "    \"seven\": 7, \n",
    "    \"six\": 6, \n",
    "    \"five\": 5, \n",
    "    \"three\": 3, \n",
    "    \"one\": 1, \n",
    "    \"two\": 2, \n",
    "    \"four\": 4}\n",
    "\n",
    "s = dict(sorted(\n",
    "    jumbled.items(), \n",
    "    key=lambda item: item[1]))\n",
    "\n",
    "print(s)"
   ]
  },
  {
   "cell_type": "code",
   "execution_count": null,
   "id": "c30b5ea4",
   "metadata": {},
   "outputs": [],
   "source": []
  }
 ],
 "metadata": {
  "kernelspec": {
   "display_name": "Python 3 (ipykernel)",
   "language": "python",
   "name": "python3"
  },
  "language_info": {
   "codemirror_mode": {
    "name": "ipython",
    "version": 3
   },
   "file_extension": ".py",
   "mimetype": "text/x-python",
   "name": "python",
   "nbconvert_exporter": "python",
   "pygments_lexer": "ipython3",
   "version": "3.9.7"
  }
 },
 "nbformat": 4,
 "nbformat_minor": 5
}
