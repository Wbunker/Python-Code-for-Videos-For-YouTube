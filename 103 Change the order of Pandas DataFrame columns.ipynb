{
 "cells": [
  {
   "cell_type": "markdown",
   "id": "d25711d5",
   "metadata": {},
   "source": [
    "# Just insert the pop"
   ]
  },
  {
   "cell_type": "code",
   "execution_count": 3,
   "id": "fefb627c",
   "metadata": {},
   "outputs": [
    {
     "name": "stdout",
     "output_type": "stream",
     "text": [
      "   sepal_length  sepal_width  petal_length  petal_width species\n",
      "0           5.1          3.5           1.4          0.2  setosa\n",
      "1           4.9          3.0           1.4          0.2  setosa\n",
      "2           4.7          3.2           1.3          0.2  setosa\n",
      "3           4.6          3.1           1.5          0.2  setosa\n",
      "4           5.0          3.6           1.4          0.2  setosa\n"
     ]
    }
   ],
   "source": [
    "import seaborn as sns\n",
    "\n",
    "iris = sns.load_dataset('iris')\n",
    "print(iris.head())"
   ]
  },
  {
   "cell_type": "code",
   "execution_count": 4,
   "id": "08d307e4",
   "metadata": {},
   "outputs": [
    {
     "name": "stdout",
     "output_type": "stream",
     "text": [
      "  species  sepal_length  sepal_width  petal_length  petal_width\n",
      "0  setosa           5.1          3.5           1.4          0.2\n",
      "1  setosa           4.9          3.0           1.4          0.2\n",
      "2  setosa           4.7          3.2           1.3          0.2\n",
      "3  setosa           4.6          3.1           1.5          0.2\n",
      "4  setosa           5.0          3.6           1.4          0.2\n"
     ]
    }
   ],
   "source": [
    "iris.insert(0, 'species', iris.pop('species'))\n",
    "print(iris.head())"
   ]
  },
  {
   "cell_type": "code",
   "execution_count": null,
   "id": "f2c5037c",
   "metadata": {},
   "outputs": [],
   "source": []
  }
 ],
 "metadata": {
  "kernelspec": {
   "display_name": "3.10",
   "language": "python",
   "name": "python3.10"
  },
  "language_info": {
   "codemirror_mode": {
    "name": "ipython",
    "version": 3
   },
   "file_extension": ".py",
   "mimetype": "text/x-python",
   "name": "python",
   "nbconvert_exporter": "python",
   "pygments_lexer": "ipython3",
   "version": "3.10.7"
  }
 },
 "nbformat": 4,
 "nbformat_minor": 5
}
