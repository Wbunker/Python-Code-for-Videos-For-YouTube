{
 "cells": [
  {
   "cell_type": "code",
   "execution_count": 9,
   "id": "b6710d05",
   "metadata": {},
   "outputs": [
    {
     "name": "stdout",
     "output_type": "stream",
     "text": [
      "<bound method Series.unique of 1                  The Godfather\n",
      "2         The Godfather: Part II\n",
      "21                   City of God\n",
      "328    Aguirre, the Wrath of God\n",
      "711      The Godfather: Part III\n",
      "Name: title, dtype: object>\n"
     ]
    }
   ],
   "source": [
    "import pandas as pd\n",
    "l = 'http://bit.ly/imdbratings'\n",
    "df = pd.read_csv(l)\n",
    "\n",
    "df1 = df[df['title']\n",
    "         .str.\n",
    "         contains('God')==True]\n",
    "print(df1['title'].unique)"
   ]
  },
  {
   "cell_type": "code",
   "execution_count": null,
   "id": "45e53e71",
   "metadata": {},
   "outputs": [],
   "source": []
  }
 ],
 "metadata": {
  "kernelspec": {
   "display_name": "3.11.1",
   "language": "python",
   "name": "3.11.1"
  },
  "language_info": {
   "codemirror_mode": {
    "name": "ipython",
    "version": 3
   },
   "file_extension": ".py",
   "mimetype": "text/x-python",
   "name": "python",
   "nbconvert_exporter": "python",
   "pygments_lexer": "ipython3",
   "version": "3.11.1"
  }
 },
 "nbformat": 4,
 "nbformat_minor": 5
}
