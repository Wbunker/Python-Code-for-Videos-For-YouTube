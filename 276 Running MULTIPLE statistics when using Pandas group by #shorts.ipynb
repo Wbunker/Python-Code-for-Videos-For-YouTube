{
 "cells": [
  {
   "cell_type": "code",
   "execution_count": 4,
   "id": "ed7adee0",
   "metadata": {},
   "outputs": [
    {
     "name": "stdout",
     "output_type": "stream",
     "text": [
      "        age                       fare                      \n",
      "       size       mean        std size       mean        std\n",
      "sex                                                         \n",
      "female  314  27.915709  14.110146  314  44.479818  57.997698\n",
      "male    577  30.726645  14.678201  577  25.523893  43.138263\n"
     ]
    }
   ],
   "source": [
    "import seaborn as sb\n",
    "import pandas as pd\n",
    "import numpy as np\n",
    "df = sb.load_dataset('titanic')\n",
    "\n",
    "c = ['age', 'sex','fare']\n",
    "s = ['size', 'mean', 'std']\n",
    "st = df[c].groupby('sex').agg(s)\n",
    "print(st)"
   ]
  },
  {
   "cell_type": "code",
   "execution_count": null,
   "id": "49c5f3ae",
   "metadata": {},
   "outputs": [],
   "source": []
  }
 ],
 "metadata": {
  "kernelspec": {
   "display_name": "3.11.1",
   "language": "python",
   "name": "3.11.1"
  },
  "language_info": {
   "codemirror_mode": {
    "name": "ipython",
    "version": 3
   },
   "file_extension": ".py",
   "mimetype": "text/x-python",
   "name": "python",
   "nbconvert_exporter": "python",
   "pygments_lexer": "ipython3",
   "version": "3.11.1"
  }
 },
 "nbformat": 4,
 "nbformat_minor": 5
}
