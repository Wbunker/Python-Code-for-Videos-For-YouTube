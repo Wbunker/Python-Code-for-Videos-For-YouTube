{
 "cells": [
  {
   "cell_type": "markdown",
   "id": "01ed2786",
   "metadata": {},
   "source": [
    "# = Does Not Do This\n",
    "\n",
    "## Must use .copy()"
   ]
  },
  {
   "cell_type": "code",
   "execution_count": 2,
   "id": "82038103",
   "metadata": {},
   "outputs": [
    {
     "name": "stdout",
     "output_type": "stream",
     "text": [
      "{'Bill': 2000, 'Mary': 27, 'Larry': 15}\n"
     ]
    }
   ],
   "source": [
    "dict1 = {'Bill': 33, \n",
    "         'Mary': 27, \n",
    "         'Larry': 15}\n",
    "\n",
    "notCopy = dict1\n",
    "\n",
    "notCopy['Bill'] = 2000\n",
    "\n",
    "print(dict1)\n"
   ]
  },
  {
   "cell_type": "code",
   "execution_count": 4,
   "id": "bc8ef896",
   "metadata": {},
   "outputs": [
    {
     "name": "stdout",
     "output_type": "stream",
     "text": [
      "{'Bill': 33, 'Mary': 27, 'Larry': 15}\n",
      "{'Bill': 33, 'Mary': 3, 'Larry': 15}\n"
     ]
    }
   ],
   "source": [
    "dict1 = {'Bill': 33, \n",
    "         'Mary': 27, \n",
    "         'Larry': 15}\n",
    "\n",
    "isCopy = dict1.copy()\n",
    "\n",
    "isCopy['Mary'] = 3\n",
    "\n",
    "print(dict1)\n",
    "print(isCopy)"
   ]
  },
  {
   "cell_type": "code",
   "execution_count": null,
   "id": "8d91e8b8",
   "metadata": {},
   "outputs": [],
   "source": []
  }
 ],
 "metadata": {
  "kernelspec": {
   "display_name": "Python 3 (ipykernel)",
   "language": "python",
   "name": "python3"
  },
  "language_info": {
   "codemirror_mode": {
    "name": "ipython",
    "version": 3
   },
   "file_extension": ".py",
   "mimetype": "text/x-python",
   "name": "python",
   "nbconvert_exporter": "python",
   "pygments_lexer": "ipython3",
   "version": "3.9.7"
  }
 },
 "nbformat": 4,
 "nbformat_minor": 5
}
