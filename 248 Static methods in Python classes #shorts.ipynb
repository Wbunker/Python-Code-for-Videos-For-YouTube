{
 "cells": [
  {
   "cell_type": "code",
   "execution_count": 3,
   "id": "37c24482",
   "metadata": {},
   "outputs": [
    {
     "name": "stdout",
     "output_type": "stream",
     "text": [
      "Hello, Will\n"
     ]
    }
   ],
   "source": [
    "class Person:\n",
    "    @staticmethod\n",
    "    def greeting(name):\n",
    "        return f\"Hello, {name}\"\n",
    "        \n",
    "print(Person.greeting(\"Will\"))"
   ]
  },
  {
   "cell_type": "code",
   "execution_count": null,
   "id": "e45d2e8c",
   "metadata": {},
   "outputs": [],
   "source": []
  }
 ],
 "metadata": {
  "kernelspec": {
   "display_name": "3.11.1",
   "language": "python",
   "name": "3.11.1"
  },
  "language_info": {
   "codemirror_mode": {
    "name": "ipython",
    "version": 3
   },
   "file_extension": ".py",
   "mimetype": "text/x-python",
   "name": "python",
   "nbconvert_exporter": "python",
   "pygments_lexer": "ipython3",
   "version": "3.11.1"
  }
 },
 "nbformat": 4,
 "nbformat_minor": 5
}
