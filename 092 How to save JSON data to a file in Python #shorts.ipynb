{
 "cells": [
  {
   "cell_type": "code",
   "execution_count": 1,
   "id": "4103ad0a",
   "metadata": {},
   "outputs": [],
   "source": [
    "import json\n",
    "\n",
    "fruits = {\n",
    "    \"apple\": \"red\", \n",
    "    \"orange\": \"orange\", \n",
    "    \"grape\": \"purple\"\n",
    "}\n",
    "\n",
    "with open('data/fruit.json', 'w') as file:\n",
    "    json.dump(fruits, file)"
   ]
  },
  {
   "cell_type": "code",
   "execution_count": 2,
   "id": "301224b6",
   "metadata": {},
   "outputs": [],
   "source": [
    "with open('data/fruit_indent.json', \n",
    "          'w', \n",
    "          encoding='utf-8') as file:\n",
    "    json.dump(fruits, file, \n",
    "              ensure_ascii=False, \n",
    "              indent=4)"
   ]
  }
 ],
 "metadata": {
  "kernelspec": {
   "display_name": "Python 3 (ipykernel)",
   "language": "python",
   "name": "python3"
  },
  "language_info": {
   "codemirror_mode": {
    "name": "ipython",
    "version": 3
   },
   "file_extension": ".py",
   "mimetype": "text/x-python",
   "name": "python",
   "nbconvert_exporter": "python",
   "pygments_lexer": "ipython3",
   "version": "3.9.7"
  }
 },
 "nbformat": 4,
 "nbformat_minor": 5
}
