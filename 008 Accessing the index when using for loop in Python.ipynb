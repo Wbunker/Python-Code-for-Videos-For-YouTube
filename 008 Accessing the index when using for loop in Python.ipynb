{
 "cells": [
  {
   "cell_type": "markdown",
   "id": "7658a31b",
   "metadata": {},
   "source": [
    "# Normal loop"
   ]
  },
  {
   "cell_type": "code",
   "execution_count": 2,
   "id": "518825a7",
   "metadata": {},
   "outputs": [
    {
     "name": "stdout",
     "output_type": "stream",
     "text": [
      "a\n",
      "b\n",
      "c\n",
      "d\n",
      "e\n",
      "f\n",
      "g\n"
     ]
    }
   ],
   "source": [
    "letters = ['a', 'b', 'c', 'd', 'e', 'f', 'g']\n",
    "\n",
    "\n",
    "for letter in letters:\n",
    "    print(letter)"
   ]
  },
  {
   "cell_type": "markdown",
   "id": "cf23744a",
   "metadata": {},
   "source": [
    "# Loop with index\n",
    "\n",
    "### not as pythonic but sometimes the heart wants what the heart wants"
   ]
  },
  {
   "cell_type": "code",
   "execution_count": 7,
   "id": "65c69583",
   "metadata": {},
   "outputs": [
    {
     "name": "stdout",
     "output_type": "stream",
     "text": [
      "a is 1 in the alphabet\n",
      "b is 2 in the alphabet\n",
      "c is 3 in the alphabet\n",
      "d is 4 in the alphabet\n",
      "e is 5 in the alphabet\n",
      "f is 6 in the alphabet\n",
      "g is 7 in the alphabet\n"
     ]
    }
   ],
   "source": [
    "for index, letter in enumerate(letters):\n",
    "    print(f\"{letter} is {index+1} in the alphabet\")"
   ]
  },
  {
   "cell_type": "markdown",
   "id": "4f1c2979",
   "metadata": {},
   "source": [
    "# Don't do this if you don't want to look like a Noob"
   ]
  },
  {
   "cell_type": "code",
   "execution_count": 10,
   "id": "374b0084",
   "metadata": {},
   "outputs": [
    {
     "name": "stdout",
     "output_type": "stream",
     "text": [
      "a is 1 in the alphabet\n",
      "b is 2 in the alphabet\n",
      "c is 3 in the alphabet\n",
      "d is 4 in the alphabet\n",
      "e is 5 in the alphabet\n",
      "f is 6 in the alphabet\n",
      "g is 7 in the alphabet\n"
     ]
    }
   ],
   "source": [
    "for index, _ in enumerate(letters):\n",
    "    print(f\"{letters[index]} is {index+1} in the alphabet\")"
   ]
  },
  {
   "cell_type": "markdown",
   "id": "d963c5d0",
   "metadata": {},
   "source": [
    "# What if I have two lists and need to crossreference"
   ]
  },
  {
   "cell_type": "code",
   "execution_count": 15,
   "id": "9d701971",
   "metadata": {},
   "outputs": [
    {
     "name": "stdout",
     "output_type": "stream",
     "text": [
      "Letter a costs 100\n",
      "Letter b costs 500\n",
      "Letter c costs 200\n",
      "Letter d costs 50\n",
      "Letter e costs 75\n",
      "Letter f costs 89\n",
      "Letter g costs 200\n"
     ]
    }
   ],
   "source": [
    "prices = [100, 500, 200, 50, 75, 89, 200]\n",
    "\n",
    "# beginner way\n",
    "for index, letter in enumerate(letters):\n",
    "    print(f\"Letter {letter} costs {prices[index]}\")"
   ]
  },
  {
   "cell_type": "code",
   "execution_count": 16,
   "id": "405d133f",
   "metadata": {},
   "outputs": [
    {
     "name": "stdout",
     "output_type": "stream",
     "text": [
      "Letter a costs 100\n",
      "Letter b costs 500\n",
      "Letter c costs 200\n",
      "Letter d costs 50\n",
      "Letter e costs 75\n",
      "Letter f costs 89\n",
      "Letter g costs 200\n"
     ]
    }
   ],
   "source": [
    "# better way\n",
    "\n",
    "for letter, price in zip(letters, prices):\n",
    "    print(f\"Letter {letter} costs {price}\")"
   ]
  },
  {
   "cell_type": "code",
   "execution_count": null,
   "id": "0d0363ee",
   "metadata": {},
   "outputs": [],
   "source": []
  }
 ],
 "metadata": {
  "kernelspec": {
   "display_name": "Python 3 (ipykernel)",
   "language": "python",
   "name": "python3"
  },
  "language_info": {
   "codemirror_mode": {
    "name": "ipython",
    "version": 3
   },
   "file_extension": ".py",
   "mimetype": "text/x-python",
   "name": "python",
   "nbconvert_exporter": "python",
   "pygments_lexer": "ipython3",
   "version": "3.9.7"
  }
 },
 "nbformat": 4,
 "nbformat_minor": 5
}
