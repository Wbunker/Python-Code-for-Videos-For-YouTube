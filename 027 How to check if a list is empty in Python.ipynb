{
 "cells": [
  {
   "cell_type": "markdown",
   "id": "3d58733b",
   "metadata": {},
   "source": [
    "# Let us start with the most PYTHONIC of all ways\n",
    "\n",
    "I want you to look like a Pro!!!\n",
    "\n",
    "It is even mentioned in PEP 8 stylistic guide\n",
    "\n",
    "https://peps.python.org/pep-0008/#programming-recommendations"
   ]
  },
  {
   "cell_type": "code",
   "execution_count": 2,
   "id": "d1101072",
   "metadata": {},
   "outputs": [
    {
     "name": "stdout",
     "output_type": "stream",
     "text": [
      "This list is completely empty\n"
     ]
    }
   ],
   "source": [
    "empty_list = []\n",
    "\n",
    "\n",
    "if not empty_list:\n",
    "    print(\"This list is completely empty\")"
   ]
  },
  {
   "cell_type": "markdown",
   "id": "9911ec81",
   "metadata": {},
   "source": [
    "# Python rewards you by making this the fastest way to do this"
   ]
  },
  {
   "cell_type": "code",
   "execution_count": 3,
   "id": "365f7590",
   "metadata": {},
   "outputs": [
    {
     "name": "stdout",
     "output_type": "stream",
     "text": [
      "The time with len operation: 9.810745211999802\n",
      "The time with equal operation: 8.530566499000031\n",
      "The time with not operation: 7.138690913999994\n"
     ]
    }
   ],
   "source": [
    "import timeit\n",
    "\n",
    "len_time = sum(timeit.repeat(lambda: len(empty_list) == 0, repeat=100))\n",
    "equal_time = sum(timeit.repeat(lambda: empty_list == [], repeat=100))\n",
    "not_time = sum(timeit.repeat(lambda: not empty_list, repeat=100))\n",
    "\n",
    "print(f\"The time with len operation: {len_time}\")\n",
    "print(f\"The time with equal operation: {equal_time}\")\n",
    "print(f\"The time with not operation: {not_time}\")"
   ]
  },
  {
   "cell_type": "code",
   "execution_count": null,
   "id": "da2a6aa1",
   "metadata": {},
   "outputs": [],
   "source": []
  }
 ],
 "metadata": {
  "kernelspec": {
   "display_name": "Python 3 (ipykernel)",
   "language": "python",
   "name": "python3"
  },
  "language_info": {
   "codemirror_mode": {
    "name": "ipython",
    "version": 3
   },
   "file_extension": ".py",
   "mimetype": "text/x-python",
   "name": "python",
   "nbconvert_exporter": "python",
   "pygments_lexer": "ipython3",
   "version": "3.9.7"
  }
 },
 "nbformat": 4,
 "nbformat_minor": 5
}
