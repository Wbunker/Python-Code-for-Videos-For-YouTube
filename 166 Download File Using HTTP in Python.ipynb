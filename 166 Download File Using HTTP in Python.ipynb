{
 "cells": [
  {
   "cell_type": "code",
   "execution_count": 1,
   "id": "43cfd763",
   "metadata": {},
   "outputs": [
    {
     "data": {
      "text/plain": [
       "('data/google.html', <http.client.HTTPMessage at 0x7feb98046040>)"
      ]
     },
     "execution_count": 1,
     "metadata": {},
     "output_type": "execute_result"
    }
   ],
   "source": [
    "from urllib import request\n",
    "\n",
    "url = \"https://www.google.com\"\n",
    "local = \"data/google.html\"\n",
    "request.urlretrieve( url, local)"
   ]
  },
  {
   "cell_type": "code",
   "execution_count": null,
   "id": "d6179ae0",
   "metadata": {},
   "outputs": [],
   "source": []
  }
 ],
 "metadata": {
  "kernelspec": {
   "display_name": "Python 3 (ipykernel)",
   "language": "python",
   "name": "python3"
  },
  "language_info": {
   "codemirror_mode": {
    "name": "ipython",
    "version": 3
   },
   "file_extension": ".py",
   "mimetype": "text/x-python",
   "name": "python",
   "nbconvert_exporter": "python",
   "pygments_lexer": "ipython3",
   "version": "3.9.7"
  }
 },
 "nbformat": 4,
 "nbformat_minor": 5
}
