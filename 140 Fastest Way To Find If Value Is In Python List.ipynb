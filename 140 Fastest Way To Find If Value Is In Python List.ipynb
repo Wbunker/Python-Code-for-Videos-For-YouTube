{
 "cells": [
  {
   "cell_type": "code",
   "execution_count": 1,
   "id": "da0ffad5",
   "metadata": {},
   "outputs": [
    {
     "name": "stdout",
     "output_type": "stream",
     "text": [
      "True\n"
     ]
    }
   ],
   "source": [
    "# fastest way one off\n",
    "values = [1, 4, 3,\n",
    "          7, 2, 1, \n",
    "          2, 7, 10,\n",
    "          13, 22]\n",
    "\n",
    "print( 22 in values)"
   ]
  },
  {
   "cell_type": "code",
   "execution_count": 5,
   "id": "639906d4",
   "metadata": {},
   "outputs": [
    {
     "name": "stdout",
     "output_type": "stream",
     "text": [
      "True\n"
     ]
    }
   ],
   "source": [
    "# if you have to search \n",
    "# for many items in large list\n",
    "vset = set(values)\n",
    "\n",
    "print(22 in vset)"
   ]
  },
  {
   "cell_type": "code",
   "execution_count": null,
   "id": "3e109a20",
   "metadata": {},
   "outputs": [],
   "source": []
  }
 ],
 "metadata": {
  "kernelspec": {
   "display_name": "Python 3 (ipykernel)",
   "language": "python",
   "name": "python3"
  },
  "language_info": {
   "codemirror_mode": {
    "name": "ipython",
    "version": 3
   },
   "file_extension": ".py",
   "mimetype": "text/x-python",
   "name": "python",
   "nbconvert_exporter": "python",
   "pygments_lexer": "ipython3",
   "version": "3.9.7"
  }
 },
 "nbformat": 4,
 "nbformat_minor": 5
}
