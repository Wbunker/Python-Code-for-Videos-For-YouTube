{
 "cells": [
  {
   "cell_type": "markdown",
   "id": "31cc9c03",
   "metadata": {},
   "source": [
    "# Most Straightforward Question Yet\n",
    "\n",
    "Pass in a tuple with exceptions"
   ]
  },
  {
   "cell_type": "code",
   "execution_count": 11,
   "id": "42ce1d10",
   "metadata": {},
   "outputs": [
    {
     "name": "stdout",
     "output_type": "stream",
     "text": [
      "Some bad stuff happened: division by zero\n"
     ]
    }
   ],
   "source": [
    "from random import choice\n",
    "\n",
    "try:\n",
    "    disaster = choice([1, 2])\n",
    "    if disaster == 1:\n",
    "        x = 1 / 'b'\n",
    "    else:\n",
    "        x = 1 / 0\n",
    "except (TypeError, ZeroDivisionError) as err:\n",
    "    print(f\"Some bad stuff happened: {err}\")"
   ]
  },
  {
   "cell_type": "code",
   "execution_count": null,
   "id": "9a477d20",
   "metadata": {},
   "outputs": [],
   "source": []
  }
 ],
 "metadata": {
  "kernelspec": {
   "display_name": "Python 3",
   "language": "python",
   "name": "python3"
  },
  "language_info": {
   "codemirror_mode": {
    "name": "ipython",
    "version": 3
   },
   "file_extension": ".py",
   "mimetype": "text/x-python",
   "name": "python",
   "nbconvert_exporter": "python",
   "pygments_lexer": "ipython3",
   "version": "3.9.12"
  }
 },
 "nbformat": 4,
 "nbformat_minor": 5
}
