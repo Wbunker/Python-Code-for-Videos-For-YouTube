{
 "cells": [
  {
   "cell_type": "code",
   "execution_count": 3,
   "id": "1e4762e1",
   "metadata": {},
   "outputs": [
    {
     "name": "stdout",
     "output_type": "stream",
     "text": [
      "[[0 3 'male' ... 'Southampton' 'no' False]\n",
      " [1 1 'female' ... 'Cherbourg' 'yes' False]\n",
      " [1 3 'female' ... 'Southampton' 'yes' True]\n",
      " ...\n",
      " [0 3 'female' ... 'Southampton' 'no' False]\n",
      " [1 1 'male' ... 'Cherbourg' 'yes' True]\n",
      " [0 3 'male' ... 'Queenstown' 'no' True]]\n"
     ]
    }
   ],
   "source": [
    "import seaborn as sb\n",
    "df = sb.load_dataset('titanic')\n",
    "# recommended since 0.24\n",
    "# not .values\n",
    "na = df.to_numpy()\n",
    "print(na)"
   ]
  }
 ],
 "metadata": {
  "kernelspec": {
   "display_name": "3.11.1",
   "language": "python",
   "name": "3.11.1"
  },
  "language_info": {
   "codemirror_mode": {
    "name": "ipython",
    "version": 3
   },
   "file_extension": ".py",
   "mimetype": "text/x-python",
   "name": "python",
   "nbconvert_exporter": "python",
   "pygments_lexer": "ipython3",
   "version": "3.11.1"
  }
 },
 "nbformat": 4,
 "nbformat_minor": 5
}
