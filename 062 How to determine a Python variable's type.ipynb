{
 "cells": [
  {
   "cell_type": "markdown",
   "id": "7004e085",
   "metadata": {},
   "source": [
    "# 2 Basic techniques here\n",
    "\n",
    "## 1. Use type function"
   ]
  },
  {
   "cell_type": "code",
   "execution_count": 1,
   "id": "1a275898",
   "metadata": {},
   "outputs": [
    {
     "name": "stdout",
     "output_type": "stream",
     "text": [
      "var1: <class 'float'>, var2: <class 'str'>, var3: <class 'pathlib.PosixPath'>\n"
     ]
    }
   ],
   "source": [
    "from pathlib import Path\n",
    "\n",
    "var1 = 25.888\n",
    "var2 = \"Something clever\"\n",
    "var3 = Path('afile.txt')\n",
    "\n",
    "\n",
    "\n",
    "print(f\"var1: {type(var1)}, var2: {type(var2)}, var3: {type(var3)}\")"
   ]
  },
  {
   "cell_type": "markdown",
   "id": "c608b89a",
   "metadata": {},
   "source": [
    "## 2. Use isinstance - useful when there is inheritance"
   ]
  },
  {
   "cell_type": "code",
   "execution_count": 5,
   "id": "ad6b6325",
   "metadata": {},
   "outputs": [
    {
     "name": "stdout",
     "output_type": "stream",
     "text": [
      "True\n",
      "False\n",
      "True\n"
     ]
    }
   ],
   "source": [
    "class Animal:\n",
    "    pass\n",
    "\n",
    "class Dog(Animal):\n",
    "    pass\n",
    "\n",
    "\n",
    "myDog = Dog()\n",
    "\n",
    "\n",
    "print(type(myDog) == Dog)\n",
    "print(type(myDog) == Animal)\n",
    "\n",
    "print(isinstance(myDog, Animal))"
   ]
  },
  {
   "cell_type": "code",
   "execution_count": null,
   "id": "310a962e",
   "metadata": {},
   "outputs": [],
   "source": []
  }
 ],
 "metadata": {
  "kernelspec": {
   "display_name": "Python 3 (ipykernel)",
   "language": "python",
   "name": "python3"
  },
  "language_info": {
   "codemirror_mode": {
    "name": "ipython",
    "version": 3
   },
   "file_extension": ".py",
   "mimetype": "text/x-python",
   "name": "python",
   "nbconvert_exporter": "python",
   "pygments_lexer": "ipython3",
   "version": "3.9.12"
  }
 },
 "nbformat": 4,
 "nbformat_minor": 5
}
