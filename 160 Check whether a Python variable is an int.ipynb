{
 "cells": [
  {
   "cell_type": "code",
   "execution_count": 1,
   "id": "f2d4905f",
   "metadata": {},
   "outputs": [
    {
     "name": "stdout",
     "output_type": "stream",
     "text": [
      "True\n",
      "False\n",
      "False\n"
     ]
    }
   ],
   "source": [
    "x = 7\n",
    "y = 7.0\n",
    "z = \"Hello world\"\n",
    "\n",
    "print(isinstance(x, int))\n",
    "print(isinstance(y, int))\n",
    "print(isinstance(z, int))"
   ]
  },
  {
   "cell_type": "code",
   "execution_count": null,
   "id": "9be9ec82",
   "metadata": {},
   "outputs": [],
   "source": []
  }
 ],
 "metadata": {
  "kernelspec": {
   "display_name": "Python 3 (ipykernel)",
   "language": "python",
   "name": "python3"
  },
  "language_info": {
   "codemirror_mode": {
    "name": "ipython",
    "version": 3
   },
   "file_extension": ".py",
   "mimetype": "text/x-python",
   "name": "python",
   "nbconvert_exporter": "python",
   "pygments_lexer": "ipython3",
   "version": "3.9.7"
  }
 },
 "nbformat": 4,
 "nbformat_minor": 5
}
