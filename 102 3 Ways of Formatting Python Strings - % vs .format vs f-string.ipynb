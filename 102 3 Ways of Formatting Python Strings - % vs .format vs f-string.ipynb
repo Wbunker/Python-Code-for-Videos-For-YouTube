{
 "cells": [
  {
   "cell_type": "markdown",
   "id": "53b999e8",
   "metadata": {},
   "source": [
    "# 1. The Original Method - %\n",
    "\n",
    "Short and sweet but not very intuitive"
   ]
  },
  {
   "cell_type": "code",
   "execution_count": 13,
   "id": "0f2f5d1d",
   "metadata": {},
   "outputs": [
    {
     "name": "stdout",
     "output_type": "stream",
     "text": [
      "Hello, Will.  I hear you are 54 years old and have $17.53 spending money\n"
     ]
    }
   ],
   "source": [
    "name = \"Will\"\n",
    "age = 54\n",
    "pocket_change = 17.53\n",
    "\n",
    "\n",
    "# %s - string\n",
    "# %d - integer\n",
    "# %f - float\n",
    "\n",
    "# %.3f - float with 3 decimal places\n",
    "\n",
    "\n",
    "print(\"Hello, %s.  I hear you are %d years old and have $%.2f spending money\" % (name, age, pocket_change))"
   ]
  },
  {
   "cell_type": "markdown",
   "id": "69918f0c",
   "metadata": {},
   "source": [
    "# 2. .format() \n",
    "\n",
    "Makes it a little easier to see what is going on but bulkier"
   ]
  },
  {
   "cell_type": "code",
   "execution_count": 15,
   "id": "7a56fca8",
   "metadata": {},
   "outputs": [
    {
     "name": "stdout",
     "output_type": "stream",
     "text": [
      "Hello, Will.  I hear you are 54 years old and have 17.53 spending money\n"
     ]
    }
   ],
   "source": [
    "print(\"Hello, {}.  I hear you are {} years old and have {:.2f} spending money\".format(name, age, pocket_change))"
   ]
  },
  {
   "cell_type": "markdown",
   "id": "052c638e",
   "metadata": {},
   "source": [
    "# 3. f-strings\n",
    "\n",
    "This is my go to because it is easy to see what is happening and shorter than format"
   ]
  },
  {
   "cell_type": "code",
   "execution_count": 18,
   "id": "8253cfe3",
   "metadata": {},
   "outputs": [
    {
     "name": "stdout",
     "output_type": "stream",
     "text": [
      "Hello, Will.  I hear you are 54 years old and have 17.53 spending money\n"
     ]
    }
   ],
   "source": [
    "print(f\"Hello, {name}.  I hear you are {age} years old and have {pocket_change:.2f} spending money\")"
   ]
  },
  {
   "cell_type": "code",
   "execution_count": null,
   "id": "49b713a8",
   "metadata": {},
   "outputs": [],
   "source": []
  }
 ],
 "metadata": {
  "kernelspec": {
   "display_name": "Python 3",
   "language": "python",
   "name": "python3"
  },
  "language_info": {
   "codemirror_mode": {
    "name": "ipython",
    "version": 3
   },
   "file_extension": ".py",
   "mimetype": "text/x-python",
   "name": "python",
   "nbconvert_exporter": "python",
   "pygments_lexer": "ipython3",
   "version": "3.8.10"
  }
 },
 "nbformat": 4,
 "nbformat_minor": 5
}
