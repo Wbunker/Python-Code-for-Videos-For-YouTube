{
 "cells": [
  {
   "cell_type": "code",
   "execution_count": 2,
   "id": "281ab6f5",
   "metadata": {},
   "outputs": [
    {
     "name": "stdout",
     "output_type": "stream",
     "text": [
      "NOT pythonic\n",
      "I'm cool too\n"
     ]
    }
   ],
   "source": [
    "s1 = \"\"\n",
    "# old me\n",
    "if len(s1) == 0:\n",
    "    print(\"NOT pythonic\")\n",
    "\n",
    "# new me\n",
    "if not s1:\n",
    "    print(\"I'm cool too\")    "
   ]
  },
  {
   "cell_type": "code",
   "execution_count": null,
   "id": "34a0371c",
   "metadata": {},
   "outputs": [],
   "source": []
  }
 ],
 "metadata": {
  "kernelspec": {
   "display_name": "Python 3 (ipykernel)",
   "language": "python",
   "name": "python3"
  },
  "language_info": {
   "codemirror_mode": {
    "name": "ipython",
    "version": 3
   },
   "file_extension": ".py",
   "mimetype": "text/x-python",
   "name": "python",
   "nbconvert_exporter": "python",
   "pygments_lexer": "ipython3",
   "version": "3.9.7"
  }
 },
 "nbformat": 4,
 "nbformat_minor": 5
}
