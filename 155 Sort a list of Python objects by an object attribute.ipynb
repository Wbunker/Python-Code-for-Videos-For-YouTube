{
 "cells": [
  {
   "cell_type": "code",
   "execution_count": 10,
   "id": "c0987b25",
   "metadata": {},
   "outputs": [
    {
     "name": "stdout",
     "output_type": "stream",
     "text": [
      "grape - purple 0.5\n",
      "apple - red 1.5\n",
      "banana - yellow 3.5\n"
     ]
    }
   ],
   "source": [
    "class Fruit:\n",
    "    def __init__(self, \n",
    "                 name, \n",
    "                 color, \n",
    "                 cost):\n",
    "        self.name = name\n",
    "        self.color = color\n",
    "        self.cost = cost\n",
    "        \n",
    "    def __str__(self):\n",
    "        return f\"{self.name} - {self.color} {self.cost}\"\n",
    "        \n",
    "fruits = [\n",
    "    Fruit('apple', 'red', 1.5),\n",
    "    Fruit('banana', 'yellow', 3.5),\n",
    "    Fruit('grape', 'purple', 0.5)\n",
    "]\n",
    "\n",
    "from operator import attrgetter\n",
    "\n",
    "by_cost = list(\n",
    "    sorted(fruits, \n",
    "           key=attrgetter('cost'))\n",
    ")\n",
    "\n",
    "for fruit in by_cost:\n",
    "    print(fruit)\n"
   ]
  },
  {
   "cell_type": "code",
   "execution_count": null,
   "id": "c2585e27",
   "metadata": {},
   "outputs": [],
   "source": []
  }
 ],
 "metadata": {
  "kernelspec": {
   "display_name": "Python 3 (ipykernel)",
   "language": "python",
   "name": "python3"
  },
  "language_info": {
   "codemirror_mode": {
    "name": "ipython",
    "version": 3
   },
   "file_extension": ".py",
   "mimetype": "text/x-python",
   "name": "python",
   "nbconvert_exporter": "python",
   "pygments_lexer": "ipython3",
   "version": "3.9.7"
  }
 },
 "nbformat": 4,
 "nbformat_minor": 5
}
