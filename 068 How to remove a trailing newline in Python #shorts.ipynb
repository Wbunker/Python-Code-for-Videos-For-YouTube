{
 "cells": [
  {
   "cell_type": "code",
   "execution_count": 2,
   "id": "32469efc",
   "metadata": {},
   "outputs": [
    {
     "name": "stdout",
     "output_type": "stream",
     "text": [
      "Hello   \n",
      "\n",
      "\n",
      ", Will\n"
     ]
    }
   ],
   "source": [
    "s1 = \"Hello   \\n\\n\\n\"\n",
    "print(f\"{s1}, Will\")"
   ]
  },
  {
   "cell_type": "code",
   "execution_count": 3,
   "id": "33491e3a",
   "metadata": {},
   "outputs": [
    {
     "name": "stdout",
     "output_type": "stream",
     "text": [
      "Hello, Will\n"
     ]
    }
   ],
   "source": [
    "print(f\"{s1.rstrip()}, Will\")"
   ]
  },
  {
   "cell_type": "code",
   "execution_count": 5,
   "id": "15b42965",
   "metadata": {},
   "outputs": [
    {
     "name": "stdout",
     "output_type": "stream",
     "text": [
      "Hello   , Will\n"
     ]
    }
   ],
   "source": [
    "s2 = s1.rstrip('\\n')\n",
    "print(f\"{s2}, Will\")"
   ]
  },
  {
   "cell_type": "code",
   "execution_count": null,
   "id": "94a65bc3",
   "metadata": {},
   "outputs": [],
   "source": []
  }
 ],
 "metadata": {
  "kernelspec": {
   "display_name": "Python 3 (ipykernel)",
   "language": "python",
   "name": "python3"
  },
  "language_info": {
   "codemirror_mode": {
    "name": "ipython",
    "version": 3
   },
   "file_extension": ".py",
   "mimetype": "text/x-python",
   "name": "python",
   "nbconvert_exporter": "python",
   "pygments_lexer": "ipython3",
   "version": "3.9.7"
  }
 },
 "nbformat": 4,
 "nbformat_minor": 5
}
