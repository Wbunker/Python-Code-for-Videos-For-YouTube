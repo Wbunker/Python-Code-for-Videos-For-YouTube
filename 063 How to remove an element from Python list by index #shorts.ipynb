{
 "cells": [
  {
   "cell_type": "code",
   "execution_count": 3,
   "id": "19038a66",
   "metadata": {},
   "outputs": [
    {
     "name": "stdout",
     "output_type": "stream",
     "text": [
      "['a', 'b', 'd']\n"
     ]
    }
   ],
   "source": [
    "items = ['a', \n",
    "         'b',\n",
    "         'c',\n",
    "         'd'\n",
    "        ]\n",
    "\n",
    "del items[2]\n",
    "print(items)"
   ]
  },
  {
   "cell_type": "code",
   "execution_count": 4,
   "id": "b78b2060",
   "metadata": {},
   "outputs": [
    {
     "name": "stdout",
     "output_type": "stream",
     "text": [
      "d ['a', 'b']\n"
     ]
    }
   ],
   "source": [
    "x = items.pop(2)\n",
    "print(x, items)"
   ]
  },
  {
   "cell_type": "code",
   "execution_count": null,
   "id": "da4a50db",
   "metadata": {},
   "outputs": [],
   "source": []
  }
 ],
 "metadata": {
  "kernelspec": {
   "display_name": "Python 3 (ipykernel)",
   "language": "python",
   "name": "python3"
  },
  "language_info": {
   "codemirror_mode": {
    "name": "ipython",
    "version": 3
   },
   "file_extension": ".py",
   "mimetype": "text/x-python",
   "name": "python",
   "nbconvert_exporter": "python",
   "pygments_lexer": "ipython3",
   "version": "3.9.7"
  }
 },
 "nbformat": 4,
 "nbformat_minor": 5
}
