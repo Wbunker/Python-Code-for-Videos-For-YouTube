{
 "cells": [
  {
   "cell_type": "markdown",
   "id": "e2c81de9",
   "metadata": {},
   "source": [
    "# Use the dict constructor and the magical zip operator\n",
    "\n",
    "## First let's look at what zip does"
   ]
  },
  {
   "cell_type": "code",
   "execution_count": 2,
   "id": "a8734374",
   "metadata": {},
   "outputs": [
    {
     "name": "stdout",
     "output_type": "stream",
     "text": [
      "[('peach', 5), ('orange', 3), ('apple', 7), ('grapes', 1), ('banana', 200)]\n"
     ]
    }
   ],
   "source": [
    "fruit = {'apple', 'orange', 'banana', 'peach', 'grapes'}\n",
    "quantity = [5, 3, 7, 1, 200]\n",
    "\n",
    "\n",
    "print([item for item in zip(fruit, quantity)])"
   ]
  },
  {
   "cell_type": "markdown",
   "id": "151f2a3c",
   "metadata": {},
   "source": [
    "## Now for the one liner"
   ]
  },
  {
   "cell_type": "code",
   "execution_count": 3,
   "id": "6346083d",
   "metadata": {},
   "outputs": [
    {
     "name": "stdout",
     "output_type": "stream",
     "text": [
      "{'peach': 5, 'orange': 3, 'apple': 7, 'grapes': 1, 'banana': 200}\n"
     ]
    }
   ],
   "source": [
    "fruit_dict = dict(zip(fruit, quantity))\n",
    "\n",
    "print(fruit_dict)"
   ]
  },
  {
   "cell_type": "code",
   "execution_count": null,
   "id": "87f8d68b",
   "metadata": {},
   "outputs": [],
   "source": []
  }
 ],
 "metadata": {
  "kernelspec": {
   "display_name": "Python 3 (ipykernel)",
   "language": "python",
   "name": "python3"
  },
  "language_info": {
   "codemirror_mode": {
    "name": "ipython",
    "version": 3
   },
   "file_extension": ".py",
   "mimetype": "text/x-python",
   "name": "python",
   "nbconvert_exporter": "python",
   "pygments_lexer": "ipython3",
   "version": "3.9.12"
  }
 },
 "nbformat": 4,
 "nbformat_minor": 5
}
