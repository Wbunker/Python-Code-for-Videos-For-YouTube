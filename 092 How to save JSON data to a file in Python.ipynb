{
 "cells": [
  {
   "cell_type": "markdown",
   "id": "ce132d86",
   "metadata": {},
   "source": [
    "\n",
    "# The perfectly named json.dump"
   ]
  },
  {
   "cell_type": "code",
   "execution_count": 1,
   "id": "4103ad0a",
   "metadata": {},
   "outputs": [],
   "source": [
    "import json\n",
    "\n",
    "fruits = {\"apple\": \"red\", \"orange\": \"orange\", \"grape\": \"purple\"}\n",
    "\n",
    "\n",
    "with open('data/fruit.json', 'w') as file:\n",
    "    json.dump(fruits, file)"
   ]
  },
  {
   "cell_type": "markdown",
   "id": "2f66827e",
   "metadata": {},
   "source": [
    "# What if I want utf-8 and nicer layout"
   ]
  },
  {
   "cell_type": "code",
   "execution_count": 2,
   "id": "301224b6",
   "metadata": {},
   "outputs": [],
   "source": [
    "with open('data/fruit_indent.json', 'w', encoding='utf-8') as file:\n",
    "    json.dump(fruits, file, ensure_ascii=False, indent=4)"
   ]
  },
  {
   "cell_type": "code",
   "execution_count": null,
   "id": "43807ea7",
   "metadata": {},
   "outputs": [],
   "source": []
  }
 ],
 "metadata": {
  "kernelspec": {
   "display_name": "Python 3 (ipykernel)",
   "language": "python",
   "name": "python3"
  },
  "language_info": {
   "codemirror_mode": {
    "name": "ipython",
    "version": 3
   },
   "file_extension": ".py",
   "mimetype": "text/x-python",
   "name": "python",
   "nbconvert_exporter": "python",
   "pygments_lexer": "ipython3",
   "version": "3.9.7"
  }
 },
 "nbformat": 4,
 "nbformat_minor": 5
}
