{
 "cells": [
  {
   "cell_type": "markdown",
   "id": "14bfb921",
   "metadata": {},
   "source": [
    "# Python comes with built-in calendar library\n",
    "\n",
    "## 1. Let's look at month calendar"
   ]
  },
  {
   "cell_type": "code",
   "execution_count": 10,
   "id": "18e729f7",
   "metadata": {},
   "outputs": [
    {
     "data": {
      "text/plain": [
       "[[0, 0, 0, 1, 2, 3, 4],\n",
       " [5, 6, 7, 8, 9, 10, 11],\n",
       " [12, 13, 14, 15, 16, 17, 18],\n",
       " [19, 20, 21, 22, 23, 24, 25],\n",
       " [26, 27, 28, 29, 30, 0, 0]]"
      ]
     },
     "execution_count": 10,
     "metadata": {},
     "output_type": "execute_result"
    }
   ],
   "source": [
    "import calendar\n",
    "\n",
    "month = calendar.monthcalendar(2022, 9)\n",
    "\n",
    "# month is a matrix with each row representing a week within the month\n",
    "month"
   ]
  },
  {
   "cell_type": "markdown",
   "id": "de6e7b93",
   "metadata": {},
   "source": [
    "## 2. There are constants telling you position of the days"
   ]
  },
  {
   "cell_type": "code",
   "execution_count": 11,
   "id": "4b2b4dde",
   "metadata": {},
   "outputs": [
    {
     "name": "stdout",
     "output_type": "stream",
     "text": [
      "6\n",
      "0\n"
     ]
    }
   ],
   "source": [
    "print(calendar.SUNDAY)\n",
    "print(calendar.MONDAY)"
   ]
  },
  {
   "cell_type": "markdown",
   "id": "c72c16a3",
   "metadata": {},
   "source": [
    "## 3. Let's find the last Sunday"
   ]
  },
  {
   "cell_type": "code",
   "execution_count": 12,
   "id": "082f258b",
   "metadata": {},
   "outputs": [
    {
     "name": "stdout",
     "output_type": "stream",
     "text": [
      "25\n"
     ]
    }
   ],
   "source": [
    "# Have to check the last 2 rows, it could be on either\n",
    "# if it is missing from last row, there will be a zero in its position\n",
    "\n",
    "last_sunday = max(month[-1][calendar.SUNDAY], month[-2][calendar.SUNDAY])\n",
    "print(last_sunday)"
   ]
  },
  {
   "cell_type": "markdown",
   "id": "504707e7",
   "metadata": {},
   "source": [
    "## Let's find the 2nd Monday"
   ]
  },
  {
   "cell_type": "code",
   "execution_count": 14,
   "id": "190a6e49",
   "metadata": {},
   "outputs": [
    {
     "name": "stdout",
     "output_type": "stream",
     "text": [
      "12\n"
     ]
    }
   ],
   "source": [
    "## a little tricker, must use a ternery to determine if it is in the first week\n",
    "\n",
    "second_monday = month[2][calendar.MONDAY] if month[0][calendar.MONDAY] == 0 else month[1][calendar.MONDAY]\n",
    "\n",
    "print(second_monday)"
   ]
  },
  {
   "cell_type": "code",
   "execution_count": null,
   "id": "6cc7819e",
   "metadata": {},
   "outputs": [],
   "source": []
  }
 ],
 "metadata": {
  "kernelspec": {
   "display_name": "Python 3",
   "language": "python",
   "name": "python3"
  },
  "language_info": {
   "codemirror_mode": {
    "name": "ipython",
    "version": 3
   },
   "file_extension": ".py",
   "mimetype": "text/x-python",
   "name": "python",
   "nbconvert_exporter": "python",
   "pygments_lexer": "ipython3",
   "version": "3.8.10"
  }
 },
 "nbformat": 4,
 "nbformat_minor": 5
}
