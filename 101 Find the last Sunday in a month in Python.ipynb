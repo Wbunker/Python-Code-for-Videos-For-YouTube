{
 "cells": [
  {
   "cell_type": "markdown",
   "id": "9a2a714c",
   "metadata": {},
   "source": [
    "# Python comes with built-in calendar library\n",
    "\n",
    "## 1. Let's look at month calendar"
   ]
  },
  {
   "cell_type": "code",
   "execution_count": 1,
   "id": "b09813f8",
   "metadata": {},
   "outputs": [
    {
     "data": {
      "text/plain": [
       "[[0, 0, 0, 1, 2, 3, 4],\n",
       " [5, 6, 7, 8, 9, 10, 11],\n",
       " [12, 13, 14, 15, 16, 17, 18],\n",
       " [19, 20, 21, 22, 23, 24, 25],\n",
       " [26, 27, 28, 29, 30, 0, 0]]"
      ]
     },
     "execution_count": 1,
     "metadata": {},
     "output_type": "execute_result"
    }
   ],
   "source": [
    "import calendar\n",
    "\n",
    "month = calendar.monthcalendar(2022, 9)\n",
    "\n",
    "# month is a matrix with each row representing a week within the month\n",
    "month"
   ]
  },
  {
   "cell_type": "markdown",
   "id": "aa0b1b4a",
   "metadata": {},
   "source": [
    "## 2. There are constants telling you position of the days"
   ]
  },
  {
   "cell_type": "code",
   "execution_count": 2,
   "id": "6d340b12",
   "metadata": {},
   "outputs": [
    {
     "name": "stdout",
     "output_type": "stream",
     "text": [
      "6\n",
      "0\n"
     ]
    }
   ],
   "source": [
    "print(calendar.SUNDAY)\n",
    "print(calendar.MONDAY)"
   ]
  },
  {
   "cell_type": "markdown",
   "id": "49bf488c",
   "metadata": {},
   "source": [
    "## 3. Let's find the last Sunday"
   ]
  },
  {
   "cell_type": "code",
   "execution_count": 3,
   "id": "20601c9c",
   "metadata": {},
   "outputs": [
    {
     "name": "stdout",
     "output_type": "stream",
     "text": [
      "25\n"
     ]
    }
   ],
   "source": [
    "# Have to check the last 2 rows, it could be on either\n",
    "# if it is missing from last row, there will be a zero in its position\n",
    "\n",
    "last_sunday = max(month[-1][calendar.SUNDAY], month[-2][calendar.SUNDAY])\n",
    "print(last_sunday)"
   ]
  },
  {
   "cell_type": "markdown",
   "id": "480c524f",
   "metadata": {},
   "source": [
    "## 4. Let's find the 2nd Monday"
   ]
  },
  {
   "cell_type": "code",
   "execution_count": 5,
   "id": "28dc8049",
   "metadata": {},
   "outputs": [
    {
     "name": "stdout",
     "output_type": "stream",
     "text": [
      "12\n"
     ]
    }
   ],
   "source": [
    "## a little tricker, must use a ternery to determine if it is in the first week\n",
    "\n",
    "second_monday = month[2][calendar.MONDAY] if month[0][calendar.MONDAY] == 0 else month[1][calendar.MONDAY]\n",
    "\n",
    "print(second_monday)"
   ]
  },
  {
   "cell_type": "code",
   "execution_count": null,
   "id": "21be6d24",
   "metadata": {},
   "outputs": [],
   "source": []
  }
 ],
 "metadata": {
  "kernelspec": {
   "display_name": "Python 3 (ipykernel)",
   "language": "python",
   "name": "python3"
  },
  "language_info": {
   "codemirror_mode": {
    "name": "ipython",
    "version": 3
   },
   "file_extension": ".py",
   "mimetype": "text/x-python",
   "name": "python",
   "nbconvert_exporter": "python",
   "pygments_lexer": "ipython3",
   "version": "3.9.7"
  }
 },
 "nbformat": 4,
 "nbformat_minor": 5
}
