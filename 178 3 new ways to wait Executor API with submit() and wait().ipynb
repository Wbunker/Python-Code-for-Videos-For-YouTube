{
 "cells": [
  {
   "cell_type": "code",
   "execution_count": 13,
   "id": "7d33cb9d",
   "metadata": {},
   "outputs": [],
   "source": [
    "import requests\n",
    "from time import time, sleep\n",
    "import random\n",
    "from concurrent.futures import ThreadPoolExecutor\n",
    "from concurrent.futures import ProcessPoolExecutor\n",
    "from concurrent.futures import wait\n",
    "import concurrent.futures as cf\n",
    "\n",
    "def io_task(datacall):\n",
    "    sleep(random.randint(1,1000)/1000)\n",
    "    return random.randint(1,10)\n",
    "\n",
    "def io_task_with_error(datacall):\n",
    "    sleep(random.randint(1,1000)/1000)\n",
    "    \n",
    "    if random.randint(1,10) >= 9:\n",
    "        raise Exception(\"Bad stuff happened\")\n",
    "    return random.randint(1,10)\n",
    "    \n",
    "def cpu_task(datacall):\n",
    "    sleep(random.randint(1,1000)/1000)\n",
    "    return random.randint(1,10)"
   ]
  },
  {
   "cell_type": "code",
   "execution_count": 8,
   "id": "96321954",
   "metadata": {},
   "outputs": [
    {
     "name": "stdout",
     "output_type": "stream",
     "text": [
      "Waited 0.18970227241516113,  with 1 done\n"
     ]
    }
   ],
   "source": [
    "with ThreadPoolExecutor(max_workers=20) as pool:\n",
    "    start_time = time()\n",
    "    first_work = None\n",
    "      \n",
    "    futures = [pool.submit(io_task, datacall) for datacall in range(40)]\n",
    "    done, not_done  = wait(futures, return_when=cf.FIRST_COMPLETED)\n",
    "    release_time = time() - start_time\n",
    "\n",
    "print(f\"Waited {release_time},  with {len(done)} done\")  "
   ]
  },
  {
   "cell_type": "code",
   "execution_count": 10,
   "id": "83cd1fc9",
   "metadata": {},
   "outputs": [
    {
     "name": "stdout",
     "output_type": "stream",
     "text": [
      "Waited 1.3940975666046143,  with 40 done\n"
     ]
    }
   ],
   "source": [
    "with ThreadPoolExecutor(max_workers=20) as pool:\n",
    "    start_time = time()\n",
    "    first_work = None\n",
    "      \n",
    "    futures = [pool.submit(io_task, datacall) for datacall in range(40)]\n",
    "    done, not_done  = wait(futures, return_when=cf.ALL_COMPLETED)\n",
    "    release_time = time() - start_time\n",
    "\n",
    "print(f\"Waited {release_time},  with {len(done)} done\") "
   ]
  },
  {
   "cell_type": "code",
   "execution_count": 14,
   "id": "bbc50758",
   "metadata": {},
   "outputs": [
    {
     "name": "stdout",
     "output_type": "stream",
     "text": [
      "Waited 0.31888651847839355,  with 6 done\n"
     ]
    }
   ],
   "source": [
    "with ThreadPoolExecutor(max_workers=20) as pool:\n",
    "    start_time = time()\n",
    "    first_work = None\n",
    "      \n",
    "    futures = [pool.submit(io_task_with_error, datacall) for datacall in range(40)]\n",
    "    done, not_done  = wait(futures, return_when=cf.FIRST_EXCEPTION)\n",
    "    release_time = time() - start_time\n",
    "\n",
    "print(f\"Waited {release_time},  with {len(done)} done\")"
   ]
  },
  {
   "cell_type": "code",
   "execution_count": null,
   "id": "1ab24b6e",
   "metadata": {},
   "outputs": [],
   "source": []
  }
 ],
 "metadata": {
  "kernelspec": {
   "display_name": "3.10",
   "language": "python",
   "name": "python3.10"
  },
  "language_info": {
   "codemirror_mode": {
    "name": "ipython",
    "version": 3
   },
   "file_extension": ".py",
   "mimetype": "text/x-python",
   "name": "python",
   "nbconvert_exporter": "python",
   "pygments_lexer": "ipython3",
   "version": "3.10.7"
  }
 },
 "nbformat": 4,
 "nbformat_minor": 5
}
