{
 "cells": [
  {
   "cell_type": "markdown",
   "id": "fe94be2d",
   "metadata": {},
   "source": [
    "# What is it with all the double underscore methods?\n",
    "\n",
    "They are known as dunder methods - dunder str and dunder repr\n",
    "\n",
    "You put them in classes to respond to certain methods.\n",
    "\n",
    "str( myObject ) - will look to see if the class has a dunder str method\n",
    "\n",
    "repr( myObject ) - will look to see if the class has a dundr repr method\n"
   ]
  },
  {
   "cell_type": "markdown",
   "id": "ca0ea389",
   "metadata": {},
   "source": [
    "## Str = more readable\n",
    "## Repr = show you how to create the object"
   ]
  },
  {
   "cell_type": "code",
   "execution_count": 1,
   "id": "13c8c95e",
   "metadata": {},
   "outputs": [
    {
     "name": "stdout",
     "output_type": "stream",
     "text": [
      "2022-09-08 10:12:11.896131\n",
      "\n",
      "\n",
      "datetime.datetime(2022, 9, 8, 10, 12, 11, 896131)\n"
     ]
    }
   ],
   "source": [
    "import datetime\n",
    "\n",
    "today = datetime.datetime.now()\n",
    "\n",
    "print(str(today))\n",
    "print('\\n')\n",
    "print(repr(today))"
   ]
  },
  {
   "cell_type": "markdown",
   "id": "bb1e7673",
   "metadata": {},
   "source": [
    "## How you can create your own"
   ]
  },
  {
   "cell_type": "code",
   "execution_count": 10,
   "id": "4a6918da",
   "metadata": {},
   "outputs": [
    {
     "name": "stdout",
     "output_type": "stream",
     "text": [
      "5 legged animal with 20 eyes\n",
      "\n",
      "Animal(5, 20)\n"
     ]
    }
   ],
   "source": [
    "class Animal:\n",
    "    \n",
    "    def __init__(self, number_of_feet, number_of_eyes):\n",
    "        self.number_of_feet = number_of_feet\n",
    "        self.number_of_eyes= number_of_eyes\n",
    "        \n",
    "        \n",
    "    def __str__(self):\n",
    "        return f\"{self.number_of_feet} legged animal with {self.number_of_eyes} eyes\"\n",
    "        \n",
    "    def __repr__(self):\n",
    "        return f\"Animal({self.number_of_feet}, {self.number_of_eyes})\"\n",
    "        \n",
    "        \n",
    "myAnimal = Animal(5, 20)\n",
    "\n",
    "print(str(myAnimal))\n",
    "print()\n",
    "print(repr(myAnimal))\n",
    "\n",
    "\n",
    "\n"
   ]
  },
  {
   "cell_type": "markdown",
   "id": "b996b3fc",
   "metadata": {},
   "source": [
    "## The goal with repr is you should be able to create object with output"
   ]
  },
  {
   "cell_type": "code",
   "execution_count": 11,
   "id": "1aab1ffe",
   "metadata": {},
   "outputs": [
    {
     "name": "stdout",
     "output_type": "stream",
     "text": [
      "5 legged animal with 20 eyes\n"
     ]
    }
   ],
   "source": [
    "copyOfAnimal = eval(repr(myAnimal))\n",
    "\n",
    "print(copyOfAnimal)"
   ]
  },
  {
   "cell_type": "code",
   "execution_count": null,
   "id": "dc3706d1",
   "metadata": {},
   "outputs": [],
   "source": []
  }
 ],
 "metadata": {
  "kernelspec": {
   "display_name": "Python 3 (ipykernel)",
   "language": "python",
   "name": "python3"
  },
  "language_info": {
   "codemirror_mode": {
    "name": "ipython",
    "version": 3
   },
   "file_extension": ".py",
   "mimetype": "text/x-python",
   "name": "python",
   "nbconvert_exporter": "python",
   "pygments_lexer": "ipython3",
   "version": "3.9.12"
  }
 },
 "nbformat": 4,
 "nbformat_minor": 5
}
