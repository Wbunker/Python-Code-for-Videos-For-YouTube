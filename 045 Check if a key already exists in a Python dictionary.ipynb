{
 "cells": [
  {
   "cell_type": "markdown",
   "id": "91527168",
   "metadata": {},
   "source": [
    "# Very straightforward.  Use our old friend in operator"
   ]
  },
  {
   "cell_type": "code",
   "execution_count": 2,
   "id": "25a4ad89",
   "metadata": {},
   "outputs": [
    {
     "name": "stdout",
     "output_type": "stream",
     "text": [
      "rating was 0.92\n"
     ]
    }
   ],
   "source": [
    "movie_ratings = {\"Barbarian\": .92, \"Bullet Train\": .96, \"Top Gun: Maverick\": .96}\n",
    "\n",
    "\n",
    "\n",
    "if \"Barbarian\" in movie_ratings:\n",
    "    print(f\"rating was {movie_ratings['Barbarian']}\")"
   ]
  },
  {
   "cell_type": "markdown",
   "id": "263386c3",
   "metadata": {},
   "source": [
    "## Don't forget the not in checks for absense"
   ]
  },
  {
   "cell_type": "code",
   "execution_count": 3,
   "id": "5041412b",
   "metadata": {},
   "outputs": [
    {
     "name": "stdout",
     "output_type": "stream",
     "text": [
      "We don't have any rating for Carmen yet\n"
     ]
    }
   ],
   "source": [
    "if \"Carmen\" not in movie_ratings:\n",
    "    print(\"We don't have any rating for Carmen yet\")"
   ]
  },
  {
   "cell_type": "code",
   "execution_count": null,
   "id": "05577f7d",
   "metadata": {},
   "outputs": [],
   "source": []
  }
 ],
 "metadata": {
  "kernelspec": {
   "display_name": "Python 3",
   "language": "python",
   "name": "python3"
  },
  "language_info": {
   "codemirror_mode": {
    "name": "ipython",
    "version": 3
   },
   "file_extension": ".py",
   "mimetype": "text/x-python",
   "name": "python",
   "nbconvert_exporter": "python",
   "pygments_lexer": "ipython3",
   "version": "3.9.12"
  }
 },
 "nbformat": 4,
 "nbformat_minor": 5
}
