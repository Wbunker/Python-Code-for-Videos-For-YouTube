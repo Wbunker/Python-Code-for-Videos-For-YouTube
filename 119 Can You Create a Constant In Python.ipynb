{
 "cells": [
  {
   "cell_type": "markdown",
   "id": "10846ddb",
   "metadata": {},
   "source": [
    "# Short Answer: NO"
   ]
  },
  {
   "cell_type": "code",
   "execution_count": 1,
   "id": "fa1cffa6",
   "metadata": {},
   "outputs": [],
   "source": [
    "# If Something is All\n",
    "# Caps Should Treat\n",
    "# As a Constant\n",
    "\n",
    "MY_PRETEND_CONSTANT = 'fake'"
   ]
  },
  {
   "cell_type": "code",
   "execution_count": null,
   "id": "3a14ea33",
   "metadata": {},
   "outputs": [],
   "source": []
  }
 ],
 "metadata": {
  "kernelspec": {
   "display_name": "Python 3 (ipykernel)",
   "language": "python",
   "name": "python3"
  },
  "language_info": {
   "codemirror_mode": {
    "name": "ipython",
    "version": 3
   },
   "file_extension": ".py",
   "mimetype": "text/x-python",
   "name": "python",
   "nbconvert_exporter": "python",
   "pygments_lexer": "ipython3",
   "version": "3.9.7"
  }
 },
 "nbformat": 4,
 "nbformat_minor": 5
}
