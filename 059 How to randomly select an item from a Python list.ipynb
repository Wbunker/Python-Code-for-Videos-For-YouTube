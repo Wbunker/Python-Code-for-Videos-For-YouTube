{
 "cells": [
  {
   "cell_type": "markdown",
   "id": "a5549e3f",
   "metadata": {},
   "source": [
    "# Python has a random library with all sorts of goodies\n",
    "\n",
    "\n",
    "### Choice is the one that fits the bill, returns a random element from any sequence"
   ]
  },
  {
   "cell_type": "code",
   "execution_count": 1,
   "id": "2477dd21",
   "metadata": {},
   "outputs": [
    {
     "name": "stdout",
     "output_type": "stream",
     "text": [
      "scooter\n"
     ]
    }
   ],
   "source": [
    "import random\n",
    "\n",
    "selection = ['car', 'truck', 'RV', 'motorcycle', 'bicycle', 'scooter']\n",
    "\n",
    "\n",
    "\n",
    "print(random.choice(selection))"
   ]
  },
  {
   "cell_type": "markdown",
   "id": "22ff03a7",
   "metadata": {},
   "source": [
    "## What if you want more than one choice?  choices is for you"
   ]
  },
  {
   "cell_type": "code",
   "execution_count": 2,
   "id": "c87eafb2",
   "metadata": {},
   "outputs": [
    {
     "name": "stdout",
     "output_type": "stream",
     "text": [
      "['truck', 'scooter', 'scooter']\n"
     ]
    }
   ],
   "source": [
    "print(random.choices(selection, k=3))"
   ]
  },
  {
   "cell_type": "markdown",
   "id": "b355333e",
   "metadata": {},
   "source": [
    "## You can even change the weightings"
   ]
  },
  {
   "cell_type": "code",
   "execution_count": 3,
   "id": "915461be",
   "metadata": {},
   "outputs": [
    {
     "name": "stdout",
     "output_type": "stream",
     "text": [
      "['scooter', 'scooter', 'motorcycle', 'car', 'motorcycle']\n"
     ]
    }
   ],
   "source": [
    "print(random.choices(selection, weights=[20, 5, 1, 10, 10, 10], k=5))"
   ]
  },
  {
   "cell_type": "markdown",
   "id": "500c72d2",
   "metadata": {},
   "source": [
    "## Beware the empty list"
   ]
  },
  {
   "cell_type": "code",
   "execution_count": 4,
   "id": "7d67c6f3",
   "metadata": {},
   "outputs": [
    {
     "ename": "IndexError",
     "evalue": "list index out of range",
     "output_type": "error",
     "traceback": [
      "\u001b[0;31m---------------------------------------------------------------------------\u001b[0m",
      "\u001b[0;31mIndexError\u001b[0m                                Traceback (most recent call last)",
      "Input \u001b[0;32mIn [4]\u001b[0m, in \u001b[0;36m<cell line: 4>\u001b[0;34m()\u001b[0m\n\u001b[1;32m      1\u001b[0m empty_list \u001b[38;5;241m=\u001b[39m []\n\u001b[0;32m----> 4\u001b[0m \u001b[38;5;28mprint\u001b[39m(\u001b[43mrandom\u001b[49m\u001b[38;5;241;43m.\u001b[39;49m\u001b[43mchoice\u001b[49m\u001b[43m(\u001b[49m\u001b[43mempty_list\u001b[49m\u001b[43m)\u001b[49m)\n",
      "File \u001b[0;32m~/opt/anaconda3/lib/python3.9/random.py:346\u001b[0m, in \u001b[0;36mRandom.choice\u001b[0;34m(self, seq)\u001b[0m\n\u001b[1;32m    344\u001b[0m \u001b[38;5;124;03m\"\"\"Choose a random element from a non-empty sequence.\"\"\"\u001b[39;00m\n\u001b[1;32m    345\u001b[0m \u001b[38;5;66;03m# raises IndexError if seq is empty\u001b[39;00m\n\u001b[0;32m--> 346\u001b[0m \u001b[38;5;28;01mreturn\u001b[39;00m \u001b[43mseq\u001b[49m\u001b[43m[\u001b[49m\u001b[38;5;28;43mself\u001b[39;49m\u001b[38;5;241;43m.\u001b[39;49m\u001b[43m_randbelow\u001b[49m\u001b[43m(\u001b[49m\u001b[38;5;28;43mlen\u001b[39;49m\u001b[43m(\u001b[49m\u001b[43mseq\u001b[49m\u001b[43m)\u001b[49m\u001b[43m)\u001b[49m\u001b[43m]\u001b[49m\n",
      "\u001b[0;31mIndexError\u001b[0m: list index out of range"
     ]
    }
   ],
   "source": [
    "empty_list = []\n",
    "\n",
    "\n",
    "print(random.choice(empty_list))"
   ]
  },
  {
   "cell_type": "code",
   "execution_count": 5,
   "id": "4c827208",
   "metadata": {},
   "outputs": [
    {
     "name": "stdout",
     "output_type": "stream",
     "text": [
      "You are all out of choices\n"
     ]
    }
   ],
   "source": [
    "try:\n",
    "    print(random.choice(empty_list))\n",
    "except IndexError:\n",
    "    print(\"You are all out of choices\")"
   ]
  },
  {
   "cell_type": "markdown",
   "id": "9ef77484",
   "metadata": {},
   "source": [
    "## What if I am building something that needs to be cryptographically secure"
   ]
  },
  {
   "cell_type": "code",
   "execution_count": 7,
   "id": "db56e85a",
   "metadata": {},
   "outputs": [
    {
     "name": "stdout",
     "output_type": "stream",
     "text": [
      "RV\n"
     ]
    }
   ],
   "source": [
    "import secrets\n",
    "\n",
    "try:\n",
    "    print(secrets.choice(selection))\n",
    "except IndexError:\n",
    "    print(\"No secrets for you\")"
   ]
  },
  {
   "cell_type": "code",
   "execution_count": null,
   "id": "17cff4bd",
   "metadata": {},
   "outputs": [],
   "source": []
  }
 ],
 "metadata": {
  "kernelspec": {
   "display_name": "Python 3 (ipykernel)",
   "language": "python",
   "name": "python3"
  },
  "language_info": {
   "codemirror_mode": {
    "name": "ipython",
    "version": 3
   },
   "file_extension": ".py",
   "mimetype": "text/x-python",
   "name": "python",
   "nbconvert_exporter": "python",
   "pygments_lexer": "ipython3",
   "version": "3.9.7"
  }
 },
 "nbformat": 4,
 "nbformat_minor": 5
}
