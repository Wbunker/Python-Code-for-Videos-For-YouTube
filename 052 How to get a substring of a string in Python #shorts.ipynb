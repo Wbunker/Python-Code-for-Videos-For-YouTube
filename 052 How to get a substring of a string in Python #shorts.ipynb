{
 "cells": [
  {
   "cell_type": "code",
   "execution_count": 3,
   "id": "5c5655bd",
   "metadata": {},
   "outputs": [
    {
     "name": "stdout",
     "output_type": "stream",
     "text": [
      "spot\n",
      "Watch \n",
      "spot run!\n"
     ]
    }
   ],
   "source": [
    "phrase = \"Watch spot run!\"\n",
    "\n",
    "print(phrase[6:10])\n",
    "print(phrase[:6])\n",
    "print(phrase[6:])"
   ]
  },
  {
   "cell_type": "code",
   "execution_count": null,
   "id": "f6c4268c",
   "metadata": {},
   "outputs": [],
   "source": []
  }
 ],
 "metadata": {
  "kernelspec": {
   "display_name": "Python 3 (ipykernel)",
   "language": "python",
   "name": "python3"
  },
  "language_info": {
   "codemirror_mode": {
    "name": "ipython",
    "version": 3
   },
   "file_extension": ".py",
   "mimetype": "text/x-python",
   "name": "python",
   "nbconvert_exporter": "python",
   "pygments_lexer": "ipython3",
   "version": "3.9.7"
  }
 },
 "nbformat": 4,
 "nbformat_minor": 5
}
