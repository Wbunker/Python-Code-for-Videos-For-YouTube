{
 "cells": [
  {
   "cell_type": "markdown",
   "id": "90248982",
   "metadata": {},
   "source": [
    "# I love how simple this is in Python"
   ]
  },
  {
   "cell_type": "code",
   "execution_count": 1,
   "id": "a736b856",
   "metadata": {},
   "outputs": [
    {
     "name": "stdout",
     "output_type": "stream",
     "text": [
      "mixed case string\n",
      "MIXED CASE STRING\n"
     ]
    }
   ],
   "source": [
    "original = 'MiXed CaSe StRinG'\n",
    "\n",
    "\n",
    "print(original.lower())\n",
    "\n",
    "\n",
    "print(original.upper())"
   ]
  },
  {
   "cell_type": "markdown",
   "id": "c60b3cf5",
   "metadata": {},
   "source": [
    "## But what if I have non-ASCII characters???\n",
    "\n",
    "Be sure to use unicode encoding"
   ]
  },
  {
   "cell_type": "code",
   "execution_count": 4,
   "id": "6c88fc17",
   "metadata": {},
   "outputs": [
    {
     "name": "stdout",
     "output_type": "stream",
     "text": [
      "Километр\n",
      "километр\n",
      "КИЛОМЕТР\n"
     ]
    }
   ],
   "source": [
    "unicode_literal = u'Километр'\n",
    "\n",
    "print(unicode_literal)\n",
    "\n",
    "print(unicode_literal.lower())\n",
    "\n",
    "print(unicode_literal.upper())"
   ]
  },
  {
   "cell_type": "code",
   "execution_count": null,
   "id": "e10d0736",
   "metadata": {},
   "outputs": [],
   "source": []
  }
 ],
 "metadata": {
  "kernelspec": {
   "display_name": "Python 3",
   "language": "python",
   "name": "python3"
  },
  "language_info": {
   "codemirror_mode": {
    "name": "ipython",
    "version": 3
   },
   "file_extension": ".py",
   "mimetype": "text/x-python",
   "name": "python",
   "nbconvert_exporter": "python",
   "pygments_lexer": "ipython3",
   "version": "3.9.12"
  }
 },
 "nbformat": 4,
 "nbformat_minor": 5
}
