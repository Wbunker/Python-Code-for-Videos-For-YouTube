{
 "cells": [
  {
   "cell_type": "markdown",
   "id": "363a45f6",
   "metadata": {},
   "source": [
    "# DataFrame has a function rename( ) which does the trick"
   ]
  },
  {
   "cell_type": "code",
   "execution_count": 3,
   "id": "dcc63b73",
   "metadata": {},
   "outputs": [
    {
     "name": "stdout",
     "output_type": "stream",
     "text": [
      "   a  b  c  d  e  f  g\n",
      "0  1  1  1  1  1  1  1\n",
      "1  1  1  1  1  1  1  1\n",
      "2  1  1  1  1  1  1  1\n",
      "3  1  1  1  1  1  1  1\n",
      "4  1  1  1  1  1  1  1\n"
     ]
    }
   ],
   "source": [
    "import pandas as pd\n",
    "\n",
    "\n",
    "df = pd.DataFrame(1, index=range(5), columns=list('abcdefg'))\n",
    "\n",
    "print(df)"
   ]
  },
  {
   "cell_type": "code",
   "execution_count": 5,
   "id": "f5378960",
   "metadata": {},
   "outputs": [
    {
     "name": "stdout",
     "output_type": "stream",
     "text": [
      "   January  February  c  d  e  f  g\n",
      "0        1         1  1  1  1  1  1\n",
      "1        1         1  1  1  1  1  1\n",
      "2        1         1  1  1  1  1  1\n",
      "3        1         1  1  1  1  1  1\n",
      "4        1         1  1  1  1  1  1\n"
     ]
    }
   ],
   "source": [
    "new_df = df.rename(columns={'a': 'January', 'b': 'February'})\n",
    "\n",
    "print(new_df)"
   ]
  },
  {
   "cell_type": "markdown",
   "id": "64a2a000",
   "metadata": {},
   "source": [
    "## I don't want a new DataFrame\n",
    "\n",
    "inplace=True"
   ]
  },
  {
   "cell_type": "code",
   "execution_count": 6,
   "id": "f26c3d87",
   "metadata": {},
   "outputs": [
    {
     "name": "stdout",
     "output_type": "stream",
     "text": [
      "   January  February  c  d  e  f  g\n",
      "0        1         1  1  1  1  1  1\n",
      "1        1         1  1  1  1  1  1\n",
      "2        1         1  1  1  1  1  1\n",
      "3        1         1  1  1  1  1  1\n",
      "4        1         1  1  1  1  1  1\n"
     ]
    }
   ],
   "source": [
    "df.rename(columns={'a': 'January', 'b': 'February'}, inplace=True)\n",
    "\n",
    "print(df)"
   ]
  },
  {
   "cell_type": "code",
   "execution_count": null,
   "id": "a0998113",
   "metadata": {},
   "outputs": [],
   "source": []
  }
 ],
 "metadata": {
  "kernelspec": {
   "display_name": "Python 3 (ipykernel)",
   "language": "python",
   "name": "python3"
  },
  "language_info": {
   "codemirror_mode": {
    "name": "ipython",
    "version": 3
   },
   "file_extension": ".py",
   "mimetype": "text/x-python",
   "name": "python",
   "nbconvert_exporter": "python",
   "pygments_lexer": "ipython3",
   "version": "3.9.12"
  }
 },
 "nbformat": 4,
 "nbformat_minor": 5
}
