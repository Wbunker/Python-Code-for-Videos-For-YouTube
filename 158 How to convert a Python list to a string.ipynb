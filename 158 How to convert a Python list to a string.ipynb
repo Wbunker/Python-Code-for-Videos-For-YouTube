{
 "cells": [
  {
   "cell_type": "code",
   "execution_count": 2,
   "id": "d4252b2c",
   "metadata": {},
   "outputs": [
    {
     "name": "stdout",
     "output_type": "stream",
     "text": [
      "Ace King Queen Jack 10 9\n"
     ]
    }
   ],
   "source": [
    "cards = [\"Ace\", \"King\", \"Queen\",\n",
    "        \"Jack\", \"10\", \"9\"]\n",
    "\n",
    "cards_str = \" \".join(cards)\n",
    "print(cards_str)"
   ]
  },
  {
   "cell_type": "code",
   "execution_count": null,
   "id": "674f430e",
   "metadata": {},
   "outputs": [],
   "source": []
  }
 ],
 "metadata": {
  "kernelspec": {
   "display_name": "Python 3 (ipykernel)",
   "language": "python",
   "name": "python3"
  },
  "language_info": {
   "codemirror_mode": {
    "name": "ipython",
    "version": 3
   },
   "file_extension": ".py",
   "mimetype": "text/x-python",
   "name": "python",
   "nbconvert_exporter": "python",
   "pygments_lexer": "ipython3",
   "version": "3.9.7"
  }
 },
 "nbformat": 4,
 "nbformat_minor": 5
}
