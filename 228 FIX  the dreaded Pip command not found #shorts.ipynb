{
 "cells": [
  {
   "cell_type": "code",
   "execution_count": null,
   "id": "411c3118",
   "metadata": {},
   "outputs": [],
   "source": [
    "python -m pip <command>\n",
    "\n",
    "python3 -m pip <command>"
   ]
  }
 ],
 "metadata": {
  "kernelspec": {
   "display_name": "3.11.1",
   "language": "python",
   "name": "3.11.1"
  },
  "language_info": {
   "codemirror_mode": {
    "name": "ipython",
    "version": 3
   },
   "file_extension": ".py",
   "mimetype": "text/x-python",
   "name": "python",
   "nbconvert_exporter": "python",
   "pygments_lexer": "ipython3",
   "version": "3.11.1"
  }
 },
 "nbformat": 4,
 "nbformat_minor": 5
}
