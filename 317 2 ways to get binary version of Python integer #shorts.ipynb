{
 "cells": [
  {
   "cell_type": "code",
   "execution_count": 3,
   "id": "8eea5da8",
   "metadata": {},
   "outputs": [
    {
     "name": "stdout",
     "output_type": "stream",
     "text": [
      "0b101011011111\n",
      "101011011111\n"
     ]
    }
   ],
   "source": [
    "x = 2783\n",
    "\n",
    "y = bin(x)\n",
    "print(y)\n",
    "print(f'{x:b}')"
   ]
  },
  {
   "cell_type": "code",
   "execution_count": null,
   "id": "77ca9c49",
   "metadata": {},
   "outputs": [],
   "source": []
  }
 ],
 "metadata": {
  "kernelspec": {
   "display_name": "3.11.1",
   "language": "python",
   "name": "3.11.1"
  },
  "language_info": {
   "codemirror_mode": {
    "name": "ipython",
    "version": 3
   },
   "file_extension": ".py",
   "mimetype": "text/x-python",
   "name": "python",
   "nbconvert_exporter": "python",
   "pygments_lexer": "ipython3",
   "version": "3.11.1"
  }
 },
 "nbformat": 4,
 "nbformat_minor": 5
}
