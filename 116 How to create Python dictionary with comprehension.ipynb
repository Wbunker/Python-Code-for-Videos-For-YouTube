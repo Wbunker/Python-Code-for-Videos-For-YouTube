{
 "cells": [
  {
   "cell_type": "markdown",
   "id": "39ffe03d",
   "metadata": {},
   "source": [
    "# We use { } in modern Python"
   ]
  },
  {
   "cell_type": "code",
   "execution_count": 2,
   "id": "5c387bfc",
   "metadata": {},
   "outputs": [
    {
     "name": "stdout",
     "output_type": "stream",
     "text": [
      "{'apple': 2.5, 'banana': 3.75, 'orange': 2.25, 'watermelon': 6.7}\n"
     ]
    }
   ],
   "source": [
    "fruit = ['apple', 'banana', 'orange', 'watermelon']\n",
    "\n",
    "prices = [2.5, 3.75, 2.25, 6.70]\n",
    "\n",
    "fruit_dict = { name: price for name, price in zip(fruit, prices)}\n",
    "\n",
    "print(fruit_dict)"
   ]
  },
  {
   "cell_type": "code",
   "execution_count": null,
   "id": "d4a7421f",
   "metadata": {},
   "outputs": [],
   "source": []
  }
 ],
 "metadata": {
  "kernelspec": {
   "display_name": "Python 3 (ipykernel)",
   "language": "python",
   "name": "python3"
  },
  "language_info": {
   "codemirror_mode": {
    "name": "ipython",
    "version": 3
   },
   "file_extension": ".py",
   "mimetype": "text/x-python",
   "name": "python",
   "nbconvert_exporter": "python",
   "pygments_lexer": "ipython3",
   "version": "3.9.7"
  }
 },
 "nbformat": 4,
 "nbformat_minor": 5
}
