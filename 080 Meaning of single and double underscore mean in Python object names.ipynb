{
 "cells": [
  {
   "cell_type": "markdown",
   "id": "57bff671",
   "metadata": {},
   "source": [
    "# Single underscore is meant to indicate \"internal use"
   ]
  },
  {
   "cell_type": "code",
   "execution_count": 1,
   "id": "fcb6dc33",
   "metadata": {},
   "outputs": [],
   "source": [
    "## this will not import anything with a _ in front\n",
    "from random import *"
   ]
  },
  {
   "cell_type": "markdown",
   "id": "70acd685",
   "metadata": {},
   "source": [
    "# Double underscore with no or single trailing underscore\n",
    "\n",
    "### Will be replaced with _classname__originalName"
   ]
  },
  {
   "cell_type": "code",
   "execution_count": 2,
   "id": "e7a5e6ba",
   "metadata": {},
   "outputs": [],
   "source": [
    "# Keeps the name from overlapping with a similar name in another class"
   ]
  },
  {
   "cell_type": "markdown",
   "id": "16df324c",
   "metadata": {},
   "source": [
    "## Double underscore with trailing double underscore\n",
    "\n",
    "Meant to be reserved for Python so it won't conflict with any of your variables"
   ]
  },
  {
   "cell_type": "code",
   "execution_count": null,
   "id": "bcb1a072",
   "metadata": {},
   "outputs": [],
   "source": []
  }
 ],
 "metadata": {
  "kernelspec": {
   "display_name": "Python 3",
   "language": "python",
   "name": "python3"
  },
  "language_info": {
   "codemirror_mode": {
    "name": "ipython",
    "version": 3
   },
   "file_extension": ".py",
   "mimetype": "text/x-python",
   "name": "python",
   "nbconvert_exporter": "python",
   "pygments_lexer": "ipython3",
   "version": "3.9.12"
  }
 },
 "nbformat": 4,
 "nbformat_minor": 5
}
