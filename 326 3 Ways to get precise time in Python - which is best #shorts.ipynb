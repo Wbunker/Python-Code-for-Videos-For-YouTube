{
 "cells": [
  {
   "cell_type": "code",
   "execution_count": 16,
   "id": "a88f8a02",
   "metadata": {},
   "outputs": [
    {
     "name": "stdout",
     "output_type": "stream",
     "text": [
      "464425\n",
      "464462\n",
      "1675956677464490000 1675956677.46449\n"
     ]
    }
   ],
   "source": [
    "from datetime import datetime \n",
    "from time import time, time_ns\n",
    "\n",
    "t1 = datetime.now()\n",
    "# time may be less accurate on some systems\n",
    "# could be to the second\n",
    "t2  = datetime.fromtimestamp(time())\n",
    "t3 = time_ns()\n",
    "\n",
    "print(t1.microsecond)\n",
    "print(t2.microsecond)\n",
    "print(t3, t3 / 1_000_000_000)"
   ]
  },
  {
   "cell_type": "code",
   "execution_count": null,
   "id": "87264876",
   "metadata": {},
   "outputs": [],
   "source": []
  }
 ],
 "metadata": {
  "kernelspec": {
   "display_name": "3.11.1",
   "language": "python",
   "name": "3.11.1"
  },
  "language_info": {
   "codemirror_mode": {
    "name": "ipython",
    "version": 3
   },
   "file_extension": ".py",
   "mimetype": "text/x-python",
   "name": "python",
   "nbconvert_exporter": "python",
   "pygments_lexer": "ipython3",
   "version": "3.11.1"
  }
 },
 "nbformat": 4,
 "nbformat_minor": 5
}
