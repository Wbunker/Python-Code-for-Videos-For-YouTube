{
 "cells": [
  {
   "cell_type": "code",
   "execution_count": 2,
   "id": "f03baf45",
   "metadata": {},
   "outputs": [],
   "source": [
    "# x[ start:end:step ]\n",
    "d = ['Monday', \n",
    "        'Tuesday', \n",
    "        'Wednesday', \n",
    "        'Thursday', \n",
    "        'Friday', \n",
    "        'Saturday', \n",
    "        'Sunday']"
   ]
  },
  {
   "cell_type": "code",
   "execution_count": 3,
   "id": "85ea7708",
   "metadata": {},
   "outputs": [
    {
     "name": "stdout",
     "output_type": "stream",
     "text": [
      "Monday\n",
      "Thursday\n"
     ]
    }
   ],
   "source": [
    "print(d[0])\n",
    "print(d[3])"
   ]
  },
  {
   "cell_type": "code",
   "execution_count": 4,
   "id": "2025a5d0",
   "metadata": {},
   "outputs": [
    {
     "name": "stdout",
     "output_type": "stream",
     "text": [
      "Sunday\n",
      "Friday\n"
     ]
    }
   ],
   "source": [
    "print(d[-1])\n",
    "print(d[-3])"
   ]
  },
  {
   "cell_type": "code",
   "execution_count": 7,
   "id": "7d911364",
   "metadata": {},
   "outputs": [
    {
     "name": "stdout",
     "output_type": "stream",
     "text": [
      "['Tuesday', 'Wednesday', 'Thursday']\n",
      "['Thursday', 'Friday', 'Saturday']\n"
     ]
    }
   ],
   "source": [
    "print(d[1:4])\n",
    "print(d[-4:-1])"
   ]
  },
  {
   "cell_type": "code",
   "execution_count": 9,
   "id": "9473bb98",
   "metadata": {},
   "outputs": [
    {
     "name": "stdout",
     "output_type": "stream",
     "text": [
      "['Monday', 'Wednesday', 'Friday', 'Sunday']\n"
     ]
    }
   ],
   "source": [
    "print(d[0:7:2])"
   ]
  },
  {
   "cell_type": "code",
   "execution_count": null,
   "id": "84cfbb0d",
   "metadata": {},
   "outputs": [],
   "source": [
    "print(days[:5])\n",
    "print(days[2:])"
   ]
  }
 ],
 "metadata": {
  "kernelspec": {
   "display_name": "Python 3 (ipykernel)",
   "language": "python",
   "name": "python3"
  },
  "language_info": {
   "codemirror_mode": {
    "name": "ipython",
    "version": 3
   },
   "file_extension": ".py",
   "mimetype": "text/x-python",
   "name": "python",
   "nbconvert_exporter": "python",
   "pygments_lexer": "ipython3",
   "version": "3.9.7"
  }
 },
 "nbformat": 4,
 "nbformat_minor": 5
}
