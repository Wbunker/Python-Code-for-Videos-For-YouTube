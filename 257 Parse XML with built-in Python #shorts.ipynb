{
 "cells": [
  {
   "cell_type": "code",
   "execution_count": 4,
   "id": "9bbf45ff",
   "metadata": {},
   "outputs": [
    {
     "name": "stdout",
     "output_type": "stream",
     "text": [
      "<Element 'foo' at 0x105cec770>\n",
      "['1', '2']\n"
     ]
    }
   ],
   "source": [
    "# <foo>\n",
    "#    <bar>\n",
    "#       <type foobar=\"1\"/>\n",
    "#       <type foobar=\"2\"/>\n",
    "#    </bar>\n",
    "# </foo>\n",
    "\n",
    "import xml.etree.ElementTree as ET\n",
    "\n",
    "f = \"data/data.xml\"\n",
    "r = ET.parse(f).getroot()\n",
    "\n",
    "attr = [\n",
    "    t.get('foobar')\n",
    "    for t in r.findall('bar/type')    \n",
    "]\n",
    "\n",
    "print(attr)\n"
   ]
  },
  {
   "cell_type": "code",
   "execution_count": null,
   "id": "495a41a3",
   "metadata": {},
   "outputs": [],
   "source": []
  }
 ],
 "metadata": {
  "kernelspec": {
   "display_name": "3.11.1",
   "language": "python",
   "name": "3.11.1"
  },
  "language_info": {
   "codemirror_mode": {
    "name": "ipython",
    "version": 3
   },
   "file_extension": ".py",
   "mimetype": "text/x-python",
   "name": "python",
   "nbconvert_exporter": "python",
   "pygments_lexer": "ipython3",
   "version": "3.11.1"
  }
 },
 "nbformat": 4,
 "nbformat_minor": 5
}
