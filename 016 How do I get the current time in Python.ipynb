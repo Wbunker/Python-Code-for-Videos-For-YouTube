{
 "cells": [
  {
   "cell_type": "markdown",
   "id": "0d27a61c",
   "metadata": {},
   "source": [
    "# My number one tip - embrace time zones\n",
    "\n",
    "## or you will be sorry later\n",
    "\n",
    "Date and time objects are categorizes as \"aware\" or \"naive\" depending on whether or not they include timezone information\n",
    "\n",
    "## Don't be a naive programmer"
   ]
  },
  {
   "cell_type": "code",
   "execution_count": 15,
   "id": "970cdcd3",
   "metadata": {},
   "outputs": [
    {
     "name": "stdout",
     "output_type": "stream",
     "text": [
      "2022-09-06 10:45:39.400302-05:00\n"
     ]
    }
   ],
   "source": [
    "from datetime import datetime\n",
    "from pytz import timezone\n",
    "\n",
    "print(datetime.now(timezone('US/Central')))"
   ]
  },
  {
   "cell_type": "markdown",
   "id": "4974bc6d",
   "metadata": {},
   "source": [
    "## What about if I don't need date part?"
   ]
  },
  {
   "cell_type": "code",
   "execution_count": 21,
   "id": "f631d930",
   "metadata": {},
   "outputs": [
    {
     "name": "stdout",
     "output_type": "stream",
     "text": [
      "11:47:25.450905\n"
     ]
    }
   ],
   "source": [
    "current_datetime = datetime.now(timezone('America/New_York'))\n",
    "print(current_datetime.time())"
   ]
  },
  {
   "cell_type": "markdown",
   "id": "51730c1e",
   "metadata": {},
   "source": [
    "## That looks pretty ugly can I make it look better?\n",
    "\n",
    "User strftime with directives\n",
    "\n",
    "https://docs.python.org/3/library/datetime.html#strftime-and-strptime-format-codes"
   ]
  },
  {
   "cell_type": "code",
   "execution_count": 24,
   "id": "abe73154",
   "metadata": {},
   "outputs": [
    {
     "name": "stdout",
     "output_type": "stream",
     "text": [
      "11:47\n",
      "11:47:25\n"
     ]
    }
   ],
   "source": [
    "print(current_datetime.strftime(\"%H:%M\"))\n",
    "\n",
    "print(current_datetime.strftime(\"%H:%M:%S\"))"
   ]
  },
  {
   "cell_type": "code",
   "execution_count": null,
   "id": "a53100b9",
   "metadata": {},
   "outputs": [],
   "source": []
  }
 ],
 "metadata": {
  "kernelspec": {
   "display_name": "Python 3",
   "language": "python",
   "name": "python3"
  },
  "language_info": {
   "codemirror_mode": {
    "name": "ipython",
    "version": 3
   },
   "file_extension": ".py",
   "mimetype": "text/x-python",
   "name": "python",
   "nbconvert_exporter": "python",
   "pygments_lexer": "ipython3",
   "version": "3.9.12"
  }
 },
 "nbformat": 4,
 "nbformat_minor": 5
}
