{
 "cells": [
  {
   "cell_type": "code",
   "execution_count": 5,
   "id": "13b9ee3e",
   "metadata": {},
   "outputs": [
    {
     "name": "stdout",
     "output_type": "stream",
     "text": [
      "I love my cat\n",
      "I love my dog\n"
     ]
    }
   ],
   "source": [
    "#most languages have\n",
    "#references vs values\n",
    "# Python uses assignment\n",
    "\n",
    "s = \"I love my dog\"\n",
    "\n",
    "# immutable object - string\n",
    "def f1(s):\n",
    "    s = s.replace(\"dog\", \"cat\")\n",
    "    print(s)\n",
    "    \n",
    "f1(s)\n",
    "print(s)"
   ]
  },
  {
   "cell_type": "code",
   "execution_count": 6,
   "id": "a5569f5e",
   "metadata": {},
   "outputs": [
    {
     "name": "stdout",
     "output_type": "stream",
     "text": [
      "{'dog': 'Bill'}\n",
      "{'dog': 'Bill'}\n"
     ]
    }
   ],
   "source": [
    "# mutable object - dictionary\n",
    "d = {\n",
    "    \"dog\": \"Sally\"\n",
    "}\n",
    "def f2(d):\n",
    "    d['dog'] = \"Bill\"\n",
    "    print(d)\n",
    "    \n",
    "f2(d)\n",
    "print(d)"
   ]
  },
  {
   "cell_type": "code",
   "execution_count": null,
   "id": "a29db120",
   "metadata": {},
   "outputs": [],
   "source": []
  }
 ],
 "metadata": {
  "kernelspec": {
   "display_name": "3.11.1",
   "language": "python",
   "name": "3.11.1"
  },
  "language_info": {
   "codemirror_mode": {
    "name": "ipython",
    "version": 3
   },
   "file_extension": ".py",
   "mimetype": "text/x-python",
   "name": "python",
   "nbconvert_exporter": "python",
   "pygments_lexer": "ipython3",
   "version": "3.11.1"
  }
 },
 "nbformat": 4,
 "nbformat_minor": 5
}
