{
 "cells": [
  {
   "cell_type": "markdown",
   "id": "f5b44056",
   "metadata": {},
   "source": [
    "# Each Variation Affects what Gets passed in for 1st Variable"
   ]
  },
  {
   "cell_type": "code",
   "execution_count": 2,
   "id": "36abc691",
   "metadata": {},
   "outputs": [],
   "source": [
    "import sys\n",
    "\n",
    "class MyCounter:\n",
    "    \n",
    "    \n",
    "    def __init__(self, initial_count=0):\n",
    "        self.count = initial_count\n",
    "        \n",
    "    # regular method with no decorator\n",
    "    # a copy of instance is passed in \n",
    "    # as first variable\n",
    "    def add_count(self, amount):\n",
    "        self.count += amount\n",
    "\n",
    "    def get_count(self):\n",
    "        return self.count\n",
    "        \n",
    "        \n",
    "    # classmethod\n",
    "    # a reference to the class that calls this is passed in\n",
    "    @classmethod\n",
    "    def from_text(cls, filename):\n",
    "        ## read in the starting count from file\n",
    "        with open(filename, 'r') as f:\n",
    "            file_count = int(f.read())\n",
    "        new_counter = cls(file_count)\n",
    "        \n",
    "        return new_counter\n",
    "        \n",
    "        \n",
    "    # static method, doesn't get either instance or class reference\n",
    "    @staticmethod\n",
    "    def max_count():\n",
    "        return sys.maxsize"
   ]
  },
  {
   "cell_type": "markdown",
   "id": "ef6272cf",
   "metadata": {},
   "source": [
    "# Unmarked Functions Have Copy of Instance Passed In"
   ]
  },
  {
   "cell_type": "code",
   "execution_count": 3,
   "id": "9d7972cb",
   "metadata": {},
   "outputs": [
    {
     "name": "stdout",
     "output_type": "stream",
     "text": [
      "500\n"
     ]
    }
   ],
   "source": [
    "first_counter = MyCounter()\n",
    "\n",
    "first_counter.add_count(500)\n",
    "\n",
    "print(first_counter.get_count())"
   ]
  },
  {
   "cell_type": "markdown",
   "id": "7e87e450",
   "metadata": {},
   "source": [
    "# Class Methods Have Copy of Class Passed In\n",
    "\n",
    "Can be used for generating new copies of class with specific properties"
   ]
  },
  {
   "cell_type": "code",
   "execution_count": 30,
   "id": "4180f9fd",
   "metadata": {},
   "outputs": [
    {
     "name": "stdout",
     "output_type": "stream",
     "text": [
      "20\n",
      "55\n"
     ]
    }
   ],
   "source": [
    "second_counter = MyCounter.from_text('data/old_counter.txt')\n",
    "print(second_counter.get_count())\n",
    "second_counter.add_count(35)\n",
    "print(second_counter.get_count())"
   ]
  },
  {
   "cell_type": "markdown",
   "id": "abaa13ce",
   "metadata": {},
   "source": [
    "# Static"
   ]
  },
  {
   "cell_type": "code",
   "execution_count": 31,
   "id": "9de62e27",
   "metadata": {},
   "outputs": [
    {
     "name": "stdout",
     "output_type": "stream",
     "text": [
      "9223372036854775807\n"
     ]
    }
   ],
   "source": [
    "print(MyCounter.max_count())"
   ]
  },
  {
   "cell_type": "code",
   "execution_count": null,
   "id": "162edea9",
   "metadata": {},
   "outputs": [],
   "source": []
  }
 ],
 "metadata": {
  "kernelspec": {
   "display_name": "Python 3 (ipykernel)",
   "language": "python",
   "name": "python3"
  },
  "language_info": {
   "codemirror_mode": {
    "name": "ipython",
    "version": 3
   },
   "file_extension": ".py",
   "mimetype": "text/x-python",
   "name": "python",
   "nbconvert_exporter": "python",
   "pygments_lexer": "ipython3",
   "version": "3.9.7"
  }
 },
 "nbformat": 4,
 "nbformat_minor": 5
}
