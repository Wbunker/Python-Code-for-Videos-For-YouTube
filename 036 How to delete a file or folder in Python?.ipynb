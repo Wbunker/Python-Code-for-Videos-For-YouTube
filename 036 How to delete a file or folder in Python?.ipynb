{
 "cells": [
  {
   "cell_type": "markdown",
   "id": "48b9af8e",
   "metadata": {},
   "source": [
    "# There are SOOOO many ways to do this\n",
    "\n",
    "## Lets discuss in a logical way\n",
    "\n",
    "### 1. I have a single file and I want to remove it specifically"
   ]
  },
  {
   "cell_type": "code",
   "execution_count": 8,
   "id": "56581090",
   "metadata": {},
   "outputs": [
    {
     "name": "stdout",
     "output_type": "stream",
     "text": [
      "File is there before delete: True\n",
      "File is there after delete: False\n"
     ]
    }
   ],
   "source": [
    "from pathlib import Path\n",
    "\n",
    "\n",
    "file = Path('data/throwaway.txt')\n",
    "\n",
    "# create an empty file with touch\n",
    "file.touch()\n",
    "print(f'File is there before delete: {file.is_file()}')\n",
    "\n",
    "\n",
    "# use unlink to remove\n",
    "file.unlink()\n",
    "print(f'File is there after delete: {file.is_file()}')\n",
    "\n",
    "\n",
    "# how to make it bullet proof missing_ok=True\n",
    "file.unlink(missing_ok=True)"
   ]
  },
  {
   "cell_type": "markdown",
   "id": "e172a4ae",
   "metadata": {},
   "source": [
    "### 2. I have an empty directory I want to remove\n",
    "\n",
    "WARNING - empty is the key word here"
   ]
  },
  {
   "cell_type": "code",
   "execution_count": 14,
   "id": "55d36d78",
   "metadata": {},
   "outputs": [
    {
     "name": "stdout",
     "output_type": "stream",
     "text": [
      "Directory is there before delete: True\n",
      "Directory is there after delete: False\n"
     ]
    },
    {
     "ename": "FileNotFoundError",
     "evalue": "[Errno 2] No such file or directory: 'directory_to_delete'",
     "output_type": "error",
     "traceback": [
      "\u001b[0;31m---------------------------------------------------------------------------\u001b[0m",
      "\u001b[0;31mFileNotFoundError\u001b[0m                         Traceback (most recent call last)",
      "Input \u001b[0;32mIn [14]\u001b[0m, in \u001b[0;36m<cell line: 16>\u001b[0;34m()\u001b[0m\n\u001b[1;32m     12\u001b[0m \u001b[38;5;28mprint\u001b[39m(\u001b[38;5;124mf\u001b[39m\u001b[38;5;124m'\u001b[39m\u001b[38;5;124mDirectory is there after delete: \u001b[39m\u001b[38;5;132;01m{\u001b[39;00m\u001b[38;5;28mdir\u001b[39m\u001b[38;5;241m.\u001b[39mis_dir()\u001b[38;5;132;01m}\u001b[39;00m\u001b[38;5;124m'\u001b[39m)\n\u001b[1;32m     15\u001b[0m \u001b[38;5;66;03m# how to make it bullet proof missing_ok=True\u001b[39;00m\n\u001b[0;32m---> 16\u001b[0m \u001b[38;5;28;43mdir\u001b[39;49m\u001b[38;5;241;43m.\u001b[39;49m\u001b[43mrmdir\u001b[49m\u001b[43m(\u001b[49m\u001b[43m)\u001b[49m\n",
      "File \u001b[0;32m~/anaconda3/lib/python3.9/pathlib.py:1363\u001b[0m, in \u001b[0;36mPath.rmdir\u001b[0;34m(self)\u001b[0m\n\u001b[1;32m   1359\u001b[0m \u001b[38;5;28;01mdef\u001b[39;00m \u001b[38;5;21mrmdir\u001b[39m(\u001b[38;5;28mself\u001b[39m):\n\u001b[1;32m   1360\u001b[0m     \u001b[38;5;124;03m\"\"\"\u001b[39;00m\n\u001b[1;32m   1361\u001b[0m \u001b[38;5;124;03m    Remove this directory.  The directory must be empty.\u001b[39;00m\n\u001b[1;32m   1362\u001b[0m \u001b[38;5;124;03m    \"\"\"\u001b[39;00m\n\u001b[0;32m-> 1363\u001b[0m     \u001b[38;5;28;43mself\u001b[39;49m\u001b[38;5;241;43m.\u001b[39;49m\u001b[43m_accessor\u001b[49m\u001b[38;5;241;43m.\u001b[39;49m\u001b[43mrmdir\u001b[49m\u001b[43m(\u001b[49m\u001b[38;5;28;43mself\u001b[39;49m\u001b[43m)\u001b[49m\n",
      "\u001b[0;31mFileNotFoundError\u001b[0m: [Errno 2] No such file or directory: 'directory_to_delete'"
     ]
    }
   ],
   "source": [
    "directory_to_delete = 'directory_to_delete'\n",
    "\n",
    "dir = Path(directory_to_delete)\n",
    "\n",
    "# create an empty file with touch\n",
    "dir.mkdir(parents=True, exist_ok=True)\n",
    "print(f'Directory is there before delete: {dir.is_dir()}')\n",
    "\n",
    "\n",
    "# use rmdir to remove\n",
    "dir.rmdir()\n",
    "print(f'Directory is there after delete: {dir.is_dir()}')"
   ]
  },
  {
   "cell_type": "code",
   "execution_count": 15,
   "id": "d7e06af7",
   "metadata": {},
   "outputs": [
    {
     "ename": "OSError",
     "evalue": "[Errno 39] Directory not empty: 'directory_to_delete'",
     "output_type": "error",
     "traceback": [
      "\u001b[0;31m---------------------------------------------------------------------------\u001b[0m",
      "\u001b[0;31mOSError\u001b[0m                                   Traceback (most recent call last)",
      "Input \u001b[0;32mIn [15]\u001b[0m, in \u001b[0;36m<cell line: 5>\u001b[0;34m()\u001b[0m\n\u001b[1;32m      2\u001b[0m \u001b[38;5;28mdir\u001b[39m\u001b[38;5;241m.\u001b[39mmkdir(parents\u001b[38;5;241m=\u001b[39m\u001b[38;5;28;01mTrue\u001b[39;00m, exist_ok\u001b[38;5;241m=\u001b[39m\u001b[38;5;28;01mTrue\u001b[39;00m)\n\u001b[1;32m      3\u001b[0m Path(\u001b[38;5;124mf\u001b[39m\u001b[38;5;124m\"\u001b[39m\u001b[38;5;132;01m{\u001b[39;00mdirectory_to_delete\u001b[38;5;132;01m}\u001b[39;00m\u001b[38;5;124m/afile.txt\u001b[39m\u001b[38;5;124m\"\u001b[39m)\u001b[38;5;241m.\u001b[39mtouch()\n\u001b[0;32m----> 5\u001b[0m \u001b[38;5;28;43mdir\u001b[39;49m\u001b[38;5;241;43m.\u001b[39;49m\u001b[43mrmdir\u001b[49m\u001b[43m(\u001b[49m\u001b[43m)\u001b[49m\n",
      "File \u001b[0;32m~/anaconda3/lib/python3.9/pathlib.py:1363\u001b[0m, in \u001b[0;36mPath.rmdir\u001b[0;34m(self)\u001b[0m\n\u001b[1;32m   1359\u001b[0m \u001b[38;5;28;01mdef\u001b[39;00m \u001b[38;5;21mrmdir\u001b[39m(\u001b[38;5;28mself\u001b[39m):\n\u001b[1;32m   1360\u001b[0m     \u001b[38;5;124;03m\"\"\"\u001b[39;00m\n\u001b[1;32m   1361\u001b[0m \u001b[38;5;124;03m    Remove this directory.  The directory must be empty.\u001b[39;00m\n\u001b[1;32m   1362\u001b[0m \u001b[38;5;124;03m    \"\"\"\u001b[39;00m\n\u001b[0;32m-> 1363\u001b[0m     \u001b[38;5;28;43mself\u001b[39;49m\u001b[38;5;241;43m.\u001b[39;49m\u001b[43m_accessor\u001b[49m\u001b[38;5;241;43m.\u001b[39;49m\u001b[43mrmdir\u001b[49m\u001b[43m(\u001b[49m\u001b[38;5;28;43mself\u001b[39;49m\u001b[43m)\u001b[49m\n",
      "\u001b[0;31mOSError\u001b[0m: [Errno 39] Directory not empty: 'directory_to_delete'"
     ]
    }
   ],
   "source": [
    "# what happens if directory has a file\n",
    "dir.mkdir(parents=True, exist_ok=True)\n",
    "Path(f\"{directory_to_delete}/afile.txt\").touch()\n",
    "     \n",
    "dir.rmdir()\n",
    "     "
   ]
  },
  {
   "cell_type": "markdown",
   "id": "c55836a2",
   "metadata": {},
   "source": [
    "### 3. To delete a directory and everything in it: bring out the big guns shutil rmtree"
   ]
  },
  {
   "cell_type": "code",
   "execution_count": 18,
   "id": "5b2690bf",
   "metadata": {},
   "outputs": [],
   "source": [
    "from shutil import rmtree\n",
    "\n",
    "rmtree(directory_to_delete)"
   ]
  }
 ],
 "metadata": {
  "kernelspec": {
   "display_name": "Python 3",
   "language": "python",
   "name": "python3"
  },
  "language_info": {
   "codemirror_mode": {
    "name": "ipython",
    "version": 3
   },
   "file_extension": ".py",
   "mimetype": "text/x-python",
   "name": "python",
   "nbconvert_exporter": "python",
   "pygments_lexer": "ipython3",
   "version": "3.9.12"
  }
 },
 "nbformat": 4,
 "nbformat_minor": 5
}
