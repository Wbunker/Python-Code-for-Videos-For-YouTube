{
 "cells": [
  {
   "cell_type": "code",
   "execution_count": 2,
   "id": "1496d853",
   "metadata": {},
   "outputs": [
    {
     "name": "stdout",
     "output_type": "stream",
     "text": [
      "[3, 5, 7, 8, 9, 3, 6]\n"
     ]
    }
   ],
   "source": [
    "nums = [1, 3, 1, \n",
    "        5, 7, 8, \n",
    "        9, 1, 3, \n",
    "        6, 1]\n",
    "\n",
    "nums = [x for x \n",
    "        in nums \n",
    "        if x != 1 ]\n",
    "print(nums)"
   ]
  },
  {
   "cell_type": "code",
   "execution_count": null,
   "id": "b8e8bd31",
   "metadata": {},
   "outputs": [],
   "source": []
  }
 ],
 "metadata": {
  "kernelspec": {
   "display_name": "3.11.1",
   "language": "python",
   "name": "3.11.1"
  },
  "language_info": {
   "codemirror_mode": {
    "name": "ipython",
    "version": 3
   },
   "file_extension": ".py",
   "mimetype": "text/x-python",
   "name": "python",
   "nbconvert_exporter": "python",
   "pygments_lexer": "ipython3",
   "version": "3.11.1"
  }
 },
 "nbformat": 4,
 "nbformat_minor": 5
}
