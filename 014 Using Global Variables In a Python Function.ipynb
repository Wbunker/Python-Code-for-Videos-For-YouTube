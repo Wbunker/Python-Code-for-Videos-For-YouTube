{
 "cells": [
  {
   "cell_type": "markdown",
   "id": "15f515c8",
   "metadata": {},
   "source": [
    "# Some Programmers Consider Using Globals as Going To the Dark Side\n",
    "\n",
    "### But sometimes they really, really help\n",
    "\n",
    "\n",
    "\n",
    "## The Basics"
   ]
  },
  {
   "cell_type": "code",
   "execution_count": 20,
   "id": "688cb36b",
   "metadata": {},
   "outputs": [
    {
     "name": "stdout",
     "output_type": "stream",
     "text": [
      "reading everywhere inside read_val: 1000\n"
     ]
    }
   ],
   "source": [
    "global everywhere\n",
    "everywhere = 1000\n",
    "\n",
    "\n",
    "\n",
    "# You have access to read the outer scope inside the function\n",
    "\n",
    "def read_val():\n",
    "    print(f\"reading everywhere inside read_val: {everywhere}\")\n",
    "    \n",
    "read_val()"
   ]
  },
  {
   "cell_type": "code",
   "execution_count": 21,
   "id": "843a5bb6",
   "metadata": {},
   "outputs": [
    {
     "name": "stdout",
     "output_type": "stream",
     "text": [
      "reading local version of everywhere: 50\n",
      "reading global everywhere: 1000\n"
     ]
    }
   ],
   "source": [
    "## If you set everwhere to a value inside the function it will create a local version\n",
    "\n",
    "def set_val():\n",
    "    everywhere = 50\n",
    "    print(f\"reading local version of everywhere: {everywhere}\")\n",
    "    \n",
    "set_val()\n",
    "\n",
    "print(f\"reading global everywhere: {everywhere}\")"
   ]
  },
  {
   "cell_type": "markdown",
   "id": "42ad3cee",
   "metadata": {},
   "source": [
    "## Use the keyword global to make it explicit you want the outer variable"
   ]
  },
  {
   "cell_type": "code",
   "execution_count": 23,
   "id": "601203cc",
   "metadata": {},
   "outputs": [
    {
     "name": "stdout",
     "output_type": "stream",
     "text": [
      "reading global version of everywhere inside set_val2: 50\n",
      "reading global everywhere: 50\n"
     ]
    }
   ],
   "source": [
    "def set_val2():\n",
    "    global everywhere\n",
    "    \n",
    "    everywhere = 50\n",
    "    print(f\"reading global version of everywhere inside set_val2: {everywhere}\")\n",
    "    \n",
    "set_val2()\n",
    "\n",
    "print(f\"reading global everywhere: {everywhere}\")"
   ]
  },
  {
   "cell_type": "code",
   "execution_count": null,
   "id": "c12a3de7",
   "metadata": {},
   "outputs": [],
   "source": []
  }
 ],
 "metadata": {
  "kernelspec": {
   "display_name": "Python 3",
   "language": "python",
   "name": "python3"
  },
  "language_info": {
   "codemirror_mode": {
    "name": "ipython",
    "version": 3
   },
   "file_extension": ".py",
   "mimetype": "text/x-python",
   "name": "python",
   "nbconvert_exporter": "python",
   "pygments_lexer": "ipython3",
   "version": "3.9.12"
  }
 },
 "nbformat": 4,
 "nbformat_minor": 5
}
