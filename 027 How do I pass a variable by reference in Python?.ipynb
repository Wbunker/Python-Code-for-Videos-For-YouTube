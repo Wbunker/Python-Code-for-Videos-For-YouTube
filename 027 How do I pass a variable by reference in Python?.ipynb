{
 "cells": [
  {
   "cell_type": "markdown",
   "id": "e79f0396",
   "metadata": {},
   "source": [
    "# Non-mutable variables are always passed by assignment\n",
    "\n",
    "## This means the value is copied into the local variable (parameter)"
   ]
  },
  {
   "cell_type": "code",
   "execution_count": 8,
   "id": "e5688b16",
   "metadata": {},
   "outputs": [
    {
     "name": "stdout",
     "output_type": "stream",
     "text": [
      "value of local x in add function: 15\n",
      "value of outer x: 5\n"
     ]
    }
   ],
   "source": [
    "def add(x, y):\n",
    "    x += y\n",
    "    print(f\"value of local x in add function: {x}\")\n",
    "    return x\n",
    "\n",
    "\n",
    "x = 5\n",
    "y = 10\n",
    "\n",
    "add(x, y)\n",
    "\n",
    "print(f\"value of outer x: {x}\")"
   ]
  },
  {
   "cell_type": "markdown",
   "id": "c19db31f",
   "metadata": {},
   "source": [
    "## Mutable objects are passed by reference, so internal values can be changed"
   ]
  },
  {
   "cell_type": "code",
   "execution_count": 5,
   "id": "a362f80c",
   "metadata": {},
   "outputs": [
    {
     "name": "stdout",
     "output_type": "stream",
     "text": [
      "15\n"
     ]
    }
   ],
   "source": [
    "\n",
    "def addDict(localDict):\n",
    "    localDict['x'] += localDict['y']\n",
    "    \n",
    "    \n",
    "myDict = {\n",
    "    'x': 5,\n",
    "    'y': 10\n",
    "}\n",
    "\n",
    "addDict(myDict)\n",
    "\n",
    "print(myDict['x'])\n",
    "\n"
   ]
  },
  {
   "cell_type": "markdown",
   "id": "1f2041f2",
   "metadata": {},
   "source": [
    "## Only other way (and not recommended since it is not thread safe) is a global"
   ]
  },
  {
   "cell_type": "code",
   "execution_count": 6,
   "id": "691a2dfa",
   "metadata": {},
   "outputs": [
    {
     "name": "stdout",
     "output_type": "stream",
     "text": [
      "value of global x in addGlobal function: 15\n",
      "15\n"
     ]
    }
   ],
   "source": [
    "def addGlobal():\n",
    "    global x, y\n",
    "    x += y\n",
    "    print(f\"value of global x in addGlobal function: {x}\")\n",
    "    return x\n",
    "\n",
    "\n",
    "x = 5\n",
    "y = 10\n",
    "\n",
    "addGlobal()\n",
    "\n",
    "print(x)"
   ]
  },
  {
   "cell_type": "markdown",
   "id": "9fba8373",
   "metadata": {},
   "source": [
    "You can get more detail by reading the docs\n",
    "\n",
    "https://docs.python.org/3/faq/programming.html#how-do-i-write-a-function-with-output-parameters-call-by-reference"
   ]
  },
  {
   "cell_type": "code",
   "execution_count": null,
   "id": "f64b1862",
   "metadata": {},
   "outputs": [],
   "source": []
  }
 ],
 "metadata": {
  "kernelspec": {
   "display_name": "Python 3",
   "language": "python",
   "name": "python3"
  },
  "language_info": {
   "codemirror_mode": {
    "name": "ipython",
    "version": 3
   },
   "file_extension": ".py",
   "mimetype": "text/x-python",
   "name": "python",
   "nbconvert_exporter": "python",
   "pygments_lexer": "ipython3",
   "version": "3.9.12"
  }
 },
 "nbformat": 4,
 "nbformat_minor": 5
}
