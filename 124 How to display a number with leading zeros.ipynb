{
 "cells": [
  {
   "cell_type": "markdown",
   "id": "7dee6704",
   "metadata": {},
   "source": [
    "# Can pad on the fly\n",
    "## Use :0#d"
   ]
  },
  {
   "cell_type": "code",
   "execution_count": 9,
   "id": "55aebb80",
   "metadata": {},
   "outputs": [
    {
     "name": "stdout",
     "output_type": "stream",
     "text": [
      "004 - 024 - 301\n",
      "0004 - 0024 - 0301\n"
     ]
    }
   ],
   "source": [
    "x = 4\n",
    "y = 24\n",
    "z = 301\n",
    "\n",
    "print(f\"{x:03d} - {y:03d} - {z:03d}\")\n",
    "print(f\"{x:04d} - {y:04d} - {z:04d}\")"
   ]
  },
  {
   "cell_type": "markdown",
   "id": "11e8aab6",
   "metadata": {},
   "source": [
    "# Use zfill if you need to store"
   ]
  },
  {
   "cell_type": "code",
   "execution_count": 11,
   "id": "d40181b9",
   "metadata": {},
   "outputs": [
    {
     "name": "stdout",
     "output_type": "stream",
     "text": [
      "004 024 332\n"
     ]
    }
   ],
   "source": [
    "x = str(4).zfill(3)\n",
    "y = str(24).zfill(3)\n",
    "z = str(332).zfill(3)\n",
    "\n",
    "print(x, y, z)"
   ]
  },
  {
   "cell_type": "code",
   "execution_count": null,
   "id": "a2ba3e10",
   "metadata": {},
   "outputs": [],
   "source": []
  }
 ],
 "metadata": {
  "kernelspec": {
   "display_name": "Python 3 (ipykernel)",
   "language": "python",
   "name": "python3"
  },
  "language_info": {
   "codemirror_mode": {
    "name": "ipython",
    "version": 3
   },
   "file_extension": ".py",
   "mimetype": "text/x-python",
   "name": "python",
   "nbconvert_exporter": "python",
   "pygments_lexer": "ipython3",
   "version": "3.9.7"
  }
 },
 "nbformat": 4,
 "nbformat_minor": 5
}
