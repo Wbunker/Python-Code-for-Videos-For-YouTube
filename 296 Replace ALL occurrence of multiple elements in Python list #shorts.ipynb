{
 "cells": [
  {
   "cell_type": "code",
   "execution_count": 2,
   "id": "c46533f8",
   "metadata": {},
   "outputs": [
    {
     "name": "stdout",
     "output_type": "stream",
     "text": [
      "[10, 2, 3, 4, 50, 10, 2, 3, 4, 50, 10]\n"
     ]
    }
   ],
   "source": [
    "l1 = [1,2,3,\n",
    "     4,5,1,\n",
    "     2,3,4,\n",
    "     5,1]\n",
    "r = {1:10, \n",
    "    5:50}\n",
    "\n",
    "l2 = [r.get(n,n) \n",
    "      for n in l1]\n",
    "print(l2)"
   ]
  },
  {
   "cell_type": "code",
   "execution_count": null,
   "id": "9779decb",
   "metadata": {},
   "outputs": [],
   "source": []
  }
 ],
 "metadata": {
  "kernelspec": {
   "display_name": "3.11.1",
   "language": "python",
   "name": "3.11.1"
  },
  "language_info": {
   "codemirror_mode": {
    "name": "ipython",
    "version": 3
   },
   "file_extension": ".py",
   "mimetype": "text/x-python",
   "name": "python",
   "nbconvert_exporter": "python",
   "pygments_lexer": "ipython3",
   "version": "3.11.1"
  }
 },
 "nbformat": 4,
 "nbformat_minor": 5
}
