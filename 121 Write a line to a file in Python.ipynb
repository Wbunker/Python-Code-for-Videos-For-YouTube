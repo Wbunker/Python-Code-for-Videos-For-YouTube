{
 "cells": [
  {
   "cell_type": "markdown",
   "id": "e2c5df72",
   "metadata": {},
   "source": [
    "# Modern Python - with open"
   ]
  },
  {
   "cell_type": "code",
   "execution_count": 4,
   "id": "c2f3be13",
   "metadata": {},
   "outputs": [],
   "source": [
    "# You can append/create with 'a'\n",
    "# or overwrite/create with 'w'\n",
    "\n",
    "with open('data/test.txt', 'a') as file:\n",
    "    file.write('Very important info.\\n')"
   ]
  },
  {
   "cell_type": "code",
   "execution_count": null,
   "id": "71ac26ff",
   "metadata": {},
   "outputs": [],
   "source": []
  }
 ],
 "metadata": {
  "kernelspec": {
   "display_name": "Python 3 (ipykernel)",
   "language": "python",
   "name": "python3"
  },
  "language_info": {
   "codemirror_mode": {
    "name": "ipython",
    "version": 3
   },
   "file_extension": ".py",
   "mimetype": "text/x-python",
   "name": "python",
   "nbconvert_exporter": "python",
   "pygments_lexer": "ipython3",
   "version": "3.9.7"
  }
 },
 "nbformat": 4,
 "nbformat_minor": 5
}
