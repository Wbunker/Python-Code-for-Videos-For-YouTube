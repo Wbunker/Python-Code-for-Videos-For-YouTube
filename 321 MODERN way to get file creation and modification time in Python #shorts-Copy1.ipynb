{
 "cells": [
  {
   "cell_type": "code",
   "execution_count": 25,
   "id": "8400ad41",
   "metadata": {},
   "outputs": [
    {
     "name": "stdout",
     "output_type": "stream",
     "text": [
      "os.stat_result(st_mode=33188, st_ino=46525239, st_dev=16777234, st_nlink=1, st_uid=501, st_gid=20, st_size=31, st_atime=1673973908, st_mtime=1672336558, st_ctime=1672336558)\n",
      "2022-12-29 11:55:58.559610 2022-12-29 11:55:58.559610\n"
     ]
    }
   ],
   "source": [
    "from pathlib import Path\n",
    "from datetime import datetime\n",
    "\n",
    "s = Path('test.txt').stat()\n",
    "print(s)\n",
    "\n",
    "mt = datetime.fromtimestamp(s.st_mtime)\n",
    "ct = datetime.fromtimestamp(s.st_ctime)\n",
    "print(mt,ct)"
   ]
  },
  {
   "cell_type": "code",
   "execution_count": null,
   "id": "965f6784",
   "metadata": {},
   "outputs": [],
   "source": []
  }
 ],
 "metadata": {
  "kernelspec": {
   "display_name": "3.11.1",
   "language": "python",
   "name": "3.11.1"
  },
  "language_info": {
   "codemirror_mode": {
    "name": "ipython",
    "version": 3
   },
   "file_extension": ".py",
   "mimetype": "text/x-python",
   "name": "python",
   "nbconvert_exporter": "python",
   "pygments_lexer": "ipython3",
   "version": "3.11.1"
  }
 },
 "nbformat": 4,
 "nbformat_minor": 5
}
