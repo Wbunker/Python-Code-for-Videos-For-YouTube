{
 "cells": [
  {
   "cell_type": "markdown",
   "id": "e944499b",
   "metadata": {},
   "source": [
    "# 2 Principles at play that point to the Pythonic solution\n",
    "\n",
    "## 1. Duck typing  \n",
    "  Does the object behave like an iterable?\n",
    "  \n",
    "## 2. EAFP (Easier to Ask Forgiveness than Permission"
   ]
  },
  {
   "cell_type": "code",
   "execution_count": 3,
   "id": "6cf87769",
   "metadata": {},
   "outputs": [
    {
     "name": "stdout",
     "output_type": "stream",
     "text": [
      "True\n",
      "True\n",
      "True\n"
     ]
    }
   ],
   "source": [
    "def is_iterable(obj):\n",
    "    \n",
    "    try:\n",
    "        iter(obj)\n",
    "        return True\n",
    "    except TypeError:\n",
    "        return False\n",
    "    \n",
    "    \n",
    "x = ['5', '6', '7']\n",
    "y = set([5, 3, 4])\n",
    "z = \"A plain old string\"\n",
    "\n",
    "print(is_iterable(x))\n",
    "print(is_iterable(y))\n",
    "print(is_iterable(z))"
   ]
  },
  {
   "cell_type": "code",
   "execution_count": null,
   "id": "0f3f8661",
   "metadata": {},
   "outputs": [],
   "source": []
  }
 ],
 "metadata": {
  "kernelspec": {
   "display_name": "3.10",
   "language": "python",
   "name": "python3.10"
  },
  "language_info": {
   "codemirror_mode": {
    "name": "ipython",
    "version": 3
   },
   "file_extension": ".py",
   "mimetype": "text/x-python",
   "name": "python",
   "nbconvert_exporter": "python",
   "pygments_lexer": "ipython3",
   "version": "3.10.7"
  }
 },
 "nbformat": 4,
 "nbformat_minor": 5
}
