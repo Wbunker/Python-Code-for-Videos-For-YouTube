{
 "cells": [
  {
   "cell_type": "code",
   "execution_count": 5,
   "id": "d0c20ac1",
   "metadata": {},
   "outputs": [
    {
     "name": "stdout",
     "output_type": "stream",
     "text": [
      "7\n"
     ]
    }
   ],
   "source": [
    "from random import randint\n",
    "\n",
    "l1 = [randint(1, 100) \n",
    "        for _ in \n",
    "        range(1000)]\n",
    "\n",
    "print(l1.count(25))"
   ]
  },
  {
   "cell_type": "code",
   "execution_count": 6,
   "id": "278560aa",
   "metadata": {},
   "outputs": [
    {
     "name": "stdout",
     "output_type": "stream",
     "text": [
      "Counter({35: 17, 7: 17, 77: 16, 32: 16, 29: 15, 23: 15, 50: 15, 91: 15, 72: 15, 39: 14, 5: 14, 87: 14, 15: 14, 73: 13, 68: 13, 47: 13, 45: 13, 90: 12, 6: 12, 93: 12, 63: 12, 9: 12, 22: 12, 38: 12, 89: 12, 51: 12, 74: 12, 13: 11, 17: 11, 60: 11, 54: 11, 79: 11, 41: 11, 86: 11, 4: 11, 65: 11, 20: 11, 88: 11, 10: 10, 67: 10, 46: 10, 64: 10, 24: 10, 27: 10, 94: 10, 42: 10, 69: 10, 57: 10, 19: 10, 48: 10, 30: 10, 76: 10, 85: 10, 100: 10, 92: 10, 81: 10, 84: 9, 11: 9, 49: 9, 75: 9, 61: 9, 82: 9, 8: 9, 12: 9, 31: 9, 78: 9, 43: 9, 3: 9, 59: 9, 2: 9, 53: 9, 40: 9, 58: 9, 66: 8, 62: 8, 70: 8, 44: 8, 33: 8, 18: 8, 83: 8, 26: 8, 95: 8, 98: 8, 25: 7, 55: 7, 21: 7, 99: 7, 16: 6, 37: 6, 36: 6, 96: 6, 34: 6, 28: 6, 52: 6, 71: 5, 56: 5, 97: 5, 14: 5, 80: 5, 1: 2})\n",
      "9\n"
     ]
    }
   ],
   "source": [
    "from collections import Counter\n",
    "\n",
    "list_count = Counter(l1)\n",
    "\n",
    "print(list_count)\n",
    "print(list_count[40])"
   ]
  },
  {
   "cell_type": "code",
   "execution_count": null,
   "id": "700a4213",
   "metadata": {},
   "outputs": [],
   "source": []
  }
 ],
 "metadata": {
  "kernelspec": {
   "display_name": "Python 3 (ipykernel)",
   "language": "python",
   "name": "python3"
  },
  "language_info": {
   "codemirror_mode": {
    "name": "ipython",
    "version": 3
   },
   "file_extension": ".py",
   "mimetype": "text/x-python",
   "name": "python",
   "nbconvert_exporter": "python",
   "pygments_lexer": "ipython3",
   "version": "3.9.7"
  }
 },
 "nbformat": 4,
 "nbformat_minor": 5
}
