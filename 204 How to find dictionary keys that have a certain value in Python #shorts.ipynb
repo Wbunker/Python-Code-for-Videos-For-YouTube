{
 "cells": [
  {
   "cell_type": "code",
   "execution_count": 2,
   "id": "794c20c0",
   "metadata": {},
   "outputs": [
    {
     "name": "stdout",
     "output_type": "stream",
     "text": [
      "['Bob', 'Eva']\n"
     ]
    }
   ],
   "source": [
    "names = {\n",
    "    \"Jill\": 20,\n",
    "    \"Bob\": 18,\n",
    "    \"Jerry\": 30,\n",
    "    \"Eva\": 18\n",
    "}\n",
    "\n",
    "grads = [name \n",
    "         for name, age\n",
    "         in names.items()\n",
    "         if age == 18]\n",
    "\n",
    "print(grads)"
   ]
  },
  {
   "cell_type": "code",
   "execution_count": null,
   "id": "18e56337",
   "metadata": {},
   "outputs": [],
   "source": []
  }
 ],
 "metadata": {
  "kernelspec": {
   "display_name": "Python 3 (ipykernel)",
   "language": "python",
   "name": "python3"
  },
  "language_info": {
   "codemirror_mode": {
    "name": "ipython",
    "version": 3
   },
   "file_extension": ".py",
   "mimetype": "text/x-python",
   "name": "python",
   "nbconvert_exporter": "python",
   "pygments_lexer": "ipython3",
   "version": "3.9.7"
  }
 },
 "nbformat": 4,
 "nbformat_minor": 5
}
