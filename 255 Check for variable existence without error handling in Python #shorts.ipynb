{
 "cells": [
  {
   "cell_type": "code",
   "execution_count": 5,
   "id": "eb27b5eb",
   "metadata": {},
   "outputs": [
    {
     "name": "stdout",
     "output_type": "stream",
     "text": [
      "no x\n"
     ]
    }
   ],
   "source": [
    "\n",
    "if 'x' in locals() or \\\n",
    "   'x' in globals():\n",
    "    print(x)\n",
    "else:\n",
    "    print('no x')"
   ]
  },
  {
   "cell_type": "code",
   "execution_count": null,
   "id": "73319f4d",
   "metadata": {},
   "outputs": [],
   "source": []
  }
 ],
 "metadata": {
  "kernelspec": {
   "display_name": "3.11.1",
   "language": "python",
   "name": "3.11.1"
  },
  "language_info": {
   "codemirror_mode": {
    "name": "ipython",
    "version": 3
   },
   "file_extension": ".py",
   "mimetype": "text/x-python",
   "name": "python",
   "nbconvert_exporter": "python",
   "pygments_lexer": "ipython3",
   "version": "3.11.1"
  }
 },
 "nbformat": 4,
 "nbformat_minor": 5
}
