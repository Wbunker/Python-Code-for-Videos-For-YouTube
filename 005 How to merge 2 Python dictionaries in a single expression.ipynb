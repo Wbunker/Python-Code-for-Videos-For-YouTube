{
 "cells": [
  {
   "cell_type": "markdown",
   "id": "7516d6b7",
   "metadata": {},
   "source": [
    "# Old school vs New School\n",
    "\n",
    "## Older school - Python 3.5 or greater\n",
    "\n",
    "use ** the unpack operator"
   ]
  },
  {
   "cell_type": "code",
   "execution_count": 1,
   "id": "232b801a",
   "metadata": {},
   "outputs": [
    {
     "name": "stdout",
     "output_type": "stream",
     "text": [
      "{'a': 1, 'b': 3, 'c': 4}\n",
      "{'b': 2, 'c': 4, 'a': 1}\n"
     ]
    }
   ],
   "source": [
    "x = {'a': 1, 'b': 2}\n",
    "y = {'b': 3, 'c': 4}\n",
    "\n",
    "\n",
    "print({**x, **y})\n",
    "\n",
    "print({**y, **x})"
   ]
  },
  {
   "cell_type": "markdown",
   "id": "7a9df509",
   "metadata": {},
   "source": [
    "## New New School - Python 3.9\n",
    "\n",
    "| is a merge operator"
   ]
  },
  {
   "cell_type": "code",
   "execution_count": 2,
   "id": "43755ef0",
   "metadata": {},
   "outputs": [
    {
     "name": "stdout",
     "output_type": "stream",
     "text": [
      "{'a': 1, 'b': 3, 'c': 4}\n",
      "{'b': 2, 'c': 4, 'a': 1}\n"
     ]
    }
   ],
   "source": [
    "print( x | y)\n",
    "\n",
    "print( y | x)"
   ]
  },
  {
   "cell_type": "markdown",
   "id": "3db735d2",
   "metadata": {},
   "source": [
    "## Old Old School\n",
    "### Use dictionary update but it replaces the original"
   ]
  },
  {
   "cell_type": "code",
   "execution_count": 3,
   "id": "39ab7977",
   "metadata": {},
   "outputs": [
    {
     "name": "stdout",
     "output_type": "stream",
     "text": [
      "{'a': 1, 'b': 3, 'c': 4}\n"
     ]
    }
   ],
   "source": [
    "new_dict = x.copy()\n",
    "new_dict.update(y)\n",
    "print(new_dict)"
   ]
  },
  {
   "cell_type": "code",
   "execution_count": null,
   "id": "5b3a3b64",
   "metadata": {},
   "outputs": [],
   "source": []
  }
 ],
 "metadata": {
  "kernelspec": {
   "display_name": "Python 3 (ipykernel)",
   "language": "python",
   "name": "python3"
  },
  "language_info": {
   "codemirror_mode": {
    "name": "ipython",
    "version": 3
   },
   "file_extension": ".py",
   "mimetype": "text/x-python",
   "name": "python",
   "nbconvert_exporter": "python",
   "pygments_lexer": "ipython3",
   "version": "3.9.7"
  }
 },
 "nbformat": 4,
 "nbformat_minor": 5
}
