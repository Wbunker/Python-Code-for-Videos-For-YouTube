{
 "cells": [
  {
   "cell_type": "code",
   "execution_count": 6,
   "id": "c1d0ee56",
   "metadata": {},
   "outputs": [
    {
     "name": "stdout",
     "output_type": "stream",
     "text": [
      "Hallo Will from package\n"
     ]
    }
   ],
   "source": [
    "import sys\n",
    "\n",
    "p = \"/Users/willbunker/python_content/other_library\"\n",
    "sys.path.append(p)\n",
    "\n",
    "# from my_package.language.greetings import german\n",
    "import mypack.language.greetings\n",
    "\n",
    "print(german(\"Will\"))"
   ]
  },
  {
   "cell_type": "code",
   "execution_count": null,
   "id": "73561af8",
   "metadata": {},
   "outputs": [],
   "source": []
  }
 ],
 "metadata": {
  "kernelspec": {
   "display_name": "3.11.1",
   "language": "python",
   "name": "3.11.1"
  },
  "language_info": {
   "codemirror_mode": {
    "name": "ipython",
    "version": 3
   },
   "file_extension": ".py",
   "mimetype": "text/x-python",
   "name": "python",
   "nbconvert_exporter": "python",
   "pygments_lexer": "ipython3",
   "version": "3.11.1"
  }
 },
 "nbformat": 4,
 "nbformat_minor": 5
}
