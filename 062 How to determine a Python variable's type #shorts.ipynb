{
 "cells": [
  {
   "cell_type": "code",
   "execution_count": 4,
   "id": "1a275898",
   "metadata": {},
   "outputs": [
    {
     "name": "stdout",
     "output_type": "stream",
     "text": [
      "True\n",
      "var2: <class 'str'>\n",
      "var3: <class 'pathlib.PosixPath'>\n"
     ]
    }
   ],
   "source": [
    "from pathlib import Path\n",
    "\n",
    "var1 = 25.888\n",
    "var2 = \"Something clever\"\n",
    "var3 = Path('afile.txt')\n",
    "\n",
    "print(type(var1) == float)\n",
    "print(f\"var2: {type(var2)}\")\n",
    "print(f\"var3: {type(var3)}\")"
   ]
  },
  {
   "cell_type": "code",
   "execution_count": 3,
   "id": "ad6b6325",
   "metadata": {},
   "outputs": [
    {
     "name": "stdout",
     "output_type": "stream",
     "text": [
      "True\n",
      "False\n",
      "True\n"
     ]
    }
   ],
   "source": [
    "class Animal:\n",
    "    pass\n",
    "class Dog(Animal):\n",
    "    pass\n",
    "myDog = Dog()\n",
    "\n",
    "print(type(myDog) == Dog)\n",
    "print(type(myDog) == Animal)\n",
    "print(isinstance(myDog, Animal))"
   ]
  },
  {
   "cell_type": "code",
   "execution_count": null,
   "id": "29da4e3b",
   "metadata": {},
   "outputs": [],
   "source": []
  }
 ],
 "metadata": {
  "kernelspec": {
   "display_name": "Python 3 (ipykernel)",
   "language": "python",
   "name": "python3"
  },
  "language_info": {
   "codemirror_mode": {
    "name": "ipython",
    "version": 3
   },
   "file_extension": ".py",
   "mimetype": "text/x-python",
   "name": "python",
   "nbconvert_exporter": "python",
   "pygments_lexer": "ipython3",
   "version": "3.9.7"
  }
 },
 "nbformat": 4,
 "nbformat_minor": 5
}
