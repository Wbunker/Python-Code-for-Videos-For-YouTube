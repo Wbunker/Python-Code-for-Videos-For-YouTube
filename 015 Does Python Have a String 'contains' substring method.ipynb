{
 "cells": [
  {
   "cell_type": "markdown",
   "id": "acb48c9e",
   "metadata": {},
   "source": [
    "# First I will show you the PYTHONIC way\n",
    "\n",
    "## Use the force, Luke"
   ]
  },
  {
   "cell_type": "code",
   "execution_count": 2,
   "id": "2519ecf0",
   "metadata": {},
   "outputs": [
    {
     "name": "stdout",
     "output_type": "stream",
     "text": [
      "He is talking to Luke Skywalker\n"
     ]
    }
   ],
   "source": [
    "phrase = \"Use the force Luke\"\n",
    "\n",
    "\n",
    "\n",
    "if \"Luke\" in phrase:\n",
    "    print(\"He is talking to Luke Skywalker\")"
   ]
  },
  {
   "cell_type": "markdown",
   "id": "43366037",
   "metadata": {},
   "source": [
    "## You can search for the absence of a string with not"
   ]
  },
  {
   "cell_type": "code",
   "execution_count": 3,
   "id": "66ecd4d7",
   "metadata": {},
   "outputs": [
    {
     "name": "stdout",
     "output_type": "stream",
     "text": [
      "Darth isn't mentioned\n"
     ]
    }
   ],
   "source": [
    "if \"Darth\" not in phrase:\n",
    "    print(\"Darth isn't mentioned\")"
   ]
  },
  {
   "cell_type": "markdown",
   "id": "ac7b554c",
   "metadata": {},
   "source": [
    "## The non Pythonic Way\n",
    "\n",
    "### Don't do this"
   ]
  },
  {
   "cell_type": "code",
   "execution_count": 4,
   "id": "b9984194",
   "metadata": {},
   "outputs": [
    {
     "name": "stdout",
     "output_type": "stream",
     "text": [
      "I'm new to Python but I found Luke anyway\n"
     ]
    }
   ],
   "source": [
    "if phrase.find(\"Luke\") > -1:\n",
    "    print(\"I'm new to Python but I found Luke anyway\")"
   ]
  },
  {
   "cell_type": "code",
   "execution_count": 5,
   "id": "e10c3a89",
   "metadata": {},
   "outputs": [
    {
     "name": "stdout",
     "output_type": "stream",
     "text": [
      "There is no Vader\n"
     ]
    }
   ],
   "source": [
    "if phrase.find(\"Darth\") == -1:\n",
    "    print(\"There is no Vader\")"
   ]
  },
  {
   "cell_type": "code",
   "execution_count": 6,
   "id": "6ce642f1",
   "metadata": {},
   "outputs": [
    {
     "name": "stdout",
     "output_type": "stream",
     "text": [
      "another bad way of doing it\n"
     ]
    }
   ],
   "source": [
    "if phrase.index(\"Luke\"):\n",
    "    print(\"another bad way of doing it\")"
   ]
  },
  {
   "cell_type": "code",
   "execution_count": 3,
   "id": "cf7b4140",
   "metadata": {},
   "outputs": [
    {
     "ename": "ValueError",
     "evalue": "substring not found",
     "output_type": "error",
     "traceback": [
      "\u001b[0;31m---------------------------------------------------------------------------\u001b[0m",
      "\u001b[0;31mValueError\u001b[0m                                Traceback (most recent call last)",
      "Input \u001b[0;32mIn [3]\u001b[0m, in \u001b[0;36m<cell line: 1>\u001b[0;34m()\u001b[0m\n\u001b[0;32m----> 1\u001b[0m \u001b[38;5;28;01mif\u001b[39;00m \u001b[43mphrase\u001b[49m\u001b[38;5;241;43m.\u001b[39;49m\u001b[43mindex\u001b[49m\u001b[43m(\u001b[49m\u001b[38;5;124;43m\"\u001b[39;49m\u001b[38;5;124;43mVader\u001b[39;49m\u001b[38;5;124;43m\"\u001b[39;49m\u001b[43m)\u001b[49m:\n\u001b[1;32m      2\u001b[0m     \u001b[38;5;28mprint\u001b[39m(\u001b[38;5;124m\"\u001b[39m\u001b[38;5;124mThis won\u001b[39m\u001b[38;5;124m'\u001b[39m\u001b[38;5;124mt work\u001b[39m\u001b[38;5;124m\"\u001b[39m)\n",
      "\u001b[0;31mValueError\u001b[0m: substring not found"
     ]
    }
   ],
   "source": [
    "if phrase.index(\"Vader\"):\n",
    "    print(\"This won't work\")"
   ]
  },
  {
   "cell_type": "code",
   "execution_count": null,
   "id": "ba7030b2",
   "metadata": {},
   "outputs": [],
   "source": []
  }
 ],
 "metadata": {
  "kernelspec": {
   "display_name": "Python 3 (ipykernel)",
   "language": "python",
   "name": "python3"
  },
  "language_info": {
   "codemirror_mode": {
    "name": "ipython",
    "version": 3
   },
   "file_extension": ".py",
   "mimetype": "text/x-python",
   "name": "python",
   "nbconvert_exporter": "python",
   "pygments_lexer": "ipython3",
   "version": "3.9.12"
  }
 },
 "nbformat": 4,
 "nbformat_minor": 5
}
