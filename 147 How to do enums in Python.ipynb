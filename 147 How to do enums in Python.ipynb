{
 "cells": [
  {
   "cell_type": "code",
   "execution_count": 6,
   "id": "de14a61c",
   "metadata": {},
   "outputs": [
    {
     "name": "stdout",
     "output_type": "stream",
     "text": [
      "Hello there\n",
      "Hello there again\n"
     ]
    }
   ],
   "source": [
    "from enum import Enum\n",
    "\n",
    "Languages = Enum('Languages', \n",
    "\"\"\"Spanish English German French \n",
    "Chinese Russian Portuguese\"\"\")\n",
    "\n",
    "my_language = 'English'\n",
    "if (Languages[my_language] == \n",
    "    Languages.English):\n",
    "    print('Hello there')\n",
    "    \n",
    "if (my_language == \n",
    "    Languages.English.name):\n",
    "    print('Hello there again')"
   ]
  },
  {
   "cell_type": "code",
   "execution_count": 10,
   "id": "e809db5a",
   "metadata": {},
   "outputs": [
    {
     "name": "stdout",
     "output_type": "stream",
     "text": [
      "5\n",
      "FRIDAY\n"
     ]
    }
   ],
   "source": [
    "class Weekday(Enum):\n",
    "    MONDAY = 1\n",
    "    TUESDAY = 2\n",
    "    WEDNESDAY = 3\n",
    "    THURSDAY = 4\n",
    "    FRIDAY = 5\n",
    "    SATURDAY = 6\n",
    "    SUNDAY = 7\n",
    "    \n",
    "print(Weekday.FRIDAY.value)\n",
    "print(Weekday.FRIDAY.name)"
   ]
  },
  {
   "cell_type": "code",
   "execution_count": null,
   "id": "6dc636a7",
   "metadata": {},
   "outputs": [],
   "source": []
  }
 ],
 "metadata": {
  "kernelspec": {
   "display_name": "Python 3 (ipykernel)",
   "language": "python",
   "name": "python3"
  },
  "language_info": {
   "codemirror_mode": {
    "name": "ipython",
    "version": 3
   },
   "file_extension": ".py",
   "mimetype": "text/x-python",
   "name": "python",
   "nbconvert_exporter": "python",
   "pygments_lexer": "ipython3",
   "version": "3.9.7"
  }
 },
 "nbformat": 4,
 "nbformat_minor": 5
}
