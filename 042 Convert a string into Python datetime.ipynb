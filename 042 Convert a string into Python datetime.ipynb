{
 "cells": [
  {
   "cell_type": "markdown",
   "id": "4213878d",
   "metadata": {},
   "source": [
    "# Use built in datetime module strptime\n",
    "\n",
    "### Think string parse time\n",
    "\n",
    "Documentation is helpful\n",
    "https://docs.python.org/3/library/datetime.html#strftime-and-strptime-behavior"
   ]
  },
  {
   "cell_type": "code",
   "execution_count": 7,
   "id": "d9ce5ef7",
   "metadata": {},
   "outputs": [
    {
     "name": "stdout",
     "output_type": "stream",
     "text": [
      "datetime.datetime(2022, 9, 3, 1, 44)\n"
     ]
    }
   ],
   "source": [
    "from datetime import datetime\n",
    "\n",
    "\n",
    "\n",
    "date_string = \"Sep 3 2022 1:44AM\"\n",
    "\n",
    "my_date = datetime.strptime(date_string, \"%b %d %Y %I:%M%p\")\n",
    "\n",
    "print(repr(my_date))"
   ]
  },
  {
   "cell_type": "markdown",
   "id": "9499c9e4",
   "metadata": {},
   "source": [
    "## What if the format varies?\n",
    "\n",
    "I have had this when scraping different sites"
   ]
  },
  {
   "cell_type": "code",
   "execution_count": 8,
   "id": "d1849f9d",
   "metadata": {},
   "outputs": [],
   "source": [
    "def parse_date(date_string):\n",
    "    # if we are past the end_date, ignore this game\n",
    "    formats_to_parse = ['%b %d, %Y', '%Y-%m-%d',  '%B %d, %Y', '%m/%d/%y', '%m/%d/%Y']\n",
    "    date_parsed = None\n",
    "    for date_format in formats_to_parse:\n",
    "        try:\n",
    "            date_parsed = datetime.strptime(date_string, date_format)\n",
    "            break\n",
    "        except ValueError:\n",
    "            pass\n",
    "\n",
    "    return date_parsed"
   ]
  }
 ],
 "metadata": {
  "kernelspec": {
   "display_name": "Python 3 (ipykernel)",
   "language": "python",
   "name": "python3"
  },
  "language_info": {
   "codemirror_mode": {
    "name": "ipython",
    "version": 3
   },
   "file_extension": ".py",
   "mimetype": "text/x-python",
   "name": "python",
   "nbconvert_exporter": "python",
   "pygments_lexer": "ipython3",
   "version": "3.9.12"
  }
 },
 "nbformat": 4,
 "nbformat_minor": 5
}
