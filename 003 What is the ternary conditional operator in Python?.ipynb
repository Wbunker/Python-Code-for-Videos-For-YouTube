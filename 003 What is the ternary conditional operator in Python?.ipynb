{
 "cells": [
  {
   "cell_type": "markdown",
   "id": "3c9cb12a",
   "metadata": {},
   "source": [
    "# What does ternary even mean?\n",
    "\n",
    "Composed of three parts\n",
    "\n",
    "## How do other languages use this?\n",
    "\n",
    "x = (conditional) ? True : False\n",
    "\n",
    "## You see it some in Python but not as common as other languages"
   ]
  },
  {
   "cell_type": "code",
   "execution_count": 1,
   "id": "b7b8fd99",
   "metadata": {},
   "outputs": [
    {
     "name": "stdout",
     "output_type": "stream",
     "text": [
      "['Buzz', 'Fizz', 'Buzz', 'Buzz', 'Fizz', 'Buzz']\n"
     ]
    }
   ],
   "source": [
    "# the long way\n",
    "\n",
    "fizz_buzz = []\n",
    "numbers = [5, 15, 23, 25, 27, 77]\n",
    "\n",
    "for number in numbers:\n",
    "    if number % 3 == 0:\n",
    "        fizz_buzz.append('Fizz')\n",
    "    else:\n",
    "        fizz_buzz.append('Buzz')\n",
    "\n",
    "print(fizz_buzz)"
   ]
  },
  {
   "cell_type": "code",
   "execution_count": 2,
   "id": "634f8fcb",
   "metadata": {},
   "outputs": [
    {
     "name": "stdout",
     "output_type": "stream",
     "text": [
      "['Buzz', 'Fizz', 'Buzz', 'Buzz', 'Fizz', 'Buzz']\n"
     ]
    }
   ],
   "source": [
    "\n",
    "fizz_buzz = ['Fizz' if number % 3 == 0 else 'Buzz' for number in numbers]\n",
    "\n",
    "print(fizz_buzz)"
   ]
  },
  {
   "cell_type": "code",
   "execution_count": null,
   "id": "880f3cca",
   "metadata": {},
   "outputs": [],
   "source": []
  }
 ],
 "metadata": {
  "kernelspec": {
   "display_name": "Python 3 (ipykernel)",
   "language": "python",
   "name": "python3"
  },
  "language_info": {
   "codemirror_mode": {
    "name": "ipython",
    "version": 3
   },
   "file_extension": ".py",
   "mimetype": "text/x-python",
   "name": "python",
   "nbconvert_exporter": "python",
   "pygments_lexer": "ipython3",
   "version": "3.9.7"
  }
 },
 "nbformat": 4,
 "nbformat_minor": 5
}
