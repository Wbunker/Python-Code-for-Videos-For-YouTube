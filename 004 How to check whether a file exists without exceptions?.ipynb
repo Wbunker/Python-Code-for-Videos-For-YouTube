{
 "cells": [
  {
   "cell_type": "markdown",
   "id": "154f2268",
   "metadata": {},
   "source": [
    "# It is the wrong question\n",
    "\n",
    "But we will answer it first\n",
    "\n",
    "Then I'll show you the pythonic way of doing it"
   ]
  },
  {
   "cell_type": "code",
   "execution_count": 2,
   "id": "dc91e60f",
   "metadata": {},
   "outputs": [
    {
     "name": "stdout",
     "output_type": "stream",
     "text": [
      "True\n",
      "False\n"
     ]
    }
   ],
   "source": [
    "import os\n",
    "\n",
    "\n",
    "print(os.path.exists('data/file_that_exists.txt'))\n",
    "\n",
    "print(os.path.exists('data/file_that_is_not_there.txt'))\n"
   ]
  },
  {
   "cell_type": "code",
   "execution_count": 3,
   "id": "df59985e",
   "metadata": {},
   "outputs": [
    {
     "name": "stdout",
     "output_type": "stream",
     "text": [
      "True\n"
     ]
    }
   ],
   "source": [
    "# but it will also give true for directory\n",
    "\n",
    "print(os.path.exists('data'))"
   ]
  },
  {
   "cell_type": "code",
   "execution_count": 4,
   "id": "75bad1e9",
   "metadata": {},
   "outputs": [
    {
     "name": "stdout",
     "output_type": "stream",
     "text": [
      "True\n",
      "False\n",
      "True\n"
     ]
    }
   ],
   "source": [
    "# you can test for files and directories more specifically\n",
    "print(os.path.isfile('data/file_that_exists.txt'))\n",
    "\n",
    "print(os.path.isfile('data'))\n",
    "\n",
    "print(os.path.isdir('data'))"
   ]
  },
  {
   "cell_type": "code",
   "execution_count": 5,
   "id": "38d8f73b",
   "metadata": {},
   "outputs": [
    {
     "name": "stdout",
     "output_type": "stream",
     "text": [
      "True\n"
     ]
    },
    {
     "ename": "PermissionError",
     "evalue": "[Errno 13] Permission denied: 'data/cant_touch_this.txt'",
     "output_type": "error",
     "traceback": [
      "\u001b[0;31m---------------------------------------------------------------------------\u001b[0m",
      "\u001b[0;31mPermissionError\u001b[0m                           Traceback (most recent call last)",
      "\u001b[0;32m/var/folders/s1/81q8t5412xl07zy5lx6kl45h0000gn/T/ipykernel_45553/3913510889.py\u001b[0m in \u001b[0;36m<module>\u001b[0;34m\u001b[0m\n\u001b[1;32m      4\u001b[0m \u001b[0;34m\u001b[0m\u001b[0m\n\u001b[1;32m      5\u001b[0m \u001b[0;34m\u001b[0m\u001b[0m\n\u001b[0;32m----> 6\u001b[0;31m \u001b[0mopen\u001b[0m\u001b[0;34m(\u001b[0m\u001b[0;34m'data/cant_touch_this.txt'\u001b[0m\u001b[0;34m)\u001b[0m\u001b[0;34m\u001b[0m\u001b[0;34m\u001b[0m\u001b[0m\n\u001b[0m",
      "\u001b[0;31mPermissionError\u001b[0m: [Errno 13] Permission denied: 'data/cant_touch_this.txt'"
     ]
    }
   ],
   "source": [
    "# won't help you if you can't read the file\n",
    "\n",
    "print(os.path.isfile('data/cant_touch_this.txt'))\n",
    "\n",
    "\n",
    "open('data/cant_touch_this.txt')"
   ]
  },
  {
   "cell_type": "code",
   "execution_count": 6,
   "id": "88322fc1",
   "metadata": {},
   "outputs": [
    {
     "name": "stdout",
     "output_type": "stream",
     "text": [
      "True\n",
      "False\n"
     ]
    }
   ],
   "source": [
    "# access to the rescue\n",
    "\n",
    "print(os.access('data/file_that_exists.txt', os.R_OK))\n",
    "\n",
    "print(os.access('data/cant_touch_this.txt', os.R_OK))"
   ]
  },
  {
   "cell_type": "code",
   "execution_count": 7,
   "id": "cf5c53b3",
   "metadata": {},
   "outputs": [
    {
     "name": "stdout",
     "output_type": "stream",
     "text": [
      "True\n",
      "False\n",
      "True\n"
     ]
    }
   ],
   "source": [
    "# if that wasn't bad enough there is a newer library pathlib\n",
    "# introduced in Python 3.4\n",
    "from pathlib import Path\n",
    "\n",
    "good_file_path = Path('data/file_that_exists.txt')\n",
    "bad_file_path = Path('data/file_that_is_not_there.txt')\n",
    "can_not_read = Path('data/cant_touch_this.txt')\n",
    "\n",
    "print(good_file_path.is_file())\n",
    "print(bad_file_path.is_file())\n",
    "print(can_not_read.is_file())"
   ]
  },
  {
   "cell_type": "code",
   "execution_count": 8,
   "id": "aab1d86f",
   "metadata": {},
   "outputs": [
    {
     "name": "stdout",
     "output_type": "stream",
     "text": [
      "data\n",
      "file_that_exists.txt\n",
      ".txt\n"
     ]
    }
   ],
   "source": [
    "# notice you can not find out if it is accessible without throwing an error\n",
    "\n",
    "# what's up with this new library????\n",
    "# let's you grab parts of the file without parsing\n",
    "print(good_file_path.parent)\n",
    "print(good_file_path.name)\n",
    "print(good_file_path.suffix)"
   ]
  },
  {
   "cell_type": "code",
   "execution_count": 9,
   "id": "4af3f781",
   "metadata": {},
   "outputs": [
    {
     "name": "stdout",
     "output_type": "stream",
     "text": [
      "I exist therefore I am\n"
     ]
    }
   ],
   "source": [
    "# now let's talk Pythonic!!!!!\n",
    "# don't be afraid of errors, be afraid on unhandled errors\n",
    "\n",
    "try:\n",
    "    with open(good_file_path, 'r') as f:\n",
    "        print(f.read())\n",
    "except Exception as err:\n",
    "    print(err)"
   ]
  },
  {
   "cell_type": "code",
   "execution_count": 10,
   "id": "7a030c9c",
   "metadata": {},
   "outputs": [
    {
     "name": "stdout",
     "output_type": "stream",
     "text": [
      "Unable to read data/cant_touch_this.txt because [Errno 13] Permission denied: 'data/cant_touch_this.txt'\n"
     ]
    }
   ],
   "source": [
    "try:\n",
    "    with open(can_not_read, 'r') as f:\n",
    "        print(f.read())\n",
    "except Exception as err:\n",
    "    print(f\"Unable to read {can_not_read} because {err}\")"
   ]
  },
  {
   "cell_type": "code",
   "execution_count": null,
   "id": "c19345f3",
   "metadata": {},
   "outputs": [],
   "source": []
  }
 ],
 "metadata": {
  "kernelspec": {
   "display_name": "Python 3 (ipykernel)",
   "language": "python",
   "name": "python3"
  },
  "language_info": {
   "codemirror_mode": {
    "name": "ipython",
    "version": 3
   },
   "file_extension": ".py",
   "mimetype": "text/x-python",
   "name": "python",
   "nbconvert_exporter": "python",
   "pygments_lexer": "ipython3",
   "version": "3.9.7"
  }
 },
 "nbformat": 4,
 "nbformat_minor": 5
}
