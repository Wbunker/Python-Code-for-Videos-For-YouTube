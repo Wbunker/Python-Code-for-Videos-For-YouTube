{
 "cells": [
  {
   "cell_type": "code",
   "execution_count": 7,
   "id": "2ba0ff81",
   "metadata": {},
   "outputs": [
    {
     "name": "stdout",
     "output_type": "stream",
     "text": [
      "    a    b     c     d\n",
      "0  50  200  75.0   NaN\n",
      "1   5    3   NaN  22.0\n"
     ]
    }
   ],
   "source": [
    "import pandas as pd\n",
    "l1 = [\n",
    "    {\"a\": 50, \"b\": 200, \"c\": 75},\n",
    "    {\"a\": 5, \"b\": 3, \"d\": 22},\n",
    "]\n",
    "\n",
    "df = pd.DataFrame.from_dict(l1)\n",
    "print(df)"
   ]
  },
  {
   "cell_type": "code",
   "execution_count": null,
   "id": "41a0159a",
   "metadata": {},
   "outputs": [],
   "source": []
  }
 ],
 "metadata": {
  "kernelspec": {
   "display_name": "3.11.1",
   "language": "python",
   "name": "3.11.1"
  },
  "language_info": {
   "codemirror_mode": {
    "name": "ipython",
    "version": 3
   },
   "file_extension": ".py",
   "mimetype": "text/x-python",
   "name": "python",
   "nbconvert_exporter": "python",
   "pygments_lexer": "ipython3",
   "version": "3.11.1"
  }
 },
 "nbformat": 4,
 "nbformat_minor": 5
}
