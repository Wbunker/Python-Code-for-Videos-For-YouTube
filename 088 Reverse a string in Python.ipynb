{
 "cells": [
  {
   "cell_type": "markdown",
   "id": "7cb22034",
   "metadata": {},
   "source": [
    "# Slicing to the rescue using negative steps"
   ]
  },
  {
   "cell_type": "code",
   "execution_count": 1,
   "id": "bd96cf35",
   "metadata": {},
   "outputs": [
    {
     "name": "stdout",
     "output_type": "stream",
     "text": [
      "dne na ot emoc tsum sgniht doog llA\n"
     ]
    }
   ],
   "source": [
    "phrase = \"All good things must come to an end\"\n",
    "\n",
    "\n",
    "print(phrase[::-1])"
   ]
  }
 ],
 "metadata": {
  "kernelspec": {
   "display_name": "Python 3 (ipykernel)",
   "language": "python",
   "name": "python3"
  },
  "language_info": {
   "codemirror_mode": {
    "name": "ipython",
    "version": 3
   },
   "file_extension": ".py",
   "mimetype": "text/x-python",
   "name": "python",
   "nbconvert_exporter": "python",
   "pygments_lexer": "ipython3",
   "version": "3.9.12"
  }
 },
 "nbformat": 4,
 "nbformat_minor": 5
}
