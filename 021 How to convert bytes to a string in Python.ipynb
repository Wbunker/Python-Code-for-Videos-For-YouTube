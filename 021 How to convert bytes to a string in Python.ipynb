{
 "cells": [
  {
   "cell_type": "markdown",
   "id": "6dd72a09",
   "metadata": {},
   "source": [
    "# Some functions return a bytes object and you need a string\n",
    "\n",
    "\n",
    "Such as subprocess.run() if you don't pass in text=True"
   ]
  },
  {
   "cell_type": "code",
   "execution_count": 1,
   "id": "4c7bd076",
   "metadata": {},
   "outputs": [
    {
     "name": "stdout",
     "output_type": "stream",
     "text": [
      "b'total 376\\n-rw-r--r--  1 willbunker  staff  27166 Sep  4 10:15 00 How to make a flat list out of a list of lists in Python.ipynb\\n-rw-r--r--  1 willbunker  staff   2672 Sep  1 11:21 001 What does yield do in Python.ipynb\\ndrwxr-xr-x  8 willbunker  staff    256 Sep  1 11:41 002 What does if __name__ == \"__main__\": do\\n-rw-r--r--  1 willbunker  staff   1967 Sep  1 13:44 003 What is the ternary conditional operator in Python?.ipynb\\n-rw-r--r--  1 willbunker  staff   6340 Sep  2 13:33 004 How to check whether a file exists without exceptions?.ipynb\\n-rw-r--r--  1 willbunker  staff   2314 Sep  2 14:35 005 How to merge 2 Python dictionaries in a single expression.ipynb\\n-rw-r--r--  1 willbunker  staff   5246 Sep  3 10:39 006 How to execute a system command or run a program in Python.ipynb\\n-rw-r--r--  1 willbunker  staff   1433 Sep  3 15:50 007 Safely create nested directory in Python.ipynb\\n-rw-r--r--  1 willbunker  staff   4029 Sep  4 10:29 008 Accessing the index when using for loop in Python.ipynb\\n-rw-r--r--  1 willbunker  staff  27163 Sep  4 11:26 009 How to make a flat list out of a list of lists in Python.ipynb\\n-rw-r--r--  1 willbunker  staff   3652 Sep  4 14:53 010 Difference between @staticmethod and @classmethod in Python.ipynb\\n-rw-r--r--  1 willbunker  staff   6006 Sep  5 11:04 011 Python Basics slicing lists and strings.ipynb\\n-rw-r--r--  1 willbunker  staff   4743 Sep  6 11:02 012 Find the index of an Item in Python list.ipynb\\n-rw-r--r--  1 willbunker  staff   3270 Sep  5 15:25 013 Looping Over Python Dictionary.ipynb\\n-rw-r--r--  1 willbunker  staff   2860 Sep  6 11:04 014 Using Global Variables In a Python Function.ipynb\\n-rw-r--r--  1 willbunker  staff   4162 Sep  6 12:59 015 Does Python Have a String \\'contains\\' substring method.ipynb\\n-rw-r--r--  1 willbunker  staff  22468 Sep  7 09:58 016 How do I get the current time in Python.ipynb\\n-rw-r--r--  1 willbunker  staff   1408 Sep  7 10:26 017 How to catch multiple Python exceptions in one line (except block).ipynb\\n-rw-r--r--  1 willbunker  staff   4470 Sep  7 10:42 018 How to iterate over rows of a DataFrame in Pandas.ipynb\\n-rw-r--r--  1 willbunker  staff   4428 Sep  7 12:13 019 How to list all files of a directory in Python.ipynb\\n-rw-r--r--  1 willbunker  staff   3429 Sep  8 10:12 020 What is the difference between __str__ and __repr__ in Python?.ipynb\\n-rw-r--r--  1 willbunker  staff   6797 Sep  8 10:35 021 How to convert bytes to a string in Python.ipynb\\n-rw-r--r--  1 willbunker  staff   2086 Sep  8 10:06 022 How to sort a Python dictionary by value.ipynb\\ndrwxr-xr-x  6 willbunker  staff    192 Sep  4 14:44 data\\ndrwxr-xr-x  3 willbunker  staff     96 Sep  3 15:48 nested\\n'\n"
     ]
    }
   ],
   "source": [
    "import  subprocess\n",
    "results = subprocess.run(['ls', '-l'], stdout=subprocess.PIPE)\n",
    "\n",
    "\n",
    "print(results.stdout)"
   ]
  },
  {
   "cell_type": "markdown",
   "id": "39e86eb8",
   "metadata": {},
   "source": [
    "# The Clue is the b' before the output\n",
    "\n",
    "## The fix is straightforward if you know the encoding type"
   ]
  },
  {
   "cell_type": "code",
   "execution_count": 2,
   "id": "d5bc389b",
   "metadata": {},
   "outputs": [
    {
     "name": "stdout",
     "output_type": "stream",
     "text": [
      "total 376\n",
      "-rw-r--r--  1 willbunker  staff  27166 Sep  4 10:15 00 How to make a flat list out of a list of lists in Python.ipynb\n",
      "-rw-r--r--  1 willbunker  staff   2672 Sep  1 11:21 001 What does yield do in Python.ipynb\n",
      "drwxr-xr-x  8 willbunker  staff    256 Sep  1 11:41 002 What does if __name__ == \"__main__\": do\n",
      "-rw-r--r--  1 willbunker  staff   1967 Sep  1 13:44 003 What is the ternary conditional operator in Python?.ipynb\n",
      "-rw-r--r--  1 willbunker  staff   6340 Sep  2 13:33 004 How to check whether a file exists without exceptions?.ipynb\n",
      "-rw-r--r--  1 willbunker  staff   2314 Sep  2 14:35 005 How to merge 2 Python dictionaries in a single expression.ipynb\n",
      "-rw-r--r--  1 willbunker  staff   5246 Sep  3 10:39 006 How to execute a system command or run a program in Python.ipynb\n",
      "-rw-r--r--  1 willbunker  staff   1433 Sep  3 15:50 007 Safely create nested directory in Python.ipynb\n",
      "-rw-r--r--  1 willbunker  staff   4029 Sep  4 10:29 008 Accessing the index when using for loop in Python.ipynb\n",
      "-rw-r--r--  1 willbunker  staff  27163 Sep  4 11:26 009 How to make a flat list out of a list of lists in Python.ipynb\n",
      "-rw-r--r--  1 willbunker  staff   3652 Sep  4 14:53 010 Difference between @staticmethod and @classmethod in Python.ipynb\n",
      "-rw-r--r--  1 willbunker  staff   6006 Sep  5 11:04 011 Python Basics slicing lists and strings.ipynb\n",
      "-rw-r--r--  1 willbunker  staff   4743 Sep  6 11:02 012 Find the index of an Item in Python list.ipynb\n",
      "-rw-r--r--  1 willbunker  staff   3270 Sep  5 15:25 013 Looping Over Python Dictionary.ipynb\n",
      "-rw-r--r--  1 willbunker  staff   2860 Sep  6 11:04 014 Using Global Variables In a Python Function.ipynb\n",
      "-rw-r--r--  1 willbunker  staff   4162 Sep  6 12:59 015 Does Python Have a String 'contains' substring method.ipynb\n",
      "-rw-r--r--  1 willbunker  staff  22468 Sep  7 09:58 016 How do I get the current time in Python.ipynb\n",
      "-rw-r--r--  1 willbunker  staff   1408 Sep  7 10:26 017 How to catch multiple Python exceptions in one line (except block).ipynb\n",
      "-rw-r--r--  1 willbunker  staff   4470 Sep  7 10:42 018 How to iterate over rows of a DataFrame in Pandas.ipynb\n",
      "-rw-r--r--  1 willbunker  staff   4428 Sep  7 12:13 019 How to list all files of a directory in Python.ipynb\n",
      "-rw-r--r--  1 willbunker  staff   3429 Sep  8 10:12 020 What is the difference between __str__ and __repr__ in Python?.ipynb\n",
      "-rw-r--r--  1 willbunker  staff   6797 Sep  8 10:35 021 How to convert bytes to a string in Python.ipynb\n",
      "-rw-r--r--  1 willbunker  staff   2086 Sep  8 10:06 022 How to sort a Python dictionary by value.ipynb\n",
      "drwxr-xr-x  6 willbunker  staff    192 Sep  4 14:44 data\n",
      "drwxr-xr-x  3 willbunker  staff     96 Sep  3 15:48 nested\n",
      "\n"
     ]
    }
   ],
   "source": [
    "output = results.stdout.decode('utf-8')\n",
    "\n",
    "print(output)"
   ]
  },
  {
   "cell_type": "code",
   "execution_count": null,
   "id": "8db192ed",
   "metadata": {},
   "outputs": [],
   "source": []
  }
 ],
 "metadata": {
  "kernelspec": {
   "display_name": "Python 3 (ipykernel)",
   "language": "python",
   "name": "python3"
  },
  "language_info": {
   "codemirror_mode": {
    "name": "ipython",
    "version": 3
   },
   "file_extension": ".py",
   "mimetype": "text/x-python",
   "name": "python",
   "nbconvert_exporter": "python",
   "pygments_lexer": "ipython3",
   "version": "3.9.12"
  }
 },
 "nbformat": 4,
 "nbformat_minor": 5
}
