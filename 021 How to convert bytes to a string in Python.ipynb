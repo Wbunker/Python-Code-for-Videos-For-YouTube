{
 "cells": [
  {
   "cell_type": "markdown",
   "id": "c0f8130f",
   "metadata": {},
   "source": [
    "# Some functions return a bytes object and you need a string\n",
    "\n",
    "\n",
    "Such as subprocess.run() if you don't pass in text=True"
   ]
  },
  {
   "cell_type": "code",
   "execution_count": 3,
   "id": "54ea2be1",
   "metadata": {},
   "outputs": [
    {
     "name": "stdout",
     "output_type": "stream",
     "text": [
      "b'total 188\\n-rw-rw-r-- 1 bunker bunker  2672 Sep  1 10:47 001 What does yield do in Python.ipynb\\ndrwxrwxr-x 4 bunker bunker  4096 Sep  2 14:08 002 What does if __name__ == \"__main__\": do\\n-rw-rw-r-- 1 bunker bunker  1967 Sep  2 14:08 003 What is the ternary conditional operator in Python?.ipynb\\n-rw-rw-r-- 1 bunker bunker  6340 Sep  2 14:08 004 How to check whether a file exists without exceptions?.ipynb\\n-rw-rw-r-- 1 bunker bunker  2314 Sep  4 09:14 005 How to merge 2 Python dictionaries in a single expression.ipynb\\n-rw-rw-r-- 1 bunker bunker  5246 Sep  4 10:16 006 How to execute a system command or run a program in Python.ipynb\\n-rw-rw-r-- 1 bunker bunker  1433 Sep  4 10:16 007 Safely create nested directory in Python.ipynb\\n-rw-rw-r-- 1 bunker bunker  4029 Sep  4 14:04 008 Accessing the index when using for loop in Python.ipynb\\n-rw-rw-r-- 1 bunker bunker 27163 Sep  4 14:04 009 How to make a flat list out of a list of lists in Python.ipynb\\n-rw-rw-r-- 1 bunker bunker 27166 Sep  4 14:04 00 How to make a flat list out of a list of lists in Python.ipynb\\n-rw-rw-r-- 1 bunker bunker  3652 Sep  5 13:09 010 Difference between @staticmethod and @classmethod in Python.ipynb\\n-rw-rw-r-- 1 bunker bunker  6006 Sep  5 13:09 011 Python Basics slicing lists and strings.ipynb\\n-rw-rw-r-- 1 bunker bunker  4743 Sep  6 11:25 012 Find the index of an Item in Python list.ipynb\\n-rw-rw-r-- 1 bunker bunker  3270 Sep  6 11:25 013 Looping Over Python Dictionary.ipynb\\n-rw-rw-r-- 1 bunker bunker  2860 Sep  7 11:41 014 Using Global Variables In a Python Function.ipynb\\n-rw-rw-r-- 1 bunker bunker  4162 Sep  7 11:41 015 Does Python Have a String \\'contains\\' substring method.ipynb\\n-rw-rw-r-- 1 bunker bunker 22468 Sep  7 12:17 016 How do I get the current time in Python.ipynb\\n-rw-rw-r-- 1 bunker bunker  1408 Sep  7 12:17 017 How to catch multiple Python exceptions in one line (except block).ipynb\\n-rw-rw-r-- 1 bunker bunker  4470 Sep  7 12:17 018 How to iterate over rows of a DataFrame in Pandas.ipynb\\n-rw-rw-r-- 1 bunker bunker  3498 Sep  7 12:16 019 How to list all files of a directory in Python.ipynb\\n-rw-rw-r-- 1 bunker bunker  3415 Sep  8 09:36 020 What is the difference between __str__ and __repr__ in Python?.ipynb\\n-rw-rw-r-- 1 bunker bunker   691 Sep  8 09:38 021 How to convert bytes to a string in Python.ipynb\\ndrwxrwxr-x 3 bunker bunker  4096 Sep  4 14:29 data\\ndrwxrwxr-x 3 bunker bunker  4096 Sep  3 15:17 nested\\n'\n"
     ]
    }
   ],
   "source": [
    "import  subprocess\n",
    "results = subprocess.run(['ls', '-l'], stdout=subprocess.PIPE)\n",
    "\n",
    "\n",
    "print(results.stdout)"
   ]
  },
  {
   "cell_type": "markdown",
   "id": "53dc42ee",
   "metadata": {},
   "source": [
    "# The Clue is the b' before the output\n",
    "\n",
    "## The fix is straightforward if you know the encoding type"
   ]
  },
  {
   "cell_type": "code",
   "execution_count": 5,
   "id": "acf4d01a",
   "metadata": {},
   "outputs": [
    {
     "name": "stdout",
     "output_type": "stream",
     "text": [
      "total 188\n",
      "-rw-rw-r-- 1 bunker bunker  2672 Sep  1 10:47 001 What does yield do in Python.ipynb\n",
      "drwxrwxr-x 4 bunker bunker  4096 Sep  2 14:08 002 What does if __name__ == \"__main__\": do\n",
      "-rw-rw-r-- 1 bunker bunker  1967 Sep  2 14:08 003 What is the ternary conditional operator in Python?.ipynb\n",
      "-rw-rw-r-- 1 bunker bunker  6340 Sep  2 14:08 004 How to check whether a file exists without exceptions?.ipynb\n",
      "-rw-rw-r-- 1 bunker bunker  2314 Sep  4 09:14 005 How to merge 2 Python dictionaries in a single expression.ipynb\n",
      "-rw-rw-r-- 1 bunker bunker  5246 Sep  4 10:16 006 How to execute a system command or run a program in Python.ipynb\n",
      "-rw-rw-r-- 1 bunker bunker  1433 Sep  4 10:16 007 Safely create nested directory in Python.ipynb\n",
      "-rw-rw-r-- 1 bunker bunker  4029 Sep  4 14:04 008 Accessing the index when using for loop in Python.ipynb\n",
      "-rw-rw-r-- 1 bunker bunker 27163 Sep  4 14:04 009 How to make a flat list out of a list of lists in Python.ipynb\n",
      "-rw-rw-r-- 1 bunker bunker 27166 Sep  4 14:04 00 How to make a flat list out of a list of lists in Python.ipynb\n",
      "-rw-rw-r-- 1 bunker bunker  3652 Sep  5 13:09 010 Difference between @staticmethod and @classmethod in Python.ipynb\n",
      "-rw-rw-r-- 1 bunker bunker  6006 Sep  5 13:09 011 Python Basics slicing lists and strings.ipynb\n",
      "-rw-rw-r-- 1 bunker bunker  4743 Sep  6 11:25 012 Find the index of an Item in Python list.ipynb\n",
      "-rw-rw-r-- 1 bunker bunker  3270 Sep  6 11:25 013 Looping Over Python Dictionary.ipynb\n",
      "-rw-rw-r-- 1 bunker bunker  2860 Sep  7 11:41 014 Using Global Variables In a Python Function.ipynb\n",
      "-rw-rw-r-- 1 bunker bunker  4162 Sep  7 11:41 015 Does Python Have a String 'contains' substring method.ipynb\n",
      "-rw-rw-r-- 1 bunker bunker 22468 Sep  7 12:17 016 How do I get the current time in Python.ipynb\n",
      "-rw-rw-r-- 1 bunker bunker  1408 Sep  7 12:17 017 How to catch multiple Python exceptions in one line (except block).ipynb\n",
      "-rw-rw-r-- 1 bunker bunker  4470 Sep  7 12:17 018 How to iterate over rows of a DataFrame in Pandas.ipynb\n",
      "-rw-rw-r-- 1 bunker bunker  3498 Sep  7 12:16 019 How to list all files of a directory in Python.ipynb\n",
      "-rw-rw-r-- 1 bunker bunker  3415 Sep  8 09:36 020 What is the difference between __str__ and __repr__ in Python?.ipynb\n",
      "-rw-rw-r-- 1 bunker bunker   691 Sep  8 09:38 021 How to convert bytes to a string in Python.ipynb\n",
      "drwxrwxr-x 3 bunker bunker  4096 Sep  4 14:29 data\n",
      "drwxrwxr-x 3 bunker bunker  4096 Sep  3 15:17 nested\n",
      "\n"
     ]
    }
   ],
   "source": [
    "output = results.stdout.decode('utf-8')\n",
    "\n",
    "print(output)"
   ]
  }
 ],
 "metadata": {
  "kernelspec": {
   "display_name": "Python 3",
   "language": "python",
   "name": "python3"
  },
  "language_info": {
   "codemirror_mode": {
    "name": "ipython",
    "version": 3
   },
   "file_extension": ".py",
   "mimetype": "text/x-python",
   "name": "python",
   "nbconvert_exporter": "python",
   "pygments_lexer": "ipython3",
   "version": "3.9.12"
  }
 },
 "nbformat": 4,
 "nbformat_minor": 5
}
