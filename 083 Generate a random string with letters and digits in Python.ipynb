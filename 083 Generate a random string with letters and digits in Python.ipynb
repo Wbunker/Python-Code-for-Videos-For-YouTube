{
 "cells": [
  {
   "cell_type": "markdown",
   "id": "361e1548",
   "metadata": {},
   "source": [
    "# String library has the characters you need"
   ]
  },
  {
   "cell_type": "code",
   "execution_count": 2,
   "id": "95c235a1",
   "metadata": {},
   "outputs": [
    {
     "name": "stdout",
     "output_type": "stream",
     "text": [
      "ABCDEFGHIJKLMNOPQRSTUVWXYZ0123456789\n"
     ]
    }
   ],
   "source": [
    "import string\n",
    "\n",
    "all_digits = string.ascii_uppercase + string.digits\n",
    "\n",
    "print(all_digits)"
   ]
  },
  {
   "cell_type": "markdown",
   "id": "9c1aa780",
   "metadata": {},
   "source": [
    "# Random library gives you the ability to pick"
   ]
  },
  {
   "cell_type": "code",
   "execution_count": 5,
   "id": "21cdf253",
   "metadata": {},
   "outputs": [
    {
     "name": "stdout",
     "output_type": "stream",
     "text": [
      "PK3GTLEG8H\n"
     ]
    }
   ],
   "source": [
    "import random\n",
    "\n",
    "size_of_string = 10\n",
    "\n",
    "print(\"\".join(random.choices(all_digits, k=size_of_string)))"
   ]
  },
  {
   "cell_type": "markdown",
   "id": "5786519e",
   "metadata": {},
   "source": [
    "# What if you need it to be cryptographically secure?"
   ]
  },
  {
   "cell_type": "code",
   "execution_count": 7,
   "id": "84cc9188",
   "metadata": {},
   "outputs": [
    {
     "name": "stdout",
     "output_type": "stream",
     "text": [
      "18GNUORERX\n"
     ]
    }
   ],
   "source": [
    "print(\"\".join([random.SystemRandom().choice(all_digits) for _ in range(size_of_string)]))"
   ]
  },
  {
   "cell_type": "code",
   "execution_count": null,
   "id": "39afda33",
   "metadata": {},
   "outputs": [],
   "source": []
  }
 ],
 "metadata": {
  "kernelspec": {
   "display_name": "Python 3",
   "language": "python",
   "name": "python3"
  },
  "language_info": {
   "codemirror_mode": {
    "name": "ipython",
    "version": 3
   },
   "file_extension": ".py",
   "mimetype": "text/x-python",
   "name": "python",
   "nbconvert_exporter": "python",
   "pygments_lexer": "ipython3",
   "version": "3.9.12"
  }
 },
 "nbformat": 4,
 "nbformat_minor": 5
}
