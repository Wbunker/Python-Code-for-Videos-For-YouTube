{
 "cells": [
  {
   "cell_type": "markdown",
   "id": "5388b685",
   "metadata": {},
   "source": [
    "# Use the built in os module environ dictionary\n",
    "\n",
    "## Way I did this before research"
   ]
  },
  {
   "cell_type": "code",
   "execution_count": 2,
   "id": "d125e0a0",
   "metadata": {},
   "outputs": [
    {
     "name": "stdout",
     "output_type": "stream",
     "text": [
      "False\n"
     ]
    }
   ],
   "source": [
    "import os\n",
    "\n",
    "\n",
    "debug = False\n",
    "\n",
    "if \"DEBUG\" in os.environ:\n",
    "    debug = os.environ(\"DEBUG\") == \"TRUE\"\n",
    "    \n",
    "    \n",
    "print(debug)"
   ]
  },
  {
   "cell_type": "markdown",
   "id": "b802b5bc",
   "metadata": {},
   "source": [
    "## My newer more PYTHONC way"
   ]
  },
  {
   "cell_type": "code",
   "execution_count": 4,
   "id": "7cddaf81",
   "metadata": {},
   "outputs": [
    {
     "name": "stdout",
     "output_type": "stream",
     "text": [
      "us-east-1\n"
     ]
    }
   ],
   "source": [
    "os.environ[\"REGION\"] = \"us-east-1\"\n",
    "    \n",
    "region = os.environ.get(\"REGION\", 'us-west-2')\n",
    "\n",
    "print(region)\n"
   ]
  },
  {
   "cell_type": "code",
   "execution_count": null,
   "id": "3d2b2b8c",
   "metadata": {},
   "outputs": [],
   "source": []
  }
 ],
 "metadata": {
  "kernelspec": {
   "display_name": "Python 3",
   "language": "python",
   "name": "python3"
  },
  "language_info": {
   "codemirror_mode": {
    "name": "ipython",
    "version": 3
   },
   "file_extension": ".py",
   "mimetype": "text/x-python",
   "name": "python",
   "nbconvert_exporter": "python",
   "pygments_lexer": "ipython3",
   "version": "3.9.12"
  }
 },
 "nbformat": 4,
 "nbformat_minor": 5
}
