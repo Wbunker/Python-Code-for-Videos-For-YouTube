{
 "cells": [
  {
   "cell_type": "code",
   "execution_count": 2,
   "id": "9f9fd5a1",
   "metadata": {},
   "outputs": [
    {
     "name": "stdout",
     "output_type": "stream",
     "text": [
      "[1, 2, 3, 4, 5, 100, 101, 103, 104, 105]\n"
     ]
    }
   ],
   "source": [
    "small = [1, 2, \n",
    "         3, 4,\n",
    "         5]\n",
    "\n",
    "big = [100, \n",
    "       101, \n",
    "       103, \n",
    "       104, \n",
    "       105]\n",
    "\n",
    "both = small + big\n",
    "print(both)"
   ]
  },
  {
   "cell_type": "code",
   "execution_count": 3,
   "id": "cf4a3dde",
   "metadata": {},
   "outputs": [
    {
     "name": "stdout",
     "output_type": "stream",
     "text": [
      "[1, 2, 3, 4, 5, 6, 7]\n"
     ]
    }
   ],
   "source": [
    "l1 = [1,\n",
    "      2,\n",
    "      3,\n",
    "      4]\n",
    "\n",
    "l1 += [5,\n",
    "       6,\n",
    "       7]\n",
    "\n",
    "print(l1)"
   ]
  },
  {
   "cell_type": "code",
   "execution_count": null,
   "id": "72828491",
   "metadata": {},
   "outputs": [],
   "source": []
  }
 ],
 "metadata": {
  "kernelspec": {
   "display_name": "Python 3 (ipykernel)",
   "language": "python",
   "name": "python3"
  },
  "language_info": {
   "codemirror_mode": {
    "name": "ipython",
    "version": 3
   },
   "file_extension": ".py",
   "mimetype": "text/x-python",
   "name": "python",
   "nbconvert_exporter": "python",
   "pygments_lexer": "ipython3",
   "version": "3.9.7"
  }
 },
 "nbformat": 4,
 "nbformat_minor": 5
}
