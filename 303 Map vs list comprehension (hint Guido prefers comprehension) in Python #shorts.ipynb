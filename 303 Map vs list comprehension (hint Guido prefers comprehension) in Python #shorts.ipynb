{
 "cells": [
  {
   "cell_type": "code",
   "execution_count": null,
   "id": "62d61055",
   "metadata": {},
   "outputs": [],
   "source": [
    "l1 = [5, 7, 10]\n",
    "\n",
    "def cube(n):\n",
    "    return pow(n, 3)\n",
    "\n",
    "l2 = list(map(cube, l1))\n",
    "l3 = [pow(n, 3) for n in l1]"
   ]
  }
 ],
 "metadata": {
  "kernelspec": {
   "display_name": "3.11.1",
   "language": "python",
   "name": "3.11.1"
  },
  "language_info": {
   "codemirror_mode": {
    "name": "ipython",
    "version": 3
   },
   "file_extension": ".py",
   "mimetype": "text/x-python",
   "name": "python",
   "nbconvert_exporter": "python",
   "pygments_lexer": "ipython3",
   "version": "3.11.1"
  }
 },
 "nbformat": 4,
 "nbformat_minor": 5
}
