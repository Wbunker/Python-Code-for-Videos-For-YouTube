{
 "cells": [
  {
   "cell_type": "code",
   "execution_count": 4,
   "id": "7335e2d3",
   "metadata": {},
   "outputs": [
    {
     "name": "stdout",
     "output_type": "stream",
     "text": [
      "886    Second_27.0\n",
      "887     First_19.0\n",
      "888      Third_nan\n",
      "889     First_26.0\n",
      "890     Third_32.0\n",
      "Name: class_age, dtype: object\n"
     ]
    }
   ],
   "source": [
    "import seaborn as sb\n",
    "import pandas as pd\n",
    "\n",
    "df = sb.load_dataset('titanic')\n",
    "\n",
    "df['class_age'] = df['class'].astype(str) + \\\n",
    "    \"_\" + df['age'].astype(str)\n",
    "print(df['class_age'].tail())"
   ]
  },
  {
   "cell_type": "code",
   "execution_count": null,
   "id": "71c6e04d",
   "metadata": {},
   "outputs": [],
   "source": []
  }
 ],
 "metadata": {
  "kernelspec": {
   "display_name": "3.11.1",
   "language": "python",
   "name": "3.11.1"
  },
  "language_info": {
   "codemirror_mode": {
    "name": "ipython",
    "version": 3
   },
   "file_extension": ".py",
   "mimetype": "text/x-python",
   "name": "python",
   "nbconvert_exporter": "python",
   "pygments_lexer": "ipython3",
   "version": "3.11.1"
  }
 },
 "nbformat": 4,
 "nbformat_minor": 5
}
