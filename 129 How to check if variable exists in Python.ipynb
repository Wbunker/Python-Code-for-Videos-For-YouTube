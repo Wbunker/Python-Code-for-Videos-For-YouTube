{
 "cells": [
  {
   "cell_type": "code",
   "execution_count": 1,
   "id": "33fdd48b",
   "metadata": {},
   "outputs": [
    {
     "name": "stdout",
     "output_type": "stream",
     "text": [
      "newVar is not around\n"
     ]
    }
   ],
   "source": [
    "try:\n",
    "    newVar\n",
    "except NameError:\n",
    "    print('newVar is not around')"
   ]
  },
  {
   "cell_type": "code",
   "execution_count": 6,
   "id": "90398481",
   "metadata": {},
   "outputs": [
    {
     "name": "stdout",
     "output_type": "stream",
     "text": [
      "newVar is not a local variable.\n",
      "normVar is  local variable.\n"
     ]
    }
   ],
   "source": [
    "normVar = 'something'\n",
    "\n",
    "if 'newVar' not in locals():\n",
    "    print(\"newVar is not a local variable.\")\n",
    "    \n",
    "if 'normVar' in locals():\n",
    "    print(\"normVar is  local variable.\")    "
   ]
  },
  {
   "cell_type": "code",
   "execution_count": 7,
   "id": "21d8b9f6",
   "metadata": {},
   "outputs": [
    {
     "name": "stdout",
     "output_type": "stream",
     "text": [
      "newVar is not a global variable.\n",
      "normVar is  global variable.\n"
     ]
    }
   ],
   "source": [
    "if 'newVar' not in globals():\n",
    "    print(\"newVar is not a global variable.\")\n",
    "    \n",
    "if 'normVar' in globals():\n",
    "    print(\"normVar is  global variable.\")    "
   ]
  },
  {
   "cell_type": "code",
   "execution_count": null,
   "id": "66b1bbd5",
   "metadata": {},
   "outputs": [],
   "source": []
  }
 ],
 "metadata": {
  "kernelspec": {
   "display_name": "Python 3 (ipykernel)",
   "language": "python",
   "name": "python3"
  },
  "language_info": {
   "codemirror_mode": {
    "name": "ipython",
    "version": 3
   },
   "file_extension": ".py",
   "mimetype": "text/x-python",
   "name": "python",
   "nbconvert_exporter": "python",
   "pygments_lexer": "ipython3",
   "version": "3.9.7"
  }
 },
 "nbformat": 4,
 "nbformat_minor": 5
}
