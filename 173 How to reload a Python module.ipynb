{
 "cells": [
  {
   "cell_type": "code",
   "execution_count": 4,
   "id": "f93ce543",
   "metadata": {},
   "outputs": [],
   "source": [
    "from importlib import reload\n",
    "import my_package.language.greetings\n",
    "\n",
    "file_changed = True\n",
    "\n",
    "if file_changed:\n",
    "    reload(my_package.language.greetings)"
   ]
  },
  {
   "cell_type": "code",
   "execution_count": null,
   "id": "b9f8d605",
   "metadata": {},
   "outputs": [],
   "source": []
  }
 ],
 "metadata": {
  "kernelspec": {
   "display_name": "Python 3 (ipykernel)",
   "language": "python",
   "name": "python3"
  },
  "language_info": {
   "codemirror_mode": {
    "name": "ipython",
    "version": 3
   },
   "file_extension": ".py",
   "mimetype": "text/x-python",
   "name": "python",
   "nbconvert_exporter": "python",
   "pygments_lexer": "ipython3",
   "version": "3.9.7"
  }
 },
 "nbformat": 4,
 "nbformat_minor": 5
}
