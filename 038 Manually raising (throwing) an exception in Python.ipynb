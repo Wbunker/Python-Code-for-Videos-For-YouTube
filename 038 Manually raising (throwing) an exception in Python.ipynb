{
 "cells": [
  {
   "cell_type": "markdown",
   "id": "0b49484b",
   "metadata": {},
   "source": [
    "# Raise is your friend\n",
    "\n",
    "### Raise a specific error vs generic Exception"
   ]
  },
  {
   "cell_type": "code",
   "execution_count": 1,
   "id": "1579a6e2",
   "metadata": {},
   "outputs": [
    {
     "ename": "ValueError",
     "evalue": "Code that explains exactly what happened",
     "output_type": "error",
     "traceback": [
      "\u001b[0;31m---------------------------------------------------------------------------\u001b[0m",
      "\u001b[0;31mValueError\u001b[0m                                Traceback (most recent call last)",
      "Input \u001b[0;32mIn [1]\u001b[0m, in \u001b[0;36m<cell line: 1>\u001b[0;34m()\u001b[0m\n\u001b[0;32m----> 1\u001b[0m \u001b[38;5;28;01mraise\u001b[39;00m \u001b[38;5;167;01mValueError\u001b[39;00m(\u001b[38;5;124m'\u001b[39m\u001b[38;5;124mCode that explains exactly what happened\u001b[39m\u001b[38;5;124m'\u001b[39m)\n",
      "\u001b[0;31mValueError\u001b[0m: Code that explains exactly what happened"
     ]
    }
   ],
   "source": [
    "raise ValueError('Code that explains exactly what happened')"
   ]
  },
  {
   "cell_type": "markdown",
   "id": "4fe35bb5",
   "metadata": {},
   "source": [
    "## Don't raise a generic exception because this can cause you to ignore unexpected issues"
   ]
  },
  {
   "cell_type": "code",
   "execution_count": 3,
   "id": "80b0a8c1",
   "metadata": {},
   "outputs": [
    {
     "ename": "Exception",
     "evalue": "I sort of understand how to write code",
     "output_type": "error",
     "traceback": [
      "\u001b[0;31m---------------------------------------------------------------------------\u001b[0m",
      "\u001b[0;31mException\u001b[0m                                 Traceback (most recent call last)",
      "Input \u001b[0;32mIn [3]\u001b[0m, in \u001b[0;36m<cell line: 4>\u001b[0;34m()\u001b[0m\n\u001b[1;32m      1\u001b[0m \u001b[38;5;66;03m# this is really frowned on and you will look like a hack\u001b[39;00m\n\u001b[0;32m----> 4\u001b[0m \u001b[38;5;28;01mraise\u001b[39;00m \u001b[38;5;167;01mException\u001b[39;00m(\u001b[38;5;124m\"\u001b[39m\u001b[38;5;124mI sort of understand how to write code\u001b[39m\u001b[38;5;124m\"\u001b[39m)\n",
      "\u001b[0;31mException\u001b[0m: I sort of understand how to write code"
     ]
    }
   ],
   "source": [
    "# this is really frowned on and you will look like a hack\n",
    "\n",
    "\n",
    "raise Exception(\"I sort of understand how to write code\")"
   ]
  },
  {
   "cell_type": "markdown",
   "id": "eae1a52d",
   "metadata": {},
   "source": [
    "# Why???"
   ]
  },
  {
   "cell_type": "code",
   "execution_count": 5,
   "id": "c3e61080",
   "metadata": {},
   "outputs": [],
   "source": [
    "# you typically want to handle specific errors and pass unexpected ones upward so the don't get\n",
    "# eaten by the code and hide real problems\n",
    "\n",
    "# the right way\n",
    "try:\n",
    "    answer = 1/0\n",
    "except ZeroDivisionError:\n",
    "    answer = None"
   ]
  },
  {
   "cell_type": "code",
   "execution_count": 6,
   "id": "826a0d1f",
   "metadata": {},
   "outputs": [],
   "source": [
    "# the wrong way\n",
    "try:\n",
    "    answer = 1/ 'b'\n",
    "except Exception:\n",
    "    answer = None"
   ]
  },
  {
   "cell_type": "code",
   "execution_count": null,
   "id": "a903bf3b",
   "metadata": {},
   "outputs": [],
   "source": []
  }
 ],
 "metadata": {
  "kernelspec": {
   "display_name": "Python 3 (ipykernel)",
   "language": "python",
   "name": "python3"
  },
  "language_info": {
   "codemirror_mode": {
    "name": "ipython",
    "version": 3
   },
   "file_extension": ".py",
   "mimetype": "text/x-python",
   "name": "python",
   "nbconvert_exporter": "python",
   "pygments_lexer": "ipython3",
   "version": "3.9.12"
  }
 },
 "nbformat": 4,
 "nbformat_minor": 5
}
