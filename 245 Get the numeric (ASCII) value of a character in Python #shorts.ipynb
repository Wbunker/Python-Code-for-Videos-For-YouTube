{
 "cells": [
  {
   "cell_type": "code",
   "execution_count": 2,
   "id": "97833aca",
   "metadata": {},
   "outputs": [
    {
     "name": "stdout",
     "output_type": "stream",
     "text": [
      "88\n",
      "12354\n",
      "[72, 101, 108, 108, 111, 32, 116, 104, 101, 114, 101]\n"
     ]
    }
   ],
   "source": [
    "#ascii\n",
    "print(ord('X'))\n",
    "#codepoint\n",
    "print(ord(u'あ'))\n",
    "\n",
    "l = [ord(x) for x in \"Hello there\"]\n",
    "print(l)"
   ]
  },
  {
   "cell_type": "code",
   "execution_count": null,
   "id": "da80332e",
   "metadata": {},
   "outputs": [],
   "source": []
  }
 ],
 "metadata": {
  "kernelspec": {
   "display_name": "3.11.1",
   "language": "python",
   "name": "3.11.1"
  },
  "language_info": {
   "codemirror_mode": {
    "name": "ipython",
    "version": 3
   },
   "file_extension": ".py",
   "mimetype": "text/x-python",
   "name": "python",
   "nbconvert_exporter": "python",
   "pygments_lexer": "ipython3",
   "version": "3.11.1"
  }
 },
 "nbformat": 4,
 "nbformat_minor": 5
}
