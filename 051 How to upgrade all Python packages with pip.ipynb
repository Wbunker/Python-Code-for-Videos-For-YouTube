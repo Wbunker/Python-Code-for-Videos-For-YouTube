{
 "cells": [
  {
   "cell_type": "markdown",
   "id": "37642fa4",
   "metadata": {},
   "source": [
    "# Let's do this with as much Python code as possible\n",
    "\n",
    "## Too many of the solutions I saw used command line code that varied with OS"
   ]
  },
  {
   "cell_type": "code",
   "execution_count": 2,
   "id": "fe47d43d",
   "metadata": {},
   "outputs": [
    {
     "name": "stdout",
     "output_type": "stream",
     "text": [
      "['opencv-contrib-python', 'psycopg2-binary', 'pycodestyle', 'botocore', 'numpy', 'boto3', 'autopep8', 'toml', 's3transfer', 'diff-match-patch', 'regex', 'distributed', 'dask', 'fsspec', 'scikit-learn-intelex', 'certifi', 'imagecodecs', 'tifffile', 'daal4py', 'pytz', 'setuptools', 'keyring', 'pyzmq', 'Twisted', 'attrs', 'packaging', 'incremental', 'argon2-cffi', 'pip', 'argon2-cffi-bindings', 'pyOpenSSL', 'hyperlink', 'Automat', 'black', 'service-identity', 'constantly', 'Pillow', 'ipython', 'click', 'tenacity', 'pycurl', 'ipywidgets', 'pytest', 'ipykernel', 'notebook', 'nbconvert', 'jupyter-console', 'jupyter-client', 'pydocstyle', 'tornado', 'PyYAML', 'isort', 'psutil', 'plotly', 'zope.interface', 'nbformat', 'qtconsole', 'multidict', 'spyder', 'traitlets', 'decorator', 'smart-open', 'ujson', 'astropy', 'python-slugify', 'smmap', 'tqdm', 'fonttools', 'sip', 'conda', 'importlib-metadata', 'beautifulsoup4', 'jupyter-core', 'lxml', 'pexpect', 'rsa', 'jsonschema', 'Sphinx', 'cachetools', 'textdistance', 'gensim', 'typing-extensions', 'bleach', 'pyodbc', 'gitdb', 'mock', 'async-timeout', 'chardet', 'conda-build', 'protobuf', 'flake8', 'aiohttp', 'zipp', 'nltk', 'tables', 'h5py', 'filelock', 'widgetsnbextension', 'matplotlib', 'anyio', 'cryptography', 'conda-verify', 'Markdown', 'jupyterlab', 'SecretStorage', 'idna', 'bcrypt', 'tldextract', 'GitPython', 'intervaltree', 'prompt-toolkit', 'openpyxl', 'pyparsing', 'XlsxWriter', 'wurlitzer', 'QDarkStyle', 'requests', 'pycparser', 'fastjsonschema', 'Jinja2', 'Pygments', 'jupyterlab-server', 'pylint', 'Babel', 'imageio', 'libarchive-c', 'python-dateutil', 'numexpr', 'networkx', 'astroid', 'Scrapy', 'bokeh', 'bitarray', 'mkl-service', 'sortedcontainers', 'soupsieve', 'pyflakes', 'snowballstemmer', 'threadpoolctl', 'watchdog', 'anaconda-navigator', 'spyder-kernels', 'gmpy2', 'sortedcollections', 'PyJWT', 'colorcet', 'PyDispatcher', 'asttokens', 'charset-normalizer', 'Werkzeug', 'pyviz-comms', 'PyHamcrest', 'itsdangerous', 'MarkupSafe', 'xlrd', 'termcolor', 'QtPy', 'zict', 'sphinxcontrib-htmlhelp', 'pyerfa', 'cloudpickle', 'googleapis-common-protos', 'grpcio', 'google-auth', 'google-cloud-storage', 'urllib3', 'google-api-core', 'w3lib', 'six', 'cffi', 'holoviews', 'jupyter-server', 'wrapt', 'param', 'py', 'sympy', 'anaconda-client', 'pkginfo', 'conda-package-handling', 'Send2Trash', 'scipy', 'cookiecutter', 'pep8', 'PySocks', 'google-cloud-core', 'tblib', 'backports.functools-lru-cache', 'yarl', 'parsel', 'lazy-object-proxy', 'nest-asyncio', 'requests-file', 'debugpy', 'queuelib', 'pandocfilters', 'SQLAlchemy', 'appdirs', 'typed-ast', 'pandas', 'jdcal', 'atomicwrites', 'nose', 'Bottleneck', 'kiwisolver', 'mkl-fft', 'google-resumable-media', 'text-unidecode', 'imagesize', 'PyWavelets', 'python-lsp-server', 'clyent', 'arrow', 'tomli', 'mkl-random', 'mpmath', 'numpydoc', 'sniffio', 'frozenlist', 'partd', 'aiosignal', 'Unidecode', 'sphinxcontrib-serializinghtml', 'munkres', 'google-crc32c', 'Flask', 'greenlet', 'iniconfig', 'cssselect', 'et-xmlfile', 'joblib', 'conda-repo-cli', 'itemloaders', 'sphinxcontrib-qthelp', 'QtAwesome', 'sphinxcontrib-applehelp', 'sphinxcontrib-devhelp', 'scikit-learn', 'msgpack', 'sphinxcontrib-jsmath', 'HeapDict', 'backports.weakref', 'python-lsp-jsonrpc', 'jupyterlab-widgets', 'python-lsp-black', 'pluggy', 'backports.tempfile', 'jupyter', 'websocket-client', 'numba', 'olefile', 'llvmlite', 'wheel', 'yapf', 'Cython', 'pyxdg', 'rope', 'xarray', 'scikit-image', 'future', 'jedi', 'pyrsistent', 'docutils', 'ruamel-yaml-conda', 'statsmodels', 'terminado', 'prometheus-client', 'panel', 'datashader', 'toolz', 'seaborn', 'cytoolz', 'cycler', 'anaconda-project', 'jmespath', 'Rtree', 'json5', 'tabulate', 'mistune', 'executing', 'parso', 'alabaster', 'pickleshare', 'hvplot', 'defusedxml', 'jeepney', 'brotlipy', 'ptyprocess', 'glob2', 'pathspec', 'intake', 'pycosat', 'mccabe', 'python-snappy', 'multipledispatch', 'conda-pack', 'nbclient', 'datashape', 'patsy', 'inflection', 'webencodings', 'poyo', 'testpath', 'pyasn1', 'pyct', 'colorama', 'binaryornot', 'mypy-extensions', 'pyls-spyder', 'tinycss', 'entrypoints', 'nbclassic', 'itemadapter', 'conda-token', 'pyasn1-modules', 'wcwidth', 'pure-eval', 'navigator-updater', 'locket', 'TBB', 'bkcharts', 'ipython-genutils', 'stack-data', 'backcall', 'jinja2-time', 'Protego', 'qstylizer', 'matplotlib-inline', 'jupyterlab-pygments', 'three-merge', 'gh', 'conda-content-trust']\n"
     ]
    }
   ],
   "source": [
    "import pkg_resources\n",
    "import subprocess\n",
    "\n",
    "\n",
    "packages = [distribution.project_name for distribution in pkg_resources.working_set]\n",
    "\n",
    "print(packages)"
   ]
  },
  {
   "cell_type": "code",
   "execution_count": null,
   "id": "32e67d16",
   "metadata": {},
   "outputs": [],
   "source": [
    "results = subprocess.run(\"pip install --upgrade \" + ' '.join(packages), \n",
    "                         stdout=subprocess.PIPE, stderr=subprocess.PIPE, text=True)\n",
    "\n",
    "# or possibly\n",
    "results = subprocess.run(\"sudo pip install --upgrade \" + ' '.join(packages), \n",
    "                         stdout=subprocess.PIPE, stderr=subprocess.PIPE, text=True)"
   ]
  },
  {
   "cell_type": "markdown",
   "id": "699e0de9",
   "metadata": {},
   "source": [
    "# If you want to do them one at a time"
   ]
  },
  {
   "cell_type": "code",
   "execution_count": null,
   "id": "dda3e205",
   "metadata": {},
   "outputs": [],
   "source": [
    "results = [subprocess.run(f\"pip install --upgrade {package}\", \n",
    "                          stdout=subprocess.PIPE, stderr=subprocess.PIPE, text=True) for package in packages]"
   ]
  }
 ],
 "metadata": {
  "kernelspec": {
   "display_name": "Python 3",
   "language": "python",
   "name": "python3"
  },
  "language_info": {
   "codemirror_mode": {
    "name": "ipython",
    "version": 3
   },
   "file_extension": ".py",
   "mimetype": "text/x-python",
   "name": "python",
   "nbconvert_exporter": "python",
   "pygments_lexer": "ipython3",
   "version": "3.9.12"
  }
 },
 "nbformat": 4,
 "nbformat_minor": 5
}
