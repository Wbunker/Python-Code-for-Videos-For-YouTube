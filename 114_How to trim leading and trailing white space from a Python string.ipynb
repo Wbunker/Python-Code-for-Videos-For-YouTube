{
 "cells": [
  {
   "cell_type": "markdown",
   "id": "1ca2fa6b",
   "metadata": {},
   "source": [
    "# Strip is the word to remember -\n",
    "# strip the whitespace away"
   ]
  },
  {
   "cell_type": "code",
   "execution_count": 11,
   "id": "c3750a59",
   "metadata": {},
   "outputs": [
    {
     "name": "stdout",
     "output_type": "stream",
     "text": [
      "***** What is going on here   \t\t\n",
      "*****\n"
     ]
    }
   ],
   "source": [
    "user_input = \" What is going on here   \\t\\t\\n\"\n",
    "\n",
    "print(f\"*****{user_input}*****\")"
   ]
  },
  {
   "cell_type": "code",
   "execution_count": 12,
   "id": "5b5a76a0",
   "metadata": {},
   "outputs": [
    {
     "name": "stdout",
     "output_type": "stream",
     "text": [
      "*****What is going on here*****\n"
     ]
    }
   ],
   "source": [
    "print(f\"*****{user_input.strip()}*****\")"
   ]
  },
  {
   "cell_type": "markdown",
   "id": "d15e0677",
   "metadata": {},
   "source": [
    "# You can strip one side \n",
    "# or the other with \n",
    "# lstrip and rstrip"
   ]
  },
  {
   "cell_type": "code",
   "execution_count": 14,
   "id": "a6b70b2a",
   "metadata": {},
   "outputs": [
    {
     "name": "stdout",
     "output_type": "stream",
     "text": [
      "***** What is going on here*****\n"
     ]
    }
   ],
   "source": [
    "print(f\"*****{user_input.rstrip()}*****\")"
   ]
  },
  {
   "cell_type": "code",
   "execution_count": 15,
   "id": "a49e4547",
   "metadata": {},
   "outputs": [
    {
     "name": "stdout",
     "output_type": "stream",
     "text": [
      "*****What is going on here   \t\t\n",
      "*****\n"
     ]
    }
   ],
   "source": [
    "print(f\"*****{user_input.lstrip()}*****\")"
   ]
  },
  {
   "cell_type": "markdown",
   "id": "4b061884",
   "metadata": {},
   "source": [
    "# Last trick - you can strip\n",
    "# specific characters"
   ]
  },
  {
   "cell_type": "code",
   "execution_count": 16,
   "id": "506e3ac0",
   "metadata": {},
   "outputs": [
    {
     "name": "stdout",
     "output_type": "stream",
     "text": [
      "***** What is going on here   \t\t*****\n"
     ]
    }
   ],
   "source": [
    "new_string = user_input.strip('\\n')\n",
    "print(f\"*****{new_string}*****\")"
   ]
  },
  {
   "cell_type": "code",
   "execution_count": null,
   "id": "a4b29584",
   "metadata": {},
   "outputs": [],
   "source": []
  }
 ],
 "metadata": {
  "kernelspec": {
   "display_name": "Python 3 (ipykernel)",
   "language": "python",
   "name": "python3"
  },
  "language_info": {
   "codemirror_mode": {
    "name": "ipython",
    "version": 3
   },
   "file_extension": ".py",
   "mimetype": "text/x-python",
   "name": "python",
   "nbconvert_exporter": "python",
   "pygments_lexer": "ipython3",
   "version": "3.9.7"
  }
 },
 "nbformat": 4,
 "nbformat_minor": 5
}
