{
 "cells": [
  {
   "cell_type": "markdown",
   "id": "a35b3f27",
   "metadata": {},
   "source": [
    "# This is where pathlib really shines"
   ]
  },
  {
   "cell_type": "code",
   "execution_count": 1,
   "id": "dd715039",
   "metadata": {},
   "outputs": [
    {
     "name": "stdout",
     "output_type": "stream",
     "text": [
      ".txt\n"
     ]
    }
   ],
   "source": [
    "from pathlib import Path\n",
    "\n",
    "\n",
    "my_file = Path('data/randomints.txt')\n",
    "\n",
    "print(my_file.suffix)"
   ]
  },
  {
   "cell_type": "markdown",
   "id": "0b1934d4",
   "metadata": {},
   "source": [
    "# What if you only want the text part?\n",
    "\n",
    "### Slicing to the rescue"
   ]
  },
  {
   "cell_type": "code",
   "execution_count": 3,
   "id": "bd95391c",
   "metadata": {},
   "outputs": [
    {
     "name": "stdout",
     "output_type": "stream",
     "text": [
      "txt\n"
     ]
    }
   ],
   "source": [
    "print(my_file.suffix[1:])"
   ]
  },
  {
   "cell_type": "code",
   "execution_count": null,
   "id": "4de685a6",
   "metadata": {},
   "outputs": [],
   "source": []
  }
 ],
 "metadata": {
  "kernelspec": {
   "display_name": "Python 3",
   "language": "python",
   "name": "python3"
  },
  "language_info": {
   "codemirror_mode": {
    "name": "ipython",
    "version": 3
   },
   "file_extension": ".py",
   "mimetype": "text/x-python",
   "name": "python",
   "nbconvert_exporter": "python",
   "pygments_lexer": "ipython3",
   "version": "3.9.12"
  }
 },
 "nbformat": 4,
 "nbformat_minor": 5
}
