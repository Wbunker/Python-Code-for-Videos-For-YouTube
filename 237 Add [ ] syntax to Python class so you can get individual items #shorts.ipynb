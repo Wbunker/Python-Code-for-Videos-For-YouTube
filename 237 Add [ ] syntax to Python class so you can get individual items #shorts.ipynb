{
 "cells": [
  {
   "cell_type": "code",
   "execution_count": 3,
   "id": "be60ca89",
   "metadata": {},
   "outputs": [
    {
     "name": "stdout",
     "output_type": "stream",
     "text": [
      "7\n"
     ]
    }
   ],
   "source": [
    "class Vector:\n",
    "    def __init__(self, x, y, z):\n",
    "        self.x = x\n",
    "        self.y = y\n",
    "        self.z = z\n",
    "        \n",
    "    def __getitem__(self, index):\n",
    "        if index == 0:\n",
    "            return self.x\n",
    "        elif index == 1:\n",
    "            return self.y\n",
    "        elif index == 2:\n",
    "            return self.z\n",
    "        else:\n",
    "            raise ValueError(\"Must be 0,1,2\")\n",
    "        \n",
    "    def __mul__(self, scalar):\n",
    "        x = self.x * scalar\n",
    "        y = self.y * scalar\n",
    "        z = self.z * scalar\n",
    "        return Vector(x, y, z)\n",
    "        \n",
    "    def __repr__(self):\n",
    "        s = f\"Vector({self.x}, {self.y}, {self.z})\"\n",
    "        return s\n",
    "        \n",
    "v = Vector(2, 7, -3)\n",
    "print(v[1])"
   ]
  },
  {
   "cell_type": "code",
   "execution_count": null,
   "id": "703bbcbd",
   "metadata": {},
   "outputs": [],
   "source": []
  }
 ],
 "metadata": {
  "kernelspec": {
   "display_name": "3.11.1",
   "language": "python",
   "name": "3.11.1"
  },
  "language_info": {
   "codemirror_mode": {
    "name": "ipython",
    "version": 3
   },
   "file_extension": ".py",
   "mimetype": "text/x-python",
   "name": "python",
   "nbconvert_exporter": "python",
   "pygments_lexer": "ipython3",
   "version": "3.11.1"
  }
 },
 "nbformat": 4,
 "nbformat_minor": 5
}
