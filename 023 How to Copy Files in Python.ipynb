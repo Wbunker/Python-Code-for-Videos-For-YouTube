{
 "cells": [
  {
   "cell_type": "markdown",
   "id": "961fb713",
   "metadata": {},
   "source": [
    "# Modern Way - shutil and pathlib\n",
    "\n",
    "shutil can use Path as of Python 3.5"
   ]
  },
  {
   "cell_type": "markdown",
   "id": "4ed8fc95",
   "metadata": {},
   "source": [
    "━━━━━━━━━━━━━━━━━━━━━━━━━━━━━━━━━━━━━━━━━━━━━━━━━━━━━━━━━━━━━━━━━━━━━━━━━━━━━━\n",
    "Function              preserves     supports          accepts     copies other\n",
    "                      permissions   directory dest.   file obj    metadata  \n",
    "――――――――――――――――――――――――――――――――――――――――――――――――――――――――――――――――――――――――――――――\n",
    "shutil.copy              ✔             ✔                 ☐           ☐\n",
    "shutil.copy2             ✔             ✔                 ☐           ✔\n",
    "━━━━━━━━━━━━━━━━━━━━━━━━━━━━━━━━━━━━━━━━━━━━━━━━━━━━━━━━━━━━━━━━━━━━━━━━━━━━━━"
   ]
  },
  {
   "cell_type": "code",
   "execution_count": 4,
   "id": "a1a9595f",
   "metadata": {},
   "outputs": [
    {
     "data": {
      "text/plain": [
       "PosixPath('data/copy_of_file_that_exists.txt')"
      ]
     },
     "execution_count": 4,
     "metadata": {},
     "output_type": "execute_result"
    }
   ],
   "source": [
    "import shutil\n",
    "from pathlib import Path\n",
    "\n",
    "from_path = Path(\"data/file_that_exists.txt\")\n",
    "to_path = Path(\"data/copy_of_file_that_exists.txt\")\n",
    "\n",
    "shutil.copy(from_path, to_path)"
   ]
  },
  {
   "cell_type": "markdown",
   "id": "52c84679",
   "metadata": {},
   "source": [
    "# Older Way - write the string out"
   ]
  },
  {
   "cell_type": "code",
   "execution_count": 5,
   "id": "715464a2",
   "metadata": {},
   "outputs": [
    {
     "data": {
      "text/plain": [
       "'data/another_copy_of_file_that_exists.txt'"
      ]
     },
     "execution_count": 5,
     "metadata": {},
     "output_type": "execute_result"
    }
   ],
   "source": [
    "shutil.copy(\"data/file_that_exists.txt\", \"data/another_copy_of_file_that_exists.txt\")"
   ]
  },
  {
   "cell_type": "code",
   "execution_count": null,
   "id": "b5b307b7",
   "metadata": {},
   "outputs": [],
   "source": []
  }
 ],
 "metadata": {
  "kernelspec": {
   "display_name": "Python 3 (ipykernel)",
   "language": "python",
   "name": "python3"
  },
  "language_info": {
   "codemirror_mode": {
    "name": "ipython",
    "version": 3
   },
   "file_extension": ".py",
   "mimetype": "text/x-python",
   "name": "python",
   "nbconvert_exporter": "python",
   "pygments_lexer": "ipython3",
   "version": "3.9.12"
  }
 },
 "nbformat": 4,
 "nbformat_minor": 5
}
