{
 "cells": [
  {
   "cell_type": "code",
   "execution_count": 1,
   "id": "b0da5a6b",
   "metadata": {},
   "outputs": [
    {
     "name": "stdout",
     "output_type": "stream",
     "text": [
      "sepal_length           7.0\n",
      "sepal_width            3.2\n",
      "petal_length           4.7\n",
      "petal_width            1.4\n",
      "species         versicolor\n",
      "Name: 50, dtype: object\n"
     ]
    }
   ],
   "source": [
    "import seaborn as sb\n",
    "df = sb.load_dataset('iris')\n",
    "\n",
    "print(df.iloc[50])"
   ]
  },
  {
   "cell_type": "code",
   "execution_count": null,
   "id": "5b14f84b",
   "metadata": {},
   "outputs": [],
   "source": []
  }
 ],
 "metadata": {
  "kernelspec": {
   "display_name": "3.11.1",
   "language": "python",
   "name": "3.11.1"
  },
  "language_info": {
   "codemirror_mode": {
    "name": "ipython",
    "version": 3
   },
   "file_extension": ".py",
   "mimetype": "text/x-python",
   "name": "python",
   "nbconvert_exporter": "python",
   "pygments_lexer": "ipython3",
   "version": "3.11.1"
  }
 },
 "nbformat": 4,
 "nbformat_minor": 5
}
