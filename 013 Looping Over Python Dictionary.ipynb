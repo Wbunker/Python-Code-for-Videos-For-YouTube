{
 "cells": [
  {
   "cell_type": "markdown",
   "id": "b2924d32",
   "metadata": {},
   "source": [
    "# Python Dictionaries Are Iterable\n",
    "\n",
    "This means the object has a \"magic\" method that allow loops to iterator over\n",
    "\n",
    "### Simple way to iterate"
   ]
  },
  {
   "cell_type": "code",
   "execution_count": 3,
   "id": "a284f086",
   "metadata": {},
   "outputs": [
    {
     "name": "stdout",
     "output_type": "stream",
     "text": [
      "a\n",
      "b\n",
      "c\n",
      "d\n",
      "e\n",
      "f\n"
     ]
    }
   ],
   "source": [
    "my_dict = {'a': \"Apple\", 'b': \"Baseball\", 'c': \"Cat\", 'd': \"Dog\", 'e': \"Eagle\", 'f': \"Football\"}\n",
    "\n",
    "for key in my_dict:\n",
    "    print(key)"
   ]
  },
  {
   "cell_type": "markdown",
   "id": "0368e212",
   "metadata": {},
   "source": [
    "### Nothing special about word key"
   ]
  },
  {
   "cell_type": "code",
   "execution_count": 4,
   "id": "9732031a",
   "metadata": {},
   "outputs": [
    {
     "name": "stdout",
     "output_type": "stream",
     "text": [
      "a\n",
      "b\n",
      "c\n",
      "d\n",
      "e\n",
      "f\n"
     ]
    }
   ],
   "source": [
    "for something in my_dict:\n",
    "    print(something)"
   ]
  },
  {
   "cell_type": "markdown",
   "id": "63a5455b",
   "metadata": {},
   "source": [
    "## But wait Will, I want the values"
   ]
  },
  {
   "cell_type": "code",
   "execution_count": 7,
   "id": "467323eb",
   "metadata": {},
   "outputs": [
    {
     "name": "stdout",
     "output_type": "stream",
     "text": [
      "Apple\n",
      "Baseball\n",
      "Cat\n",
      "Dog\n",
      "Eagle\n",
      "Football\n"
     ]
    }
   ],
   "source": [
    "for value in my_dict.values():\n",
    "    print(value)"
   ]
  },
  {
   "cell_type": "markdown",
   "id": "a95682dc",
   "metadata": {},
   "source": [
    "## That's not good enough!!!!! I want both."
   ]
  },
  {
   "cell_type": "code",
   "execution_count": 9,
   "id": "a5dc92f9",
   "metadata": {},
   "outputs": [
    {
     "name": "stdout",
     "output_type": "stream",
     "text": [
      "Apple has a key of 'a'\n",
      "Baseball has a key of 'b'\n",
      "Cat has a key of 'c'\n",
      "Dog has a key of 'd'\n",
      "Eagle has a key of 'e'\n",
      "Football has a key of 'f'\n"
     ]
    }
   ],
   "source": [
    "for key,value in my_dict.items():\n",
    "    print(f\"{value} has a key of '{key}'\")"
   ]
  },
  {
   "cell_type": "markdown",
   "id": "5f0ae2d7",
   "metadata": {},
   "source": [
    "# Did you say \"magic\" methods?"
   ]
  },
  {
   "cell_type": "code",
   "execution_count": null,
   "id": "7a695e02",
   "metadata": {},
   "outputs": [],
   "source": [
    "#  iterator object is an object that implements the __next__()"
   ]
  }
 ],
 "metadata": {
  "kernelspec": {
   "display_name": "Python 3 (ipykernel)",
   "language": "python",
   "name": "python3"
  },
  "language_info": {
   "codemirror_mode": {
    "name": "ipython",
    "version": 3
   },
   "file_extension": ".py",
   "mimetype": "text/x-python",
   "name": "python",
   "nbconvert_exporter": "python",
   "pygments_lexer": "ipython3",
   "version": "3.9.12"
  }
 },
 "nbformat": 4,
 "nbformat_minor": 5
}
