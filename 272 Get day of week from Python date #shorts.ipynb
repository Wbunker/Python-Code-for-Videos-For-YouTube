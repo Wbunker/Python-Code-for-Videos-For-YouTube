{
 "cells": [
  {
   "cell_type": "code",
   "execution_count": 5,
   "id": "50f675b7",
   "metadata": {},
   "outputs": [
    {
     "name": "stdout",
     "output_type": "stream",
     "text": [
      "5\n",
      "Saturday\n"
     ]
    }
   ],
   "source": [
    "from datetime import datetime\n",
    "import calendar\n",
    "\n",
    "t = datetime.today()\n",
    "# 0 is Monday\n",
    "wd = t.weekday()\n",
    "wt = calendar.day_name[wd]\n",
    "print(wd)\n",
    "print(wt)\n"
   ]
  },
  {
   "cell_type": "code",
   "execution_count": null,
   "id": "bb1b93a7",
   "metadata": {},
   "outputs": [],
   "source": []
  }
 ],
 "metadata": {
  "kernelspec": {
   "display_name": "3.11.1",
   "language": "python",
   "name": "3.11.1"
  },
  "language_info": {
   "codemirror_mode": {
    "name": "ipython",
    "version": 3
   },
   "file_extension": ".py",
   "mimetype": "text/x-python",
   "name": "python",
   "nbconvert_exporter": "python",
   "pygments_lexer": "ipython3",
   "version": "3.11.1"
  }
 },
 "nbformat": 4,
 "nbformat_minor": 5
}
