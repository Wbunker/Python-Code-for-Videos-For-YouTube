{
 "cells": [
  {
   "cell_type": "code",
   "execution_count": 3,
   "id": "6ccb2ab7",
   "metadata": {},
   "outputs": [
    {
     "name": "stdout",
     "output_type": "stream",
     "text": [
      "7.0\n",
      "7.0\n"
     ]
    }
   ],
   "source": [
    "from statistics import fmean\n",
    "from statistics import mean\n",
    "l = [\n",
    "    3, 4, 7, 10, 11.0\n",
    "]\n",
    "# > 3.8\n",
    "print(fmean(l))\n",
    "# > 3.4\n",
    "print(mean(l))"
   ]
  },
  {
   "cell_type": "code",
   "execution_count": null,
   "id": "f0b06c3c",
   "metadata": {},
   "outputs": [],
   "source": []
  }
 ],
 "metadata": {
  "kernelspec": {
   "display_name": "3.11.1",
   "language": "python",
   "name": "3.11.1"
  },
  "language_info": {
   "codemirror_mode": {
    "name": "ipython",
    "version": 3
   },
   "file_extension": ".py",
   "mimetype": "text/x-python",
   "name": "python",
   "nbconvert_exporter": "python",
   "pygments_lexer": "ipython3",
   "version": "3.11.1"
  }
 },
 "nbformat": 4,
 "nbformat_minor": 5
}
