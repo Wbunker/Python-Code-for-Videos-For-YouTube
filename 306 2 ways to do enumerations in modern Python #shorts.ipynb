{
 "cells": [
  {
   "cell_type": "code",
   "execution_count": 6,
   "id": "7f811182",
   "metadata": {},
   "outputs": [
    {
     "name": "stdout",
     "output_type": "stream",
     "text": [
      "Fruit.pear\n",
      "2\n"
     ]
    }
   ],
   "source": [
    "# added 3.4\n",
    "from enum import Enum\n",
    "\n",
    "Fruit = Enum('Fruit', 'apple pear grape')\n",
    "\n",
    "class Animal(Enum):\n",
    "    DOG = 1\n",
    "    CAT = 2\n",
    "\n",
    "print(Fruit.pear)\n",
    "print(Animal.CAT.value)"
   ]
  },
  {
   "cell_type": "code",
   "execution_count": null,
   "id": "8e025279",
   "metadata": {},
   "outputs": [],
   "source": []
  }
 ],
 "metadata": {
  "kernelspec": {
   "display_name": "3.11.1",
   "language": "python",
   "name": "3.11.1"
  },
  "language_info": {
   "codemirror_mode": {
    "name": "ipython",
    "version": 3
   },
   "file_extension": ".py",
   "mimetype": "text/x-python",
   "name": "python",
   "nbconvert_exporter": "python",
   "pygments_lexer": "ipython3",
   "version": "3.11.1"
  }
 },
 "nbformat": 4,
 "nbformat_minor": 5
}
