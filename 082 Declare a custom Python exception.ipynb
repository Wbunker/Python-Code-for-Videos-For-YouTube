{
 "cells": [
  {
   "cell_type": "markdown",
   "id": "aeb79ff6",
   "metadata": {},
   "source": [
    "# They made this easy in modern Python"
   ]
  },
  {
   "cell_type": "code",
   "execution_count": 1,
   "id": "17332688",
   "metadata": {},
   "outputs": [
    {
     "ename": "MySpecificException",
     "evalue": "Explanation about what went wrong",
     "output_type": "error",
     "traceback": [
      "\u001b[0;31m---------------------------------------------------------------------------\u001b[0m",
      "\u001b[0;31mMySpecificException\u001b[0m                       Traceback (most recent call last)",
      "Input \u001b[0;32mIn [1]\u001b[0m, in \u001b[0;36m<cell line: 7>\u001b[0;34m()\u001b[0m\n\u001b[1;32m      1\u001b[0m \u001b[38;5;28;01mclass\u001b[39;00m \u001b[38;5;21;01mMySpecificException\u001b[39;00m(\u001b[38;5;167;01mException\u001b[39;00m):\n\u001b[1;32m      2\u001b[0m     \u001b[38;5;28;01mpass\u001b[39;00m\n\u001b[0;32m----> 7\u001b[0m \u001b[38;5;28;01mraise\u001b[39;00m MySpecificException(\u001b[38;5;124m'\u001b[39m\u001b[38;5;124mExplanation about what went wrong\u001b[39m\u001b[38;5;124m'\u001b[39m)\n",
      "\u001b[0;31mMySpecificException\u001b[0m: Explanation about what went wrong"
     ]
    }
   ],
   "source": [
    "class MySpecificException(Exception):\n",
    "    pass\n",
    "\n",
    "\n",
    "\n",
    "\n",
    "raise MySpecificException('Explanation about what went wrong')"
   ]
  },
  {
   "cell_type": "code",
   "execution_count": null,
   "id": "59cb2436",
   "metadata": {},
   "outputs": [],
   "source": []
  }
 ],
 "metadata": {
  "kernelspec": {
   "display_name": "Python 3 (ipykernel)",
   "language": "python",
   "name": "python3"
  },
  "language_info": {
   "codemirror_mode": {
    "name": "ipython",
    "version": 3
   },
   "file_extension": ".py",
   "mimetype": "text/x-python",
   "name": "python",
   "nbconvert_exporter": "python",
   "pygments_lexer": "ipython3",
   "version": "3.9.12"
  }
 },
 "nbformat": 4,
 "nbformat_minor": 5
}
