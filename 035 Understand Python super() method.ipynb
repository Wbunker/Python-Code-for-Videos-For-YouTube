{
 "cells": [
  {
   "cell_type": "markdown",
   "id": "8206f0a6",
   "metadata": {},
   "source": [
    "# Why super?\n",
    "\n",
    "## Why not just call inherited class directly?"
   ]
  },
  {
   "cell_type": "code",
   "execution_count": 15,
   "id": "f6525c2a",
   "metadata": {},
   "outputs": [
    {
     "name": "stdout",
     "output_type": "stream",
     "text": [
      "Just made an animal\n",
      "That animal was a dog\n"
     ]
    }
   ],
   "source": [
    "class Animal():\n",
    "    def __init__(self):\n",
    "        print(\"Just made an animal\")\n",
    "        \n",
    "        \n",
    "class Dog(Animal):\n",
    "    def __init__(self):\n",
    "        Animal.__init__(self)\n",
    "        print(\"That animal was a dog\")\n",
    "        \n",
    "        \n",
    "myDog = Dog()"
   ]
  },
  {
   "cell_type": "markdown",
   "id": "5fc2c4c3",
   "metadata": {},
   "source": [
    "# With super the name isn't hardcoded\n",
    "\n",
    "## minor improvement but condsidered more pythonic"
   ]
  },
  {
   "cell_type": "code",
   "execution_count": 38,
   "id": "86f390ed",
   "metadata": {},
   "outputs": [
    {
     "name": "stdout",
     "output_type": "stream",
     "text": [
      "Just made an animal\n",
      "That animal was a dog\n",
      "That dog is a beagle\n"
     ]
    }
   ],
   "source": [
    "# Look what happens when you use\n",
    "class Beagle(Dog):\n",
    "    \n",
    "    def __init__(self):\n",
    "        super().__init__()\n",
    "        print(\"That dog is a beagle\")\n",
    "\n",
    "myDog = Beagle()        "
   ]
  },
  {
   "cell_type": "markdown",
   "id": "b9652bbe",
   "metadata": {},
   "source": [
    "# Where it really comes into play is \n",
    "# multiple inheritance\n",
    "\n",
    "\n",
    "## Matters when different classes have different methods"
   ]
  },
  {
   "cell_type": "code",
   "execution_count": 1,
   "id": "50e5a53a",
   "metadata": {},
   "outputs": [
    {
     "name": "stdout",
     "output_type": "stream",
     "text": [
      "Roaarrrrr\n",
      "Just made an animal sound\n",
      "\n",
      "I'm hungry\n",
      "Just made food from sunlight\n",
      "\n",
      "Time to make more of me\n",
      "Made new babies\n"
     ]
    }
   ],
   "source": [
    "class Animal():\n",
    "    def sound(self):\n",
    "        print(\"Just made an animal sound\")\n",
    "        \n",
    "    def reproduce(self):\n",
    "        print('Made new babies')\n",
    "\n",
    "class Plant():\n",
    "    def convert_sunlight(self):\n",
    "        print(\"Just made food from sunlight\")\n",
    "\n",
    "    def reproduce(self):\n",
    "        print('Made new seeds')\n",
    "        \n",
    "        \n",
    "class PlantBeast(Animal, Plant):\n",
    "    def sound(self):\n",
    "        print(\"Roaarrrrr\")\n",
    "        super().sound()\n",
    "        \n",
    "    def convert_sunlight(self):\n",
    "        print(\"I'm hungry\")\n",
    "        super().convert_sunlight()\n",
    "        \n",
    "    def reproduce(self):\n",
    "        print(\"Time to make more of me\")\n",
    "        super().reproduce()\n",
    "    \n",
    "myMonster = PlantBeast()\n",
    "\n",
    "myMonster.sound()\n",
    "print()\n",
    "myMonster.convert_sunlight()\n",
    "print()\n",
    "myMonster.reproduce()"
   ]
  },
  {
   "cell_type": "code",
   "execution_count": null,
   "id": "2fe6f681",
   "metadata": {},
   "outputs": [],
   "source": []
  }
 ],
 "metadata": {
  "kernelspec": {
   "display_name": "Python 3 (ipykernel)",
   "language": "python",
   "name": "python3"
  },
  "language_info": {
   "codemirror_mode": {
    "name": "ipython",
    "version": 3
   },
   "file_extension": ".py",
   "mimetype": "text/x-python",
   "name": "python",
   "nbconvert_exporter": "python",
   "pygments_lexer": "ipython3",
   "version": "3.9.12"
  }
 },
 "nbformat": 4,
 "nbformat_minor": 5
}
