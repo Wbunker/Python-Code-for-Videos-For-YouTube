{
 "cells": [
  {
   "cell_type": "markdown",
   "id": "083e6e33",
   "metadata": {},
   "source": [
    "# One of my favorite hacks\n",
    "\n",
    "## Use set and list"
   ]
  },
  {
   "cell_type": "code",
   "execution_count": 3,
   "id": "a63b6dea",
   "metadata": {},
   "outputs": [
    {
     "name": "stdout",
     "output_type": "stream",
     "text": [
      "[1, 2, 3, 4, 5, 6]\n"
     ]
    }
   ],
   "source": [
    "my_list = [1, 4, 2, 3, 2, 2, 3, 5, 6]\n",
    "\n",
    "de_dupped = list(set(my_list))\n",
    "print(de_dupped)"
   ]
  },
  {
   "cell_type": "markdown",
   "id": "3afc4cb1",
   "metadata": {},
   "source": [
    "## if original order is important use OrderedDict"
   ]
  },
  {
   "cell_type": "code",
   "execution_count": 5,
   "id": "01cad610",
   "metadata": {},
   "outputs": [
    {
     "name": "stdout",
     "output_type": "stream",
     "text": [
      "[1, 4, 2, 3, 5, 6]\n"
     ]
    }
   ],
   "source": [
    "from collections import OrderedDict\n",
    "\n",
    "list_dict = OrderedDict.fromkeys(my_list)\n",
    "\n",
    "de_dupped = list(list_dict)\n",
    "print(de_dupped)"
   ]
  },
  {
   "cell_type": "code",
   "execution_count": null,
   "id": "a510c5f7",
   "metadata": {},
   "outputs": [],
   "source": []
  }
 ],
 "metadata": {
  "kernelspec": {
   "display_name": "Python 3 (ipykernel)",
   "language": "python",
   "name": "python3"
  },
  "language_info": {
   "codemirror_mode": {
    "name": "ipython",
    "version": 3
   },
   "file_extension": ".py",
   "mimetype": "text/x-python",
   "name": "python",
   "nbconvert_exporter": "python",
   "pygments_lexer": "ipython3",
   "version": "3.9.7"
  }
 },
 "nbformat": 4,
 "nbformat_minor": 5
}
