{
 "cells": [
  {
   "cell_type": "markdown",
   "id": "da8b5060",
   "metadata": {},
   "source": [
    "# Grabbing substrings is called Slicing in Python\n",
    "\n",
    "## Helps to learn the vocabulary so it is easier to find help"
   ]
  },
  {
   "cell_type": "code",
   "execution_count": 3,
   "id": "5c5655bd",
   "metadata": {},
   "outputs": [
    {
     "name": "stdout",
     "output_type": "stream",
     "text": [
      "5\n",
      "spot run!\n"
     ]
    }
   ],
   "source": [
    "phrase = \"Watch spot run!\"\n",
    "\n",
    "\n",
    "# if you want everything after the first space\n",
    "first_space = phrase.index(\" \")\n",
    "\n",
    "print(first_space)\n",
    "\n",
    "\n",
    "every_thing_else = phrase[first_space+1:]\n",
    "\n",
    "print(every_thing_else)"
   ]
  },
  {
   "cell_type": "code",
   "execution_count": 5,
   "id": "5ad457a3",
   "metadata": {},
   "outputs": [
    {
     "name": "stdout",
     "output_type": "stream",
     "text": [
      "\"Watch\"\n"
     ]
    }
   ],
   "source": [
    "everything_before = phrase[:first_space]\n",
    "\n",
    "print(f'\"{everything_before}\"')"
   ]
  },
  {
   "cell_type": "markdown",
   "id": "878bacce",
   "metadata": {},
   "source": [
    "# I have a whole video on splicing which applies to lists and strings"
   ]
  },
  {
   "cell_type": "code",
   "execution_count": null,
   "id": "f6c4268c",
   "metadata": {},
   "outputs": [],
   "source": []
  }
 ],
 "metadata": {
  "kernelspec": {
   "display_name": "Python 3",
   "language": "python",
   "name": "python3"
  },
  "language_info": {
   "codemirror_mode": {
    "name": "ipython",
    "version": 3
   },
   "file_extension": ".py",
   "mimetype": "text/x-python",
   "name": "python",
   "nbconvert_exporter": "python",
   "pygments_lexer": "ipython3",
   "version": "3.9.12"
  }
 },
 "nbformat": 4,
 "nbformat_minor": 5
}
