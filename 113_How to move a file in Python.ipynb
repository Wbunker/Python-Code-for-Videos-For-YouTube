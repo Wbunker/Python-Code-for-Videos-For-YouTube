{
 "cells": [
  {
   "cell_type": "markdown",
   "id": "cb530c0b",
   "metadata": {},
   "source": [
    "# This is Modern Python so we will use pathlib (version 3.4 and up)"
   ]
  },
  {
   "cell_type": "code",
   "execution_count": null,
   "id": "7a151fe6",
   "metadata": {},
   "outputs": [],
   "source": [
    "from pathlib import Path\n",
    "\n",
    "Path('my_old_file.txt').rename('new_file_name.txt')"
   ]
  }
 ],
 "metadata": {
  "kernelspec": {
   "display_name": "3.10",
   "language": "python",
   "name": "python3.10"
  },
  "language_info": {
   "codemirror_mode": {
    "name": "ipython",
    "version": 3
   },
   "file_extension": ".py",
   "mimetype": "text/x-python",
   "name": "python",
   "nbconvert_exporter": "python",
   "pygments_lexer": "ipython3",
   "version": "3.10.7"
  }
 },
 "nbformat": 4,
 "nbformat_minor": 5
}
