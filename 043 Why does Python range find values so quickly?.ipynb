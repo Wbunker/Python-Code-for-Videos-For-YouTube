{
 "cells": [
  {
   "cell_type": "markdown",
   "id": "821f5111",
   "metadata": {},
   "source": [
    "# Ran into this making another video\n",
    "\n",
    "## I was completely flumoxed"
   ]
  },
  {
   "cell_type": "code",
   "execution_count": 4,
   "id": "50f60d1a",
   "metadata": {},
   "outputs": [
    {
     "name": "stdout",
     "output_type": "stream",
     "text": [
      "0.10536602599313483\n",
      "0.10303949902299792\n"
     ]
    }
   ],
   "source": [
    "import timeit\n",
    "\n",
    "\n",
    "last_value = 1000\n",
    "my_range = range(last_value)\n",
    "my_range_10x = range(last_value*10)\n",
    "\n",
    "\n",
    "value_to_look_for = last_value -1 \n",
    "print(timeit.timeit(lambda: value_to_look_for in my_range) )\n",
    "value_to_look_for = (last_value*10) -1 \n",
    "print(timeit.timeit(lambda: value_to_look_for in my_range_10x) )\n"
   ]
  },
  {
   "cell_type": "markdown",
   "id": "a76f369f",
   "metadata": {},
   "source": [
    "## This is what I expected\n",
    "\n",
    "That it would take linear time and grow as the list size got bigger"
   ]
  },
  {
   "cell_type": "code",
   "execution_count": 5,
   "id": "252a6017",
   "metadata": {},
   "outputs": [
    {
     "name": "stdout",
     "output_type": "stream",
     "text": [
      "5.994307373010088\n",
      "60.723232834017836\n"
     ]
    }
   ],
   "source": [
    "big_list = [i for i in range(last_value)]\n",
    "big_list_10x =[i for i in range(last_value*10)]\n",
    "\n",
    "\n",
    "value_to_look_for = last_value -1 \n",
    "print(timeit.timeit(lambda: value_to_look_for in big_list) )\n",
    "value_to_look_for = (last_value*10) -1 \n",
    "print(timeit.timeit(lambda: value_to_look_for in big_list_10x) )\n"
   ]
  },
  {
   "cell_type": "code",
   "execution_count": 6,
   "id": "43a6354a",
   "metadata": {},
   "outputs": [
    {
     "name": "stdout",
     "output_type": "stream",
     "text": [
      "<class 'range'>\n",
      "<class 'list'>\n"
     ]
    }
   ],
   "source": [
    "print(type(my_range))\n",
    "print(type(big_list))"
   ]
  },
  {
   "cell_type": "markdown",
   "id": "0cb79fd3",
   "metadata": {},
   "source": [
    "## But why????"
   ]
  },
  {
   "cell_type": "code",
   "execution_count": null,
   "id": "c7e76239",
   "metadata": {},
   "outputs": [],
   "source": [
    "# When you call in it looks for dunder method __contains__\n",
    "\n",
    "# A list searchs from first item to last item to see if it matches so the time\n",
    "# grows linearly with size of list\n",
    "\n",
    "# range checks to see if number falls within the range with < > so it takes constant time"
   ]
  }
 ],
 "metadata": {
  "kernelspec": {
   "display_name": "Python 3 (ipykernel)",
   "language": "python",
   "name": "python3"
  },
  "language_info": {
   "codemirror_mode": {
    "name": "ipython",
    "version": 3
   },
   "file_extension": ".py",
   "mimetype": "text/x-python",
   "name": "python",
   "nbconvert_exporter": "python",
   "pygments_lexer": "ipython3",
   "version": "3.9.12"
  }
 },
 "nbformat": 4,
 "nbformat_minor": 5
}
