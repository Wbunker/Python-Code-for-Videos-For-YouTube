{
 "cells": [
  {
   "cell_type": "code",
   "execution_count": 4,
   "id": "1a0e5dc2",
   "metadata": {},
   "outputs": [
    {
     "name": "stdout",
     "output_type": "stream",
     "text": [
      "0\n",
      "1\n",
      "1\n",
      "2\n",
      "3\n",
      "5\n",
      "8\n",
      "13\n",
      "21\n",
      "34\n",
      "55\n",
      "89\n",
      "144\n",
      "233\n"
     ]
    }
   ],
   "source": [
    "def fibonaci():\n",
    "    \n",
    "    n0,n1 = 0,1\n",
    "    yield n0\n",
    "    yield n1\n",
    "    \n",
    "    while True:\n",
    "        next = n0 + n1\n",
    "        n0,n1 = n1,next\n",
    "        yield next\n",
    "\n",
    "for i in fibonaci():\n",
    "    print(i)\n",
    "    \n",
    "    if i > 200:\n",
    "        break        "
   ]
  },
  {
   "cell_type": "code",
   "execution_count": null,
   "id": "a359770b",
   "metadata": {},
   "outputs": [],
   "source": []
  }
 ],
 "metadata": {
  "kernelspec": {
   "display_name": "Python 3 (ipykernel)",
   "language": "python",
   "name": "python3"
  },
  "language_info": {
   "codemirror_mode": {
    "name": "ipython",
    "version": 3
   },
   "file_extension": ".py",
   "mimetype": "text/x-python",
   "name": "python",
   "nbconvert_exporter": "python",
   "pygments_lexer": "ipython3",
   "version": "3.9.7"
  }
 },
 "nbformat": 4,
 "nbformat_minor": 5
}
