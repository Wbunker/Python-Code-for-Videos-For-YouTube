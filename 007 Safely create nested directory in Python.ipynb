{
 "cells": [
  {
   "cell_type": "markdown",
   "id": "2bac9eeb",
   "metadata": {},
   "source": [
    "# New School\n",
    "\n",
    "pathlib.makdir in Python 3.5"
   ]
  },
  {
   "cell_type": "code",
   "execution_count": 3,
   "id": "0406b4f1",
   "metadata": {},
   "outputs": [],
   "source": [
    "from pathlib import Path\n",
    "\n",
    "directory = 'nested/dir/that/isnt/there'\n",
    "\n",
    "Path(directory).mkdir(parents=True, exist_ok=True)"
   ]
  },
  {
   "cell_type": "markdown",
   "id": "687df614",
   "metadata": {},
   "source": [
    "# Old School\n",
    "\n",
    "os.makedirs - and exist_ok in Python 3.4"
   ]
  },
  {
   "cell_type": "code",
   "execution_count": 4,
   "id": "aaf07abb",
   "metadata": {},
   "outputs": [],
   "source": [
    "import os\n",
    "\n",
    "os.makedirs(directory, exist_ok=True)"
   ]
  },
  {
   "cell_type": "code",
   "execution_count": null,
   "id": "c96e4139",
   "metadata": {},
   "outputs": [],
   "source": []
  }
 ],
 "metadata": {
  "kernelspec": {
   "display_name": "Python 3",
   "language": "python",
   "name": "python3"
  },
  "language_info": {
   "codemirror_mode": {
    "name": "ipython",
    "version": 3
   },
   "file_extension": ".py",
   "mimetype": "text/x-python",
   "name": "python",
   "nbconvert_exporter": "python",
   "pygments_lexer": "ipython3",
   "version": "3.9.12"
  }
 },
 "nbformat": 4,
 "nbformat_minor": 5
}
