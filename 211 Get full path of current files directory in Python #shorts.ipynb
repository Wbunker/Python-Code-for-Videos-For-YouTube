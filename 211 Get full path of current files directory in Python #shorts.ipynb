{
 "cells": [
  {
   "cell_type": "code",
   "execution_count": 1,
   "id": "466e045c",
   "metadata": {},
   "outputs": [],
   "source": [
    "# this is needed for running in notebook\n",
    "__file__ = \"/Users/willbunker/python_content/Python-Code-for-Videos-For-YouTube/211 Get full path of current files directory in Python #shorts.py\""
   ]
  },
  {
   "cell_type": "code",
   "execution_count": 4,
   "id": "f8984e64",
   "metadata": {},
   "outputs": [
    {
     "name": "stdout",
     "output_type": "stream",
     "text": [
      "/Users/willbunker/python_content/Python-Code-for-Videos-For-YouTube\n"
     ]
    }
   ],
   "source": [
    "from pathlib import Path\n",
    "\n",
    "fp = Path(__file__).parent.resolve()\n",
    "\n",
    "print(fp)"
   ]
  },
  {
   "cell_type": "code",
   "execution_count": null,
   "id": "2e989c08",
   "metadata": {},
   "outputs": [],
   "source": []
  }
 ],
 "metadata": {
  "kernelspec": {
   "display_name": "Python 3 (ipykernel)",
   "language": "python",
   "name": "python3"
  },
  "language_info": {
   "codemirror_mode": {
    "name": "ipython",
    "version": 3
   },
   "file_extension": ".py",
   "mimetype": "text/x-python",
   "name": "python",
   "nbconvert_exporter": "python",
   "pygments_lexer": "ipython3",
   "version": "3.9.7"
  }
 },
 "nbformat": 4,
 "nbformat_minor": 5
}
