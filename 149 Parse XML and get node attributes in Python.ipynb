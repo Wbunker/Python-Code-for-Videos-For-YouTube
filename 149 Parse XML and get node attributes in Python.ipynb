{
 "cells": [
  {
   "cell_type": "code",
   "execution_count": 5,
   "id": "952c9de5",
   "metadata": {},
   "outputs": [
    {
     "name": "stdout",
     "output_type": "stream",
     "text": [
      "1\n",
      "2\n"
     ]
    }
   ],
   "source": [
    "import xml.etree.ElementTree as ET\n",
    "# <foo>\n",
    "#    <bar>\n",
    "#       <type foobar=\"1\"/>\n",
    "#       <type foobar=\"2\"/>\n",
    "#    </bar>\n",
    "# </foo>\n",
    "parse = ET.parse('data/foo.xml')\n",
    "root = parse.getroot()\n",
    "\n",
    "for tag in root.findall('bar/type'):\n",
    "    value = tag.get('foobar')\n",
    "    print(value)"
   ]
  },
  {
   "cell_type": "code",
   "execution_count": null,
   "id": "aa4b9789",
   "metadata": {},
   "outputs": [],
   "source": []
  }
 ],
 "metadata": {
  "kernelspec": {
   "display_name": "Python 3 (ipykernel)",
   "language": "python",
   "name": "python3"
  },
  "language_info": {
   "codemirror_mode": {
    "name": "ipython",
    "version": 3
   },
   "file_extension": ".py",
   "mimetype": "text/x-python",
   "name": "python",
   "nbconvert_exporter": "python",
   "pygments_lexer": "ipython3",
   "version": "3.9.7"
  }
 },
 "nbformat": 4,
 "nbformat_minor": 5
}
