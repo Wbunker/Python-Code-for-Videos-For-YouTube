{
 "cells": [
  {
   "cell_type": "markdown",
   "id": "f4d65bf6",
   "metadata": {},
   "source": [
    "# Once again pathlib to the rescue"
   ]
  },
  {
   "cell_type": "code",
   "execution_count": 1,
   "id": "14675264",
   "metadata": {},
   "outputs": [
    {
     "name": "stdout",
     "output_type": "stream",
     "text": [
      "True\n"
     ]
    }
   ],
   "source": [
    "from pathlib import Path\n",
    "\n",
    "\n",
    "real_directory = Path('data')\n",
    "\n",
    "print(real_directory.is_dir())"
   ]
  },
  {
   "cell_type": "code",
   "execution_count": 2,
   "id": "7379f990",
   "metadata": {},
   "outputs": [
    {
     "name": "stdout",
     "output_type": "stream",
     "text": [
      "False\n"
     ]
    }
   ],
   "source": [
    "not_directory = Path('not_here')\n",
    "\n",
    "print(not_directory.is_dir())"
   ]
  },
  {
   "cell_type": "code",
   "execution_count": null,
   "id": "fba9d90e",
   "metadata": {},
   "outputs": [],
   "source": []
  }
 ],
 "metadata": {
  "kernelspec": {
   "display_name": "Python 3 (ipykernel)",
   "language": "python",
   "name": "python3"
  },
  "language_info": {
   "codemirror_mode": {
    "name": "ipython",
    "version": 3
   },
   "file_extension": ".py",
   "mimetype": "text/x-python",
   "name": "python",
   "nbconvert_exporter": "python",
   "pygments_lexer": "ipython3",
   "version": "3.11.1"
  }
 },
 "nbformat": 4,
 "nbformat_minor": 5
}
