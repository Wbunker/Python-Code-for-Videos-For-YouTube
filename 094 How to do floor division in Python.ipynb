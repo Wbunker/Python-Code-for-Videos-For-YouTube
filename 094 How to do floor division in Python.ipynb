{
 "cells": [
  {
   "cell_type": "markdown",
   "id": "755425e4",
   "metadata": {},
   "source": [
    "# Use the // operator\n",
    "\n",
    "### It rounds DOWN to nearest integer"
   ]
  },
  {
   "cell_type": "code",
   "execution_count": 3,
   "id": "2060ca92",
   "metadata": {},
   "outputs": [
    {
     "name": "stdout",
     "output_type": "stream",
     "text": [
      "11.666666666666666\n",
      "\n",
      "11\n"
     ]
    }
   ],
   "source": [
    "print (35/3)\n",
    "\n",
    "print()\n",
    "print(35 // 3)"
   ]
  },
  {
   "cell_type": "code",
   "execution_count": 5,
   "id": "5ae6efb6",
   "metadata": {},
   "outputs": [
    {
     "name": "stdout",
     "output_type": "stream",
     "text": [
      "0\n"
     ]
    }
   ],
   "source": [
    "print( 1 // 2)"
   ]
  },
  {
   "cell_type": "code",
   "execution_count": null,
   "id": "5505f1c3",
   "metadata": {},
   "outputs": [],
   "source": []
  }
 ],
 "metadata": {
  "kernelspec": {
   "display_name": "Python 3 (ipykernel)",
   "language": "python",
   "name": "python3"
  },
  "language_info": {
   "codemirror_mode": {
    "name": "ipython",
    "version": 3
   },
   "file_extension": ".py",
   "mimetype": "text/x-python",
   "name": "python",
   "nbconvert_exporter": "python",
   "pygments_lexer": "ipython3",
   "version": "3.9.12"
  }
 },
 "nbformat": 4,
 "nbformat_minor": 5
}
