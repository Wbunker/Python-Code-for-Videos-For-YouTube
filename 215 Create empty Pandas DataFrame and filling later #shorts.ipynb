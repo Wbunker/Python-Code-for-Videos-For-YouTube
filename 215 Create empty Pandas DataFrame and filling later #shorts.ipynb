{
 "cells": [
  {
   "cell_type": "code",
   "execution_count": 8,
   "id": "24849f48",
   "metadata": {},
   "outputs": [
    {
     "name": "stdout",
     "output_type": "stream",
     "text": [
      "      x   y\n",
      "0    98  53\n",
      "1    21  48\n",
      "2    95  18\n",
      "3    66  35\n",
      "4    22  11\n",
      "..   ..  ..\n",
      "994  94  82\n",
      "995  60   0\n",
      "996  42  47\n",
      "997  18  50\n",
      "998  79  82\n",
      "\n",
      "[999 rows x 2 columns]\n"
     ]
    }
   ],
   "source": [
    "import pandas as pd\n",
    "from random import randint\n",
    "\n",
    "df = pd.DataFrame(\n",
    "    columns=['x', 'y']\n",
    ")\n",
    "\n",
    "pts = [\n",
    "    (randint(0,100),\n",
    "     randint(0,100))\n",
    "    for _ in range(1,1000)\n",
    "]\n",
    "\n",
    "df2 = pd.DataFrame(\n",
    "    pts,\n",
    "    columns=['x', 'y']\n",
    ")\n",
    "df = pd.concat([df, df2])"
   ]
  },
  {
   "cell_type": "code",
   "execution_count": null,
   "id": "f711e0c8",
   "metadata": {},
   "outputs": [],
   "source": []
  }
 ],
 "metadata": {
  "kernelspec": {
   "display_name": "Python 3 (ipykernel)",
   "language": "python",
   "name": "python3"
  },
  "language_info": {
   "codemirror_mode": {
    "name": "ipython",
    "version": 3
   },
   "file_extension": ".py",
   "mimetype": "text/x-python",
   "name": "python",
   "nbconvert_exporter": "python",
   "pygments_lexer": "ipython3",
   "version": "3.9.7"
  }
 },
 "nbformat": 4,
 "nbformat_minor": 5
}
