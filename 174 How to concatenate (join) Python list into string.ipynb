{
 "cells": [
  {
   "cell_type": "code",
   "execution_count": 1,
   "id": "16c44622",
   "metadata": {},
   "outputs": [
    {
     "name": "stdout",
     "output_type": "stream",
     "text": [
      "this-needs-to-be-a-string\n"
     ]
    }
   ],
   "source": [
    "words = [\n",
    "    \"this\",\n",
    "    \"needs\",\n",
    "    \"to\",\n",
    "    \"be\",\n",
    "    \"a\",\n",
    "    \"string\"\n",
    "]\n",
    "\n",
    "print(\"-\".join(words))"
   ]
  },
  {
   "cell_type": "code",
   "execution_count": null,
   "id": "68c77268",
   "metadata": {},
   "outputs": [],
   "source": []
  }
 ],
 "metadata": {
  "kernelspec": {
   "display_name": "Python 3 (ipykernel)",
   "language": "python",
   "name": "python3"
  },
  "language_info": {
   "codemirror_mode": {
    "name": "ipython",
    "version": 3
   },
   "file_extension": ".py",
   "mimetype": "text/x-python",
   "name": "python",
   "nbconvert_exporter": "python",
   "pygments_lexer": "ipython3",
   "version": "3.9.7"
  }
 },
 "nbformat": 4,
 "nbformat_minor": 5
}
