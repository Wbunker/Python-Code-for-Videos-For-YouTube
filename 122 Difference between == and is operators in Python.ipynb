{
 "cells": [
  {
   "cell_type": "markdown",
   "id": "04257c87",
   "metadata": {},
   "source": [
    "# == tests if values are the same\n",
    "# is tests if points to same memory\n"
   ]
  },
  {
   "cell_type": "code",
   "execution_count": 4,
   "id": "5c464b1f",
   "metadata": {},
   "outputs": [
    {
     "name": "stdout",
     "output_type": "stream",
     "text": [
      "dict1 == dict2: True\n",
      "dict1 is dict2 True\n",
      "140430129834624 140430129834624\n",
      "dict1 == dict3 True\n",
      "dict1 is dict3 False\n"
     ]
    }
   ],
   "source": [
    "dict1 = {'a': 1, 'b': 2}\n",
    "dict2 = dict1\n",
    "dict3 = dict1.copy()\n",
    "\n",
    "print(\"dict1 == dict2:\", dict1 == dict2)\n",
    "print(\"dict1 is dict2\", dict1 is dict2)\n",
    "print(id(dict1), id(dict2))\n",
    "print(\"dict1 == dict3\", dict1 == dict3)\n",
    "print(\"dict1 is dict3\", dict1 is dict3)\n"
   ]
  },
  {
   "cell_type": "code",
   "execution_count": null,
   "id": "cab5fe0f",
   "metadata": {},
   "outputs": [],
   "source": []
  }
 ],
 "metadata": {
  "kernelspec": {
   "display_name": "Python 3 (ipykernel)",
   "language": "python",
   "name": "python3"
  },
  "language_info": {
   "codemirror_mode": {
    "name": "ipython",
    "version": 3
   },
   "file_extension": ".py",
   "mimetype": "text/x-python",
   "name": "python",
   "nbconvert_exporter": "python",
   "pygments_lexer": "ipython3",
   "version": "3.9.7"
  }
 },
 "nbformat": 4,
 "nbformat_minor": 5
}
