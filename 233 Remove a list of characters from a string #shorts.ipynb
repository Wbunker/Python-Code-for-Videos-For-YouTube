{
 "cells": [
  {
   "cell_type": "code",
   "execution_count": 8,
   "id": "c86cbab5",
   "metadata": {},
   "outputs": [
    {
     "name": "stdout",
     "output_type": "stream",
     "text": [
      " Mary had a little lamb \n"
     ]
    }
   ],
   "source": [
    "s = \"\"\"\n",
    "Mary! had@ a\n",
    "little,,, .lamb\n",
    "\"\"\"\n",
    "# ord returns unicode code\n",
    "t = dict.fromkeys(\n",
    "    map(ord,\"!@,.\" ),\n",
    "    None)\n",
    "t[ord('\\n')] = ' '\n",
    "\n",
    "s1 = s.translate(t)\n",
    "\n",
    "print(s1)\n"
   ]
  },
  {
   "cell_type": "code",
   "execution_count": null,
   "id": "a4b6cb0d",
   "metadata": {},
   "outputs": [],
   "source": []
  }
 ],
 "metadata": {
  "kernelspec": {
   "display_name": "3.11.1",
   "language": "python",
   "name": "3.11.1"
  },
  "language_info": {
   "codemirror_mode": {
    "name": "ipython",
    "version": 3
   },
   "file_extension": ".py",
   "mimetype": "text/x-python",
   "name": "python",
   "nbconvert_exporter": "python",
   "pygments_lexer": "ipython3",
   "version": "3.11.1"
  }
 },
 "nbformat": 4,
 "nbformat_minor": 5
}
