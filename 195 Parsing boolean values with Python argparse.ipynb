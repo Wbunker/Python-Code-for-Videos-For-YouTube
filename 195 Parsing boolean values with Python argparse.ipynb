{
 "cells": [
  {
   "cell_type": "code",
   "execution_count": 6,
   "id": "1fc3979e",
   "metadata": {},
   "outputs": [
    {
     "name": "stdout",
     "output_type": "stream",
     "text": [
      "False\n",
      "True\n"
     ]
    }
   ],
   "source": [
    "import argparse\n",
    "\n",
    "p = argparse.ArgumentParser()\n",
    "p.add_argument(\n",
    "    '--feature',\n",
    "    action=argparse.BooleanOptionalAction)\n",
    "p.set_defaults(feature=True)\n",
    "\n",
    "cmd_line = [\"--no-feature\"]\n",
    "p_args = p.parse_args(cmd_line)\n",
    "print(p_args.feature)\n",
    "\n",
    "cmd_line = [\"--feature\"]\n",
    "p_args = p.parse_args(cmd_line)\n",
    "print(p_args.feature)"
   ]
  },
  {
   "cell_type": "code",
   "execution_count": null,
   "id": "8cd678f6",
   "metadata": {},
   "outputs": [],
   "source": []
  }
 ],
 "metadata": {
  "kernelspec": {
   "display_name": "Python 3 (ipykernel)",
   "language": "python",
   "name": "python3"
  },
  "language_info": {
   "codemirror_mode": {
    "name": "ipython",
    "version": 3
   },
   "file_extension": ".py",
   "mimetype": "text/x-python",
   "name": "python",
   "nbconvert_exporter": "python",
   "pygments_lexer": "ipython3",
   "version": "3.9.7"
  }
 },
 "nbformat": 4,
 "nbformat_minor": 5
}
