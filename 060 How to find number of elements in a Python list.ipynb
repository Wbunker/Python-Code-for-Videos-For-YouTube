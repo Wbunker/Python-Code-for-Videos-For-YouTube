{
 "cells": [
  {
   "cell_type": "markdown",
   "id": "3712c7ad",
   "metadata": {},
   "source": [
    "# TLDR answer use: len"
   ]
  },
  {
   "cell_type": "code",
   "execution_count": 1,
   "id": "53015140",
   "metadata": {},
   "outputs": [
    {
     "name": "stdout",
     "output_type": "stream",
     "text": [
      "4\n"
     ]
    }
   ],
   "source": [
    "items = ['pants', 'shirt', 'socks', 'shoes']\n",
    "\n",
    "\n",
    "\n",
    "print(len(items))"
   ]
  },
  {
   "cell_type": "markdown",
   "id": "7c12d234",
   "metadata": {},
   "source": [
    "# Let's look under the hood\n",
    "\n",
    "## Uses dunder len to provide so you can write your own"
   ]
  },
  {
   "cell_type": "code",
   "execution_count": 3,
   "id": "3c0cdb5c",
   "metadata": {},
   "outputs": [
    {
     "name": "stdout",
     "output_type": "stream",
     "text": [
      "17\n"
     ]
    }
   ],
   "source": [
    "class Bananas:\n",
    "    \n",
    "    def __init__(self, weight):\n",
    "        self.weight = weight\n",
    "        \n",
    "    def __len__(self):\n",
    "        return int(self.weight / 0.4)\n",
    "    \n",
    "    \n",
    "    \n",
    "my_bananas = Bananas(7)\n",
    "\n",
    "\n",
    "print(len(my_bananas))"
   ]
  },
  {
   "cell_type": "code",
   "execution_count": null,
   "id": "288ca601",
   "metadata": {},
   "outputs": [],
   "source": []
  }
 ],
 "metadata": {
  "kernelspec": {
   "display_name": "Python 3 (ipykernel)",
   "language": "python",
   "name": "python3"
  },
  "language_info": {
   "codemirror_mode": {
    "name": "ipython",
    "version": 3
   },
   "file_extension": ".py",
   "mimetype": "text/x-python",
   "name": "python",
   "nbconvert_exporter": "python",
   "pygments_lexer": "ipython3",
   "version": "3.9.12"
  }
 },
 "nbformat": 4,
 "nbformat_minor": 5
}
