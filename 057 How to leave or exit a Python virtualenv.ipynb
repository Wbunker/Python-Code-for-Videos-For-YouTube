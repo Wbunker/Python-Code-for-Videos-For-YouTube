{
 "cells": [
  {
   "cell_type": "markdown",
   "id": "09f53674",
   "metadata": {},
   "source": [
    "# This is one of those wishy washy depends answers\n",
    "\n",
    "\n",
    "## 1. Start with\n",
    "\n",
    "### deactivate\n",
    "\n",
    "## 2. Then try\n",
    "\n",
    "### source deactivate\n",
    "\n",
    "## 3. If you are using conda\n",
    "\n",
    "### conda deactivate"
   ]
  },
  {
   "cell_type": "code",
   "execution_count": null,
   "id": "97a68d31",
   "metadata": {},
   "outputs": [],
   "source": []
  }
 ],
 "metadata": {
  "kernelspec": {
   "display_name": "Python 3",
   "language": "python",
   "name": "python3"
  },
  "language_info": {
   "codemirror_mode": {
    "name": "ipython",
    "version": 3
   },
   "file_extension": ".py",
   "mimetype": "text/x-python",
   "name": "python",
   "nbconvert_exporter": "python",
   "pygments_lexer": "ipython3",
   "version": "3.9.12"
  }
 },
 "nbformat": 4,
 "nbformat_minor": 5
}
