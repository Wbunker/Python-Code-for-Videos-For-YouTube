{
 "cells": [
  {
   "cell_type": "markdown",
   "id": "ace420ed",
   "metadata": {},
   "source": [
    "# Most straightforward way is to use wraps from functools"
   ]
  },
  {
   "cell_type": "code",
   "execution_count": 6,
   "id": "007929d6",
   "metadata": {},
   "outputs": [
    {
     "name": "stdout",
     "output_type": "stream",
     "text": [
      "<b><i>Hello, Will. Want to play a game</i></b>\n",
      "<i><b>Fine leave me alone. Goodbye, Will.</b></i>\n"
     ]
    }
   ],
   "source": [
    "from functools import wraps\n",
    "\n",
    "\n",
    "def makebold(fn):\n",
    "    @wraps(fn)\n",
    "    def wrapper(*args, **kwargs):\n",
    "        return  f\"<b>{fn(*args, **kwargs)}</b>\"\n",
    "    return wrapper\n",
    "\n",
    "def makeitalic(fn):\n",
    "    @wraps(fn)\n",
    "    def wrapper(*args, **kwargs):\n",
    "        return f\"<i>{fn(*args, **kwargs)}</i>\"\n",
    "    return wrapper\n",
    "    \n",
    "@makebold\n",
    "@makeitalic\n",
    "def html_hello_world(name):\n",
    "    return f'Hello, {name}. Want to play a game'\n",
    "\n",
    "\n",
    "@makeitalic\n",
    "@makebold\n",
    "def html_goodbye_world(name):\n",
    "    return f'Fine leave me alone. Goodbye, {name}.'\n",
    "\n",
    "\n",
    "print(html_hello_world(\"Will\"))\n",
    "print(html_goodbye_world(\"Will\"))"
   ]
  },
  {
   "cell_type": "markdown",
   "id": "50411cf8",
   "metadata": {},
   "source": [
    "# There is a lot more to decorators\n",
    "# will create a set of videos just about this topic"
   ]
  },
  {
   "cell_type": "code",
   "execution_count": null,
   "id": "67240527",
   "metadata": {},
   "outputs": [],
   "source": []
  }
 ],
 "metadata": {
  "kernelspec": {
   "display_name": "Python 3",
   "language": "python",
   "name": "python3"
  },
  "language_info": {
   "codemirror_mode": {
    "name": "ipython",
    "version": 3
   },
   "file_extension": ".py",
   "mimetype": "text/x-python",
   "name": "python",
   "nbconvert_exporter": "python",
   "pygments_lexer": "ipython3",
   "version": "3.9.12"
  }
 },
 "nbformat": 4,
 "nbformat_minor": 5
}
