{
 "cells": [
  {
   "cell_type": "markdown",
   "id": "329145c8",
   "metadata": {},
   "source": [
    "# Embrace the goodness of pathlib's Path\n",
    "\n",
    "Around since Python 3.4\n",
    "\n",
    "## First let's get current directory\n",
    "\n",
    "cwd stands for Current Working Directory"
   ]
  },
  {
   "cell_type": "code",
   "execution_count": 1,
   "id": "2deba4c7",
   "metadata": {},
   "outputs": [
    {
     "name": "stdout",
     "output_type": "stream",
     "text": [
      "/home/bunker/teaching/python\n"
     ]
    }
   ],
   "source": [
    "from pathlib import Path\n",
    "\n",
    "\n",
    "print(Path.cwd())"
   ]
  },
  {
   "cell_type": "markdown",
   "id": "48213a21",
   "metadata": {},
   "source": [
    "## Now let's find the path to this file\n",
    "\n",
    "This won't work in a Jupyter notebook directly so we will import a file with it."
   ]
  },
  {
   "cell_type": "code",
   "execution_count": 4,
   "id": "505af69d",
   "metadata": {},
   "outputs": [
    {
     "name": "stdout",
     "output_type": "stream",
     "text": [
      "/home/bunker/teaching/python/modules/current_file.py\n"
     ]
    }
   ],
   "source": [
    "# using resolve() and __file__\n",
    "\n",
    "import modules.current_file"
   ]
  },
  {
   "cell_type": "code",
   "execution_count": null,
   "id": "4465e6ae",
   "metadata": {},
   "outputs": [],
   "source": []
  }
 ],
 "metadata": {
  "kernelspec": {
   "display_name": "Python 3 (ipykernel)",
   "language": "python",
   "name": "python3"
  },
  "language_info": {
   "codemirror_mode": {
    "name": "ipython",
    "version": 3
   },
   "file_extension": ".py",
   "mimetype": "text/x-python",
   "name": "python",
   "nbconvert_exporter": "python",
   "pygments_lexer": "ipython3",
   "version": "3.9.7"
  }
 },
 "nbformat": 4,
 "nbformat_minor": 5
}
