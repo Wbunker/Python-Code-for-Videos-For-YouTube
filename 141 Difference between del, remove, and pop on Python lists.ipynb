{
 "cells": [
  {
   "cell_type": "code",
   "execution_count": 9,
   "id": "75070f56",
   "metadata": {},
   "outputs": [
    {
     "name": "stdout",
     "output_type": "stream",
     "text": [
      "[1, 7, 8, 3, 7, 8]\n"
     ]
    }
   ],
   "source": [
    "nums = [1, 7, 8,\n",
    "        3, 3, 7,\n",
    "        8]\n",
    "\n",
    "nums.remove(3)\n",
    "print(nums)\n"
   ]
  },
  {
   "cell_type": "code",
   "execution_count": 10,
   "id": "51d7ceed",
   "metadata": {},
   "outputs": [
    {
     "name": "stdout",
     "output_type": "stream",
     "text": [
      "[1, 8, 3, 7, 8]\n"
     ]
    }
   ],
   "source": [
    "del nums[1]\n",
    "print(nums)"
   ]
  },
  {
   "cell_type": "code",
   "execution_count": 11,
   "id": "7fc99b37",
   "metadata": {},
   "outputs": [
    {
     "name": "stdout",
     "output_type": "stream",
     "text": [
      "[8, 3, 7, 8] 1\n"
     ]
    }
   ],
   "source": [
    "x = nums.pop(0)\n",
    "\n",
    "print(nums, x)"
   ]
  },
  {
   "cell_type": "code",
   "execution_count": null,
   "id": "d1bd281c",
   "metadata": {},
   "outputs": [],
   "source": []
  }
 ],
 "metadata": {
  "kernelspec": {
   "display_name": "Python 3 (ipykernel)",
   "language": "python",
   "name": "python3"
  },
  "language_info": {
   "codemirror_mode": {
    "name": "ipython",
    "version": 3
   },
   "file_extension": ".py",
   "mimetype": "text/x-python",
   "name": "python",
   "nbconvert_exporter": "python",
   "pygments_lexer": "ipython3",
   "version": "3.9.7"
  }
 },
 "nbformat": 4,
 "nbformat_minor": 5
}
