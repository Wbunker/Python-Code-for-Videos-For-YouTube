{
 "cells": [
  {
   "cell_type": "markdown",
   "id": "c1ede75e",
   "metadata": {},
   "source": [
    "# Sometimes Code Gets\n",
    "# Too Long For a Line"
   ]
  },
  {
   "cell_type": "code",
   "execution_count": 3,
   "id": "fbd16d8c",
   "metadata": {},
   "outputs": [
    {
     "name": "stdout",
     "output_type": "stream",
     "text": [
      "189040\n"
     ]
    }
   ],
   "source": [
    "x = 5 + 7 + 10 + 20 + 33333 + 78 + 33 + 44444 + 77777 + 33333\n",
    "\n",
    "print(x)"
   ]
  },
  {
   "cell_type": "markdown",
   "id": "03bd2f37",
   "metadata": {},
   "source": [
    "# Parenthesis Is Best Way"
   ]
  },
  {
   "cell_type": "code",
   "execution_count": 1,
   "id": "a8e7fd17",
   "metadata": {},
   "outputs": [
    {
     "name": "stdout",
     "output_type": "stream",
     "text": [
      "189040\n"
     ]
    }
   ],
   "source": [
    "x = ( 5 + 7 + 10 + \n",
    "     20 + 33333 + \n",
    "     78 + 33 + 44444 \n",
    "     + 77777 + 33333)\n",
    "\n",
    "print(x)"
   ]
  },
  {
   "cell_type": "code",
   "execution_count": null,
   "id": "1f8675bb",
   "metadata": {},
   "outputs": [],
   "source": []
  }
 ],
 "metadata": {
  "kernelspec": {
   "display_name": "Python 3 (ipykernel)",
   "language": "python",
   "name": "python3"
  },
  "language_info": {
   "codemirror_mode": {
    "name": "ipython",
    "version": 3
   },
   "file_extension": ".py",
   "mimetype": "text/x-python",
   "name": "python",
   "nbconvert_exporter": "python",
   "pygments_lexer": "ipython3",
   "version": "3.9.7"
  }
 },
 "nbformat": 4,
 "nbformat_minor": 5
}
