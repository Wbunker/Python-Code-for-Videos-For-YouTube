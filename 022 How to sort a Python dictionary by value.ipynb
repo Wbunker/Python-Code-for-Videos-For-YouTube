{
 "cells": [
  {
   "cell_type": "markdown",
   "id": "7ac04682",
   "metadata": {},
   "source": [
    "# If you are using Python 3.7 or better you are in luck\n",
    "\n",
    "Dictionaires preserve their order of insertion"
   ]
  },
  {
   "cell_type": "code",
   "execution_count": 2,
   "id": "9d566afb",
   "metadata": {},
   "outputs": [
    {
     "name": "stdout",
     "output_type": "stream",
     "text": [
      "{'one': 1, 'two': 2, 'three': 3, 'four': 4, 'five': 5, 'six': 6, 'seven': 7, 'eight': 8}\n"
     ]
    }
   ],
   "source": [
    "# dictionary without inital order\n",
    "\n",
    "jumbled = {\"eight\": 8, \"seven\": 7, \"six\": 6, \"five\": 5, \"three\": 3, \"one\": 1, \"two\": 2, \"four\": 4}\n",
    "\n",
    "\n",
    "sorted_dict = dict(sorted(jumbled.items(), key=lambda item: item[1]))\n",
    "\n",
    "\n",
    "print(sorted_dict)"
   ]
  },
  {
   "cell_type": "markdown",
   "id": "5593309b",
   "metadata": {},
   "source": [
    "## Older python will force you to turn dictionary into list or tuple to have sorted"
   ]
  },
  {
   "cell_type": "code",
   "execution_count": 3,
   "id": "8dbfe1b3",
   "metadata": {},
   "outputs": [
    {
     "name": "stdout",
     "output_type": "stream",
     "text": [
      "[('one', 1), ('two', 2), ('three', 3), ('four', 4), ('five', 5), ('six', 6), ('seven', 7), ('eight', 8)]\n"
     ]
    }
   ],
   "source": [
    "sorted_list = sorted(jumbled.items(), key=lambda item: item[1])\n",
    "\n",
    "print(sorted_list)"
   ]
  },
  {
   "cell_type": "code",
   "execution_count": null,
   "id": "c30b5ea4",
   "metadata": {},
   "outputs": [],
   "source": []
  }
 ],
 "metadata": {
  "kernelspec": {
   "display_name": "Python 3",
   "language": "python",
   "name": "python3"
  },
  "language_info": {
   "codemirror_mode": {
    "name": "ipython",
    "version": 3
   },
   "file_extension": ".py",
   "mimetype": "text/x-python",
   "name": "python",
   "nbconvert_exporter": "python",
   "pygments_lexer": "ipython3",
   "version": "3.9.12"
  }
 },
 "nbformat": 4,
 "nbformat_minor": 5
}
