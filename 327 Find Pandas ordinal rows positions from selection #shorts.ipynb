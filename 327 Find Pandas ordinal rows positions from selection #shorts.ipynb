{
 "cells": [
  {
   "cell_type": "code",
   "execution_count": 7,
   "id": "6b44ea70",
   "metadata": {},
   "outputs": [
    {
     "name": "stdout",
     "output_type": "stream",
     "text": [
      "Bob      True\n",
      "Sue     False\n",
      "Bill    False\n",
      "Ann      True\n",
      "Sal      True\n",
      "Name: Here, dtype: bool\n"
     ]
    }
   ],
   "source": [
    "import pandas as pd\n",
    "import numpy as np\n",
    "df = pd.DataFrame(\n",
    "    {'Here': [True, False, \n",
    "                 False, True, \n",
    "                 True]},\n",
    "       index=['Bob','Sue',\n",
    "              'Bill','Ann',\n",
    "              'Sal'])\n",
    "cond = (df['Here'] == True)\n",
    "print(cond)"
   ]
  },
  {
   "cell_type": "code",
   "execution_count": 8,
   "id": "6cad3bb6",
   "metadata": {},
   "outputs": [
    {
     "name": "stdout",
     "output_type": "stream",
     "text": [
      "Index(['Bob', 'Ann', 'Sal'], dtype='object')\n",
      "[0 3 4]\n",
      "     Here\n",
      "Bob  True\n",
      "Ann  True\n",
      "Sal  True\n"
     ]
    }
   ],
   "source": [
    "l1 = df[cond].index\n",
    "print(l1)\n",
    "\n",
    "l2 = np.flatnonzero(cond)\n",
    "print(l2)\n",
    "print(df.iloc[l2])"
   ]
  },
  {
   "cell_type": "code",
   "execution_count": null,
   "id": "d061e636",
   "metadata": {},
   "outputs": [],
   "source": []
  }
 ],
 "metadata": {
  "kernelspec": {
   "display_name": "3.11.1",
   "language": "python",
   "name": "3.11.1"
  },
  "language_info": {
   "codemirror_mode": {
    "name": "ipython",
    "version": 3
   },
   "file_extension": ".py",
   "mimetype": "text/x-python",
   "name": "python",
   "nbconvert_exporter": "python",
   "pygments_lexer": "ipython3",
   "version": "3.11.1"
  }
 },
 "nbformat": 4,
 "nbformat_minor": 5
}
