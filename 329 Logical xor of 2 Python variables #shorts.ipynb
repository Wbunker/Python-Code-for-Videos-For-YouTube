{
 "cells": [
  {
   "cell_type": "code",
   "execution_count": 9,
   "id": "9f741b15",
   "metadata": {},
   "outputs": [
    {
     "name": "stdout",
     "output_type": "stream",
     "text": [
      "11101011\n",
      "10000110\n",
      "01101101\n"
     ]
    }
   ],
   "source": [
    "# xor\n",
    "# discuss logic table\n",
    "# uses encryption, doubly linked list\n",
    "a = 235\n",
    "b = 134\n",
    "y = a ^ b #caret\n",
    "print(f\"{a:b}\")\n",
    "print(f\"{b:b}\")\n",
    "print(f\"0{y:b}\")"
   ]
  },
  {
   "cell_type": "code",
   "execution_count": null,
   "id": "1aa3fe5a",
   "metadata": {},
   "outputs": [],
   "source": []
  }
 ],
 "metadata": {
  "kernelspec": {
   "display_name": "3.11.1",
   "language": "python",
   "name": "3.11.1"
  },
  "language_info": {
   "codemirror_mode": {
    "name": "ipython",
    "version": 3
   },
   "file_extension": ".py",
   "mimetype": "text/x-python",
   "name": "python",
   "nbconvert_exporter": "python",
   "pygments_lexer": "ipython3",
   "version": "3.11.1"
  }
 },
 "nbformat": 4,
 "nbformat_minor": 5
}
