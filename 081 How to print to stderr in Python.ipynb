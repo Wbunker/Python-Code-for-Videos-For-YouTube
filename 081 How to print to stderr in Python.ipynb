{
 "cells": [
  {
   "cell_type": "markdown",
   "id": "79b7a7d9",
   "metadata": {},
   "source": [
    "# Print has a file parameter that allows this"
   ]
  },
  {
   "cell_type": "code",
   "execution_count": 2,
   "id": "a7b96d20",
   "metadata": {},
   "outputs": [
    {
     "name": "stderr",
     "output_type": "stream",
     "text": [
      "Bad stuff happened\n"
     ]
    }
   ],
   "source": [
    "import sys\n",
    "\n",
    "print(\"Bad stuff happened\", file=sys.stderr)"
   ]
  },
  {
   "cell_type": "code",
   "execution_count": null,
   "id": "9662f7a3",
   "metadata": {},
   "outputs": [],
   "source": []
  }
 ],
 "metadata": {
  "kernelspec": {
   "display_name": "Python 3 (ipykernel)",
   "language": "python",
   "name": "python3"
  },
  "language_info": {
   "codemirror_mode": {
    "name": "ipython",
    "version": 3
   },
   "file_extension": ".py",
   "mimetype": "text/x-python",
   "name": "python",
   "nbconvert_exporter": "python",
   "pygments_lexer": "ipython3",
   "version": "3.9.12"
  }
 },
 "nbformat": 4,
 "nbformat_minor": 5
}
