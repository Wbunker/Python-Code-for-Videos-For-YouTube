{
 "cells": [
  {
   "cell_type": "code",
   "execution_count": 1,
   "id": "17b412b4",
   "metadata": {},
   "outputs": [
    {
     "name": "stdout",
     "output_type": "stream",
     "text": [
      "/Library/Frameworks/Python.framework/Versions/3.9/lib/python3.9/os.py\n"
     ]
    }
   ],
   "source": [
    "import os\n",
    "import inspect\n",
    "\n",
    "print(inspect.getfile(os))"
   ]
  },
  {
   "cell_type": "code",
   "execution_count": null,
   "id": "d2c72dd7",
   "metadata": {},
   "outputs": [],
   "source": [
    "# How to reload a Python module"
   ]
  }
 ],
 "metadata": {
  "kernelspec": {
   "display_name": "Python 3 (ipykernel)",
   "language": "python",
   "name": "python3"
  },
  "language_info": {
   "codemirror_mode": {
    "name": "ipython",
    "version": 3
   },
   "file_extension": ".py",
   "mimetype": "text/x-python",
   "name": "python",
   "nbconvert_exporter": "python",
   "pygments_lexer": "ipython3",
   "version": "3.9.7"
  }
 },
 "nbformat": 4,
 "nbformat_minor": 5
}
