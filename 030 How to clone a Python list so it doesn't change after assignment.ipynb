{
 "cells": [
  {
   "cell_type": "markdown",
   "id": "cddd6c38",
   "metadata": {},
   "source": [
    "# Basic assignment with equal just copies memory location"
   ]
  },
  {
   "cell_type": "code",
   "execution_count": 1,
   "id": "8e7a2d3d",
   "metadata": {},
   "outputs": [
    {
     "name": "stdout",
     "output_type": "stream",
     "text": [
      "Building list of size 200000\n",
      "big_list: 200001 not_copy_list: 200001\n"
     ]
    }
   ],
   "source": [
    "from random import choice\n",
    "from string import ascii_lowercase\n",
    "\n",
    "number_of_strings = 200000\n",
    "print(f\"Building list of size {number_of_strings}\")\n",
    "big_list = [''.join([choice(ascii_lowercase) for _ in range(20)]) for _ in range(number_of_strings)]\n",
    "\n",
    "\n",
    "not_copy_list = big_list\n",
    "\n",
    "not_copy_list.append('a way cool string')\n",
    "print(f\"big_list: {len(big_list)} not_copy_list: {len(not_copy_list)}\")"
   ]
  },
  {
   "cell_type": "markdown",
   "id": "3740ff26",
   "metadata": {},
   "source": [
    "# 3 Basic ways (always more, but who needs more)\n",
    "\n",
    "\n",
    "## 1. list.copy()  - since Python 3.3"
   ]
  },
  {
   "cell_type": "code",
   "execution_count": 2,
   "id": "5e124508",
   "metadata": {},
   "outputs": [
    {
     "name": "stdout",
     "output_type": "stream",
     "text": [
      "big_list: 200001 new_big_list: 200002\n"
     ]
    }
   ],
   "source": [
    "new_big_list = big_list.copy()\n",
    "\n",
    "new_big_list.append('newstring')\n",
    "\n",
    "print(f\"big_list: {len(big_list)} new_big_list: {len(new_big_list)}\")"
   ]
  },
  {
   "cell_type": "markdown",
   "id": "36f6a1a1",
   "metadata": {},
   "source": [
    "## 2. Slice operator from start to finish [:]"
   ]
  },
  {
   "cell_type": "code",
   "execution_count": 3,
   "id": "c91c59b3",
   "metadata": {},
   "outputs": [
    {
     "name": "stdout",
     "output_type": "stream",
     "text": [
      "big_list: 200001 slice_copy: 200002\n"
     ]
    }
   ],
   "source": [
    "slice_copy = big_list[:]\n",
    "\n",
    "slice_copy.append('newstring')\n",
    "\n",
    "print(f\"big_list: {len(big_list)} slice_copy: {len(slice_copy)}\")"
   ]
  },
  {
   "cell_type": "markdown",
   "id": "3660835c",
   "metadata": {},
   "source": [
    "## 3. list constructor"
   ]
  },
  {
   "cell_type": "code",
   "execution_count": 4,
   "id": "2411712d",
   "metadata": {},
   "outputs": [
    {
     "name": "stdout",
     "output_type": "stream",
     "text": [
      "big_list: 200001 list_copy: 200002\n"
     ]
    }
   ],
   "source": [
    "list_copy = list(big_list)\n",
    "\n",
    "list_copy.append('newstring')\n",
    "\n",
    "print(f\"big_list: {len(big_list)} list_copy: {len(list_copy)}\")"
   ]
  },
  {
   "cell_type": "markdown",
   "id": "e864a4ff",
   "metadata": {},
   "source": [
    "## Does the technique impact speed?\n",
    "\n",
    "### DRUM ROLL"
   ]
  },
  {
   "cell_type": "code",
   "execution_count": 6,
   "id": "ec9c7903",
   "metadata": {},
   "outputs": [
    {
     "name": "stdout",
     "output_type": "stream",
     "text": [
      "The time with copy operation: 2.842876909970073\n",
      "The time with slice operation: 2.8635784020007122\n",
      "The time with list operation: 2.9448156529979315\n"
     ]
    }
   ],
   "source": [
    "import timeit\n",
    "\n",
    "def copy_method():\n",
    "    new_big_list = big_list.copy()\n",
    "\n",
    "def slice_method():\n",
    "    slice_copy = big_list[:]\n",
    "\n",
    "def list_method():\n",
    "    list_copy = list(big_list)\n",
    "    \n",
    "times_to_repeat = 500\n",
    "copy_time = sum(timeit.repeat(lambda: copy_method(), number=times_to_repeat))\n",
    "slice_time = sum(timeit.repeat(lambda: slice_method(), number=times_to_repeat))\n",
    "list_time = sum(timeit.repeat(lambda: list_method(), number=times_to_repeat))\n",
    "\n",
    "print(f\"The time with copy operation: {copy_time}\")\n",
    "print(f\"The time with slice operation: {slice_time}\")\n",
    "print(f\"The time with list operation: {list_time}\")"
   ]
  },
  {
   "cell_type": "code",
   "execution_count": null,
   "id": "933fff66",
   "metadata": {},
   "outputs": [],
   "source": []
  }
 ],
 "metadata": {
  "kernelspec": {
   "display_name": "Python 3 (ipykernel)",
   "language": "python",
   "name": "python3"
  },
  "language_info": {
   "codemirror_mode": {
    "name": "ipython",
    "version": 3
   },
   "file_extension": ".py",
   "mimetype": "text/x-python",
   "name": "python",
   "nbconvert_exporter": "python",
   "pygments_lexer": "ipython3",
   "version": "3.9.7"
  }
 },
 "nbformat": 4,
 "nbformat_minor": 5
}
