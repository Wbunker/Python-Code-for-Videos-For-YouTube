{
 "cells": [
  {
   "cell_type": "code",
   "execution_count": 2,
   "id": "f0279c01",
   "metadata": {},
   "outputs": [
    {
     "name": "stdout",
     "output_type": "stream",
     "text": [
      "..........\n",
      "done\n"
     ]
    }
   ],
   "source": [
    "from time import sleep\n",
    "\n",
    "for _ in range(10):\n",
    "    print('.', end='')\n",
    "    sleep(0.15)\n",
    "print('\\ndone')"
   ]
  },
  {
   "cell_type": "code",
   "execution_count": null,
   "id": "47529bfb",
   "metadata": {},
   "outputs": [],
   "source": []
  }
 ],
 "metadata": {
  "kernelspec": {
   "display_name": "Python 3 (ipykernel)",
   "language": "python",
   "name": "python3"
  },
  "language_info": {
   "codemirror_mode": {
    "name": "ipython",
    "version": 3
   },
   "file_extension": ".py",
   "mimetype": "text/x-python",
   "name": "python",
   "nbconvert_exporter": "python",
   "pygments_lexer": "ipython3",
   "version": "3.9.7"
  }
 },
 "nbformat": 4,
 "nbformat_minor": 5
}
