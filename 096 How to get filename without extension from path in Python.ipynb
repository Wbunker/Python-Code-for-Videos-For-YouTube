{
 "cells": [
  {
   "cell_type": "markdown",
   "id": "de2990c1",
   "metadata": {},
   "source": [
    "# Another reason I've learned to love pathlib"
   ]
  },
  {
   "cell_type": "code",
   "execution_count": 1,
   "id": "1e4b4a68",
   "metadata": {},
   "outputs": [
    {
     "name": "stdout",
     "output_type": "stream",
     "text": [
      "fruit\n"
     ]
    }
   ],
   "source": [
    "from pathlib import Path\n",
    "\n",
    "\n",
    "path = Path(\"data/fruit.json\")\n",
    "\n",
    "print(path.stem)"
   ]
  },
  {
   "cell_type": "code",
   "execution_count": null,
   "id": "e1d47bdb",
   "metadata": {},
   "outputs": [],
   "source": []
  }
 ],
 "metadata": {
  "kernelspec": {
   "display_name": "Python 3 (ipykernel)",
   "language": "python",
   "name": "python3"
  },
  "language_info": {
   "codemirror_mode": {
    "name": "ipython",
    "version": 3
   },
   "file_extension": ".py",
   "mimetype": "text/x-python",
   "name": "python",
   "nbconvert_exporter": "python",
   "pygments_lexer": "ipython3",
   "version": "3.11.1"
  }
 },
 "nbformat": 4,
 "nbformat_minor": 5
}
