{
 "cells": [
  {
   "cell_type": "code",
   "execution_count": null,
   "id": "dab5fae2",
   "metadata": {},
   "outputs": [],
   "source": [
    "class Person:\n",
    "    \n",
    "    def __init__(self, first_name, last_name):\n",
    "        self.first_name = first_name\n",
    "        self.last_name = last_name\n",
    "\n",
    "    @property\n",
    "    def full_name(self):\n",
    "        return self.first_name + ' ' + self.last_name\n",
    " "
   ]
  },
  {
   "cell_type": "code",
   "execution_count": 2,
   "id": "d25243c8",
   "metadata": {},
   "outputs": [
    {
     "name": "stdout",
     "output_type": "stream",
     "text": [
      "Will Bunker\n",
      "Will Bunker\n"
     ]
    }
   ],
   "source": [
    "class Person:\n",
    "    \n",
    "    def __init__(self, first_name, last_name):\n",
    "        self.first_name = first_name\n",
    "        self.last_name = last_name\n",
    "        self.full_name = first_name + ' ' + last_name\n",
    "        \n",
    "me = Person('Will', 'Bunker')\n",
    "\n",
    "print(me.full_name)\n",
    "\n",
    "me.first_name = 'William'\n",
    "\n",
    "print(me.full_name)"
   ]
  },
  {
   "cell_type": "code",
   "execution_count": 6,
   "id": "917c67ec",
   "metadata": {},
   "outputs": [
    {
     "name": "stdout",
     "output_type": "stream",
     "text": [
      "Will Bunker\n",
      "William Bunker\n"
     ]
    }
   ],
   "source": [
    "class Person:\n",
    "    \n",
    "    def __init__(self, first_name, last_name):\n",
    "        self.first_name = first_name\n",
    "        self.last_name = last_name\n",
    "\n",
    "    def full_name(self):\n",
    "        return self.first_name + ' ' + self.last_name\n",
    "    \n",
    "me = Person('Will', 'Bunker')\n",
    "\n",
    "print(me.full_name())\n",
    "\n",
    "me.first_name = 'William'\n",
    "\n",
    "print(me.full_name())"
   ]
  },
  {
   "cell_type": "code",
   "execution_count": 8,
   "id": "5a39efd4",
   "metadata": {},
   "outputs": [
    {
     "name": "stdout",
     "output_type": "stream",
     "text": [
      "Will Bunker\n",
      "William Bunker\n"
     ]
    }
   ],
   "source": [
    "class Person:\n",
    "    \n",
    "    def __init__(self, first_name, last_name):\n",
    "        self.first_name = first_name\n",
    "        self.last_name = last_name\n",
    "\n",
    "    @property\n",
    "    def full_name(self):\n",
    "        return self.first_name + ' ' + self.last_name\n",
    "    \n",
    "me = Person('Will', 'Bunker')\n",
    "\n",
    "print(me.full_name)\n",
    "\n",
    "me.first_name = 'William'\n",
    "\n",
    "print(me.full_name)"
   ]
  },
  {
   "cell_type": "code",
   "execution_count": null,
   "id": "11d2e7dd",
   "metadata": {},
   "outputs": [],
   "source": []
  }
 ],
 "metadata": {
  "kernelspec": {
   "display_name": "Python 3 (ipykernel)",
   "language": "python",
   "name": "python3"
  },
  "language_info": {
   "codemirror_mode": {
    "name": "ipython",
    "version": 3
   },
   "file_extension": ".py",
   "mimetype": "text/x-python",
   "name": "python",
   "nbconvert_exporter": "python",
   "pygments_lexer": "ipython3",
   "version": "3.9.7"
  }
 },
 "nbformat": 4,
 "nbformat_minor": 5
}
