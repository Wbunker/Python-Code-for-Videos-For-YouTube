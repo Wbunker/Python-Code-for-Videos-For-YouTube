{
 "cells": [
  {
   "cell_type": "markdown",
   "id": "425524b5",
   "metadata": {},
   "source": [
    "# Useful if you just need to look at a html page locally"
   ]
  },
  {
   "cell_type": "code",
   "execution_count": null,
   "id": "4059d711",
   "metadata": {},
   "outputs": [],
   "source": [
    "! python -m http.server\n",
    "\n",
    "# Then use browser http://0.0.0.0:8000/data/index.html"
   ]
  }
 ],
 "metadata": {
  "kernelspec": {
   "display_name": "Python 3",
   "language": "python",
   "name": "python3"
  },
  "language_info": {
   "codemirror_mode": {
    "name": "ipython",
    "version": 3
   },
   "file_extension": ".py",
   "mimetype": "text/x-python",
   "name": "python",
   "nbconvert_exporter": "python",
   "pygments_lexer": "ipython3",
   "version": "3.9.12"
  }
 },
 "nbformat": 4,
 "nbformat_minor": 5
}
