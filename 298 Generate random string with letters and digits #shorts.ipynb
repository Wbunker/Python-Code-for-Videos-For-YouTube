{
 "cells": [
  {
   "cell_type": "code",
   "execution_count": 9,
   "id": "71a32bdd",
   "metadata": {},
   "outputs": [
    {
     "data": {
      "text/plain": [
       "'FZRcxBqMYh'"
      ]
     },
     "execution_count": 9,
     "metadata": {},
     "output_type": "execute_result"
    }
   ],
   "source": [
    "import string\n",
    "from random import choices\n",
    "\n",
    "ch = (string.ascii_letters \n",
    "      + string.digits)\n",
    "\n",
    "\"\".join(choices(ch, k=10))"
   ]
  }
 ],
 "metadata": {
  "kernelspec": {
   "display_name": "3.11.1",
   "language": "python",
   "name": "3.11.1"
  },
  "language_info": {
   "codemirror_mode": {
    "name": "ipython",
    "version": 3
   },
   "file_extension": ".py",
   "mimetype": "text/x-python",
   "name": "python",
   "nbconvert_exporter": "python",
   "pygments_lexer": "ipython3",
   "version": "3.11.1"
  }
 },
 "nbformat": 4,
 "nbformat_minor": 5
}
