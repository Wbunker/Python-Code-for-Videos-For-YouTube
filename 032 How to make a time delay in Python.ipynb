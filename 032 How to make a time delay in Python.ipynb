{
 "cells": [
  {
   "cell_type": "markdown",
   "id": "4fd322db",
   "metadata": {},
   "source": [
    "# Many a time I have to do this when calling APIs to prevent errors"
   ]
  },
  {
   "cell_type": "code",
   "execution_count": 1,
   "id": "72a5930f",
   "metadata": {},
   "outputs": [
    {
     "name": "stdout",
     "output_type": "stream",
     "text": [
      "Sleeping for half a second\n",
      "Sleeping for half a second\n",
      "Sleeping for half a second\n",
      "Sleeping for half a second\n",
      "Sleeping for half a second\n",
      "Sleeping for half a second\n"
     ]
    }
   ],
   "source": [
    "import time\n",
    "\n",
    "\n",
    "for _ in range(6):\n",
    "    print('Sleeping for half a second')\n",
    "    time.sleep(0.5)"
   ]
  },
  {
   "cell_type": "code",
   "execution_count": null,
   "id": "cc4d15db",
   "metadata": {},
   "outputs": [],
   "source": []
  }
 ],
 "metadata": {
  "kernelspec": {
   "display_name": "Python 3",
   "language": "python",
   "name": "python3"
  },
  "language_info": {
   "codemirror_mode": {
    "name": "ipython",
    "version": 3
   },
   "file_extension": ".py",
   "mimetype": "text/x-python",
   "name": "python",
   "nbconvert_exporter": "python",
   "pygments_lexer": "ipython3",
   "version": "3.9.12"
  }
 },
 "nbformat": 4,
 "nbformat_minor": 5
}
