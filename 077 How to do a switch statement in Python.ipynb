{
 "cells": [
  {
   "cell_type": "markdown",
   "id": "3fca8b4c",
   "metadata": {},
   "source": [
    "# They added in Python 3.10 (latest version)"
   ]
  },
  {
   "cell_type": "code",
   "execution_count": 2,
   "id": "8ccd41ba",
   "metadata": {},
   "outputs": [
    {
     "name": "stdout",
     "output_type": "stream",
     "text": [
      "Cat\n"
     ]
    }
   ],
   "source": [
    "x = \"c\"\n",
    "\n",
    "\n",
    "match x:\n",
    "    case 'a':\n",
    "        print(\"Apple\")\n",
    "    case 'b':\n",
    "        print(\"Bat\")\n",
    "    case 'c':\n",
    "        print(\"Cat\")\n",
    "    case other:\n",
    "        print(\"Missing that letter\")\n"
   ]
  },
  {
   "cell_type": "markdown",
   "id": "493a9e95",
   "metadata": {},
   "source": [
    "# For other versions - if elif else"
   ]
  },
  {
   "cell_type": "code",
   "execution_count": 3,
   "id": "b3e3fa86",
   "metadata": {},
   "outputs": [
    {
     "name": "stdout",
     "output_type": "stream",
     "text": [
      "Cat\n"
     ]
    }
   ],
   "source": [
    "if x == 'a':\n",
    "    print(\"Apple\")\n",
    "elif x == 'b':\n",
    "    print(\"Bat\")\n",
    "elif x == 'c':\n",
    "    print(\"Cat\")\n",
    "else:\n",
    "    print(\"Missing that letter\")"
   ]
  },
  {
   "cell_type": "code",
   "execution_count": 1,
   "id": "84bae35e",
   "metadata": {},
   "outputs": [
    {
     "name": "stdout",
     "output_type": "stream",
     "text": [
      "3.10.7 (main, Sep 25 2022, 10:45:34) [GCC 9.4.0]\n"
     ]
    }
   ],
   "source": [
    "import sys\n",
    "\n",
    "print(sys.version)"
   ]
  },
  {
   "cell_type": "code",
   "execution_count": null,
   "id": "e5ab8b5e",
   "metadata": {},
   "outputs": [],
   "source": []
  }
 ],
 "metadata": {
  "kernelspec": {
   "display_name": "3.11.1",
   "language": "python",
   "name": "3.11.1"
  },
  "language_info": {
   "codemirror_mode": {
    "name": "ipython",
    "version": 3
   },
   "file_extension": ".py",
   "mimetype": "text/x-python",
   "name": "python",
   "nbconvert_exporter": "python",
   "pygments_lexer": "ipython3",
   "version": "3.11.1"
  }
 },
 "nbformat": 4,
 "nbformat_minor": 5
}
