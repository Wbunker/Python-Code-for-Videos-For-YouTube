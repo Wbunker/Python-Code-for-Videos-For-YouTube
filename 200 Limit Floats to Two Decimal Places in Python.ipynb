{
 "cells": [
  {
   "cell_type": "code",
   "execution_count": 8,
   "id": "9dfbf983",
   "metadata": {},
   "outputs": [
    {
     "name": "stdout",
     "output_type": "stream",
     "text": [
      "0.3333333333333333\n",
      "0.33\n"
     ]
    }
   ],
   "source": [
    "n = 1 / 3\n",
    "\n",
    "print(n)\n",
    "\n",
    "print(f\"{n:.2}\")"
   ]
  },
  {
   "cell_type": "code",
   "execution_count": null,
   "id": "1dad8c52",
   "metadata": {},
   "outputs": [],
   "source": []
  }
 ],
 "metadata": {
  "kernelspec": {
   "display_name": "Python 3 (ipykernel)",
   "language": "python",
   "name": "python3"
  },
  "language_info": {
   "codemirror_mode": {
    "name": "ipython",
    "version": 3
   },
   "file_extension": ".py",
   "mimetype": "text/x-python",
   "name": "python",
   "nbconvert_exporter": "python",
   "pygments_lexer": "ipython3",
   "version": "3.9.7"
  }
 },
 "nbformat": 4,
 "nbformat_minor": 5
}
