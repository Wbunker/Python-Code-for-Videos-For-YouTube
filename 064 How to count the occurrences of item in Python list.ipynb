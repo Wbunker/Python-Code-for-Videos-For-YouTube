{
 "cells": [
  {
   "cell_type": "markdown",
   "id": "297c9d57",
   "metadata": {},
   "source": [
    "# To Find a Small Number of Values Use count()"
   ]
  },
  {
   "cell_type": "code",
   "execution_count": 1,
   "id": "d0c20ac1",
   "metadata": {},
   "outputs": [
    {
     "name": "stdout",
     "output_type": "stream",
     "text": [
      "11\n"
     ]
    }
   ],
   "source": [
    "from random import randint\n",
    "\n",
    "range_size = 1000\n",
    "list = [randint(1, 100) for _ in range(range_size)]\n",
    "\n",
    "\n",
    "print(list.count(25))"
   ]
  },
  {
   "cell_type": "markdown",
   "id": "a2882cd7",
   "metadata": {},
   "source": [
    "# To systematically find all counts use Counter from collections"
   ]
  },
  {
   "cell_type": "code",
   "execution_count": 2,
   "id": "278560aa",
   "metadata": {},
   "outputs": [
    {
     "name": "stdout",
     "output_type": "stream",
     "text": [
      "Counter({85: 17, 61: 17, 13: 16, 76: 16, 20: 15, 57: 15, 95: 15, 74: 15, 45: 15, 69: 15, 42: 15, 5: 15, 36: 14, 22: 14, 79: 14, 93: 14, 30: 14, 26: 13, 68: 13, 88: 13, 28: 13, 92: 13, 6: 12, 27: 12, 1: 12, 84: 12, 66: 12, 65: 11, 55: 11, 24: 11, 25: 11, 73: 11, 78: 11, 39: 11, 83: 11, 19: 11, 48: 11, 52: 10, 77: 10, 40: 10, 32: 10, 35: 10, 3: 10, 58: 10, 67: 10, 90: 10, 33: 10, 91: 10, 7: 10, 60: 10, 47: 10, 51: 9, 81: 9, 64: 9, 17: 9, 34: 9, 71: 9, 46: 9, 80: 9, 21: 9, 44: 9, 89: 9, 75: 9, 43: 9, 29: 8, 9: 8, 98: 8, 62: 8, 23: 8, 56: 8, 54: 8, 59: 8, 31: 8, 18: 8, 94: 8, 82: 8, 86: 8, 2: 7, 72: 7, 53: 7, 38: 7, 16: 7, 70: 7, 97: 7, 50: 7, 14: 7, 12: 7, 10: 7, 49: 7, 15: 7, 96: 6, 41: 6, 8: 6, 4: 6, 37: 6, 87: 6, 100: 6, 99: 6, 11: 5, 63: 4})\n"
     ]
    }
   ],
   "source": [
    "from collections import Counter\n",
    "\n",
    "list_count = Counter(list)\n",
    "\n",
    "\n",
    "print(list_count)"
   ]
  },
  {
   "cell_type": "code",
   "execution_count": 3,
   "id": "7f82f19b",
   "metadata": {},
   "outputs": [
    {
     "name": "stdout",
     "output_type": "stream",
     "text": [
      "10\n"
     ]
    }
   ],
   "source": [
    "print(list_count[40])"
   ]
  },
  {
   "cell_type": "markdown",
   "id": "1a45104f",
   "metadata": {},
   "source": [
    "# Lets discuss performance of count vs Counter"
   ]
  },
  {
   "cell_type": "code",
   "execution_count": 5,
   "id": "56b85b9e",
   "metadata": {},
   "outputs": [
    {
     "name": "stdout",
     "output_type": "stream",
     "text": [
      "0.034137958999991724\n",
      "0.0016726660000188076\n"
     ]
    }
   ],
   "source": [
    "import timeit\n",
    "\n",
    "print(timeit.timeit(lambda: list.count(randint(1,100)), number=1000))\n",
    "\n",
    "print(timeit.timeit(lambda: list_count[randint(1,100)], number=1000))\n"
   ]
  },
  {
   "cell_type": "code",
   "execution_count": null,
   "id": "700a4213",
   "metadata": {},
   "outputs": [],
   "source": []
  }
 ],
 "metadata": {
  "kernelspec": {
   "display_name": "Python 3 (ipykernel)",
   "language": "python",
   "name": "python3"
  },
  "language_info": {
   "codemirror_mode": {
    "name": "ipython",
    "version": 3
   },
   "file_extension": ".py",
   "mimetype": "text/x-python",
   "name": "python",
   "nbconvert_exporter": "python",
   "pygments_lexer": "ipython3",
   "version": "3.9.12"
  }
 },
 "nbformat": 4,
 "nbformat_minor": 5
}
