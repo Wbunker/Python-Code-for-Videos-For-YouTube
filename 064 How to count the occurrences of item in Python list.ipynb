{
 "cells": [
  {
   "cell_type": "markdown",
   "id": "297c9d57",
   "metadata": {},
   "source": [
    "# To Find a Small Number of Values Use count()"
   ]
  },
  {
   "cell_type": "code",
   "execution_count": 9,
   "id": "d0c20ac1",
   "metadata": {},
   "outputs": [
    {
     "name": "stdout",
     "output_type": "stream",
     "text": [
      "11\n"
     ]
    }
   ],
   "source": [
    "from random import randint\n",
    "\n",
    "range_size = 1000\n",
    "list = [randint(1, 100) for _ in range(range_size)]\n",
    "\n",
    "\n",
    "print(list.count(25))"
   ]
  },
  {
   "cell_type": "markdown",
   "id": "a2882cd7",
   "metadata": {},
   "source": [
    "# To systematically find all counts use Counter from collections"
   ]
  },
  {
   "cell_type": "code",
   "execution_count": 10,
   "id": "278560aa",
   "metadata": {},
   "outputs": [
    {
     "name": "stdout",
     "output_type": "stream",
     "text": [
      "Counter({3: 18, 79: 17, 100: 17, 74: 16, 92: 15, 14: 15, 90: 15, 59: 14, 80: 14, 83: 14, 42: 14, 5: 13, 46: 13, 65: 13, 64: 13, 95: 13, 60: 13, 81: 12, 57: 12, 70: 12, 55: 12, 15: 12, 53: 12, 30: 12, 17: 12, 97: 12, 69: 12, 86: 12, 10: 12, 47: 12, 39: 12, 51: 12, 50: 11, 8: 11, 20: 11, 68: 11, 52: 11, 88: 11, 25: 11, 54: 11, 35: 11, 94: 11, 29: 11, 76: 11, 43: 11, 72: 10, 71: 10, 32: 10, 41: 10, 82: 10, 75: 10, 45: 10, 93: 10, 4: 10, 22: 9, 40: 9, 13: 9, 58: 9, 67: 9, 66: 9, 21: 9, 36: 9, 63: 9, 77: 9, 37: 9, 38: 9, 73: 9, 12: 9, 18: 9, 44: 9, 91: 9, 33: 8, 48: 8, 28: 8, 89: 8, 11: 8, 7: 8, 31: 8, 61: 8, 2: 8, 62: 8, 16: 8, 23: 8, 6: 8, 26: 7, 9: 7, 34: 7, 24: 7, 56: 6, 49: 6, 87: 5, 78: 5, 99: 5, 85: 5, 84: 5, 96: 4, 27: 4, 19: 4, 98: 3, 1: 3})\n"
     ]
    }
   ],
   "source": [
    "from collections import Counter\n",
    "\n",
    "list_count = Counter(list)\n",
    "\n",
    "\n",
    "print(list_count)"
   ]
  },
  {
   "cell_type": "code",
   "execution_count": 11,
   "id": "7f82f19b",
   "metadata": {},
   "outputs": [
    {
     "name": "stdout",
     "output_type": "stream",
     "text": [
      "9\n"
     ]
    }
   ],
   "source": [
    "print(list_count[40])"
   ]
  },
  {
   "cell_type": "markdown",
   "id": "1a45104f",
   "metadata": {},
   "source": [
    "# Lets discuss performance of Count\n",
    "\n",
    "It is polynomial time: n^2  (Hint this is not good)"
   ]
  },
  {
   "cell_type": "code",
   "execution_count": 16,
   "id": "56b85b9e",
   "metadata": {},
   "outputs": [
    {
     "name": "stdout",
     "output_type": "stream",
     "text": [
      "75.02261158404872\n",
      "79.88750169298146\n"
     ]
    }
   ],
   "source": [
    "import timeit\n",
    "\n",
    "bigger_list = list = [randint(1, 100) for _ in range(range_size * 1000)]\n",
    "\n",
    "\n",
    "print(timeit.timeit(lambda: list.count(randint(1,100)), number=10000))\n",
    "\n",
    "print(timeit.timeit(lambda: bigger_list.count(randint(1,100)), number=10000))\n"
   ]
  },
  {
   "cell_type": "code",
   "execution_count": null,
   "id": "700a4213",
   "metadata": {},
   "outputs": [],
   "source": []
  }
 ],
 "metadata": {
  "kernelspec": {
   "display_name": "Python 3",
   "language": "python",
   "name": "python3"
  },
  "language_info": {
   "codemirror_mode": {
    "name": "ipython",
    "version": 3
   },
   "file_extension": ".py",
   "mimetype": "text/x-python",
   "name": "python",
   "nbconvert_exporter": "python",
   "pygments_lexer": "ipython3",
   "version": "3.9.12"
  }
 },
 "nbformat": 4,
 "nbformat_minor": 5
}
