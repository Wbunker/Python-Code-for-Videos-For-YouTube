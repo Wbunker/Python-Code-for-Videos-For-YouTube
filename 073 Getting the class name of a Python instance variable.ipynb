{
 "cells": [
  {
   "cell_type": "markdown",
   "id": "486f2245",
   "metadata": {},
   "source": [
    "# Simple but somewhat awkward syntax"
   ]
  },
  {
   "cell_type": "code",
   "execution_count": 3,
   "id": "1fe58921",
   "metadata": {},
   "outputs": [
    {
     "name": "stdout",
     "output_type": "stream",
     "text": [
      "TeddyBear\n"
     ]
    }
   ],
   "source": [
    "class TeddyBear:\n",
    "    pass\n",
    "\n",
    "\n",
    "my_teddy = TeddyBear()\n",
    "\n",
    "\n",
    "\n",
    "print(type(my_teddy).__name__)"
   ]
  },
  {
   "cell_type": "code",
   "execution_count": null,
   "id": "4bf35034",
   "metadata": {},
   "outputs": [],
   "source": []
  }
 ],
 "metadata": {
  "kernelspec": {
   "display_name": "Python 3 (ipykernel)",
   "language": "python",
   "name": "python3"
  },
  "language_info": {
   "codemirror_mode": {
    "name": "ipython",
    "version": 3
   },
   "file_extension": ".py",
   "mimetype": "text/x-python",
   "name": "python",
   "nbconvert_exporter": "python",
   "pygments_lexer": "ipython3",
   "version": "3.9.12"
  }
 },
 "nbformat": 4,
 "nbformat_minor": 5
}
