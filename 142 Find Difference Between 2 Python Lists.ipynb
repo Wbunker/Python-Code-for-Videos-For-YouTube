{
 "cells": [
  {
   "cell_type": "code",
   "execution_count": 2,
   "id": "ec8a05d3",
   "metadata": {},
   "outputs": [
    {
     "name": "stdout",
     "output_type": "stream",
     "text": [
      "[1, 2, 3, 4] [8, 9, 10]\n"
     ]
    }
   ],
   "source": [
    "list1 = [1, 2, 3, \n",
    "         4, 5, 6, 7]\n",
    "list2 = [5, 6, 7,\n",
    "         8, 9, 10]\n",
    "\n",
    "diff1 = list(set(list1) \n",
    "             - set(list2))\n",
    "diff2 = list(set(list2) \n",
    "             - set(list1))\n",
    "\n",
    "print(diff1, diff2)"
   ]
  },
  {
   "cell_type": "code",
   "execution_count": null,
   "id": "0d3b8c23",
   "metadata": {},
   "outputs": [],
   "source": []
  }
 ],
 "metadata": {
  "kernelspec": {
   "display_name": "Python 3 (ipykernel)",
   "language": "python",
   "name": "python3"
  },
  "language_info": {
   "codemirror_mode": {
    "name": "ipython",
    "version": 3
   },
   "file_extension": ".py",
   "mimetype": "text/x-python",
   "name": "python",
   "nbconvert_exporter": "python",
   "pygments_lexer": "ipython3",
   "version": "3.9.7"
  }
 },
 "nbformat": 4,
 "nbformat_minor": 5
}
