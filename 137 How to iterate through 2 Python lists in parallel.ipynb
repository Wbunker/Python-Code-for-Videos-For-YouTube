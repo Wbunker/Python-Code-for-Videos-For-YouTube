{
 "cells": [
  {
   "cell_type": "code",
   "execution_count": 2,
   "id": "19a38943",
   "metadata": {},
   "outputs": [
    {
     "name": "stdout",
     "output_type": "stream",
     "text": [
      "apple is red color.\n",
      "banana is yellow color.\n",
      "grape is purple color.\n",
      "orange is orange color.\n"
     ]
    }
   ],
   "source": [
    "fruits = [\"apple\", \n",
    "          \"banana\",\n",
    "          \"grape\", \n",
    "          \"orange\"]\n",
    "colors = [\"red\",\n",
    "          \"yellow\",\n",
    "          \"purple\",\n",
    "          \"orange\"]\n",
    "for fruit, color in zip(fruits, colors):\n",
    "    print(f\"{fruit} is {color} color.\")"
   ]
  },
  {
   "cell_type": "code",
   "execution_count": null,
   "id": "b4bf5f5f",
   "metadata": {},
   "outputs": [],
   "source": []
  }
 ],
 "metadata": {
  "kernelspec": {
   "display_name": "Python 3 (ipykernel)",
   "language": "python",
   "name": "python3"
  },
  "language_info": {
   "codemirror_mode": {
    "name": "ipython",
    "version": 3
   },
   "file_extension": ".py",
   "mimetype": "text/x-python",
   "name": "python",
   "nbconvert_exporter": "python",
   "pygments_lexer": "ipython3",
   "version": "3.9.7"
  }
 },
 "nbformat": 4,
 "nbformat_minor": 5
}
