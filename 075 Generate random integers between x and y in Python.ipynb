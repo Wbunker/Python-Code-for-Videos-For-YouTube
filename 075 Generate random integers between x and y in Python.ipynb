{
 "cells": [
  {
   "cell_type": "markdown",
   "id": "5f7b5992",
   "metadata": {},
   "source": [
    "# There is a great library random with all sorts of goodies"
   ]
  },
  {
   "cell_type": "code",
   "execution_count": 3,
   "id": "e64be173",
   "metadata": {},
   "outputs": [
    {
     "name": "stdout",
     "output_type": "stream",
     "text": [
      "[7, 10, 20, 13, 13]\n"
     ]
    }
   ],
   "source": [
    "from random import randint\n",
    "\n",
    "\n",
    "\n",
    "throw_the_dice = [randint(1, 20) for _ in range(5)]\n",
    "\n",
    "print(throw_the_dice)"
   ]
  },
  {
   "cell_type": "markdown",
   "id": "39525ced",
   "metadata": {},
   "source": [
    "# You can start anywhere you want"
   ]
  },
  {
   "cell_type": "code",
   "execution_count": 4,
   "id": "29f89001",
   "metadata": {},
   "outputs": [
    {
     "name": "stdout",
     "output_type": "stream",
     "text": [
      "[11, 9, 11, 11, 11, 15, 11, 8, 11, 12]\n"
     ]
    }
   ],
   "source": [
    "weird_dice = [randint(5,15) for _ in range(10)]\n",
    "\n",
    "print(weird_dice)"
   ]
  },
  {
   "cell_type": "code",
   "execution_count": null,
   "id": "e622c97c",
   "metadata": {},
   "outputs": [],
   "source": []
  }
 ],
 "metadata": {
  "kernelspec": {
   "display_name": "Python 3 (ipykernel)",
   "language": "python",
   "name": "python3"
  },
  "language_info": {
   "codemirror_mode": {
    "name": "ipython",
    "version": 3
   },
   "file_extension": ".py",
   "mimetype": "text/x-python",
   "name": "python",
   "nbconvert_exporter": "python",
   "pygments_lexer": "ipython3",
   "version": "3.9.7"
  }
 },
 "nbformat": 4,
 "nbformat_minor": 5
}
