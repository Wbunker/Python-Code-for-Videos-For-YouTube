{
 "cells": [
  {
   "cell_type": "code",
   "execution_count": 1,
   "id": "fe9d9a1d",
   "metadata": {},
   "outputs": [
    {
     "name": "stdout",
     "output_type": "stream",
     "text": [
      "1: True\n",
      "2.5: True\n",
      "264xdsrf: False\n",
      "023: True\n",
      "1e3: True\n"
     ]
    }
   ],
   "source": [
    "#eafp principle\n",
    "def is_numeric(string_to_test):\n",
    "    \n",
    "    try:\n",
    "        float(string_to_test)\n",
    "        return True\n",
    "    except ValueError:\n",
    "        return False\n",
    "    \n",
    "    \n",
    "teststrings = [\"1\", \n",
    "               \"2.5\",\n",
    "               \"264xdsrf\",\n",
    "               \"023\",\n",
    "               '1e3']\n",
    "\n",
    "for test in teststrings:\n",
    "    print(f\"{test}: {is_numeric(test)}\")"
   ]
  },
  {
   "cell_type": "code",
   "execution_count": null,
   "id": "02560f4a",
   "metadata": {},
   "outputs": [],
   "source": []
  }
 ],
 "metadata": {
  "kernelspec": {
   "display_name": "Python 3 (ipykernel)",
   "language": "python",
   "name": "python3"
  },
  "language_info": {
   "codemirror_mode": {
    "name": "ipython",
    "version": 3
   },
   "file_extension": ".py",
   "mimetype": "text/x-python",
   "name": "python",
   "nbconvert_exporter": "python",
   "pygments_lexer": "ipython3",
   "version": "3.11.1"
  }
 },
 "nbformat": 4,
 "nbformat_minor": 5
}
