{
 "cells": [
  {
   "cell_type": "code",
   "execution_count": 3,
   "id": "aa9c9abf",
   "metadata": {},
   "outputs": [],
   "source": [
    "import requests\n",
    "from time import time, sleep\n",
    "import random\n",
    "from concurrent.futures import ThreadPoolExecutor\n",
    "from concurrent.futures import ProcessPoolExecutor\n",
    "from concurrent.futures import as_completed\n",
    "\n",
    "def io_task(datacall):\n",
    "    if datacall == 0:\n",
    "        sleep_time = 4\n",
    "    else:\n",
    "        sleep_time = 0.25\n",
    "    sleep(sleep_time)\n",
    "    return random.randint(1,10)\n",
    "    \n",
    "def cpu_task(datacall):\n",
    "    if datacall == 0:\n",
    "        sleep_time = 4\n",
    "    else:\n",
    "        sleep_time = 0.25\n",
    "    sleep(sleep_time)\n",
    "    return random.randint(1,10)"
   ]
  },
  {
   "cell_type": "code",
   "execution_count": 7,
   "id": "15d214b4",
   "metadata": {},
   "outputs": [
    {
     "name": "stdout",
     "output_type": "stream",
     "text": [
      "In Order time first job processed at: 4.0055999755859375, total time: 4.00589394569397\n",
      "As completed time first job processed at: 0.2550671100616455, total time: 4.001598358154297\n"
     ]
    }
   ],
   "source": [
    "sum_calls = 0\n",
    "with ThreadPoolExecutor(max_workers=20) as pool:\n",
    "    start_time = time()\n",
    "    first_work = None\n",
    "    for result in pool.map(io_task, range(40)):\n",
    "        if not first_work:\n",
    "            first_work = time()\n",
    "        sum_calls += result\n",
    "    in_order_time = first_work - start_time\n",
    "    total_time = time() - start_time\n",
    "\n",
    "print(f\"In Order time first job processed at: {in_order_time}, total time: {total_time}\") \n",
    "\n",
    "sum_calls = 0\n",
    "with ThreadPoolExecutor(max_workers=20) as pool:\n",
    "    start_time = time()\n",
    "    first_work = None\n",
    "      \n",
    "    futures = [pool.submit(io_task, datacall) for datacall in range(40)]\n",
    "    for future in as_completed(futures):\n",
    "        if not first_work:\n",
    "            first_work = time()\n",
    "        sum_calls += future.result()\n",
    "    as_completed_time = first_work - start_time\n",
    "    total_time = time() - start_time\n",
    "\n",
    "print(f\"As completed time first job processed at: {as_completed_time}, total time: {total_time}\")  "
   ]
  },
  {
   "cell_type": "code",
   "execution_count": null,
   "id": "a2758bd0",
   "metadata": {},
   "outputs": [],
   "source": [
    "def main():\n",
    "    sum_calls = 0\n",
    "    with ProcessPoolExecutor() as pool:\n",
    "        start_time = time()\n",
    "        first_work = None\n",
    "        for result in pool.map(cpu_task, range(40)):\n",
    "            if not first_work:\n",
    "                first_work = time()\n",
    "            sum_calls += result\n",
    "        in_order_time = first_work - start_time\n",
    "        total_time = time() - start_time\n",
    "\n",
    "    print(f\"In Order time first job processed at: {in_order_time}, total time: {total_time}\"\") \n",
    "\n",
    "    sum_calls = 0\n",
    "    with ProcessPoolExecutor() as pool:\n",
    "        start_time = time()\n",
    "        first_work = None\n",
    "\n",
    "        futures = [pool.submit(cpu_task, datacall) for datacall in range(40)]\n",
    "        for future in as_completed(futures):\n",
    "            if not first_work:\n",
    "                first_work = time()\n",
    "            sum_calls += future.result()\n",
    "        as_completed_time = first_work - start_time\n",
    "        total_time = time() - start_time\n",
    "\n",
    "    print(f\"As completed time first job processed at: {as_completed_time}, total time: {total_time}\"\")\n",
    "    \n",
    "if __name__ == '__main__':\n",
    "    main()"
   ]
  }
 ],
 "metadata": {
  "kernelspec": {
   "display_name": "Python 3 (ipykernel)",
   "language": "python",
   "name": "python3"
  },
  "language_info": {
   "codemirror_mode": {
    "name": "ipython",
    "version": 3
   },
   "file_extension": ".py",
   "mimetype": "text/x-python",
   "name": "python",
   "nbconvert_exporter": "python",
   "pygments_lexer": "ipython3",
   "version": "3.9.7"
  }
 },
 "nbformat": 4,
 "nbformat_minor": 5
}
