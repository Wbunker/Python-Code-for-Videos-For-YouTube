{
 "cells": [
  {
   "cell_type": "code",
   "execution_count": 2,
   "id": "d9ce5ef7",
   "metadata": {},
   "outputs": [
    {
     "name": "stdout",
     "output_type": "stream",
     "text": [
      "datetime.datetime(2022, 9, 3, 1, 44)\n"
     ]
    }
   ],
   "source": [
    "from datetime import datetime\n",
    "\n",
    "date_str = \"Sep 3 2022 1:44AM\"\n",
    "\n",
    "# called Format Codes\n",
    "fmt = \"%b %d %Y %I:%M%p\"\n",
    "\n",
    "date = datetime.strptime(\n",
    "    date_string, fmt\n",
    ")\n",
    "print(repr(date))"
   ]
  },
  {
   "cell_type": "code",
   "execution_count": null,
   "id": "031234ab",
   "metadata": {},
   "outputs": [],
   "source": []
  }
 ],
 "metadata": {
  "kernelspec": {
   "display_name": "Python 3 (ipykernel)",
   "language": "python",
   "name": "python3"
  },
  "language_info": {
   "codemirror_mode": {
    "name": "ipython",
    "version": 3
   },
   "file_extension": ".py",
   "mimetype": "text/x-python",
   "name": "python",
   "nbconvert_exporter": "python",
   "pygments_lexer": "ipython3",
   "version": "3.9.7"
  }
 },
 "nbformat": 4,
 "nbformat_minor": 5
}
