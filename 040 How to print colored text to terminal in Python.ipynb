{
 "cells": [
  {
   "cell_type": "markdown",
   "id": "693e8c98",
   "metadata": {},
   "source": [
    "# Not so easy to do this without importing a module\n",
    "\n",
    "## Curses is built in but not supported on Windows\n",
    "\n",
    "## Option 1 - Colorama\n",
    "\n",
    "https://github.com/tartley/colorama\n",
    "\n",
    "Doesn't work in Jupyter Notebook\n",
    "\n",
    "I put this at top because the syntax is easier to understand"
   ]
  },
  {
   "cell_type": "code",
   "execution_count": 8,
   "id": "462c4540",
   "metadata": {},
   "outputs": [
    {
     "name": "stdout",
     "output_type": "stream",
     "text": [
      "Way to go team\n",
      "All the way to state\n",
      "back to normal now\n"
     ]
    }
   ],
   "source": [
    "from colorama import init,  Fore, Back, Style\n",
    "init()\n",
    "\n",
    "print(f\"{Fore.RED}Way to go team\")\n",
    "print(f\"{Back.GREEN}All the way to state{Style.RESET_ALL}\")\n",
    "print('back to normal now')"
   ]
  },
  {
   "cell_type": "markdown",
   "id": "a1a8aa99",
   "metadata": {},
   "source": [
    "## Option 2 - Termcolor\n",
    "\n",
    "https://github.com/termcolor/termcolorz"
   ]
  },
  {
   "cell_type": "code",
   "execution_count": 6,
   "id": "96eb5226",
   "metadata": {},
   "outputs": [
    {
     "name": "stdout",
     "output_type": "stream",
     "text": [
      "\u001b[5m\u001b[7m\u001b[31mHello, world!\u001b[0m\n",
      "\u001b[40m\u001b[32mGoodby Cruel World\u001b[0m\n"
     ]
    }
   ],
   "source": [
    "\n",
    "from termcolor import colored, cprint\n",
    "\n",
    "text = colored(\"Hello, world!\", \"red\", attrs=[\"reverse\", \"blink\"])\n",
    "\n",
    "print(text)\n",
    "\n",
    "cprint(\"Goodby Cruel World\", \"green\", \"on_grey\")"
   ]
  },
  {
   "cell_type": "markdown",
   "id": "6f06f6d1",
   "metadata": {},
   "source": [
    "## On Windows one more step is needed\n",
    "\n",
    "This call won't work on other platforms"
   ]
  },
  {
   "cell_type": "code",
   "execution_count": 10,
   "id": "55f2ba83",
   "metadata": {},
   "outputs": [],
   "source": [
    "import os\n",
    "\n",
    "if os.name == 'nt':\n",
    "    os.system('color')"
   ]
  },
  {
   "cell_type": "code",
   "execution_count": null,
   "id": "f9e2b957",
   "metadata": {},
   "outputs": [],
   "source": []
  }
 ],
 "metadata": {
  "kernelspec": {
   "display_name": "Python 3",
   "language": "python",
   "name": "python3"
  },
  "language_info": {
   "codemirror_mode": {
    "name": "ipython",
    "version": 3
   },
   "file_extension": ".py",
   "mimetype": "text/x-python",
   "name": "python",
   "nbconvert_exporter": "python",
   "pygments_lexer": "ipython3",
   "version": "3.9.12"
  }
 },
 "nbformat": 4,
 "nbformat_minor": 5
}
