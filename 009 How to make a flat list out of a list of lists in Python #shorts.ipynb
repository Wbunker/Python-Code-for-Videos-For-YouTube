{
 "cells": [
  {
   "cell_type": "code",
   "execution_count": 5,
   "id": "c102d6db",
   "metadata": {},
   "outputs": [
    {
     "name": "stdout",
     "output_type": "stream",
     "text": [
      "[1, 2, 3, 4, 5, 6, 7, 8, 9, 10, 11, 12]\n"
     ]
    }
   ],
   "source": [
    "l = [\n",
    "[1, 2, 3], \n",
    "[4, 5, 6],\n",
    "[7, 8],\n",
    "[9, 10, 11, 12]]\n",
    "\n",
    "from itertools import chain\n",
    "\n",
    "flat_list = list(chain(*l))\n",
    "\n",
    "print(flat_list)"
   ]
  },
  {
   "cell_type": "code",
   "execution_count": 3,
   "id": "53704c64",
   "metadata": {},
   "outputs": [
    {
     "name": "stdout",
     "output_type": "stream",
     "text": [
      "[1, 2, 3, 4, 5, 6, 7, 8, 9, 10, 11, 12]\n"
     ]
    }
   ],
   "source": [
    "from operator import iconcat\n",
    "# iconcat +=\n",
    "from functools import reduce\n",
    "print(reduce(iconcat, l, []))"
   ]
  },
  {
   "cell_type": "code",
   "execution_count": null,
   "id": "600c7568",
   "metadata": {},
   "outputs": [],
   "source": []
  }
 ],
 "metadata": {
  "kernelspec": {
   "display_name": "Python 3 (ipykernel)",
   "language": "python",
   "name": "python3"
  },
  "language_info": {
   "codemirror_mode": {
    "name": "ipython",
    "version": 3
   },
   "file_extension": ".py",
   "mimetype": "text/x-python",
   "name": "python",
   "nbconvert_exporter": "python",
   "pygments_lexer": "ipython3",
   "version": "3.9.7"
  }
 },
 "nbformat": 4,
 "nbformat_minor": 5
}
