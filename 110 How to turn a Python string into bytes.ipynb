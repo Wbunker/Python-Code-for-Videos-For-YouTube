{
 "cells": [
  {
   "cell_type": "code",
   "execution_count": 6,
   "id": "3c18250e",
   "metadata": {},
   "outputs": [
    {
     "name": "stdout",
     "output_type": "stream",
     "text": [
      "\u0000\u0001\u0000À\u0001\u0000\u0000\u0000\u0004\n"
     ]
    }
   ],
   "source": [
    "webpage = \"\\x00\\x01\\x00\\xc0\\x01\\x00\\x00\\x00\\x04\"\n",
    "print(webpage)"
   ]
  },
  {
   "cell_type": "code",
   "execution_count": 9,
   "id": "5f0b84b6",
   "metadata": {},
   "outputs": [
    {
     "name": "stdout",
     "output_type": "stream",
     "text": [
      "b'\\x00\\x01\\x00\\xc3\\x80\\x01\\x00\\x00\\x00\\x04'\n",
      "<class 'bytes'>\n"
     ]
    }
   ],
   "source": [
    "encoded_webpage = webpage.encode('utf-8')\n",
    "print(encoded_webpage)\n",
    "print(type(encoded_webpage))"
   ]
  },
  {
   "cell_type": "code",
   "execution_count": null,
   "id": "7dce240a",
   "metadata": {},
   "outputs": [],
   "source": []
  }
 ],
 "metadata": {
  "kernelspec": {
   "display_name": "Python 3 (ipykernel)",
   "language": "python",
   "name": "python3"
  },
  "language_info": {
   "codemirror_mode": {
    "name": "ipython",
    "version": 3
   },
   "file_extension": ".py",
   "mimetype": "text/x-python",
   "name": "python",
   "nbconvert_exporter": "python",
   "pygments_lexer": "ipython3",
   "version": "3.9.7"
  }
 },
 "nbformat": 4,
 "nbformat_minor": 5
}
