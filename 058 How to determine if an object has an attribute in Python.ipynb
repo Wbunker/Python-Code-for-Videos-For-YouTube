{
 "cells": [
  {
   "cell_type": "markdown",
   "id": "639da2df",
   "metadata": {},
   "source": [
    "# We start with the most Pythonic answer first\n",
    "\n",
    "Try and ask for forgiveness later"
   ]
  },
  {
   "cell_type": "code",
   "execution_count": 5,
   "id": "da2093ff",
   "metadata": {},
   "outputs": [
    {
     "name": "stdout",
     "output_type": "stream",
     "text": [
      "I don't know about the size of the fruit\n"
     ]
    }
   ],
   "source": [
    "class Fruit():\n",
    "    \n",
    "    def __init__(self, color, quantity):\n",
    "        self.color = color\n",
    "        self.quantity = quantity\n",
    "\n",
    "banana = Fruit('yellow', 2)\n",
    "        \n",
    "try:\n",
    "    print(banana.size)\n",
    "except AttributeError:\n",
    "    print(\"I don't know about the size of the fruit\")"
   ]
  },
  {
   "cell_type": "markdown",
   "id": "ec43ac55",
   "metadata": {},
   "source": [
    "# However hasattr has you covered"
   ]
  },
  {
   "cell_type": "code",
   "execution_count": 7,
   "id": "22316f57",
   "metadata": {},
   "outputs": [
    {
     "name": "stdout",
     "output_type": "stream",
     "text": [
      "Does banana have color: True\n",
      "Does banana have size: False\n"
     ]
    }
   ],
   "source": [
    "print(f\"Does banana have color: {hasattr(banana, 'color')}\")\n",
    "\n",
    "print(f\"Does banana have size: {hasattr(banana, 'size')}\")"
   ]
  },
  {
   "cell_type": "code",
   "execution_count": null,
   "id": "de8ed919",
   "metadata": {},
   "outputs": [],
   "source": []
  }
 ],
 "metadata": {
  "kernelspec": {
   "display_name": "Python 3",
   "language": "python",
   "name": "python3"
  },
  "language_info": {
   "codemirror_mode": {
    "name": "ipython",
    "version": 3
   },
   "file_extension": ".py",
   "mimetype": "text/x-python",
   "name": "python",
   "nbconvert_exporter": "python",
   "pygments_lexer": "ipython3",
   "version": "3.9.12"
  }
 },
 "nbformat": 4,
 "nbformat_minor": 5
}
