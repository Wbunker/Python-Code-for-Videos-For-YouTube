{
 "cells": [
  {
   "cell_type": "code",
   "execution_count": 6,
   "id": "20b9b46d",
   "metadata": {},
   "outputs": [
    {
     "name": "stdout",
     "output_type": "stream",
     "text": [
      "You kill the dragon\n"
     ]
    }
   ],
   "source": [
    "from random import randint\n",
    "\n",
    "x = randint(1,6)\n",
    "y = randint(1,6)\n",
    "\n",
    "if x > 3 and y > 3:\n",
    "    print(\"You kill the dragon\")\n",
    "else:\n",
    "    print(\"You mom is going to be sad\")"
   ]
  },
  {
   "cell_type": "code",
   "execution_count": null,
   "id": "34d287f0",
   "metadata": {},
   "outputs": [],
   "source": [
    "# check out the video about using if/else in list comprehension"
   ]
  }
 ],
 "metadata": {
  "kernelspec": {
   "display_name": "Python 3 (ipykernel)",
   "language": "python",
   "name": "python3"
  },
  "language_info": {
   "codemirror_mode": {
    "name": "ipython",
    "version": 3
   },
   "file_extension": ".py",
   "mimetype": "text/x-python",
   "name": "python",
   "nbconvert_exporter": "python",
   "pygments_lexer": "ipython3",
   "version": "3.9.7"
  }
 },
 "nbformat": 4,
 "nbformat_minor": 5
}
