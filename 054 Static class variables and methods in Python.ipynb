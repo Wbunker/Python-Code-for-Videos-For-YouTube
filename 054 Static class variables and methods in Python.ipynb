{
 "cells": [
  {
   "cell_type": "markdown",
   "id": "e1376749",
   "metadata": {},
   "source": [
    "# First let's cover static variables"
   ]
  },
  {
   "cell_type": "code",
   "execution_count": 3,
   "id": "37e82244",
   "metadata": {},
   "outputs": [
    {
     "name": "stdout",
     "output_type": "stream",
     "text": [
      "Static variable:5\n",
      "Instance variable:36\n"
     ]
    }
   ],
   "source": [
    "class Animal:\n",
    "    \n",
    "    average_speed = 5\n",
    "    \n",
    "    def __init__(self, average_speed):\n",
    "        self.average_speed = average_speed\n",
    "        \n",
    "        \n",
    "        \n",
    "leopard = Animal(36)\n",
    "\n",
    "\n",
    "\n",
    "print(f\"Static variable:{Animal.average_speed}\")\n",
    "print(f\"Instance variable:{leopard.average_speed}\")"
   ]
  },
  {
   "cell_type": "markdown",
   "id": "db504110",
   "metadata": {},
   "source": [
    "# What about static methods - @staticmethod"
   ]
  },
  {
   "cell_type": "code",
   "execution_count": 6,
   "id": "bd39a442",
   "metadata": {},
   "outputs": [
    {
     "name": "stdout",
     "output_type": "stream",
     "text": [
      "Animal class is used to track the top speeds of all animals\n"
     ]
    }
   ],
   "source": [
    "class Animal:\n",
    "    \n",
    "    average_speed = 5\n",
    "    \n",
    "    def __init__(self, average_speed):\n",
    "        self.average_speed = average_speed\n",
    "        \n",
    "    @staticmethod\n",
    "    def purpose():\n",
    "        return  'Animal class is used to track the top speeds of all animals'\n",
    "    \n",
    "    \n",
    "print(Animal.purpose())"
   ]
  },
  {
   "cell_type": "code",
   "execution_count": null,
   "id": "5808f705",
   "metadata": {},
   "outputs": [],
   "source": []
  }
 ],
 "metadata": {
  "kernelspec": {
   "display_name": "Python 3",
   "language": "python",
   "name": "python3"
  },
  "language_info": {
   "codemirror_mode": {
    "name": "ipython",
    "version": 3
   },
   "file_extension": ".py",
   "mimetype": "text/x-python",
   "name": "python",
   "nbconvert_exporter": "python",
   "pygments_lexer": "ipython3",
   "version": "3.9.12"
  }
 },
 "nbformat": 4,
 "nbformat_minor": 5
}
