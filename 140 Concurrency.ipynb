{
 "cells": [
  {
   "cell_type": "code",
   "execution_count": 2,
   "id": "d3649c7d",
   "metadata": {},
   "outputs": [],
   "source": [
    "import requests\n",
    "import time\n",
    "from concurrent.futures import ThreadPoolExecutor, ProcessPoolExecutor\n",
    "\n",
    "top_sites = [\n",
    "\"google.com\",\"youtube.com\",\n",
    "\"facebook.com\",\"twitter.com\",\"instagram.com\",\n",
    "\"baidu.com\",\"wikipedia.org\",\"yandex.ru\",\n",
    "\"yahoo.com\",\"xvideos.com\",\"whatsapp.com\",\n",
    "\"pornhub.com\",\"amazon.com\",\"xnxx.com\",\n",
    "\"yahoo.co.jp\",\"live.com\",\"netflix.com\",\n",
    "\"docomo.ne.jp\",\"tiktok.com\",\"reddit.com\",\n",
    "\"office.com\",\"linkedin.com\",\"dzen.ru\",\n",
    "\"vk.com\",\"xhamster.com\",\"samsung.com\",\n",
    "\"turbopages.org\",\"mail.ru\",\"bing.com\",\n",
    "\"naver.com\",\"twitch.tv\",\n",
    "\"discord.com\",\"bilibili.com\",\"pinterest.com\",\n",
    "\"zoom.us\",\"weather.com\",\"qq.com\",\n",
    "\"microsoft.com\",\"globo.com\",\"roblox.com\",\n",
    "\"duckduckgo.com\",\"news.yahoo.co.jp\",\n",
    "\"quora.com\",\"msn.com\",\n",
    "\"fandom.com\",\"ebay.com\",\"aajtak.in\",\"ok.ru\"\n",
    "]"
   ]
  },
  {
   "cell_type": "code",
   "execution_count": 5,
   "id": "16dd587b",
   "metadata": {},
   "outputs": [],
   "source": [
    "def io_task(url):\n",
    "    task_url = url\n",
    "    if len(url.split('.')) < 3:\n",
    "        task_url ='www.' + url\n",
    "\n",
    "    task_url = f'https://{task_url}'\n",
    "    try:\n",
    "        result = requests.get(task_url)\n",
    "    except Exception as e:\n",
    "        print(e)\n",
    "        return \"\"\n",
    "\n",
    "    return result.text\n",
    "\n",
    "def cpu_task(n):\n",
    "    return sum(i * i for i in range(n))"
   ]
  },
  {
   "cell_type": "code",
   "execution_count": 6,
   "id": "6297b2b2",
   "metadata": {},
   "outputs": [
    {
     "name": "stdout",
     "output_type": "stream",
     "text": [
      "Serial time: 48.04726266860962, total_page_length: 10738620\n",
      "Parallel time: 2.549304962158203, total_page_length: 10654086\n"
     ]
    }
   ],
   "source": [
    "start_time = time.time()\n",
    "all_front_pages = \"\"\n",
    "for url in top_sites:\n",
    "    all_front_pages += io_task(url)\n",
    "serial_time = time.time() - start_time\n",
    "\n",
    "print(f\"Serial time: {serial_time}, total_page_length: {len(all_front_pages)}\")  # 50.68988633155823\n",
    "\n",
    "all_front_pages = \"\"\n",
    "with ThreadPoolExecutor(max_workers=100) as pool:\n",
    "    start_time = time.time()\n",
    "    for result in pool.map(io_task, top_sites):\n",
    "        all_front_pages += result\n",
    "    parallel_time = time.time() - start_time\n",
    "\n",
    "print(f\"Parallel time: {parallel_time}, total_page_length: {len(all_front_pages)}\") # 5.000000238418579\n"
   ]
  },
  {
   "cell_type": "code",
   "execution_count": 7,
   "id": "b64441a0",
   "metadata": {},
   "outputs": [
    {
     "name": "stdout",
     "output_type": "stream",
     "text": [
      "Serial time: 6.376753091812134\n",
      "Parallel time: 0.5333807468414307\n"
     ]
    }
   ],
   "source": [
    "start_time = time.time()\n",
    "for x in range(500000, 500200):\n",
    "    cpu_task(x)\n",
    "\n",
    "serial_time = time.time() - start_time\n",
    "print(f\"Serial time: {serial_time}\")  \n",
    "\n",
    "with ProcessPoolExecutor() as pool:\n",
    "    start_time = time.time()\n",
    "    for result in pool.map(cpu_task, range(500000, 500200)):\n",
    "        pass\n",
    "    parallel_time = time.time() - start_time\n",
    "print(f\"Parallel time: {parallel_time}\")"
   ]
  },
  {
   "cell_type": "code",
   "execution_count": null,
   "id": "2818a4c8",
   "metadata": {},
   "outputs": [],
   "source": []
  }
 ],
 "metadata": {
  "kernelspec": {
   "display_name": "3.10",
   "language": "python",
   "name": "python3.10"
  },
  "language_info": {
   "codemirror_mode": {
    "name": "ipython",
    "version": 3
   },
   "file_extension": ".py",
   "mimetype": "text/x-python",
   "name": "python",
   "nbconvert_exporter": "python",
   "pygments_lexer": "ipython3",
   "version": "3.10.7"
  }
 },
 "nbformat": 4,
 "nbformat_minor": 5
}
