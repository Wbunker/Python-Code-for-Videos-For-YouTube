{
 "cells": [
  {
   "cell_type": "code",
   "execution_count": 3,
   "id": "638e730f",
   "metadata": {},
   "outputs": [
    {
     "name": "stdout",
     "output_type": "stream",
     "text": [
      "What is best\n",
      "the \t programming \n",
      "language\n"
     ]
    }
   ],
   "source": [
    "import re\n",
    "\n",
    "phrase = \"\"\"What is best\n",
    "the \\t programming \n",
    "language\"\"\"\n",
    "print(phrase)"
   ]
  },
  {
   "cell_type": "code",
   "execution_count": 6,
   "id": "1bbdef7e",
   "metadata": {},
   "outputs": [
    {
     "name": "stdout",
     "output_type": "stream",
     "text": [
      "Whatisbesttheprogramminglanguage\n"
     ]
    }
   ],
   "source": [
    "shrunk = re.sub('\\s', \n",
    "                '',\n",
    "                phrase)\n",
    "print(shrunk)"
   ]
  },
  {
   "cell_type": "code",
   "execution_count": null,
   "id": "085e599d",
   "metadata": {},
   "outputs": [],
   "source": []
  }
 ],
 "metadata": {
  "kernelspec": {
   "display_name": "Python 3 (ipykernel)",
   "language": "python",
   "name": "python3"
  },
  "language_info": {
   "codemirror_mode": {
    "name": "ipython",
    "version": 3
   },
   "file_extension": ".py",
   "mimetype": "text/x-python",
   "name": "python",
   "nbconvert_exporter": "python",
   "pygments_lexer": "ipython3",
   "version": "3.9.7"
  }
 },
 "nbformat": 4,
 "nbformat_minor": 5
}
