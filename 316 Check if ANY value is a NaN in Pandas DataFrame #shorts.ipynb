{
 "cells": [
  {
   "cell_type": "code",
   "execution_count": 5,
   "id": "3225b54c",
   "metadata": {},
   "outputs": [
    {
     "name": "stdout",
     "output_type": "stream",
     "text": [
      "True\n",
      "False\n",
      "survived       False\n",
      "pclass         False\n",
      "sex            False\n",
      "age             True\n",
      "sibsp          False\n",
      "parch          False\n",
      "fare           False\n",
      "embarked        True\n",
      "class          False\n",
      "who            False\n",
      "adult_male     False\n",
      "deck            True\n",
      "embark_town     True\n",
      "alive          False\n",
      "alone          False\n",
      "dtype: bool\n"
     ]
    }
   ],
   "source": [
    "import seaborn as sb\n",
    "df1 = sb.load_dataset('titanic')\n",
    "df2 = sb.load_dataset('iris')\n",
    "\n",
    "print(df1.isna().any().any())\n",
    "print(df2.isna().any().any())\n",
    "print(df1.isna().any())"
   ]
  },
  {
   "cell_type": "code",
   "execution_count": null,
   "id": "958d7221",
   "metadata": {},
   "outputs": [],
   "source": []
  }
 ],
 "metadata": {
  "kernelspec": {
   "display_name": "3.11.1",
   "language": "python",
   "name": "3.11.1"
  },
  "language_info": {
   "codemirror_mode": {
    "name": "ipython",
    "version": 3
   },
   "file_extension": ".py",
   "mimetype": "text/x-python",
   "name": "python",
   "nbconvert_exporter": "python",
   "pygments_lexer": "ipython3",
   "version": "3.11.1"
  }
 },
 "nbformat": 4,
 "nbformat_minor": 5
}
