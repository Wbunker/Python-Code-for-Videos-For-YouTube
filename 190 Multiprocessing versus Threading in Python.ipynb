{
 "cells": [
  {
   "cell_type": "markdown",
   "id": "5a52b46a",
   "metadata": {},
   "source": [
    "The difference of when you use them\n",
    "\n",
    "CPU bound = multiprocessing\n",
    "IO bound = threading\n",
    "\n",
    "Cooking in a kitchen.  Many tasks that\n",
    "you start and have to wait on\n",
    "Put something in the oven\n",
    "Put something in coffee maker\n",
    "Put something on stove\n",
    "More people (processors) does not make faster\n",
    "\n",
    "Breaking a pile of rocks\n",
    "Even if you have smaller piles\n",
    "One person can only break rocks so fast\n",
    "Need more people (processors) to get work \n",
    "done faster\n"
   ]
  }
 ],
 "metadata": {
  "kernelspec": {
   "display_name": "Python 3 (ipykernel)",
   "language": "python",
   "name": "python3"
  },
  "language_info": {
   "codemirror_mode": {
    "name": "ipython",
    "version": 3
   },
   "file_extension": ".py",
   "mimetype": "text/x-python",
   "name": "python",
   "nbconvert_exporter": "python",
   "pygments_lexer": "ipython3",
   "version": "3.9.7"
  }
 },
 "nbformat": 4,
 "nbformat_minor": 5
}
