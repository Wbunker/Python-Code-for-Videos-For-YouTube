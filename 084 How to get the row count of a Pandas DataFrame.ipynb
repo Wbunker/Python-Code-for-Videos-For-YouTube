{
 "cells": [
  {
   "cell_type": "markdown",
   "id": "5a1d3c6d",
   "metadata": {},
   "source": [
    "# It is magical how certain functions work across object types\n",
    "\n",
    "## Use len"
   ]
  },
  {
   "cell_type": "code",
   "execution_count": 1,
   "id": "11334af8",
   "metadata": {},
   "outputs": [
    {
     "name": "stdout",
     "output_type": "stream",
     "text": [
      "150\n"
     ]
    }
   ],
   "source": [
    "import seaborn as sns\n",
    "\n",
    "iris = sns.load_dataset('iris')\n",
    "\n",
    "\n",
    "print(len(iris))\n"
   ]
  },
  {
   "cell_type": "markdown",
   "id": "0e0f14a0",
   "metadata": {},
   "source": [
    "## Under the hood how does this work?"
   ]
  },
  {
   "cell_type": "code",
   "execution_count": 2,
   "id": "b950e1e6",
   "metadata": {},
   "outputs": [],
   "source": [
    "# if an object implements __len__ function len( obj ) will work"
   ]
  }
 ],
 "metadata": {
  "kernelspec": {
   "display_name": "Python 3 (ipykernel)",
   "language": "python",
   "name": "python3"
  },
  "language_info": {
   "codemirror_mode": {
    "name": "ipython",
    "version": 3
   },
   "file_extension": ".py",
   "mimetype": "text/x-python",
   "name": "python",
   "nbconvert_exporter": "python",
   "pygments_lexer": "ipython3",
   "version": "3.9.7"
  }
 },
 "nbformat": 4,
 "nbformat_minor": 5
}
