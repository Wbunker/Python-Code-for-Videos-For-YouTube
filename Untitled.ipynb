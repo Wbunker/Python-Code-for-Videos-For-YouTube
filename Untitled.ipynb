{
 "cells": [
  {
   "cell_type": "code",
   "execution_count": 11,
   "id": "acc7deaa",
   "metadata": {},
   "outputs": [
    {
     "name": "stdout",
     "output_type": "stream",
     "text": [
      "[0, 0, 0, 0, 0, 0, 0, 0, 0, 0]\n"
     ]
    }
   ],
   "source": [
    "a = [0] * 10\n",
    "\n",
    "print(a)"
   ]
  },
  {
   "cell_type": "code",
   "execution_count": 21,
   "id": "9e1c98b5",
   "metadata": {},
   "outputs": [
    {
     "name": "stdout",
     "output_type": "stream",
     "text": [
      "50\n"
     ]
    }
   ],
   "source": [
    "x = range(1, 51)\n",
    "\n",
    "\n",
    "print(x[-1])"
   ]
  },
  {
   "cell_type": "code",
   "execution_count": 24,
   "id": "8addc80d",
   "metadata": {},
   "outputs": [
    {
     "data": {
      "text/plain": [
       "1"
      ]
     },
     "execution_count": 24,
     "metadata": {},
     "output_type": "execute_result"
    }
   ],
   "source": [
    "range(1,2)[-1]"
   ]
  },
  {
   "cell_type": "code",
   "execution_count": 45,
   "id": "46e3df33",
   "metadata": {},
   "outputs": [
    {
     "name": "stdout",
     "output_type": "stream",
     "text": [
      "[('t', 'T'), ('y', 'Y')]\n",
      "[('t', 'y'), ('t', 'Y'), ('T', 'y'), ('T', 'Y')]\n",
      "[('a', 'A'), ('b', 'B'), ('c', 'C')]\n",
      "[('a', 'b', 'c'), ('a', 'b', 'C'), ('a', 'B', 'c'), ('a', 'B', 'C'), ('A', 'b', 'c'), ('A', 'b', 'C'), ('A', 'B', 'c'), ('A', 'B', 'C')]\n"
     ]
    }
   ],
   "source": [
    "import itertools\n",
    "\n",
    "list_ = ['ty','abc']\n",
    "results = []\n",
    "for item in list_:\n",
    "    pairs = [x for x in zip(item.lower(), item.upper())]\n",
    "    print(pairs)\n",
    "    item = 'ty'         \n",
    "    lists =list(itertools.product(*pairs))\n",
    "    print(lists)\n",
    "    results.extend([\"\".join(comb) for comb in lists])"
   ]
  },
  {
   "cell_type": "code",
   "execution_count": 46,
   "id": "8eaa311f",
   "metadata": {},
   "outputs": [
    {
     "name": "stdout",
     "output_type": "stream",
     "text": [
      "['ty', 'tY', 'Ty', 'TY', 'abc', 'abC', 'aBc', 'aBC', 'Abc', 'AbC', 'ABc', 'ABC']\n"
     ]
    }
   ],
   "source": [
    "print(results)"
   ]
  },
  {
   "cell_type": "code",
   "execution_count": 40,
   "id": "ab3e31f1",
   "metadata": {},
   "outputs": [
    {
     "data": {
      "text/plain": [
       "[('t', 'T'), ('y', 'Y')]"
      ]
     },
     "execution_count": 40,
     "metadata": {},
     "output_type": "execute_result"
    }
   ],
   "source": []
  },
  {
   "cell_type": "code",
   "execution_count": 53,
   "id": "e86f928a",
   "metadata": {},
   "outputs": [
    {
     "name": "stdout",
     "output_type": "stream",
     "text": [
      "[(0, 0, 0), (0, 0, 1), (0, 0, 2), (0, 0, 3), (0, 0, 4), (0, 0, 5), (0, 0, 6), (0, 0, 7), (0, 0, 8), (0, 0, 9), (0, 0, 10), (0, 1, 0), (0, 1, 1), (0, 1, 2), (0, 1, 3), (0, 1, 4), (0, 1, 5), (0, 1, 6), (0, 1, 7), (0, 1, 8), (0, 1, 9), (0, 1, 10), (0, 2, 0), (0, 2, 1), (0, 2, 2), (0, 2, 3), (0, 2, 4), (0, 2, 5), (0, 2, 6), (0, 2, 7), (0, 2, 8), (0, 2, 9), (0, 2, 10), (1, 0, 0), (1, 0, 1), (1, 0, 2), (1, 0, 3), (1, 0, 4), (1, 0, 5), (1, 0, 6), (1, 0, 7), (1, 0, 8), (1, 0, 9), (1, 0, 10), (1, 1, 0), (1, 1, 1), (1, 1, 2), (1, 1, 3), (1, 1, 4), (1, 1, 5), (1, 1, 6), (1, 1, 7), (1, 1, 8), (1, 1, 9), (1, 1, 10), (1, 2, 0), (1, 2, 1), (1, 2, 2), (1, 2, 3), (1, 2, 4), (1, 2, 5), (1, 2, 6), (1, 2, 7), (1, 2, 8), (1, 2, 9), (1, 2, 10)]\n"
     ]
    }
   ],
   "source": [
    "from itertools import product\n",
    "\n",
    "l = [1, 2, 10]\n",
    "result = list(product(*[range(x+1) for x in l]))\n",
    "print(result)"
   ]
  },
  {
   "cell_type": "code",
   "execution_count": 54,
   "id": "87dd3b96",
   "metadata": {},
   "outputs": [
    {
     "data": {
      "text/plain": [
       "[range(0, 2), range(0, 3), range(0, 11)]"
      ]
     },
     "execution_count": 54,
     "metadata": {},
     "output_type": "execute_result"
    }
   ],
   "source": [
    "[range(x+1) for x in l]"
   ]
  },
  {
   "cell_type": "code",
   "execution_count": 56,
   "id": "cf409cc5",
   "metadata": {},
   "outputs": [
    {
     "data": {
      "text/plain": [
       "<itertools.product at 0x7fb3dd43b880>"
      ]
     },
     "execution_count": 56,
     "metadata": {},
     "output_type": "execute_result"
    }
   ],
   "source": [
    "product(*[range(x+1) for x in l])"
   ]
  },
  {
   "cell_type": "code",
   "execution_count": 57,
   "id": "b1314e95",
   "metadata": {},
   "outputs": [],
   "source": [
    "l1 = [1, 1, 1, 1, 1, 1, 1, 1, 1, 1, 1, 1, 1, 1, 1, 1, 1, 1, 1, 1, 1, 1, 1, 1, 1, 1, 1, 1, 1, 1, 2, 2, 2, 2, 2, 2, 2, 2, 2, 2, 2, 2, 2, 2, 2, 2, 2, 2, 2, 2, 2, 2, 2, 2, 2, 2, 2, 2]"
   ]
  },
  {
   "cell_type": "code",
   "execution_count": 58,
   "id": "dfc6666b",
   "metadata": {},
   "outputs": [
    {
     "name": "stdout",
     "output_type": "stream",
     "text": [
      "58\n"
     ]
    }
   ],
   "source": [
    "print(len(l1))"
   ]
  },
  {
   "cell_type": "code",
   "execution_count": 67,
   "id": "9bc8f703",
   "metadata": {},
   "outputs": [
    {
     "name": "stdout",
     "output_type": "stream",
     "text": [
      "1 a\n",
      "2 b\n",
      "3 c\n",
      "[]\n",
      "[]\n"
     ]
    }
   ],
   "source": [
    "list1 = [1, 2, 3]\n",
    "\n",
    "list2 = [\"a\", \"b\", \"c\"]\n",
    "\n",
    "comb = zip(list1, list2)\n",
    "\n",
    "#print(list(comb))\n",
    "#comb -> [(1, 'a'), (2, 'b'), (3, 'c')]\n",
    "\n",
    "for num, let in list(comb):\n",
    "    print(num, let)\n",
    "\n",
    "a = [num for num, let in comb]\n",
    "print(a)\n",
    "#a -> [1, 2, 3]\n",
    "\n",
    "print(list(comb))"
   ]
  },
  {
   "cell_type": "code",
   "execution_count": 68,
   "id": "d9e94948",
   "metadata": {},
   "outputs": [
    {
     "name": "stdout",
     "output_type": "stream",
     "text": [
      "250.0\n"
     ]
    }
   ],
   "source": [
    "def tax(bill):\n",
    "    T = 0.5\n",
    "    bill *= T\n",
    "    return bill\n",
    "\n",
    "Total = tax(500)\n",
    "\n",
    "print (Total)"
   ]
  },
  {
   "cell_type": "code",
   "execution_count": 77,
   "id": "bb7cf4ea",
   "metadata": {},
   "outputs": [],
   "source": [
    "def nb_couples_intervalle(n: int, p: int) -> int:\n",
    "   ''''''\n",
    "   i: int = n\n",
    "   j: int = p\n",
    "   couple: int = 0\n",
    "\n",
    "   while i < p:\n",
    "      i = i + 1\n",
    "      couple = couple + 1\n",
    "      while j > n:\n",
    "         j = j - 1\n",
    "         if i < j:\n",
    "            couple = couple + 1\n",
    "   return couple"
   ]
  },
  {
   "cell_type": "code",
   "execution_count": 78,
   "id": "9ccaf5d0",
   "metadata": {},
   "outputs": [
    {
     "name": "stdout",
     "output_type": "stream",
     "text": [
      "8\n"
     ]
    }
   ],
   "source": [
    "print(nb_couples_intervalle(2, 7))"
   ]
  },
  {
   "cell_type": "code",
   "execution_count": 80,
   "id": "e9d11927",
   "metadata": {},
   "outputs": [
    {
     "name": "stdout",
     "output_type": "stream",
     "text": [
      "True\n"
     ]
    }
   ],
   "source": [
    "def firstlast(*args):\n",
    "    list = [*args]\n",
    "    if list[0] == list[-1]:\n",
    "       return True\n",
    "    else:\n",
    "       return False\n",
    "        \n",
    "print(firstlast(20,30,20))"
   ]
  },
  {
   "cell_type": "code",
   "execution_count": 82,
   "id": "c4ebab41",
   "metadata": {},
   "outputs": [
    {
     "name": "stdout",
     "output_type": "stream",
     "text": [
      "    name  aptitude  cooking\n",
      "2  Arjun        70       86\n",
      "1   Kiku        80       76\n",
      "6   Mama        99       99\n",
      "5   Lini        79       92\n",
      "\n",
      "DataFrame after sorting by index\n",
      "\n",
      "    name  aptitude  cooking\n",
      "1   Kiku        80       76\n",
      "2  Arjun        70       86\n",
      "5   Lini        79       92\n",
      "6   Mama        99       99\n"
     ]
    }
   ],
   "source": [
    "import pandas as pd\n",
    "\n",
    "df_1 = pd.DataFrame(\n",
    "    [['Arjun', 70, 86],\n",
    "     ['Kiku', 80, 76],\n",
    "\t ['Mama', 99, 99],\n",
    "     ['Lini', 79, 92]],\n",
    "    index = [2, 1, 6, 5],\n",
    "    columns=['name', 'aptitude', 'cooking'])\n",
    "\n",
    "print(df_1)\n",
    "\n",
    "#sort dataframe by index in ascending order\n",
    "df_1 = df_1.sort_index(ascending=True)\n",
    "\n",
    "print('\\nDataFrame after sorting by index\\n')\n",
    "print(df_1)"
   ]
  },
  {
   "cell_type": "code",
   "execution_count": null,
   "id": "e2d9b464",
   "metadata": {},
   "outputs": [],
   "source": []
  }
 ],
 "metadata": {
  "kernelspec": {
   "display_name": "3.10",
   "language": "python",
   "name": "python3.10"
  },
  "language_info": {
   "codemirror_mode": {
    "name": "ipython",
    "version": 3
   },
   "file_extension": ".py",
   "mimetype": "text/x-python",
   "name": "python",
   "nbconvert_exporter": "python",
   "pygments_lexer": "ipython3",
   "version": "3.10.7"
  }
 },
 "nbformat": 4,
 "nbformat_minor": 5
}
