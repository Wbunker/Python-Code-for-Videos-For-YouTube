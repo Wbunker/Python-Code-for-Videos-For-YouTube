{
 "cells": [
  {
   "cell_type": "markdown",
   "id": "3dd4cebb",
   "metadata": {},
   "source": [
    "# Old School\n",
    "\n",
    "When you just want to run something now, dangit!!!!"
   ]
  },
  {
   "cell_type": "code",
   "execution_count": 1,
   "id": "c6866280",
   "metadata": {},
   "outputs": [
    {
     "name": "stdout",
     "output_type": "stream",
     "text": [
      "total 32\n",
      "-rw-rw-r-- 1 bunker bunker 2672 Sep  1 10:47 001 What does yield do in Python.ipynb\n",
      "drwxrwxr-x 4 bunker bunker 4096 Sep  2 14:08 002 What does if __name__ == \"__main__\": do\n",
      "-rw-rw-r-- 1 bunker bunker 1967 Sep  2 14:08 003 What is the ternary conditional operator in Python?.ipynb\n",
      "-rw-rw-r-- 1 bunker bunker 6340 Sep  2 14:08 004 How to check whether a file exists without exceptions?.ipynb\n",
      "-rw-rw-r-- 1 bunker bunker 2303 Sep  2 14:21 005 How to merge 2 Python dictionaries in a singe expression.ipynb\n",
      "-rw-rw-r-- 1 bunker bunker  633 Sep  3 08:25 006 How to execute a system command or run a program in Python.ipynb\n",
      "drwxrwxr-x 3 bunker bunker 4096 Sep  2 12:31 data\n",
      "0\n"
     ]
    }
   ],
   "source": [
    "import os\n",
    "\n",
    "print(os.system('ls -l'))"
   ]
  },
  {
   "cell_type": "markdown",
   "id": "826f99cf",
   "metadata": {},
   "source": [
    "# New School\n",
    "\n",
    "Gives you a lot of control over what is happening\n",
    "\n",
    "### Recommended way to do it"
   ]
  },
  {
   "cell_type": "code",
   "execution_count": 7,
   "id": "124d6c77",
   "metadata": {},
   "outputs": [
    {
     "name": "stdout",
     "output_type": "stream",
     "text": [
      "total 36\n",
      "-rw-rw-r-- 1 bunker bunker 2672 Sep  1 10:47 001 What does yield do in Python.ipynb\n",
      "drwxrwxr-x 4 bunker bunker 4096 Sep  2 14:08 002 What does if __name__ == \"__main__\": do\n",
      "-rw-rw-r-- 1 bunker bunker 1967 Sep  2 14:08 003 What is the ternary conditional operator in Python?.ipynb\n",
      "-rw-rw-r-- 1 bunker bunker 6340 Sep  2 14:08 004 How to check whether a file exists without exceptions?.ipynb\n",
      "-rw-rw-r-- 1 bunker bunker 2303 Sep  2 14:21 005 How to merge 2 Python dictionaries in a singe expression.ipynb\n",
      "-rw-rw-r-- 1 bunker bunker 5352 Sep  3 08:35 006 How to execute a system command or run a program in Python.ipynb\n",
      "drwxrwxr-x 3 bunker bunker 4096 Sep  2 12:31 data\n",
      "\n"
     ]
    }
   ],
   "source": [
    "import subprocess\n",
    "\n",
    "results = subprocess.run(['ls', '-l'], stdout=subprocess.PIPE, stderr=subprocess.PIPE, text=True)\n",
    "print(results.stdout)"
   ]
  },
  {
   "cell_type": "markdown",
   "id": "70e7fe96",
   "metadata": {},
   "source": [
    "# Thanks for nothing\n",
    "\n",
    "## Showing me a more complicated way to do the same thing\n",
    "\n",
    "\n",
    "### But wait there's more\n",
    "\n",
    "You can't do this with os.system()\n",
    "\n",
    "Run the command in the background"
   ]
  },
  {
   "cell_type": "code",
   "execution_count": 16,
   "id": "b56a4aed",
   "metadata": {},
   "outputs": [
    {
     "name": "stdout",
     "output_type": "stream",
     "text": [
      "I just did another second of work\n",
      "I have finished the command\n"
     ]
    }
   ],
   "source": [
    "import time\n",
    "\n",
    "results = subprocess.Popen(['sleep', '6'], \n",
    "                           stdout=subprocess.PIPE, \n",
    "                           stderr=subprocess.PIPE, text=True)\n",
    "\n",
    "\n",
    "while results.poll() == None:\n",
    "    # do some other work\n",
    "    time.sleep(1)\n",
    "    print(\"I just did another second of work\")\n",
    "    \n",
    "stdout, stderr = results.communicate()\n",
    "\n",
    "\n",
    "print(\"I have finished the command\")\n"
   ]
  },
  {
   "cell_type": "markdown",
   "id": "954ed302",
   "metadata": {},
   "source": [
    "# One final trick\n",
    "\n",
    "It makes it easy to put the output in a file"
   ]
  },
  {
   "cell_type": "code",
   "execution_count": 18,
   "id": "eb6e0a79",
   "metadata": {},
   "outputs": [],
   "source": [
    "\n",
    "with open('data/out.txt', 'w') as f:\n",
    "    subprocess.run(['ls', '-l'], stdout=f, stderr=f, text=True)"
   ]
  },
  {
   "cell_type": "code",
   "execution_count": null,
   "id": "1d789f6f",
   "metadata": {},
   "outputs": [],
   "source": []
  }
 ],
 "metadata": {
  "kernelspec": {
   "display_name": "Python 3",
   "language": "python",
   "name": "python3"
  },
  "language_info": {
   "codemirror_mode": {
    "name": "ipython",
    "version": 3
   },
   "file_extension": ".py",
   "mimetype": "text/x-python",
   "name": "python",
   "nbconvert_exporter": "python",
   "pygments_lexer": "ipython3",
   "version": "3.9.12"
  }
 },
 "nbformat": 4,
 "nbformat_minor": 5
}
