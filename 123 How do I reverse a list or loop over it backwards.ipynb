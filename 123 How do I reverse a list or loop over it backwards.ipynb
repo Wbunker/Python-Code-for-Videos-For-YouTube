{
 "cells": [
  {
   "cell_type": "markdown",
   "id": "f18f891a",
   "metadata": {},
   "source": [
    "# Use reversed( ) syntax"
   ]
  },
  {
   "cell_type": "code",
   "execution_count": 1,
   "id": "c69c5656",
   "metadata": {},
   "outputs": [
    {
     "name": "stdout",
     "output_type": "stream",
     "text": [
      "4\n",
      "3\n",
      "2\n",
      "1\n",
      "0\n"
     ]
    }
   ],
   "source": [
    "# it is more readable\n",
    "# Zen of Python, \n",
    "# rule number 7: \n",
    "# Readability counts!\n",
    "# returns an iterator instead\n",
    "# doing all the work up front\n",
    "\n",
    "nums = list(range(0, 5))\n",
    "\n",
    "for num in reversed(nums):\n",
    "    print(num)"
   ]
  },
  {
   "cell_type": "code",
   "execution_count": null,
   "id": "4f90773f",
   "metadata": {},
   "outputs": [],
   "source": []
  }
 ],
 "metadata": {
  "kernelspec": {
   "display_name": "Python 3 (ipykernel)",
   "language": "python",
   "name": "python3"
  },
  "language_info": {
   "codemirror_mode": {
    "name": "ipython",
    "version": 3
   },
   "file_extension": ".py",
   "mimetype": "text/x-python",
   "name": "python",
   "nbconvert_exporter": "python",
   "pygments_lexer": "ipython3",
   "version": "3.9.7"
  }
 },
 "nbformat": 4,
 "nbformat_minor": 5
}
