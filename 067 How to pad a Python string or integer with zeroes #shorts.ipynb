{
 "cells": [
  {
   "cell_type": "code",
   "execution_count": 4,
   "id": "74a367a1",
   "metadata": {},
   "outputs": [
    {
     "name": "stdout",
     "output_type": "stream",
     "text": [
      "0045\n",
      "0045\n"
     ]
    }
   ],
   "source": [
    "x = '45'\n",
    "print(x.zfill(4))\n",
    "\n",
    "y = 45\n",
    "print(f\"{y:04}\")"
   ]
  },
  {
   "cell_type": "code",
   "execution_count": null,
   "id": "f240129f",
   "metadata": {},
   "outputs": [],
   "source": []
  }
 ],
 "metadata": {
  "kernelspec": {
   "display_name": "Python 3 (ipykernel)",
   "language": "python",
   "name": "python3"
  },
  "language_info": {
   "codemirror_mode": {
    "name": "ipython",
    "version": 3
   },
   "file_extension": ".py",
   "mimetype": "text/x-python",
   "name": "python",
   "nbconvert_exporter": "python",
   "pygments_lexer": "ipython3",
   "version": "3.11.1"
  }
 },
 "nbformat": 4,
 "nbformat_minor": 5
}
