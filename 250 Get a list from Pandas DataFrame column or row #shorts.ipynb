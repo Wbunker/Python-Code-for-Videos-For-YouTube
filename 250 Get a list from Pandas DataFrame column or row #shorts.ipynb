{
 "cells": [
  {
   "cell_type": "code",
   "execution_count": 3,
   "id": "5f05ea18",
   "metadata": {},
   "outputs": [
    {
     "name": "stdout",
     "output_type": "stream",
     "text": [
      "[22. 38. 26. 35. 35.]\n",
      "[0 3 'male' nan 0 0 8.4583 'Q' 'Third' 'man' True nan 'Queenstown' 'no'\n",
      " True]\n"
     ]
    }
   ],
   "source": [
    "import seaborn as sb\n",
    "import pandas as pd\n",
    "\n",
    "df = sb.load_dataset('titanic')\n",
    "\n",
    "l1 = df['age'].values\n",
    "l2 = df.iloc[5].values\n",
    "\n",
    "print(l1[:5])\n",
    "print(l2)"
   ]
  },
  {
   "cell_type": "code",
   "execution_count": null,
   "id": "f348d29c",
   "metadata": {},
   "outputs": [],
   "source": []
  }
 ],
 "metadata": {
  "kernelspec": {
   "display_name": "3.11.1",
   "language": "python",
   "name": "3.11.1"
  },
  "language_info": {
   "codemirror_mode": {
    "name": "ipython",
    "version": 3
   },
   "file_extension": ".py",
   "mimetype": "text/x-python",
   "name": "python",
   "nbconvert_exporter": "python",
   "pygments_lexer": "ipython3",
   "version": "3.11.1"
  }
 },
 "nbformat": 4,
 "nbformat_minor": 5
}
