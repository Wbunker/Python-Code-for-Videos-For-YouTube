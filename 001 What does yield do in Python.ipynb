{
 "cells": [
  {
   "cell_type": "markdown",
   "id": "0ff62102",
   "metadata": {},
   "source": [
    "# What does yield do in Python\n",
    "\n",
    "It turns a function into a generator\n",
    "\n",
    "## What is a generator you might ask?\n",
    "\n",
    "A generator is a function that can be called multiple times and it remembers where it left off after last call\n",
    "\n",
    "## What is the motivation to build a generator with yield?\n",
    "The normal way of creating lists return all the items at once. If you have a large list this could take a lot of time or take up a lot of memory.\n",
    "\n",
    "What if every item in the list was a car. You wouldn't want to build and order 10,000 cars to sit in a lot waiting for people to come by and grab one.\n",
    "\n",
    "Yield let's you build each car the minute someone needs it.\n"
   ]
  },
  {
   "cell_type": "code",
   "execution_count": 3,
   "id": "1a0e5dc2",
   "metadata": {},
   "outputs": [],
   "source": [
    "################################################\n",
    "## fibonaci generator\n",
    "################################################\n",
    "def fibonaci():\n",
    "    \n",
    "    n0 = 0\n",
    "    n1 = 1\n",
    "    \n",
    "    yield n0\n",
    "    yield n1\n",
    "    \n",
    "    while True:\n",
    "        next = n0 + n1\n",
    "        n0 = n1\n",
    "        n1 = next\n",
    "        yield next"
   ]
  },
  {
   "cell_type": "code",
   "execution_count": 4,
   "id": "3c3780eb",
   "metadata": {},
   "outputs": [
    {
     "name": "stdout",
     "output_type": "stream",
     "text": [
      "0\n",
      "1\n",
      "1\n",
      "2\n",
      "3\n",
      "5\n",
      "8\n",
      "13\n",
      "21\n",
      "34\n",
      "55\n",
      "89\n",
      "144\n",
      "233\n",
      "377\n",
      "610\n",
      "987\n",
      "1597\n",
      "2584\n",
      "4181\n",
      "6765\n",
      "10946\n"
     ]
    }
   ],
   "source": [
    "\n",
    "for i in fibonaci():\n",
    "    print(i)\n",
    "    \n",
    "    if i > 10000:\n",
    "        break"
   ]
  },
  {
   "cell_type": "code",
   "execution_count": null,
   "id": "a359770b",
   "metadata": {},
   "outputs": [],
   "source": []
  }
 ],
 "metadata": {
  "kernelspec": {
   "display_name": "Python 3",
   "language": "python",
   "name": "python3"
  },
  "language_info": {
   "codemirror_mode": {
    "name": "ipython",
    "version": 3
   },
   "file_extension": ".py",
   "mimetype": "text/x-python",
   "name": "python",
   "nbconvert_exporter": "python",
   "pygments_lexer": "ipython3",
   "version": "3.9.12"
  }
 },
 "nbformat": 4,
 "nbformat_minor": 5
}
