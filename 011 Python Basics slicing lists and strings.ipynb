{
 "cells": [
  {
   "cell_type": "markdown",
   "id": "b12dddc6",
   "metadata": {},
   "source": [
    "# Slicing????\n",
    "\n",
    "Computer term for pulling certain values out of a list\n",
    "\n",
    "## Basic syntax to remember\n",
    "\n",
    "## my_var[ start:end:step ]"
   ]
  },
  {
   "cell_type": "code",
   "execution_count": 1,
   "id": "f03baf45",
   "metadata": {},
   "outputs": [],
   "source": [
    "# first lets setup a list\n",
    "\n",
    "days = ['Monday', 'Tuesday', 'Wednesday', 'Thursday', 'Friday', 'Saturday', 'Sunday']"
   ]
  },
  {
   "cell_type": "markdown",
   "id": "1485a2d8",
   "metadata": {},
   "source": [
    "## Syntax to grab a single value"
   ]
  },
  {
   "cell_type": "code",
   "execution_count": 2,
   "id": "85ea7708",
   "metadata": {},
   "outputs": [
    {
     "name": "stdout",
     "output_type": "stream",
     "text": [
      "Monday\n",
      "Thursday\n"
     ]
    }
   ],
   "source": [
    "print(days[0])\n",
    "\n",
    "print(days[3])"
   ]
  },
  {
   "cell_type": "markdown",
   "id": "a13d1952",
   "metadata": {},
   "source": [
    "## You can even go backwards"
   ]
  },
  {
   "cell_type": "code",
   "execution_count": 3,
   "id": "2025a5d0",
   "metadata": {},
   "outputs": [
    {
     "name": "stdout",
     "output_type": "stream",
     "text": [
      "Sunday\n",
      "Friday\n"
     ]
    }
   ],
   "source": [
    "print(days[-1])\n",
    "\n",
    "print(days[-3])"
   ]
  },
  {
   "cell_type": "markdown",
   "id": "a3a20675",
   "metadata": {},
   "source": [
    "## What if you want a range?\n",
    "\n",
    "## Remember days[start:end]"
   ]
  },
  {
   "cell_type": "code",
   "execution_count": 4,
   "id": "7d911364",
   "metadata": {},
   "outputs": [
    {
     "name": "stdout",
     "output_type": "stream",
     "text": [
      "['Tuesday', 'Wednesday', 'Thursday']\n"
     ]
    }
   ],
   "source": [
    "print(days[1:4])"
   ]
  },
  {
   "cell_type": "markdown",
   "id": "64b32a46",
   "metadata": {},
   "source": [
    "## Can also go backwards"
   ]
  },
  {
   "cell_type": "code",
   "execution_count": 5,
   "id": "91a1a718",
   "metadata": {},
   "outputs": [
    {
     "name": "stdout",
     "output_type": "stream",
     "text": [
      "['Thursday', 'Friday', 'Saturday']\n"
     ]
    }
   ],
   "source": [
    "print(days[-4:-1])"
   ]
  },
  {
   "cell_type": "markdown",
   "id": "2d686234",
   "metadata": {},
   "source": [
    "## What if I only want every other day?"
   ]
  },
  {
   "cell_type": "code",
   "execution_count": 17,
   "id": "9473bb98",
   "metadata": {},
   "outputs": [
    {
     "name": "stdout",
     "output_type": "stream",
     "text": [
      "['Monday', 'Wednesday', 'Friday', 'Sunday']\n"
     ]
    }
   ],
   "source": [
    "# add a step in\n",
    "\n",
    "print(days[0:7:2])"
   ]
  },
  {
   "cell_type": "markdown",
   "id": "3605f014",
   "metadata": {},
   "source": [
    "## What if you want everything up until day 6?\n",
    "\n",
    "You can leave off the first number.  Thank me for saving you typing that extra character"
   ]
  },
  {
   "cell_type": "code",
   "execution_count": 11,
   "id": "1365b361",
   "metadata": {},
   "outputs": [
    {
     "name": "stdout",
     "output_type": "stream",
     "text": [
      "['Monday', 'Tuesday', 'Wednesday', 'Thursday', 'Friday']\n"
     ]
    }
   ],
   "source": [
    "print(days[:5])"
   ]
  },
  {
   "cell_type": "markdown",
   "id": "c274bef1",
   "metadata": {},
   "source": [
    "## What if you want everything from 3rd day forward\n",
    "\n",
    "You can leave off the second number.  Another round of applause is deserved"
   ]
  },
  {
   "cell_type": "code",
   "execution_count": 10,
   "id": "12ddb1c8",
   "metadata": {},
   "outputs": [
    {
     "name": "stdout",
     "output_type": "stream",
     "text": [
      "['Wednesday', 'Thursday', 'Friday', 'Saturday', 'Sunday']\n"
     ]
    }
   ],
   "source": [
    "print(days[2:])"
   ]
  },
  {
   "cell_type": "markdown",
   "id": "f248c2b8",
   "metadata": {},
   "source": [
    "## What if I really wanted every other day?"
   ]
  },
  {
   "cell_type": "code",
   "execution_count": 18,
   "id": "b8bcebfa",
   "metadata": {},
   "outputs": [
    {
     "name": "stdout",
     "output_type": "stream",
     "text": [
      "['Monday', 'Thursday', 'Sunday']\n"
     ]
    }
   ],
   "source": [
    "print(days[::2])"
   ]
  },
  {
   "cell_type": "markdown",
   "id": "7175eeb3",
   "metadata": {},
   "source": [
    "## What if I wanted every other day backwards?"
   ]
  },
  {
   "cell_type": "code",
   "execution_count": 13,
   "id": "9a228080",
   "metadata": {},
   "outputs": [
    {
     "name": "stdout",
     "output_type": "stream",
     "text": [
      "['Sunday', 'Friday', 'Wednesday', 'Monday']\n"
     ]
    }
   ],
   "source": [
    "print(days[::-2])"
   ]
  },
  {
   "cell_type": "markdown",
   "id": "b27c4247",
   "metadata": {},
   "source": [
    "## What about strings?\n",
    "\n",
    "Think of them like a list with each letter as a member"
   ]
  },
  {
   "cell_type": "code",
   "execution_count": 19,
   "id": "95ee8b63",
   "metadata": {},
   "outputs": [
    {
     "name": "stdout",
     "output_type": "stream",
     "text": [
      "cat in the hat\n"
     ]
    }
   ],
   "source": [
    "phrase = \"The cat in the hat\"\n",
    "\n",
    "print(phrase[4:])"
   ]
  },
  {
   "cell_type": "code",
   "execution_count": null,
   "id": "182fe88a",
   "metadata": {},
   "outputs": [],
   "source": []
  }
 ],
 "metadata": {
  "kernelspec": {
   "display_name": "Python 3 (ipykernel)",
   "language": "python",
   "name": "python3"
  },
  "language_info": {
   "codemirror_mode": {
    "name": "ipython",
    "version": 3
   },
   "file_extension": ".py",
   "mimetype": "text/x-python",
   "name": "python",
   "nbconvert_exporter": "python",
   "pygments_lexer": "ipython3",
   "version": "3.9.7"
  }
 },
 "nbformat": 4,
 "nbformat_minor": 5
}
