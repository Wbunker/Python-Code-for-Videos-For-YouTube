{
 "cells": [
  {
   "cell_type": "code",
   "execution_count": 4,
   "id": "9315073f",
   "metadata": {},
   "outputs": [
    {
     "name": "stdout",
     "output_type": "stream",
     "text": [
      "['3', '7', '21']\n"
     ]
    }
   ],
   "source": [
    "import re\n",
    "\n",
    "s = \"\"\"\n",
    "I have 3 kittens\n",
    "and 7 dogs\n",
    "and 21 monkeys\n",
    "\"\"\"\n",
    "\n",
    "i = r\"\\d+\"\n",
    "\n",
    "l = re.findall(i, s)\n",
    "\n",
    "print(l)"
   ]
  },
  {
   "cell_type": "code",
   "execution_count": null,
   "id": "a0cf84a3",
   "metadata": {},
   "outputs": [],
   "source": []
  }
 ],
 "metadata": {
  "kernelspec": {
   "display_name": "3.11.1",
   "language": "python",
   "name": "3.11.1"
  },
  "language_info": {
   "codemirror_mode": {
    "name": "ipython",
    "version": 3
   },
   "file_extension": ".py",
   "mimetype": "text/x-python",
   "name": "python",
   "nbconvert_exporter": "python",
   "pygments_lexer": "ipython3",
   "version": "3.11.1"
  }
 },
 "nbformat": 4,
 "nbformat_minor": 5
}
