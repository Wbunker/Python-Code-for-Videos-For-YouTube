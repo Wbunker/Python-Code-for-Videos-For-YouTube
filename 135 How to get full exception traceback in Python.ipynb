{
 "cells": [
  {
   "cell_type": "code",
   "execution_count": 8,
   "id": "42e65d03",
   "metadata": {},
   "outputs": [
    {
     "name": "stdout",
     "output_type": "stream",
     "text": [
      "division by zero\n",
      "Traceback (most recent call last):\n",
      "  File \"/var/folders/s1/81q8t5412xl07zy5lx6kl45h0000gn/T/ipykernel_47457/2454354932.py\", line 8, in <module>\n",
      "    divide(5, 0)\n",
      "  File \"/var/folders/s1/81q8t5412xl07zy5lx6kl45h0000gn/T/ipykernel_47457/2454354932.py\", line 4, in divide\n",
      "    return x / y\n",
      "ZeroDivisionError: division by zero\n",
      "\n"
     ]
    }
   ],
   "source": [
    "import traceback\n",
    "\n",
    "def divide(x, y):\n",
    "    return x / y\n",
    "\n",
    "\n",
    "try:\n",
    "    divide(5, 0)\n",
    "except Exception as err:\n",
    "    print(err)\n",
    "    print(traceback.format_exc())"
   ]
  },
  {
   "cell_type": "code",
   "execution_count": null,
   "id": "c6557932",
   "metadata": {},
   "outputs": [],
   "source": []
  }
 ],
 "metadata": {
  "kernelspec": {
   "display_name": "Python 3 (ipykernel)",
   "language": "python",
   "name": "python3"
  },
  "language_info": {
   "codemirror_mode": {
    "name": "ipython",
    "version": 3
   },
   "file_extension": ".py",
   "mimetype": "text/x-python",
   "name": "python",
   "nbconvert_exporter": "python",
   "pygments_lexer": "ipython3",
   "version": "3.9.7"
  }
 },
 "nbformat": 4,
 "nbformat_minor": 5
}
