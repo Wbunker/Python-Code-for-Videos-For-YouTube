{
 "cells": [
  {
   "cell_type": "markdown",
   "id": "2c9157dd",
   "metadata": {},
   "source": [
    "# What is with: *args and **kwargs\n",
    "\n",
    "## args = arguments\n",
    "\n",
    "It allows you to pass in a variable number of arguments to your function\n",
    "\n",
    "Have you ever wondered how print handles a variable number of parameters?"
   ]
  },
  {
   "cell_type": "code",
   "execution_count": 1,
   "id": "689c40d5",
   "metadata": {},
   "outputs": [
    {
     "name": "stdout",
     "output_type": "stream",
     "text": [
      "it seems to work no matter how many strings\n"
     ]
    }
   ],
   "source": [
    "print(\"it\", \"seems\", \"to\", \"work\", \"no\", \"matter\", \"how\", \"many\", \"strings\")"
   ]
  },
  {
   "cell_type": "markdown",
   "id": "d12151dd",
   "metadata": {},
   "source": [
    "## This is where *args comes into play"
   ]
  },
  {
   "cell_type": "code",
   "execution_count": 2,
   "id": "8e75f929",
   "metadata": {},
   "outputs": [
    {
     "name": "stdout",
     "output_type": "stream",
     "text": [
      "works\n",
      "just\n",
      "like\n",
      "the\n",
      "real\n",
      "one\n"
     ]
    }
   ],
   "source": [
    "def my_print(*args):\n",
    "    for argument in args:\n",
    "        print(argument)\n",
    "        \n",
    "        \n",
    "my_print(\"works\", \"just\", \"like\", \"the\", \"real\", \"one\")        "
   ]
  },
  {
   "cell_type": "markdown",
   "id": "9b460f50",
   "metadata": {},
   "source": [
    "## *kwargs = keyword arguments\n",
    "\n",
    "Allow you to have a variable number of named arguments"
   ]
  },
  {
   "cell_type": "code",
   "execution_count": 10,
   "id": "663d6695",
   "metadata": {},
   "outputs": [
    {
     "name": "stdout",
     "output_type": "stream",
     "text": [
      "Let's describe Will: height=6'2, weight=250, age=54\n"
     ]
    }
   ],
   "source": [
    "def describe_person(name, **kwargs):\n",
    "    characteristics = \", \".join([ f\"{key}={value}\" for key,value in kwargs.items()])\n",
    "    \n",
    "    return f\"Let's describe {name}: {characteristics}\"\n",
    "    \n",
    "    \n",
    "    \n",
    "print(describe_person(\"Will\", height=\"6'2\", weight=\"250\", age=54))"
   ]
  },
  {
   "cell_type": "markdown",
   "id": "dfcb3145",
   "metadata": {},
   "source": [
    "## You can combine both of them"
   ]
  },
  {
   "cell_type": "code",
   "execution_count": 12,
   "id": "5966cdd0",
   "metadata": {},
   "outputs": [
    {
     "name": "stdout",
     "output_type": "stream",
     "text": [
      "Let's describe Will: height=6'2, weight=250, age=54. His also happy, hardworking, intense\n"
     ]
    }
   ],
   "source": [
    "def describe_person(name, *args, **kwargs):\n",
    "    characteristics = \", \".join([ f\"{key}={value}\" for key,value in kwargs.items()])\n",
    "    other_stuff = \", \".join(args)\n",
    "    return f\"Let's describe {name}: {characteristics}. His also {other_stuff}\"\n",
    "    \n",
    "print(describe_person(\"Will\",\"happy\", \"hardworking\", \"intense\", height=\"6'2\", weight=\"250\", age=54))"
   ]
  },
  {
   "cell_type": "code",
   "execution_count": null,
   "id": "1fb9fc11",
   "metadata": {},
   "outputs": [],
   "source": []
  }
 ],
 "metadata": {
  "kernelspec": {
   "display_name": "Python 3",
   "language": "python",
   "name": "python3"
  },
  "language_info": {
   "codemirror_mode": {
    "name": "ipython",
    "version": 3
   },
   "file_extension": ".py",
   "mimetype": "text/x-python",
   "name": "python",
   "nbconvert_exporter": "python",
   "pygments_lexer": "ipython3",
   "version": "3.9.12"
  }
 },
 "nbformat": 4,
 "nbformat_minor": 5
}
