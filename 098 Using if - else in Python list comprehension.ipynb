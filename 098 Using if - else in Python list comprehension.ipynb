{
 "cells": [
  {
   "cell_type": "markdown",
   "id": "6ff02c11",
   "metadata": {},
   "source": [
    "# Two scenarios for conditionals in list comprehension\n",
    "\n",
    "\n",
    "## 1. Limit what items in list are used"
   ]
  },
  {
   "cell_type": "code",
   "execution_count": 4,
   "id": "9f57cf93",
   "metadata": {},
   "outputs": [
    {
     "name": "stdout",
     "output_type": "stream",
     "text": [
      "[2, 4, 6, 8, 10, 12, 14, 16, 18, 20, 22, 24, 26, 28, 30, 32, 34, 36, 38, 40, 42, 44, 46, 48, 50, 52, 54, 56, 58, 60, 62, 64, 66, 68, 70, 72, 74, 76, 78, 80, 82, 84, 86, 88, 90, 92, 94, 96, 98, 100]\n"
     ]
    }
   ],
   "source": [
    "numbers = [n+1 for n in range(100)]\n",
    "\n",
    "\n",
    "\n",
    "even = [n for n in numbers if n % 2 == 0]\n",
    "\n",
    "\n",
    "print(even)"
   ]
  },
  {
   "cell_type": "markdown",
   "id": "3a29685a",
   "metadata": {},
   "source": [
    "## 2. Change output based on item in list"
   ]
  },
  {
   "cell_type": "code",
   "execution_count": 5,
   "id": "e410bbec",
   "metadata": {},
   "outputs": [
    {
     "name": "stdout",
     "output_type": "stream",
     "text": [
      "['buzz', 'buzz', 'fizz', 'buzz', 'buzz', 'fizz', 'buzz', 'buzz', 'fizz', 'buzz', 'buzz', 'fizz', 'buzz', 'buzz', 'fizz', 'buzz', 'buzz', 'fizz', 'buzz', 'buzz', 'fizz', 'buzz', 'buzz', 'fizz', 'buzz', 'buzz', 'fizz', 'buzz', 'buzz', 'fizz', 'buzz', 'buzz', 'fizz', 'buzz', 'buzz', 'fizz', 'buzz', 'buzz', 'fizz', 'buzz', 'buzz', 'fizz', 'buzz', 'buzz', 'fizz', 'buzz', 'buzz', 'fizz', 'buzz', 'buzz', 'fizz', 'buzz', 'buzz', 'fizz', 'buzz', 'buzz', 'fizz', 'buzz', 'buzz', 'fizz', 'buzz', 'buzz', 'fizz', 'buzz', 'buzz', 'fizz', 'buzz', 'buzz', 'fizz', 'buzz', 'buzz', 'fizz', 'buzz', 'buzz', 'fizz', 'buzz', 'buzz', 'fizz', 'buzz', 'buzz', 'fizz', 'buzz', 'buzz', 'fizz', 'buzz', 'buzz', 'fizz', 'buzz', 'buzz', 'fizz', 'buzz', 'buzz', 'fizz', 'buzz', 'buzz', 'fizz', 'buzz', 'buzz', 'fizz', 'buzz']\n"
     ]
    }
   ],
   "source": [
    "fizzbuzz = ['fizz' if n % 3 == 0 else 'buzz' for n in numbers]\n",
    "\n",
    "\n",
    "print(fizzbuzz)"
   ]
  },
  {
   "cell_type": "code",
   "execution_count": null,
   "id": "13a6aea2",
   "metadata": {},
   "outputs": [],
   "source": []
  }
 ],
 "metadata": {
  "kernelspec": {
   "display_name": "Python 3",
   "language": "python",
   "name": "python3"
  },
  "language_info": {
   "codemirror_mode": {
    "name": "ipython",
    "version": 3
   },
   "file_extension": ".py",
   "mimetype": "text/x-python",
   "name": "python",
   "nbconvert_exporter": "python",
   "pygments_lexer": "ipython3",
   "version": "3.9.12"
  }
 },
 "nbformat": 4,
 "nbformat_minor": 5
}
