{
 "cells": [
  {
   "cell_type": "code",
   "execution_count": null,
   "id": "c490ba6c",
   "metadata": {},
   "outputs": [],
   "source": [
    "#venv is convention for name\n",
    "# of directory\n",
    "python -m venv venv \n",
    "\n",
    "# mac/linux\n",
    "source venv/bin/activate\n",
    ". venv/bin/activate\n",
    "\n",
    "#windows\n",
    "venv\\Scripts\\activate"
   ]
  }
 ],
 "metadata": {
  "kernelspec": {
   "display_name": "3.11.1",
   "language": "python",
   "name": "3.11.1"
  },
  "language_info": {
   "codemirror_mode": {
    "name": "ipython",
    "version": 3
   },
   "file_extension": ".py",
   "mimetype": "text/x-python",
   "name": "python",
   "nbconvert_exporter": "python",
   "pygments_lexer": "ipython3",
   "version": "3.11.1"
  }
 },
 "nbformat": 4,
 "nbformat_minor": 5
}
