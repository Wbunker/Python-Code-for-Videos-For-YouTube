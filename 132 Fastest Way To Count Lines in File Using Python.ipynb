{
 "cells": [
  {
   "cell_type": "code",
   "execution_count": 34,
   "id": "fdb661b3",
   "metadata": {},
   "outputs": [],
   "source": [
    "import mmap\n",
    "\n",
    "file = 'data/don_quixote.txt'\n",
    "\n",
    "def length_open():\n",
    "    with open(file, 'r') as file_obj:\n",
    "        lines = 0\n",
    "        while file_obj.readline():\n",
    "            lines += 1\n",
    "        return lines\n",
    "\n",
    "def length_mmap():\n",
    "    with open(file, 'r') as file_obj:\n",
    "        with mmap.mmap(file_obj.fileno(), length=0, access=mmap.ACCESS_READ) as mmap_obj:\n",
    "            lines = 0\n",
    "            while mmap_obj.readline():\n",
    "                lines += 1\n",
    "            return lines\n"
   ]
  },
  {
   "cell_type": "code",
   "execution_count": 35,
   "id": "ab836ab4",
   "metadata": {},
   "outputs": [
    {
     "name": "stdout",
     "output_type": "stream",
     "text": [
      "43279\n",
      "43279\n"
     ]
    }
   ],
   "source": [
    "print(length_mmap())\n",
    "print(length_open())"
   ]
  },
  {
   "cell_type": "code",
   "execution_count": 36,
   "id": "3021a29d",
   "metadata": {},
   "outputs": [
    {
     "name": "stdout",
     "output_type": "stream",
     "text": [
      "0.14361718033334606 0.05162230566668313 2.782076051787747\n"
     ]
    }
   ],
   "source": [
    "import timeit\n",
    "open_time = sum(timeit.repeat(length_open,repeat=3,number=10))/3\n",
    "mmap_time = sum(timeit.repeat(length_mmap,repeat=3,number=10))/3\n",
    "\n",
    "print(open_time, mmap_time, open_time / mmap_time)"
   ]
  },
  {
   "cell_type": "code",
   "execution_count": null,
   "id": "9032aa2d",
   "metadata": {},
   "outputs": [],
   "source": []
  }
 ],
 "metadata": {
  "kernelspec": {
   "display_name": "Python 3 (ipykernel)",
   "language": "python",
   "name": "python3"
  },
  "language_info": {
   "codemirror_mode": {
    "name": "ipython",
    "version": 3
   },
   "file_extension": ".py",
   "mimetype": "text/x-python",
   "name": "python",
   "nbconvert_exporter": "python",
   "pygments_lexer": "ipython3",
   "version": "3.9.7"
  }
 },
 "nbformat": 4,
 "nbformat_minor": 5
}
