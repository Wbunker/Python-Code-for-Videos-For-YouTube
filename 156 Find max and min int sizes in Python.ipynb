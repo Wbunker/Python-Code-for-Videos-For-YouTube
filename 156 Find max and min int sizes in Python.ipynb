{
 "cells": [
  {
   "cell_type": "code",
   "execution_count": 7,
   "id": "b4a0a604",
   "metadata": {},
   "outputs": [
    {
     "name": "stdout",
     "output_type": "stream",
     "text": [
      "9223372036854775807\n",
      "18446744073709551614\n"
     ]
    }
   ],
   "source": [
    "import sys\n",
    "\n",
    "print(sys.maxsize)\n",
    "print(sys.maxsize + sys.maxsize)"
   ]
  },
  {
   "cell_type": "code",
   "execution_count": 8,
   "id": "0f1395a1",
   "metadata": {},
   "outputs": [
    {
     "name": "stdout",
     "output_type": "stream",
     "text": [
      "True\n"
     ]
    }
   ],
   "source": [
    "max = float('inf')\n",
    "print( sys.maxsize < max)"
   ]
  },
  {
   "cell_type": "code",
   "execution_count": null,
   "id": "238c3a1b",
   "metadata": {},
   "outputs": [],
   "source": []
  }
 ],
 "metadata": {
  "kernelspec": {
   "display_name": "Python 3 (ipykernel)",
   "language": "python",
   "name": "python3"
  },
  "language_info": {
   "codemirror_mode": {
    "name": "ipython",
    "version": 3
   },
   "file_extension": ".py",
   "mimetype": "text/x-python",
   "name": "python",
   "nbconvert_exporter": "python",
   "pygments_lexer": "ipython3",
   "version": "3.9.7"
  }
 },
 "nbformat": 4,
 "nbformat_minor": 5
}
