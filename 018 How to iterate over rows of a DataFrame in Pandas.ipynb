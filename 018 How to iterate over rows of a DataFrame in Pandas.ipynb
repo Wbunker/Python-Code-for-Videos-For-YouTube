{
 "cells": [
  {
   "cell_type": "markdown",
   "id": "bd6ac3df",
   "metadata": {},
   "source": [
    "# First I will answer the question, and then ask a better question"
   ]
  },
  {
   "cell_type": "code",
   "execution_count": 4,
   "id": "753cf2d6",
   "metadata": {},
   "outputs": [
    {
     "name": "stdout",
     "output_type": "stream",
     "text": [
      "10 100 1000\n",
      "11 110 1100\n",
      "12 120 1200\n"
     ]
    }
   ],
   "source": [
    "import pandas as pd\n",
    "\n",
    "\n",
    "df = pd.DataFrame({\n",
    "    'c1': [10, 11, 12], \n",
    "    'c2': [100, 110, 120],\n",
    "    'c3': [1000, 1100, 1200]\n",
    "})\n",
    "\n",
    "\n",
    "\n",
    "for index, row in df.iterrows():\n",
    "    print(row['c1'], row['c2'], row['c3'])"
   ]
  },
  {
   "cell_type": "markdown",
   "id": "e282d764",
   "metadata": {},
   "source": [
    "# You should almost never do this\n",
    "\n",
    "## But WHY?\n",
    "\n",
    "The whole point of Pandas is to use C under the hood and make really fast calculations \n",
    "\n",
    "using vector math.\n",
    "\n",
    "It would be like using a Formula 1 race car to drive in a neighborhood with speed bumps\n",
    "\n",
    "The order of speed when doing things in Pandas\n",
    "\n",
    "1. vectorization\n",
    "2. using a custom cython routine\n",
    "3. apply\n",
    "* reductions that can be performed in cython\n",
    "* iteration in python space\n",
    "4. itertuples\n",
    "5. iterrows"
   ]
  },
  {
   "cell_type": "markdown",
   "id": "02e9750d",
   "metadata": {},
   "source": [
    "# Let's move up the food chain and see how that affects time\n",
    "\n",
    "## We will start with iterrows"
   ]
  },
  {
   "cell_type": "code",
   "execution_count": 10,
   "id": "950d93fb",
   "metadata": {},
   "outputs": [
    {
     "name": "stdout",
     "output_type": "stream",
     "text": [
      "29.444218158721924\n"
     ]
    }
   ],
   "source": [
    "import numpy as np\n",
    "import time\n",
    "\n",
    "s1 = np.random.randn(2000000)\n",
    "s2 = np.random.randn(2000000)\n",
    "dfa = pd.DataFrame({'s1': s1, 's2': s2})\n",
    "\n",
    "\n",
    "start = time.time()\n",
    "i=0\n",
    "for rowindex, row in dfa.iterrows():\n",
    "    i+=1\n",
    "end = time.time()\n",
    "print(end - start)\n"
   ]
  },
  {
   "cell_type": "markdown",
   "id": "178e29f0",
   "metadata": {},
   "source": [
    "## Now let's try itertuples"
   ]
  },
  {
   "cell_type": "code",
   "execution_count": 17,
   "id": "75294009",
   "metadata": {},
   "outputs": [
    {
     "name": "stdout",
     "output_type": "stream",
     "text": [
      "0.7653682231903076\n"
     ]
    }
   ],
   "source": [
    "start = time.time()\n",
    "i=0\n",
    "for row in dfa.itertuples():\n",
    "    i+=1\n",
    "end = time.time()\n",
    "print(end - start)\n"
   ]
  },
  {
   "cell_type": "markdown",
   "id": "60dd6dc5",
   "metadata": {},
   "source": [
    "## What about apply?"
   ]
  },
  {
   "cell_type": "code",
   "execution_count": 13,
   "id": "500da002",
   "metadata": {},
   "outputs": [
    {
     "name": "stdout",
     "output_type": "stream",
     "text": [
      "0.022971630096435547\n"
     ]
    }
   ],
   "source": [
    "start = time.time()\n",
    "i=0\n",
    "dfa.apply(lambda i: i+1)\n",
    "end = time.time()\n",
    "print(end - start)\n"
   ]
  },
  {
   "cell_type": "markdown",
   "id": "1f757e10",
   "metadata": {},
   "source": [
    "## Now let's try vectorization"
   ]
  },
  {
   "cell_type": "code",
   "execution_count": 15,
   "id": "d80b0727",
   "metadata": {},
   "outputs": [
    {
     "name": "stdout",
     "output_type": "stream",
     "text": [
      "0.006640911102294922\n"
     ]
    }
   ],
   "source": [
    "start = time.time()\n",
    "i=0\n",
    "dfa = dfa + 1\n",
    "end = time.time()\n",
    "print(end - start)\n"
   ]
  },
  {
   "cell_type": "code",
   "execution_count": null,
   "id": "f2e83cd7",
   "metadata": {},
   "outputs": [],
   "source": []
  }
 ],
 "metadata": {
  "kernelspec": {
   "display_name": "Python 3",
   "language": "python",
   "name": "python3"
  },
  "language_info": {
   "codemirror_mode": {
    "name": "ipython",
    "version": 3
   },
   "file_extension": ".py",
   "mimetype": "text/x-python",
   "name": "python",
   "nbconvert_exporter": "python",
   "pygments_lexer": "ipython3",
   "version": "3.9.12"
  }
 },
 "nbformat": 4,
 "nbformat_minor": 5
}
