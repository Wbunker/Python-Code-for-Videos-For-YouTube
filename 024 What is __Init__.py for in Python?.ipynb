{
 "cells": [
  {
   "cell_type": "markdown",
   "id": "608152d6",
   "metadata": {},
   "source": [
    "# When you see __init__.py think PACKAGES\n",
    "\n",
    "## But what is a package you ask?\n",
    "\n",
    "They are a way of organizing your code so you can import code more easily\n",
    "\n",
    "## First you can have a plane old module\n",
    "\n",
    "This is software in your directory that you import directly"
   ]
  },
  {
   "cell_type": "code",
   "execution_count": 2,
   "id": "3b49ad13",
   "metadata": {},
   "outputs": [
    {
     "name": "stdout",
     "output_type": "stream",
     "text": [
      "Hola Will from module!\n"
     ]
    }
   ],
   "source": [
    "## I have some code I want to import in greetings.py in local directory\n",
    "## I don't need a __init__.py to make this work\n",
    "\n",
    "from greetings import spanish\n",
    "\n",
    "\n",
    "print(spanish('Will'))"
   ]
  },
  {
   "cell_type": "markdown",
   "id": "3524fb9e",
   "metadata": {},
   "source": [
    "## Next you have packages\n",
    "\n",
    "They have a directory structure with __init__.py at each directory"
   ]
  },
  {
   "cell_type": "code",
   "execution_count": 3,
   "id": "ed14d20f",
   "metadata": {},
   "outputs": [
    {
     "name": "stdout",
     "output_type": "stream",
     "text": [
      "Hallo Will from package\n"
     ]
    }
   ],
   "source": [
    "# - my_package\n",
    "#   __init__.py\n",
    "#  - language\n",
    "#    __init__.py\n",
    "#    greetings.py\n",
    "\n",
    "from my_package.language.greetings import german\n",
    "\n",
    "print(german('Will'))"
   ]
  },
  {
   "cell_type": "markdown",
   "id": "0a3db248",
   "metadata": {},
   "source": [
    "## Namespaces were introduced in Python 3.3\n",
    "\n",
    "They have a specific purpose, which is to allow same top level names but in different paths\n",
    "\n",
    "### This is to allow different groups to maintain different parts of namespace\n",
    "\n",
    "Pretty darn esoteric so let me show you an example"
   ]
  },
  {
   "cell_type": "code",
   "execution_count": 4,
   "id": "915f2d82",
   "metadata": {},
   "outputs": [
    {
     "name": "stdout",
     "output_type": "stream",
     "text": [
      "['/home/bunker/teaching/python', '/home/bunker/anaconda3/lib/python39.zip', '/home/bunker/anaconda3/lib/python3.9', '/home/bunker/anaconda3/lib/python3.9/lib-dynload', '', '/home/bunker/.local/lib/python3.9/site-packages', '/home/bunker/anaconda3/lib/python3.9/site-packages']\n",
      "['/home/bunker/teaching/python', '/home/bunker/anaconda3/lib/python39.zip', '/home/bunker/anaconda3/lib/python3.9', '/home/bunker/anaconda3/lib/python3.9/lib-dynload', '', '/home/bunker/.local/lib/python3.9/site-packages', '/home/bunker/anaconda3/lib/python3.9/site-packages', '/home/bunker/teaching/python/libraries_1', '/home/bunker/teaching/python/libraries_2']\n"
     ]
    }
   ],
   "source": [
    "# - libraries_1\n",
    "#   - language\n",
    "#       greetings.py\n",
    "# - libraries_1\n",
    "#   - language\n",
    "#       goodbyes.py\n",
    "\n",
    "\n",
    "import sys\n",
    "\n",
    "print(sys.path)\n",
    "\n",
    "sys.path += ['/home/bunker/teaching/python/libraries_1', '/home/bunker/teaching/python/libraries_2']\n",
    "\n",
    "print(sys.path)\n"
   ]
  },
  {
   "cell_type": "code",
   "execution_count": 5,
   "id": "97eb207d",
   "metadata": {},
   "outputs": [
    {
     "name": "stdout",
     "output_type": "stream",
     "text": [
      "Hello Will from namespace!\n",
      "Goodbye Will from namespace!\n"
     ]
    }
   ],
   "source": [
    "import language.greetings as greetings, language.goodbyes as goodbyes\n",
    "\n",
    "\n",
    "print(greetings.english('Will'))\n",
    "\n",
    "print(goodbyes.english('Will'))"
   ]
  },
  {
   "cell_type": "markdown",
   "id": "6a6bd1a9",
   "metadata": {},
   "source": [
    "# You will see people say you don't need __init__.py\n",
    "\n",
    "This is not true!!!!\n",
    "\n",
    "Namespaces are different from packages, so use it wisely\n",
    "\n",
    "There are other things you can do with __init__.py that are not avaiable in namespace like create \n",
    "global variables"
   ]
  },
  {
   "cell_type": "code",
   "execution_count": null,
   "id": "f10f3527",
   "metadata": {},
   "outputs": [],
   "source": []
  }
 ],
 "metadata": {
  "kernelspec": {
   "display_name": "Python 3",
   "language": "python",
   "name": "python3"
  },
  "language_info": {
   "codemirror_mode": {
    "name": "ipython",
    "version": 3
   },
   "file_extension": ".py",
   "mimetype": "text/x-python",
   "name": "python",
   "nbconvert_exporter": "python",
   "pygments_lexer": "ipython3",
   "version": "3.9.12"
  }
 },
 "nbformat": 4,
 "nbformat_minor": 5
}
