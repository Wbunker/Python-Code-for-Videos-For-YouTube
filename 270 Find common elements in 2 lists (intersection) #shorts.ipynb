{
 "cells": [
  {
   "cell_type": "code",
   "execution_count": 9,
   "id": "6c7275fb",
   "metadata": {},
   "outputs": [
    {
     "name": "stdout",
     "output_type": "stream",
     "text": [
      "[1, 4, 5]\n",
      "[1, 4, 5]\n"
     ]
    }
   ],
   "source": [
    "l1 = [\n",
    "    1, 2, 3,\n",
    "    4, 5, 6\n",
    "]\n",
    "l2 = [\n",
    "    1, 5, 7,\n",
    "    10, 12, 4\n",
    "]\n",
    "\n",
    "s1 = set(l1)\n",
    "s2 = set(l2)\n",
    "i = list(s1 & s2)\n",
    "i2 = list(s1.intersection(l2))\n",
    "print(i)\n",
    "print(i2)"
   ]
  },
  {
   "cell_type": "code",
   "execution_count": null,
   "id": "431e3548",
   "metadata": {},
   "outputs": [],
   "source": []
  }
 ],
 "metadata": {
  "kernelspec": {
   "display_name": "3.11.1",
   "language": "python",
   "name": "3.11.1"
  },
  "language_info": {
   "codemirror_mode": {
    "name": "ipython",
    "version": 3
   },
   "file_extension": ".py",
   "mimetype": "text/x-python",
   "name": "python",
   "nbconvert_exporter": "python",
   "pygments_lexer": "ipython3",
   "version": "3.11.1"
  }
 },
 "nbformat": 4,
 "nbformat_minor": 5
}
