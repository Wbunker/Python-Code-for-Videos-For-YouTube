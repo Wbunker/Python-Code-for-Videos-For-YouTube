{
 "cells": [
  {
   "cell_type": "markdown",
   "id": "bbb9505c",
   "metadata": {},
   "source": [
    "# When I first saw this syntax I found it confusing\n",
    "\n",
    "## First we will load iris data set"
   ]
  },
  {
   "cell_type": "code",
   "execution_count": 1,
   "id": "2f06e883",
   "metadata": {},
   "outputs": [
    {
     "name": "stdout",
     "output_type": "stream",
     "text": [
      "Index(['sepal_length', 'sepal_width', 'petal_length', 'petal_width',\n",
      "       'species'],\n",
      "      dtype='object')\n"
     ]
    }
   ],
   "source": [
    "import seaborn as sns\n",
    "\n",
    "iris = sns.load_dataset('iris')\n",
    "print(iris.columns)"
   ]
  },
  {
   "cell_type": "markdown",
   "id": "4f305b7f",
   "metadata": {},
   "source": [
    "## Pass in a list of column names you want, so you slice with column name list"
   ]
  },
  {
   "cell_type": "code",
   "execution_count": 3,
   "id": "e9df367e",
   "metadata": {},
   "outputs": [
    {
     "name": "stdout",
     "output_type": "stream",
     "text": [
      "   sepal_length  sepal_width\n",
      "0           5.1          3.5\n",
      "1           4.9          3.0\n",
      "2           4.7          3.2\n",
      "3           4.6          3.1\n",
      "4           5.0          3.6\n"
     ]
    }
   ],
   "source": [
    "print(iris[['sepal_length', 'sepal_width']].head())"
   ]
  },
  {
   "cell_type": "code",
   "execution_count": null,
   "id": "151991b5",
   "metadata": {},
   "outputs": [],
   "source": []
  }
 ],
 "metadata": {
  "kernelspec": {
   "display_name": "Python 3 (ipykernel)",
   "language": "python",
   "name": "python3"
  },
  "language_info": {
   "codemirror_mode": {
    "name": "ipython",
    "version": 3
   },
   "file_extension": ".py",
   "mimetype": "text/x-python",
   "name": "python",
   "nbconvert_exporter": "python",
   "pygments_lexer": "ipython3",
   "version": "3.9.7"
  }
 },
 "nbformat": 4,
 "nbformat_minor": 5
}
