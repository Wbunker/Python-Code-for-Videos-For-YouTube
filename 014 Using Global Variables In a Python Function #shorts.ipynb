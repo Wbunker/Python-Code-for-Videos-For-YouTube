{
 "cells": [
  {
   "cell_type": "code",
   "execution_count": 6,
   "id": "688cb36b",
   "metadata": {},
   "outputs": [
    {
     "name": "stdout",
     "output_type": "stream",
     "text": [
      "global: 1000\n",
      "local: 50\n",
      "did't change: 1000\n",
      "global inside: 50\n",
      "reading global everywhere: 50\n"
     ]
    }
   ],
   "source": [
    "everywhere = 1000\n",
    "def read_val():\n",
    "    print(f\"global: {everywhere}\")\n",
    "\n",
    "read_val()\n",
    "\n",
    "def set_val():\n",
    "    everywhere = 50\n",
    "    print(f\"local: {everywhere}\")\n",
    "    \n",
    "set_val()\n",
    "print(f\"did't change: {everywhere}\")\n",
    "\n",
    "def set_val2():\n",
    "    global everywhere\n",
    "    everywhere = 50\n",
    "    print(f\"global inside: {everywhere}\")\n",
    "    \n",
    "set_val2()\n",
    "\n",
    "print(f\"reading global everywhere: {everywhere}\")"
   ]
  },
  {
   "cell_type": "code",
   "execution_count": null,
   "id": "c12a3de7",
   "metadata": {},
   "outputs": [],
   "source": []
  }
 ],
 "metadata": {
  "kernelspec": {
   "display_name": "Python 3 (ipykernel)",
   "language": "python",
   "name": "python3"
  },
  "language_info": {
   "codemirror_mode": {
    "name": "ipython",
    "version": 3
   },
   "file_extension": ".py",
   "mimetype": "text/x-python",
   "name": "python",
   "nbconvert_exporter": "python",
   "pygments_lexer": "ipython3",
   "version": "3.9.7"
  }
 },
 "nbformat": 4,
 "nbformat_minor": 5
}
