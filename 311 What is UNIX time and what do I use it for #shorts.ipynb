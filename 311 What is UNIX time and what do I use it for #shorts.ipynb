{
 "cells": [
  {
   "cell_type": "code",
   "execution_count": 3,
   "id": "e50ed802",
   "metadata": {},
   "outputs": [
    {
     "name": "stdout",
     "output_type": "stream",
     "text": [
      "1,675,525,032.4473522\n"
     ]
    }
   ],
   "source": [
    "#seconds January 1st, 1970 in UTC\n",
    "# currently over 1.6 Billion \n",
    "# I tend to use in databases that\n",
    "# don't have datetime field like DynamoDB on AWS\n",
    "# then I can sort financial data by time range\n",
    "# without worrying about time zones \n",
    "from time import time\n",
    "\n",
    "x = time()\n",
    "print(f\"{x:,}\")"
   ]
  },
  {
   "cell_type": "code",
   "execution_count": null,
   "id": "1925066d",
   "metadata": {},
   "outputs": [],
   "source": []
  }
 ],
 "metadata": {
  "kernelspec": {
   "display_name": "3.11.1",
   "language": "python",
   "name": "3.11.1"
  },
  "language_info": {
   "codemirror_mode": {
    "name": "ipython",
    "version": 3
   },
   "file_extension": ".py",
   "mimetype": "text/x-python",
   "name": "python",
   "nbconvert_exporter": "python",
   "pygments_lexer": "ipython3",
   "version": "3.11.1"
  }
 },
 "nbformat": 4,
 "nbformat_minor": 5
}
