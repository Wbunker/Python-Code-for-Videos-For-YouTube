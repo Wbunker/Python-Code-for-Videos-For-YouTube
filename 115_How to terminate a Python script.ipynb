{
 "cells": [
  {
   "cell_type": "markdown",
   "id": "4c5db636",
   "metadata": {},
   "source": [
    "# Unless you are multi-threading"
   ]
  },
  {
   "cell_type": "code",
   "execution_count": 2,
   "id": "3eb48015",
   "metadata": {},
   "outputs": [],
   "source": [
    "import sys\n",
    "\n",
    "\n",
    "# with no arguments it indicates no errors\n",
    "sys.exit()"
   ]
  },
  {
   "cell_type": "markdown",
   "id": "bd4be7b1",
   "metadata": {},
   "source": [
    "# Don't use exit() or quit() in production\n",
    "\n",
    "These functions are intended only for the interactive Python."
   ]
  },
  {
   "cell_type": "code",
   "execution_count": null,
   "id": "90a02270",
   "metadata": {},
   "outputs": [],
   "source": [
    "exit()\n",
    "\n",
    "quit()"
   ]
  }
 ],
 "metadata": {
  "kernelspec": {
   "display_name": "3.10",
   "language": "python",
   "name": "python3.10"
  },
  "language_info": {
   "codemirror_mode": {
    "name": "ipython",
    "version": 3
   },
   "file_extension": ".py",
   "mimetype": "text/x-python",
   "name": "python",
   "nbconvert_exporter": "python",
   "pygments_lexer": "ipython3",
   "version": "3.10.7"
  }
 },
 "nbformat": 4,
 "nbformat_minor": 5
}
