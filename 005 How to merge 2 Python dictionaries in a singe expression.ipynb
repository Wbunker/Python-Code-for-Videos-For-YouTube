{
 "cells": [
  {
   "cell_type": "markdown",
   "id": "e7834e98",
   "metadata": {},
   "source": [
    "# Old school vs New School\n",
    "\n",
    "## Older school - Python 3.5 or greater\n",
    "\n",
    "use ** the unpack operator"
   ]
  },
  {
   "cell_type": "code",
   "execution_count": 2,
   "id": "e7f3af0b",
   "metadata": {},
   "outputs": [
    {
     "name": "stdout",
     "output_type": "stream",
     "text": [
      "{'a': 1, 'b': 3, 'c': 4}\n",
      "{'b': 2, 'c': 4, 'a': 1}\n"
     ]
    }
   ],
   "source": [
    "\n",
    "\n",
    "x = {'a': 1, 'b': 2}\n",
    "y = {'b': 3, 'c': 4}\n",
    "\n",
    "\n",
    "print({**x, **y})\n",
    "\n",
    "print({**y, **x})"
   ]
  },
  {
   "cell_type": "markdown",
   "id": "539f58a9",
   "metadata": {},
   "source": [
    "## New New School - Python 3.9\n",
    "\n",
    "| is a merge operator"
   ]
  },
  {
   "cell_type": "code",
   "execution_count": 4,
   "id": "49d727aa",
   "metadata": {},
   "outputs": [
    {
     "name": "stdout",
     "output_type": "stream",
     "text": [
      "{'a': 1, 'b': 3, 'c': 4}\n",
      "{'b': 2, 'c': 4, 'a': 1}\n"
     ]
    }
   ],
   "source": [
    "print( x | y)\n",
    "\n",
    "print( y | x)"
   ]
  },
  {
   "cell_type": "markdown",
   "id": "40a30cfa",
   "metadata": {},
   "source": [
    "## use dictionary update but it replac"
   ]
  },
  {
   "cell_type": "code",
   "execution_count": null,
   "id": "bec186df",
   "metadata": {},
   "outputs": [],
   "source": [
    "x.update()"
   ]
  }
 ],
 "metadata": {
  "kernelspec": {
   "display_name": "Python 3",
   "language": "python",
   "name": "python3"
  },
  "language_info": {
   "codemirror_mode": {
    "name": "ipython",
    "version": 3
   },
   "file_extension": ".py",
   "mimetype": "text/x-python",
   "name": "python",
   "nbconvert_exporter": "python",
   "pygments_lexer": "ipython3",
   "version": "3.9.12"
  }
 },
 "nbformat": 4,
 "nbformat_minor": 5
}
