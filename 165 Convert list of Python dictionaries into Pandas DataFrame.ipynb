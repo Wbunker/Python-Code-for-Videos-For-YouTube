{
 "cells": [
  {
   "cell_type": "code",
   "execution_count": 1,
   "id": "32f10da2",
   "metadata": {},
   "outputs": [
    {
     "name": "stdout",
     "output_type": "stream",
     "text": [
      "   points  time    year     month  points_h1\n",
      "0    50.0  5:00  2010.0       NaN        NaN\n",
      "1    25.0  6:00     NaN  february        NaN\n",
      "2    90.0  9:00     NaN   january        NaN\n",
      "3     NaN   NaN     NaN      june       20.0\n"
     ]
    }
   ],
   "source": [
    "import pandas as pd\n",
    "\n",
    "data = [\n",
    " {'points': 50, \n",
    "  'time': '5:00', \n",
    "  'year': 2010}, \n",
    " {'points': 25, \n",
    "  'time': '6:00', \n",
    "  'month': \"february\"}, \n",
    " {'points':90, \n",
    "  'time': '9:00', \n",
    "  'month': 'january'}, \n",
    " {'points_h1':20, \n",
    "  'month': 'june'}\n",
    "]\n",
    "\n",
    "df = pd.DataFrame.from_dict(data)\n",
    "\n",
    "print(df)"
   ]
  },
  {
   "cell_type": "code",
   "execution_count": null,
   "id": "fa685ed8",
   "metadata": {},
   "outputs": [],
   "source": []
  }
 ],
 "metadata": {
  "kernelspec": {
   "display_name": "Python 3 (ipykernel)",
   "language": "python",
   "name": "python3"
  },
  "language_info": {
   "codemirror_mode": {
    "name": "ipython",
    "version": 3
   },
   "file_extension": ".py",
   "mimetype": "text/x-python",
   "name": "python",
   "nbconvert_exporter": "python",
   "pygments_lexer": "ipython3",
   "version": "3.9.7"
  }
 },
 "nbformat": 4,
 "nbformat_minor": 5
}
