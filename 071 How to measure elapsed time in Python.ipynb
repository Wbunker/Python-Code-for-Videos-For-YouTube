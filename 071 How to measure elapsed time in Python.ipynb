{
 "cells": [
  {
   "cell_type": "markdown",
   "id": "0fbba782",
   "metadata": {},
   "source": [
    "# 2 Ways to do this depending on what you want to measure\n",
    "\n",
    "\n",
    "## 1. Total time that has passed"
   ]
  },
  {
   "cell_type": "code",
   "execution_count": 1,
   "id": "44067d7c",
   "metadata": {},
   "outputs": [
    {
     "name": "stdout",
     "output_type": "stream",
     "text": [
      "1.7019045470515266\n"
     ]
    }
   ],
   "source": [
    "from time import perf_counter, sleep\n",
    "\n",
    "start_time = perf_counter()\n",
    "\n",
    "sleep(1.7)\n",
    "\n",
    "end_time = perf_counter()\n",
    "\n",
    "print(end_time - start_time)"
   ]
  },
  {
   "cell_type": "markdown",
   "id": "5f984027",
   "metadata": {},
   "source": [
    "## 2. Total time used by system and CPU time"
   ]
  },
  {
   "cell_type": "code",
   "execution_count": 2,
   "id": "8ad041db",
   "metadata": {},
   "outputs": [
    {
     "name": "stdout",
     "output_type": "stream",
     "text": [
      "0.001922041000000041\n"
     ]
    }
   ],
   "source": [
    "from time import process_time\n",
    "\n",
    "start_time = process_time()\n",
    "\n",
    "sleep(1.7)\n",
    "\n",
    "end_time = process_time()\n",
    "\n",
    "print(end_time - start_time)"
   ]
  },
  {
   "cell_type": "code",
   "execution_count": null,
   "id": "b61f528f",
   "metadata": {},
   "outputs": [],
   "source": []
  }
 ],
 "metadata": {
  "kernelspec": {
   "display_name": "Python 3",
   "language": "python",
   "name": "python3"
  },
  "language_info": {
   "codemirror_mode": {
    "name": "ipython",
    "version": 3
   },
   "file_extension": ".py",
   "mimetype": "text/x-python",
   "name": "python",
   "nbconvert_exporter": "python",
   "pygments_lexer": "ipython3",
   "version": "3.9.12"
  }
 },
 "nbformat": 4,
 "nbformat_minor": 5
}
