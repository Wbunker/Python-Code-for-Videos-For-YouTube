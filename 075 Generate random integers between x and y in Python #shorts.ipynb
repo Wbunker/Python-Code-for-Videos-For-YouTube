{
 "cells": [
  {
   "cell_type": "code",
   "execution_count": 2,
   "id": "e64be173",
   "metadata": {},
   "outputs": [
    {
     "name": "stdout",
     "output_type": "stream",
     "text": [
      "[17, 19, 10, 14, 14]\n"
     ]
    }
   ],
   "source": [
    "from random import randint\n",
    "throws = [randint(1, 20) \n",
    "          for _ in range(5)]\n",
    "print(throws)"
   ]
  },
  {
   "cell_type": "code",
   "execution_count": 3,
   "id": "29f89001",
   "metadata": {},
   "outputs": [
    {
     "name": "stdout",
     "output_type": "stream",
     "text": [
      "[14, 8, 13, 5, 15, 10, 13, 15, 14, 6]\n"
     ]
    }
   ],
   "source": [
    "throws = [randint(5,15) \n",
    "          for _ in range(10)]\n",
    "\n",
    "print(throws)"
   ]
  },
  {
   "cell_type": "code",
   "execution_count": null,
   "id": "e622c97c",
   "metadata": {},
   "outputs": [],
   "source": []
  }
 ],
 "metadata": {
  "kernelspec": {
   "display_name": "Python 3 (ipykernel)",
   "language": "python",
   "name": "python3"
  },
  "language_info": {
   "codemirror_mode": {
    "name": "ipython",
    "version": 3
   },
   "file_extension": ".py",
   "mimetype": "text/x-python",
   "name": "python",
   "nbconvert_exporter": "python",
   "pygments_lexer": "ipython3",
   "version": "3.9.7"
  }
 },
 "nbformat": 4,
 "nbformat_minor": 5
}
