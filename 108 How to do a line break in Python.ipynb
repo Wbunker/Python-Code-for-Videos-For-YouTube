{
 "cells": [
  {
   "cell_type": "markdown",
   "id": "b7f7c045",
   "metadata": {},
   "source": [
    "# 2 Ways\n",
    "\n",
    "## 1. Use \\ to continue to next line"
   ]
  },
  {
   "cell_type": "code",
   "execution_count": 3,
   "id": "e6ff1cf0",
   "metadata": {},
   "outputs": [
    {
     "name": "stdout",
     "output_type": "stream",
     "text": [
      "21\n"
     ]
    }
   ],
   "source": [
    "a = 1 + 2 + 3 + \\\n",
    "    4 + 5 + 6\n",
    "\n",
    "print(a)"
   ]
  },
  {
   "cell_type": "markdown",
   "id": "7fb4afa8",
   "metadata": {},
   "source": [
    "## 2. Use parenthesis"
   ]
  },
  {
   "cell_type": "code",
   "execution_count": 4,
   "id": "f9589ef7",
   "metadata": {},
   "outputs": [
    {
     "name": "stdout",
     "output_type": "stream",
     "text": [
      "21\n"
     ]
    }
   ],
   "source": [
    "b = ( 1 + 2 + 3 +\n",
    "      4 + 5 + 6)\n",
    "\n",
    "print(b)"
   ]
  },
  {
   "cell_type": "code",
   "execution_count": null,
   "id": "f52638c7",
   "metadata": {},
   "outputs": [],
   "source": []
  }
 ],
 "metadata": {
  "kernelspec": {
   "display_name": "Python 3 (ipykernel)",
   "language": "python",
   "name": "python3"
  },
  "language_info": {
   "codemirror_mode": {
    "name": "ipython",
    "version": 3
   },
   "file_extension": ".py",
   "mimetype": "text/x-python",
   "name": "python",
   "nbconvert_exporter": "python",
   "pygments_lexer": "ipython3",
   "version": "3.9.7"
  }
 },
 "nbformat": 4,
 "nbformat_minor": 5
}
