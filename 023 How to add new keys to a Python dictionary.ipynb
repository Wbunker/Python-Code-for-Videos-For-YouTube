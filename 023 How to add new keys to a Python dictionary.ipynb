{
 "cells": [
  {
   "cell_type": "markdown",
   "id": "9e30c41d",
   "metadata": {},
   "source": [
    "# If you only need to add a single key\n",
    "\n",
    "## Easy Peasy"
   ]
  },
  {
   "cell_type": "code",
   "execution_count": 1,
   "id": "30f000a9",
   "metadata": {},
   "outputs": [
    {
     "name": "stdout",
     "output_type": "stream",
     "text": [
      "{'a': 'Apple', 'b': 'Baseball', 'c': 'Cat', 'd': 'Dog', 'e': 'Eagle', 'f': 'Football', 'g': 'Golf'}\n"
     ]
    }
   ],
   "source": [
    "alphabet = {'a': \"Apple\", 'b': \"Baseball\", 'c': \"Cat\", 'd': \"Dog\", 'e': \"Eagle\", 'f': \"Football\"}\n",
    "\n",
    "\n",
    "alphabet['g'] = 'Golf'\n",
    "\n",
    "\n",
    "print(alphabet)"
   ]
  },
  {
   "cell_type": "markdown",
   "id": "23262839",
   "metadata": {},
   "source": [
    "# But I need to add multiple keys\n",
    "\n",
    "## Python has you covered"
   ]
  },
  {
   "cell_type": "code",
   "execution_count": 2,
   "id": "eadecf77",
   "metadata": {},
   "outputs": [
    {
     "name": "stdout",
     "output_type": "stream",
     "text": [
      "{'a': 'Apple', 'b': 'Baseball', 'c': 'Cat', 'd': 'Dog', 'e': 'Eagle', 'f': 'Football', 'g': 'Golf', 'h': 'Helicopter', 'i': 'Igloo', 'j': 'Jello'}\n"
     ]
    }
   ],
   "source": [
    "new_keys = {'h': 'Helicopter', 'i': 'Igloo', 'j': 'Jello'}\n",
    "\n",
    "alphabet.update(new_keys)\n",
    "\n",
    "print(alphabet)"
   ]
  },
  {
   "cell_type": "markdown",
   "id": "dd0ae067",
   "metadata": {},
   "source": [
    "# Update is a lot of typing ( 9 characters including .() )\n",
    "\n",
    "## Python 3.9 came out with | as update operator"
   ]
  },
  {
   "cell_type": "code",
   "execution_count": 3,
   "id": "aa39068f",
   "metadata": {},
   "outputs": [
    {
     "name": "stdout",
     "output_type": "stream",
     "text": [
      "{'a': 'Apple', 'b': 'Baseball', 'c': 'Cat', 'd': 'Dog', 'e': 'Eagle', 'f': 'Football', 'g': 'Golf', 'h': 'Helicopter', 'i': 'Igloo', 'j': 'Jello', 'k': 'Kangaroo', 'l': 'Light Saber'}\n"
     ]
    }
   ],
   "source": [
    "alphabet |= {'k': 'Kangaroo', 'l': \"Light Saber\" }\n",
    "\n",
    "\n",
    "print(alphabet)"
   ]
  },
  {
   "cell_type": "code",
   "execution_count": null,
   "id": "3b1b5b16",
   "metadata": {},
   "outputs": [],
   "source": []
  }
 ],
 "metadata": {
  "kernelspec": {
   "display_name": "Python 3",
   "language": "python",
   "name": "python3"
  },
  "language_info": {
   "codemirror_mode": {
    "name": "ipython",
    "version": 3
   },
   "file_extension": ".py",
   "mimetype": "text/x-python",
   "name": "python",
   "nbconvert_exporter": "python",
   "pygments_lexer": "ipython3",
   "version": "3.9.12"
  }
 },
 "nbformat": 4,
 "nbformat_minor": 5
}
