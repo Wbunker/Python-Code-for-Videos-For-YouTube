{
 "cells": [
  {
   "cell_type": "markdown",
   "id": "334d7a0c",
   "metadata": {},
   "source": [
    "# The usual terminology is to escape the character\n",
    "\n",
    "## Curly braces are normally used to run code in string formatting"
   ]
  },
  {
   "cell_type": "code",
   "execution_count": 3,
   "id": "e68585b0",
   "metadata": {},
   "outputs": [
    {
     "name": "stdout",
     "output_type": "stream",
     "text": [
      "{ } These curly braces will show.  How is that Will\n"
     ]
    }
   ],
   "source": [
    "name = \"Will\"\n",
    "\n",
    "\n",
    "# Use {{ and }} to escape\n",
    "\n",
    "print(f\"{{ }} These curly braces will show.  How is that {name}\")"
   ]
  },
  {
   "cell_type": "markdown",
   "id": "684807f2",
   "metadata": {},
   "source": [
    "## What if I want to put them around the variable name?"
   ]
  },
  {
   "cell_type": "code",
   "execution_count": 4,
   "id": "6f7f4d2e",
   "metadata": {},
   "outputs": [
    {
     "name": "stdout",
     "output_type": "stream",
     "text": [
      "Your name with curly braces: {Will}\n"
     ]
    }
   ],
   "source": [
    "print(f\"Your name with curly braces: {{{name}}}\")"
   ]
  }
 ],
 "metadata": {
  "kernelspec": {
   "display_name": "Python 3",
   "language": "python",
   "name": "python3"
  },
  "language_info": {
   "codemirror_mode": {
    "name": "ipython",
    "version": 3
   },
   "file_extension": ".py",
   "mimetype": "text/x-python",
   "name": "python",
   "nbconvert_exporter": "python",
   "pygments_lexer": "ipython3",
   "version": "3.9.12"
  }
 },
 "nbformat": 4,
 "nbformat_minor": 5
}
