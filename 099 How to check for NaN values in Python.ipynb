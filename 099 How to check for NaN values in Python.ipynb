{
 "cells": [
  {
   "cell_type": "markdown",
   "id": "c0cbec8e",
   "metadata": {},
   "source": [
    "# Use the math module's isnan function\n",
    "\n",
    "## First let's create a NaN"
   ]
  },
  {
   "cell_type": "code",
   "execution_count": 3,
   "id": "9f9081d6",
   "metadata": {},
   "outputs": [
    {
     "name": "stdout",
     "output_type": "stream",
     "text": [
      "nan\n"
     ]
    }
   ],
   "source": [
    "x = float('nan')\n",
    "print(x)"
   ]
  },
  {
   "cell_type": "markdown",
   "id": "7c718bcf",
   "metadata": {},
   "source": [
    "## Now let's detect it"
   ]
  },
  {
   "cell_type": "code",
   "execution_count": 4,
   "id": "b15639cd",
   "metadata": {},
   "outputs": [
    {
     "name": "stdout",
     "output_type": "stream",
     "text": [
      "True\n"
     ]
    }
   ],
   "source": [
    "import math\n",
    "\n",
    "\n",
    "print(math.isnan(x))"
   ]
  },
  {
   "cell_type": "code",
   "execution_count": null,
   "id": "edef1bcb",
   "metadata": {},
   "outputs": [],
   "source": []
  }
 ],
 "metadata": {
  "kernelspec": {
   "display_name": "Python 3",
   "language": "python",
   "name": "python3"
  },
  "language_info": {
   "codemirror_mode": {
    "name": "ipython",
    "version": 3
   },
   "file_extension": ".py",
   "mimetype": "text/x-python",
   "name": "python",
   "nbconvert_exporter": "python",
   "pygments_lexer": "ipython3",
   "version": "3.9.12"
  }
 },
 "nbformat": 4,
 "nbformat_minor": 5
}
