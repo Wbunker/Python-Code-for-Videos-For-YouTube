{
 "cells": [
  {
   "cell_type": "code",
   "execution_count": 5,
   "id": "b9506d17",
   "metadata": {},
   "outputs": [
    {
     "name": "stdout",
     "output_type": "stream",
     "text": [
      "{'apple': 5.73, 'grape': 3.22, 'orange': 2.74}\n",
      "{'orange': 2.74, 'grape': 3.22, 'apple': 5.73}\n"
     ]
    }
   ],
   "source": [
    "d = {\n",
    "    \"apple\": 5.73,\n",
    "    \"orange\": 2.74,\n",
    "    \"grape\": 3.22\n",
    "}\n",
    "# 3.7 and up\n",
    "d2 = dict(sorted(d.items()))\n",
    "\n",
    "d3 = dict(sorted(d.items(),\n",
    "                reverse=True))\n",
    "print(d2)\n",
    "print(d3)"
   ]
  },
  {
   "cell_type": "code",
   "execution_count": null,
   "id": "3410a2c4",
   "metadata": {},
   "outputs": [],
   "source": []
  }
 ],
 "metadata": {
  "kernelspec": {
   "display_name": "Python 3 (ipykernel)",
   "language": "python",
   "name": "python3"
  },
  "language_info": {
   "codemirror_mode": {
    "name": "ipython",
    "version": 3
   },
   "file_extension": ".py",
   "mimetype": "text/x-python",
   "name": "python",
   "nbconvert_exporter": "python",
   "pygments_lexer": "ipython3",
   "version": "3.9.7"
  }
 },
 "nbformat": 4,
 "nbformat_minor": 5
}
