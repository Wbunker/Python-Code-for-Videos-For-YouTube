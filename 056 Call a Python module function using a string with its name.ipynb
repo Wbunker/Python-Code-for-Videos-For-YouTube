{
 "cells": [
  {
   "cell_type": "markdown",
   "id": "04b3974f",
   "metadata": {},
   "source": [
    "# The suprising answer is getattr"
   ]
  },
  {
   "cell_type": "code",
   "execution_count": 1,
   "id": "bf8001a4",
   "metadata": {},
   "outputs": [
    {
     "name": "stdout",
     "output_type": "stream",
     "text": [
      "2022-10-02 00:00:00\n"
     ]
    }
   ],
   "source": [
    "import datetime\n",
    "\n",
    "\n",
    "dynamic_func = getattr(datetime, 'datetime')\n",
    "\n",
    "print(dynamic_func(2022, 10, 2))"
   ]
  },
  {
   "cell_type": "markdown",
   "id": "88679e2d",
   "metadata": {},
   "source": [
    "# What if I want to grab a function in current module?\n",
    "\n",
    "locals() returns a dictionary with current local symbol table"
   ]
  },
  {
   "cell_type": "code",
   "execution_count": 3,
   "id": "52b63265",
   "metadata": {},
   "outputs": [
    {
     "name": "stdout",
     "output_type": "stream",
     "text": [
      "Mooooooooh!!\n"
     ]
    }
   ],
   "source": [
    "def moo():\n",
    "    print(\"Mooooooooh!!\")\n",
    "    \n",
    "    \n",
    "locals()['moo']()    "
   ]
  },
  {
   "cell_type": "markdown",
   "id": "d08828ae",
   "metadata": {},
   "source": [
    "# What if I want to grab a module dynamically also?"
   ]
  },
  {
   "cell_type": "code",
   "execution_count": 1,
   "id": "161113c7",
   "metadata": {},
   "outputs": [
    {
     "name": "stdout",
     "output_type": "stream",
     "text": [
      "going to sleep\n",
      "..........\n",
      "woke back up\n"
     ]
    }
   ],
   "source": [
    "import importlib\n",
    "\n",
    "mod = importlib.import_module(\"time\")\n",
    "\n",
    "func = getattr(mod, \"sleep\")\n",
    "\n",
    "print(\"going to sleep\")\n",
    "for _ in range(10):\n",
    "    func(0.2)\n",
    "    print('.', end='')\n",
    "print(\"\\nwoke back up\")"
   ]
  },
  {
   "cell_type": "code",
   "execution_count": null,
   "id": "b92e10b8",
   "metadata": {},
   "outputs": [],
   "source": []
  }
 ],
 "metadata": {
  "kernelspec": {
   "display_name": "Python 3 (ipykernel)",
   "language": "python",
   "name": "python3"
  },
  "language_info": {
   "codemirror_mode": {
    "name": "ipython",
    "version": 3
   },
   "file_extension": ".py",
   "mimetype": "text/x-python",
   "name": "python",
   "nbconvert_exporter": "python",
   "pygments_lexer": "ipython3",
   "version": "3.9.12"
  }
 },
 "nbformat": 4,
 "nbformat_minor": 5
}
