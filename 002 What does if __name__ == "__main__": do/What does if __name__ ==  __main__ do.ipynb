{
 "cells": [
  {
   "cell_type": "markdown",
   "id": "e49bc1a9",
   "metadata": {},
   "source": [
    "# What is variable that has __ before and after? \n",
    "\n",
    "When a variable has double __ before and after, it is a \"magic\" object and reserved in python\n"
   ]
  },
  {
   "cell_type": "code",
   "execution_count": 1,
   "id": "3c962578",
   "metadata": {},
   "outputs": [
    {
     "name": "stdout",
     "output_type": "stream",
     "text": [
      "__main__\n"
     ]
    }
   ],
   "source": [
    "# Don't make your own variables with __my_var__\n",
    "# \"__name__\" gets set by python\n",
    "\n",
    "# If this is the file you called python with it is set to __main__\n",
    "# Otherwise it is set to name of file (minus the .py)\n",
    "\n",
    "print(__name__)"
   ]
  },
  {
   "cell_type": "code",
   "execution_count": 2,
   "id": "7741000b",
   "metadata": {},
   "outputs": [
    {
     "name": "stdout",
     "output_type": "stream",
     "text": [
      "__name__ is greetings\n",
      "Hola Juan!\n"
     ]
    }
   ],
   "source": [
    "from greetings import spanish\n",
    "\n",
    "spanish(\"Juan\")"
   ]
  },
  {
   "cell_type": "code",
   "execution_count": 3,
   "id": "f15de3e8",
   "metadata": {},
   "outputs": [
    {
     "name": "stdout",
     "output_type": "stream",
     "text": [
      "__name__ is bad_greetings\n",
      "Hola Juan!\n",
      "Hello Juan!\n",
      "Hola Juan!\n"
     ]
    }
   ],
   "source": [
    "from bad_greetings import spanish\n",
    "\n",
    "spanish(\"Juan\")"
   ]
  },
  {
   "cell_type": "code",
   "execution_count": null,
   "id": "66a68c0c",
   "metadata": {},
   "outputs": [],
   "source": []
  }
 ],
 "metadata": {
  "kernelspec": {
   "display_name": "Python 3 (ipykernel)",
   "language": "python",
   "name": "python3"
  },
  "language_info": {
   "codemirror_mode": {
    "name": "ipython",
    "version": 3
   },
   "file_extension": ".py",
   "mimetype": "text/x-python",
   "name": "python",
   "nbconvert_exporter": "python",
   "pygments_lexer": "ipython3",
   "version": "3.9.7"
  }
 },
 "nbformat": 4,
 "nbformat_minor": 5
}
