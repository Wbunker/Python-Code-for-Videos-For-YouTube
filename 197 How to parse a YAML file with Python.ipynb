{
 "cells": [
  {
   "cell_type": "code",
   "execution_count": 4,
   "id": "08afc42a",
   "metadata": {},
   "outputs": [
    {
     "name": "stdout",
     "output_type": "stream",
     "text": [
      "{'doe': 'a deer, a female deer', 'ray': 'a drop of golden sun', 'pi': 3.14159, 'xmas': True, 'french-hens': 3, 'calling-birds': ['huey', 'dewey', 'louie', 'fred'], 'xmas-fifth-day': {'calling-birds': 'four', 'french-hens': 3, 'golden-rings': 5, 'partridges': {'count': 1, 'location': 'a pear tree'}, 'turtle-doves': 'two'}}\n"
     ]
    }
   ],
   "source": [
    "# pip install pyyaml\n",
    "\n",
    "import yaml\n",
    "\n",
    "d = \"data/example.yaml\"\n",
    "\n",
    "with open(d, \"r\") as f:\n",
    "   print(yaml.safe_load(f))"
   ]
  },
  {
   "cell_type": "code",
   "execution_count": null,
   "id": "7c7d40ae",
   "metadata": {},
   "outputs": [],
   "source": []
  }
 ],
 "metadata": {
  "kernelspec": {
   "display_name": "Python 3 (ipykernel)",
   "language": "python",
   "name": "python3"
  },
  "language_info": {
   "codemirror_mode": {
    "name": "ipython",
    "version": 3
   },
   "file_extension": ".py",
   "mimetype": "text/x-python",
   "name": "python",
   "nbconvert_exporter": "python",
   "pygments_lexer": "ipython3",
   "version": "3.9.7"
  }
 },
 "nbformat": 4,
 "nbformat_minor": 5
}
