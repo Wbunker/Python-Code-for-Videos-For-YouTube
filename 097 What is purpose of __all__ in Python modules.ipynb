{
 "cells": [
  {
   "cell_type": "markdown",
   "id": "4e06fff6",
   "metadata": {},
   "source": [
    "# It can be used to control what import * does\n",
    "\n",
    "### it is a list of strings, those correspond to namespace names that will be imported"
   ]
  },
  {
   "cell_type": "code",
   "execution_count": 1,
   "id": "c8ff548e",
   "metadata": {},
   "outputs": [
    {
     "name": "stdout",
     "output_type": "stream",
     "text": [
      "Hallo Will from package\n"
     ]
    }
   ],
   "source": [
    "from my_package.language.greetings import *\n",
    "\n",
    "\n",
    "print(german('Will'))"
   ]
  },
  {
   "cell_type": "markdown",
   "id": "df10eed5",
   "metadata": {},
   "source": [
    "### Notice it doesn't import klingon"
   ]
  },
  {
   "cell_type": "code",
   "execution_count": 2,
   "id": "bd12728f",
   "metadata": {},
   "outputs": [
    {
     "ename": "NameError",
     "evalue": "name 'klingon' is not defined",
     "output_type": "error",
     "traceback": [
      "\u001b[0;31m---------------------------------------------------------------------------\u001b[0m",
      "\u001b[0;31mNameError\u001b[0m                                 Traceback (most recent call last)",
      "Input \u001b[0;32mIn [2]\u001b[0m, in \u001b[0;36m<cell line: 1>\u001b[0;34m()\u001b[0m\n\u001b[0;32m----> 1\u001b[0m \u001b[38;5;28mprint\u001b[39m(\u001b[43mklingon\u001b[49m(\u001b[38;5;124m'\u001b[39m\u001b[38;5;124mWill\u001b[39m\u001b[38;5;124m'\u001b[39m))\n",
      "\u001b[0;31mNameError\u001b[0m: name 'klingon' is not defined"
     ]
    }
   ],
   "source": [
    "print(klingon('Will'))"
   ]
  },
  {
   "cell_type": "code",
   "execution_count": null,
   "id": "9f1ea17a",
   "metadata": {},
   "outputs": [],
   "source": []
  }
 ],
 "metadata": {
  "kernelspec": {
   "display_name": "Python 3 (ipykernel)",
   "language": "python",
   "name": "python3"
  },
  "language_info": {
   "codemirror_mode": {
    "name": "ipython",
    "version": 3
   },
   "file_extension": ".py",
   "mimetype": "text/x-python",
   "name": "python",
   "nbconvert_exporter": "python",
   "pygments_lexer": "ipython3",
   "version": "3.9.7"
  }
 },
 "nbformat": 4,
 "nbformat_minor": 5
}
