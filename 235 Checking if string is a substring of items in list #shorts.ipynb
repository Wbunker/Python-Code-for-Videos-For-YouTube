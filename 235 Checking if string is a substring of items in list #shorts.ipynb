{
 "cells": [
  {
   "cell_type": "code",
   "execution_count": 6,
   "id": "866f990f",
   "metadata": {},
   "outputs": [
    {
     "name": "stdout",
     "output_type": "stream",
     "text": [
      "True\n",
      "False\n"
     ]
    }
   ],
   "source": [
    "l = [\n",
    "    \"William\",\n",
    "    \"Sally\",\n",
    "    \"Bob\",\n",
    "    \"Willy\"\n",
    "]\n",
    "\n",
    "s = \"ill\"\n",
    "test = (s in n for n in l)\n",
    "print(any(test))\n",
    "\n",
    "s2 = \"zot\"\n",
    "test2 = (s2 in n for n in l)\n",
    "print(any(test2))"
   ]
  },
  {
   "cell_type": "code",
   "execution_count": 8,
   "id": "32d5af95",
   "metadata": {},
   "outputs": [
    {
     "name": "stdout",
     "output_type": "stream",
     "text": [
      "['William', 'Willy']\n"
     ]
    }
   ],
   "source": [
    "l2 = [n for n in l if s in n]\n",
    "print(l2)"
   ]
  },
  {
   "cell_type": "code",
   "execution_count": null,
   "id": "94eab38b",
   "metadata": {},
   "outputs": [],
   "source": []
  }
 ],
 "metadata": {
  "kernelspec": {
   "display_name": "3.11.1",
   "language": "python",
   "name": "3.11.1"
  },
  "language_info": {
   "codemirror_mode": {
    "name": "ipython",
    "version": 3
   },
   "file_extension": ".py",
   "mimetype": "text/x-python",
   "name": "python",
   "nbconvert_exporter": "python",
   "pygments_lexer": "ipython3",
   "version": "3.11.1"
  }
 },
 "nbformat": 4,
 "nbformat_minor": 5
}
