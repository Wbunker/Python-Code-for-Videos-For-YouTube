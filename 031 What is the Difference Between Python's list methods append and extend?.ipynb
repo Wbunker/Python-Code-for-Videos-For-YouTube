{
 "cells": [
  {
   "cell_type": "markdown",
   "id": "b1b07299",
   "metadata": {},
   "source": [
    "# This has definitely tripped me up more than once\n",
    "\n",
    "\n",
    "## Let's look at extend first which does what I thought append should do"
   ]
  },
  {
   "cell_type": "code",
   "execution_count": 4,
   "id": "6e98614e",
   "metadata": {},
   "outputs": [
    {
     "name": "stdout",
     "output_type": "stream",
     "text": [
      "[1, 2, 3, 4, 5, 6, 7, 8, 9, 10]\n"
     ]
    }
   ],
   "source": [
    "first = [1, 2, 3, 4, 5, 6]\n",
    "\n",
    "second = [7, 8, 9, 10]\n",
    "\n",
    "first.extend(second)\n",
    "\n",
    "print(first)"
   ]
  },
  {
   "cell_type": "markdown",
   "id": "3db6c47f",
   "metadata": {},
   "source": [
    "## Now let's look at what append does"
   ]
  },
  {
   "cell_type": "code",
   "execution_count": 5,
   "id": "27ccb27b",
   "metadata": {},
   "outputs": [
    {
     "name": "stdout",
     "output_type": "stream",
     "text": [
      "[1, 2, 3, 4, 5, 6, [7, 8, 9, 10]]\n"
     ]
    }
   ],
   "source": [
    "first = [1, 2, 3, 4, 5, 6]\n",
    "\n",
    "second = [7, 8, 9, 10]\n",
    "\n",
    "first.append(second)\n",
    "\n",
    "print(first)"
   ]
  },
  {
   "cell_type": "markdown",
   "id": "cc830b45",
   "metadata": {},
   "source": [
    "## So append is great if you have a single value but extend is what you probably want"
   ]
  },
  {
   "cell_type": "code",
   "execution_count": null,
   "id": "9fc0ed61",
   "metadata": {},
   "outputs": [],
   "source": []
  }
 ],
 "metadata": {
  "kernelspec": {
   "display_name": "Python 3 (ipykernel)",
   "language": "python",
   "name": "python3"
  },
  "language_info": {
   "codemirror_mode": {
    "name": "ipython",
    "version": 3
   },
   "file_extension": ".py",
   "mimetype": "text/x-python",
   "name": "python",
   "nbconvert_exporter": "python",
   "pygments_lexer": "ipython3",
   "version": "3.9.12"
  }
 },
 "nbformat": 4,
 "nbformat_minor": 5
}
