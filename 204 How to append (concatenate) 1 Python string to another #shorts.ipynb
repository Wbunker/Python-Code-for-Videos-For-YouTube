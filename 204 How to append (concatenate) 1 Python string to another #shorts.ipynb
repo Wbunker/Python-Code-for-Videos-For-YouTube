{
 "cells": [
  {
   "cell_type": "code",
   "execution_count": 1,
   "id": "8d4abb27",
   "metadata": {},
   "outputs": [
    {
     "name": "stdout",
     "output_type": "stream",
     "text": [
      "It was the best of times.\n",
      "It was the worst of times\n"
     ]
    }
   ],
   "source": [
    "x = \"It was the best of times.\"\n",
    "\n",
    "x += \"\\nIt was the worst of times\"\n",
    "\n",
    "print(x)"
   ]
  },
  {
   "cell_type": "code",
   "execution_count": null,
   "id": "d8a6bef8",
   "metadata": {},
   "outputs": [],
   "source": [
    "#cpython interpreter is optimizing this\n",
    "#under the hood to expand the array in place"
   ]
  }
 ],
 "metadata": {
  "kernelspec": {
   "display_name": "Python 3 (ipykernel)",
   "language": "python",
   "name": "python3"
  },
  "language_info": {
   "codemirror_mode": {
    "name": "ipython",
    "version": 3
   },
   "file_extension": ".py",
   "mimetype": "text/x-python",
   "name": "python",
   "nbconvert_exporter": "python",
   "pygments_lexer": "ipython3",
   "version": "3.9.7"
  }
 },
 "nbformat": 4,
 "nbformat_minor": 5
}
