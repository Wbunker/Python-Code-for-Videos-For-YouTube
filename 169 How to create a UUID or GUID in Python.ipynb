{
 "cells": [
  {
   "cell_type": "code",
   "execution_count": 6,
   "id": "0ccad05e",
   "metadata": {},
   "outputs": [
    {
     "name": "stdout",
     "output_type": "stream",
     "text": [
      "9caaa7da-6cda-11ed-a4af-a24e34821f98\n",
      "05cb5e9f-1ce8-4eb6-81c3-67a8c5375cc6\n"
     ]
    }
   ],
   "source": [
    "from uuid import uuid1\n",
    "from uuid import uuid4\n",
    "\n",
    "#may compromise privacy \n",
    "#since it creates a UUID \n",
    "#containing the computer’s\n",
    "#network address\n",
    "\n",
    "print(uuid1())\n",
    "print(uuid4())"
   ]
  },
  {
   "cell_type": "code",
   "execution_count": null,
   "id": "cf6b8725",
   "metadata": {},
   "outputs": [],
   "source": []
  }
 ],
 "metadata": {
  "kernelspec": {
   "display_name": "Python 3 (ipykernel)",
   "language": "python",
   "name": "python3"
  },
  "language_info": {
   "codemirror_mode": {
    "name": "ipython",
    "version": 3
   },
   "file_extension": ".py",
   "mimetype": "text/x-python",
   "name": "python",
   "nbconvert_exporter": "python",
   "pygments_lexer": "ipython3",
   "version": "3.9.7"
  }
 },
 "nbformat": 4,
 "nbformat_minor": 5
}
