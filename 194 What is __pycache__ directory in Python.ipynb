{
 "cells": [
  {
   "cell_type": "markdown",
   "id": "09589f00",
   "metadata": {},
   "source": [
    "This directory is created when you\n",
    "run a program to cache the bytecode\n",
    "If you run the program again it will\n",
    "start faster\n",
    "Usually add __pycache__ to .gitignore \n",
    "so you don't check it in."
   ]
  }
 ],
 "metadata": {
  "kernelspec": {
   "display_name": "Python 3 (ipykernel)",
   "language": "python",
   "name": "python3"
  },
  "language_info": {
   "codemirror_mode": {
    "name": "ipython",
    "version": 3
   },
   "file_extension": ".py",
   "mimetype": "text/x-python",
   "name": "python",
   "nbconvert_exporter": "python",
   "pygments_lexer": "ipython3",
   "version": "3.9.7"
  }
 },
 "nbformat": 4,
 "nbformat_minor": 5
}
