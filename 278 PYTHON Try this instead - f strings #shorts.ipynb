{
 "cells": [
  {
   "cell_type": "code",
   "execution_count": 1,
   "id": "de6707a8",
   "metadata": {},
   "outputs": [
    {
     "name": "stdout",
     "output_type": "stream",
     "text": [
      "name=Will\n",
      "name ='Will'\n"
     ]
    }
   ],
   "source": [
    "name = \"Will\"\n",
    "#old way\n",
    "print(f\"name={name}\")\n",
    "\n",
    "#do this instead\n",
    "print(f\"{name =}\")"
   ]
  },
  {
   "cell_type": "code",
   "execution_count": null,
   "id": "108a5602",
   "metadata": {},
   "outputs": [],
   "source": []
  }
 ],
 "metadata": {
  "kernelspec": {
   "display_name": "3.11.1",
   "language": "python",
   "name": "3.11.1"
  },
  "language_info": {
   "codemirror_mode": {
    "name": "ipython",
    "version": 3
   },
   "file_extension": ".py",
   "mimetype": "text/x-python",
   "name": "python",
   "nbconvert_exporter": "python",
   "pygments_lexer": "ipython3",
   "version": "3.11.1"
  }
 },
 "nbformat": 4,
 "nbformat_minor": 5
}
