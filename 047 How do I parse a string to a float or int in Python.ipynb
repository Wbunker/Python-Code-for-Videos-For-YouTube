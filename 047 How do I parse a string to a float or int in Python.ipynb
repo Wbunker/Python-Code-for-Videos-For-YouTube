{
 "cells": [
  {
   "cell_type": "markdown",
   "id": "e0292341",
   "metadata": {},
   "source": [
    "# This is a very common operation\n",
    "\n",
    "## Let's start with converting to a float"
   ]
  },
  {
   "cell_type": "code",
   "execution_count": 1,
   "id": "306e2c71",
   "metadata": {},
   "outputs": [
    {
     "name": "stdout",
     "output_type": "stream",
     "text": [
      "33.0\n"
     ]
    }
   ],
   "source": [
    "string_int = \"33\"\n",
    "string_float = \"7.333\"\n",
    "string_string = \"not a number\"\n",
    "\n",
    "\n",
    "print(float(string_int))"
   ]
  },
  {
   "cell_type": "code",
   "execution_count": 2,
   "id": "664c5beb",
   "metadata": {},
   "outputs": [
    {
     "name": "stdout",
     "output_type": "stream",
     "text": [
      "7.333\n"
     ]
    }
   ],
   "source": [
    "print(float(string_float))"
   ]
  },
  {
   "cell_type": "code",
   "execution_count": 3,
   "id": "580838d3",
   "metadata": {},
   "outputs": [
    {
     "ename": "ValueError",
     "evalue": "could not convert string to float: 'not a number'",
     "output_type": "error",
     "traceback": [
      "\u001b[0;31m---------------------------------------------------------------------------\u001b[0m",
      "\u001b[0;31mValueError\u001b[0m                                Traceback (most recent call last)",
      "Input \u001b[0;32mIn [3]\u001b[0m, in \u001b[0;36m<cell line: 1>\u001b[0;34m()\u001b[0m\n\u001b[0;32m----> 1\u001b[0m \u001b[38;5;28mprint\u001b[39m(\u001b[38;5;28;43mfloat\u001b[39;49m\u001b[43m(\u001b[49m\u001b[43mstring_string\u001b[49m\u001b[43m)\u001b[49m)\n",
      "\u001b[0;31mValueError\u001b[0m: could not convert string to float: 'not a number'"
     ]
    }
   ],
   "source": [
    "print(float(string_string))"
   ]
  },
  {
   "cell_type": "markdown",
   "id": "3ca5315b",
   "metadata": {},
   "source": [
    "### How to play it safe"
   ]
  },
  {
   "cell_type": "code",
   "execution_count": 4,
   "id": "6c34039a",
   "metadata": {},
   "outputs": [
    {
     "name": "stdout",
     "output_type": "stream",
     "text": [
      "None\n"
     ]
    }
   ],
   "source": [
    "try:\n",
    "    age = float(string_string)\n",
    "except ValueError:\n",
    "    age = None\n",
    "    \n",
    "print(age)"
   ]
  },
  {
   "cell_type": "markdown",
   "id": "ae1a7f02",
   "metadata": {},
   "source": [
    "## Now let's tackle int\n",
    "\n",
    "It can't parse a float directly"
   ]
  },
  {
   "cell_type": "code",
   "execution_count": 5,
   "id": "9d1e356d",
   "metadata": {},
   "outputs": [
    {
     "ename": "ValueError",
     "evalue": "invalid literal for int() with base 10: '7.333'",
     "output_type": "error",
     "traceback": [
      "\u001b[0;31m---------------------------------------------------------------------------\u001b[0m",
      "\u001b[0;31mValueError\u001b[0m                                Traceback (most recent call last)",
      "Input \u001b[0;32mIn [5]\u001b[0m, in \u001b[0;36m<cell line: 1>\u001b[0;34m()\u001b[0m\n\u001b[0;32m----> 1\u001b[0m \u001b[38;5;28mprint\u001b[39m(\u001b[38;5;28;43mint\u001b[39;49m\u001b[43m(\u001b[49m\u001b[43mstring_float\u001b[49m\u001b[43m)\u001b[49m)\n",
      "\u001b[0;31mValueError\u001b[0m: invalid literal for int() with base 10: '7.333'"
     ]
    }
   ],
   "source": [
    "print(int(string_float))"
   ]
  },
  {
   "cell_type": "code",
   "execution_count": 6,
   "id": "7ec7d67a",
   "metadata": {},
   "outputs": [
    {
     "name": "stdout",
     "output_type": "stream",
     "text": [
      "7\n"
     ]
    }
   ],
   "source": [
    "print(int(float(string_float)))"
   ]
  },
  {
   "cell_type": "markdown",
   "id": "a2b28071",
   "metadata": {},
   "source": [
    "### how to play it safe"
   ]
  },
  {
   "cell_type": "code",
   "execution_count": 8,
   "id": "0eb1e5ab",
   "metadata": {},
   "outputs": [
    {
     "name": "stdout",
     "output_type": "stream",
     "text": [
      "7\n"
     ]
    }
   ],
   "source": [
    "try:\n",
    "    age = int(float(string_float))\n",
    "except ValueError:\n",
    "    age = None\n",
    "    \n",
    "print(age)"
   ]
  },
  {
   "cell_type": "code",
   "execution_count": null,
   "id": "5e0332bd",
   "metadata": {},
   "outputs": [],
   "source": []
  }
 ],
 "metadata": {
  "kernelspec": {
   "display_name": "Python 3 (ipykernel)",
   "language": "python",
   "name": "python3"
  },
  "language_info": {
   "codemirror_mode": {
    "name": "ipython",
    "version": 3
   },
   "file_extension": ".py",
   "mimetype": "text/x-python",
   "name": "python",
   "nbconvert_exporter": "python",
   "pygments_lexer": "ipython3",
   "version": "3.9.7"
  }
 },
 "nbformat": 4,
 "nbformat_minor": 5
}
