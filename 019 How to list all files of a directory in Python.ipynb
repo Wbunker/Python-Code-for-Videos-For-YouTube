{
 "cells": [
  {
   "cell_type": "markdown",
   "id": "15789e06",
   "metadata": {},
   "source": [
    "# There are so many ways (too many ways) to do this\n",
    "\n",
    "\n",
    "## Start old school with os\n",
    "\n",
    "### Use os.listdir to get files in directory without going into subdirectories"
   ]
  },
  {
   "cell_type": "code",
   "execution_count": 5,
   "id": "f286dfb0",
   "metadata": {},
   "outputs": [
    {
     "name": "stdout",
     "output_type": "stream",
     "text": [
      "found 20 files\n",
      "['.gitignore', '00 How to make a flat list out of a list of lists in Python.ipynb', '014 Using Global Variables In a Python Function.ipynb', '001 What does yield do in Python.ipynb', '009 How to make a flat list out of a list of lists in Python.ipynb', '005 How to merge 2 Python dictionaries in a single expression.ipynb', '008 Accessing the index when using for loop in Python.ipynb', '007 Safely create nested directory in Python.ipynb', '003 What is the ternary conditional operator in Python?.ipynb', \"015 Does Python Have a String 'contains' substring method.ipynb\", '004 How to check whether a file exists without exceptions?.ipynb', '006 How to execute a system command or run a program in Python.ipynb', '012 Find the index of an Item in Python list.ipynb', '018 How to iterate over rows of a DataFrame in Pandas.ipynb', '011 Python Basics slicing lists and strings.ipynb', '016 How do I get the current time in Python.ipynb', '019 How to list all files of a directory in Python.ipynb', '010 Difference between @staticmethod and @classmethod in Python.ipynb', '013 Looping Over Python Dictionary.ipynb', '017 How to catch multiple Python exceptions in one line (except block).ipynb']\n"
     ]
    }
   ],
   "source": [
    "import os\n",
    "from os.path import isfile, join\n",
    "\n",
    "mypath = '.'\n",
    "onlyfiles = [file for file in os.listdir(mypath) if isfile(join(mypath, file))]\n",
    "\n",
    "\n",
    "print(f\"found {len(onlyfiles)} files\")\n",
    "print(onlyfiles)"
   ]
  },
  {
   "cell_type": "markdown",
   "id": "b1b1946b",
   "metadata": {},
   "source": [
    "### Use os.walk to get files in directory and subdirectories"
   ]
  },
  {
   "cell_type": "code",
   "execution_count": 11,
   "id": "0ebc902a",
   "metadata": {},
   "outputs": [
    {
     "name": "stdout",
     "output_type": "stream",
     "text": [
      "found 205 files\n"
     ]
    }
   ],
   "source": [
    "all_files = []\n",
    "for (dirpath, dirname, filenames) in os.walk(mypath):\n",
    "    all_files.extend(filenames)\n",
    "    \n",
    "print(f\"found {len(all_files)} files\")"
   ]
  },
  {
   "cell_type": "markdown",
   "id": "15cc2965",
   "metadata": {},
   "source": [
    "# Now we graduate to New School using pathlib"
   ]
  },
  {
   "cell_type": "code",
   "execution_count": null,
   "id": "55d3d6a0",
   "metadata": {},
   "outputs": [],
   "source": [
    "from pathlib import Path\n",
    "\n",
    "all_files = [file for object in Path(mypath).blog('**/*') if file.]"
   ]
  }
 ],
 "metadata": {
  "kernelspec": {
   "display_name": "Python 3",
   "language": "python",
   "name": "python3"
  },
  "language_info": {
   "codemirror_mode": {
    "name": "ipython",
    "version": 3
   },
   "file_extension": ".py",
   "mimetype": "text/x-python",
   "name": "python",
   "nbconvert_exporter": "python",
   "pygments_lexer": "ipython3",
   "version": "3.9.12"
  }
 },
 "nbformat": 4,
 "nbformat_minor": 5
}
