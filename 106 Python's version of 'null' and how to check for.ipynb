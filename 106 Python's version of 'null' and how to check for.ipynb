{
 "cells": [
  {
   "cell_type": "markdown",
   "id": "dd16714f",
   "metadata": {},
   "source": [
    "# Python doesn't have null but it has None"
   ]
  },
  {
   "cell_type": "code",
   "execution_count": 1,
   "id": "1f2ee4cb",
   "metadata": {},
   "outputs": [
    {
     "name": "stdout",
     "output_type": "stream",
     "text": [
      "None\n"
     ]
    }
   ],
   "source": [
    "x = None\n",
    "\n",
    "print(x)"
   ]
  },
  {
   "cell_type": "markdown",
   "id": "dd6ecec4",
   "metadata": {},
   "source": [
    "# Check for it with is None"
   ]
  },
  {
   "cell_type": "code",
   "execution_count": 2,
   "id": "b002ec7e",
   "metadata": {},
   "outputs": [
    {
     "name": "stdout",
     "output_type": "stream",
     "text": [
      "True\n"
     ]
    }
   ],
   "source": [
    "print(x is None)"
   ]
  },
  {
   "cell_type": "code",
   "execution_count": null,
   "id": "4e893fac",
   "metadata": {},
   "outputs": [],
   "source": []
  }
 ],
 "metadata": {
  "kernelspec": {
   "display_name": "Python 3 (ipykernel)",
   "language": "python",
   "name": "python3"
  },
  "language_info": {
   "codemirror_mode": {
    "name": "ipython",
    "version": 3
   },
   "file_extension": ".py",
   "mimetype": "text/x-python",
   "name": "python",
   "nbconvert_exporter": "python",
   "pygments_lexer": "ipython3",
   "version": "3.9.7"
  }
 },
 "nbformat": 4,
 "nbformat_minor": 5
}
