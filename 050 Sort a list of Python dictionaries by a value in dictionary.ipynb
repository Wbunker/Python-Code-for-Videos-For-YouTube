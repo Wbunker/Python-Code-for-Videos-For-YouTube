{
 "cells": [
  {
   "cell_type": "markdown",
   "id": "fc9a4fba",
   "metadata": {},
   "source": [
    "# Another instance of Python having elegant syntax"
   ]
  },
  {
   "cell_type": "code",
   "execution_count": 3,
   "id": "660dbdf2",
   "metadata": {},
   "outputs": [
    {
     "name": "stdout",
     "output_type": "stream",
     "text": [
      "[{'name': 'Conan', 'age': 22, 'class': 'barbarian', 'hit_points': 33}, {'name': 'Merlin', 'age': 40, 'class': 'magician', 'hit_points': 20}, {'name': 'Zack', 'age': 18, 'class': 'cleric', 'hit_points': 15}]\n"
     ]
    }
   ],
   "source": [
    "characters = [\n",
    "    {'name': 'Merlin', 'age': 40, 'class': 'magician', 'hit_points': 20},    \n",
    "    {'name': 'Zack', 'age': 18, 'class': 'cleric', 'hit_points': 15},\n",
    "    {'name': 'Conan', 'age': 22, 'class': 'barbarian', 'hit_points': 33}\n",
    "]\n",
    "\n",
    "\n",
    "from operator import itemgetter\n",
    "\n",
    "\n",
    "char_by_hit_points = sorted(characters, key=itemgetter('hit_points'), reverse=True)\n",
    "\n",
    "print(char_by_hit_points)"
   ]
  },
  {
   "cell_type": "markdown",
   "id": "6c232dfb",
   "metadata": {},
   "source": [
    "# If you forget about 'good old' operator module"
   ]
  },
  {
   "cell_type": "code",
   "execution_count": 4,
   "id": "1b39db8a",
   "metadata": {},
   "outputs": [
    {
     "name": "stdout",
     "output_type": "stream",
     "text": [
      "[{'name': 'Conan', 'age': 22, 'class': 'barbarian', 'hit_points': 33}, {'name': 'Zack', 'age': 18, 'class': 'cleric', 'hit_points': 15}, {'name': 'Merlin', 'age': 40, 'class': 'magician', 'hit_points': 20}]\n"
     ]
    }
   ],
   "source": [
    "char_by_class = sorted(characters, key=lambda character: character['class'])\n",
    "\n",
    "print(char_by_class)"
   ]
  },
  {
   "cell_type": "code",
   "execution_count": null,
   "id": "cf71029e",
   "metadata": {},
   "outputs": [],
   "source": []
  }
 ],
 "metadata": {
  "kernelspec": {
   "display_name": "Python 3 (ipykernel)",
   "language": "python",
   "name": "python3"
  },
  "language_info": {
   "codemirror_mode": {
    "name": "ipython",
    "version": 3
   },
   "file_extension": ".py",
   "mimetype": "text/x-python",
   "name": "python",
   "nbconvert_exporter": "python",
   "pygments_lexer": "ipython3",
   "version": "3.9.12"
  }
 },
 "nbformat": 4,
 "nbformat_minor": 5
}
