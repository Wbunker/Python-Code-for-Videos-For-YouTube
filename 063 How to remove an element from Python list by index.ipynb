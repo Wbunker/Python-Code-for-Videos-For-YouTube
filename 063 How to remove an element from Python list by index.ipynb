{
 "cells": [
  {
   "cell_type": "markdown",
   "id": "a4de0501",
   "metadata": {},
   "source": [
    "# There are 2 basic ways to do this\n",
    "\n",
    "## 1. Use del"
   ]
  },
  {
   "cell_type": "code",
   "execution_count": 2,
   "id": "19038a66",
   "metadata": {},
   "outputs": [
    {
     "name": "stdout",
     "output_type": "stream",
     "text": [
      "['a', 'b', 'd', 'e', 'f', 'g', 'h', 'i']\n"
     ]
    }
   ],
   "source": [
    "items = ['a', 'b', 'c', 'd', 'e', 'f', 'g', 'h', 'i']\n",
    "\n",
    "\n",
    "del items[2]\n",
    "\n",
    "print(items)"
   ]
  },
  {
   "cell_type": "markdown",
   "id": "5cb38133",
   "metadata": {},
   "source": [
    "## 2. use pop"
   ]
  },
  {
   "cell_type": "code",
   "execution_count": 3,
   "id": "b78b2060",
   "metadata": {},
   "outputs": [
    {
     "name": "stdout",
     "output_type": "stream",
     "text": [
      "['a', 'b', 'e', 'f', 'g', 'h', 'i']\n"
     ]
    }
   ],
   "source": [
    "items.pop(2)\n",
    "\n",
    "print(items)"
   ]
  },
  {
   "cell_type": "code",
   "execution_count": 5,
   "id": "f8848a8f",
   "metadata": {},
   "outputs": [
    {
     "name": "stdout",
     "output_type": "stream",
     "text": [
      "i\n",
      "['a', 'b', 'e', 'f', 'g', 'h']\n"
     ]
    }
   ],
   "source": [
    "## Pop with no parameter removes last item\n",
    "\n",
    "item_to_process = items.pop()\n",
    "\n",
    "print(item_to_process)\n",
    "\n",
    "print(items)"
   ]
  },
  {
   "cell_type": "code",
   "execution_count": null,
   "id": "f35548d2",
   "metadata": {},
   "outputs": [],
   "source": []
  }
 ],
 "metadata": {
  "kernelspec": {
   "display_name": "Python 3 (ipykernel)",
   "language": "python",
   "name": "python3"
  },
  "language_info": {
   "codemirror_mode": {
    "name": "ipython",
    "version": 3
   },
   "file_extension": ".py",
   "mimetype": "text/x-python",
   "name": "python",
   "nbconvert_exporter": "python",
   "pygments_lexer": "ipython3",
   "version": "3.9.12"
  }
 },
 "nbformat": 4,
 "nbformat_minor": 5
}
