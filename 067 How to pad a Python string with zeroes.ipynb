{
 "cells": [
  {
   "cell_type": "markdown",
   "id": "fdeb1b5e",
   "metadata": {},
   "source": [
    "# Use the magic spell zfill to use for this\n",
    "\n",
    "### stands for zero fill (kind of gives it away)"
   ]
  },
  {
   "cell_type": "code",
   "execution_count": 2,
   "id": "74a367a1",
   "metadata": {},
   "outputs": [
    {
     "name": "stdout",
     "output_type": "stream",
     "text": [
      "0045\n"
     ]
    }
   ],
   "source": [
    "episode = '45'\n",
    "\n",
    "\n",
    "print(episode.zfill(4))"
   ]
  },
  {
   "cell_type": "markdown",
   "id": "93fa0512",
   "metadata": {},
   "source": [
    "# What about padding numbers?"
   ]
  },
  {
   "cell_type": "code",
   "execution_count": 3,
   "id": "3d128201",
   "metadata": {},
   "outputs": [
    {
     "name": "stdout",
     "output_type": "stream",
     "text": [
      "0045\n"
     ]
    }
   ],
   "source": [
    "episode = 45\n",
    "\n",
    "print(f\"{episode:04}\")"
   ]
  }
 ],
 "metadata": {
  "kernelspec": {
   "display_name": "Python 3 (ipykernel)",
   "language": "python",
   "name": "python3"
  },
  "language_info": {
   "codemirror_mode": {
    "name": "ipython",
    "version": 3
   },
   "file_extension": ".py",
   "mimetype": "text/x-python",
   "name": "python",
   "nbconvert_exporter": "python",
   "pygments_lexer": "ipython3",
   "version": "3.11.1"
  }
 },
 "nbformat": 4,
 "nbformat_minor": 5
}
