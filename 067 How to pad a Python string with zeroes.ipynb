{
 "cells": [
  {
   "cell_type": "markdown",
   "id": "fdeb1b5e",
   "metadata": {},
   "source": [
    "# Zfill is the magic spell to use for this\n",
    "\n",
    "### stands for zero fill (kind of gives it away)"
   ]
  },
  {
   "cell_type": "code",
   "execution_count": 2,
   "id": "74a367a1",
   "metadata": {},
   "outputs": [
    {
     "name": "stdout",
     "output_type": "stream",
     "text": [
      "0045\n"
     ]
    }
   ],
   "source": [
    "episode = '45'\n",
    "\n",
    "\n",
    "print(str(episode).zfill(4))"
   ]
  },
  {
   "cell_type": "markdown",
   "id": "93fa0512",
   "metadata": {},
   "source": [
    "# What about padding numbers?"
   ]
  },
  {
   "cell_type": "code",
   "execution_count": 3,
   "id": "3d128201",
   "metadata": {},
   "outputs": [
    {
     "name": "stdout",
     "output_type": "stream",
     "text": [
      "0045\n"
     ]
    }
   ],
   "source": [
    "episode = 45\n",
    "\n",
    "print(f\"{episode:04}\")"
   ]
  }
 ],
 "metadata": {
  "kernelspec": {
   "display_name": "Python 3",
   "language": "python",
   "name": "python3"
  },
  "language_info": {
   "codemirror_mode": {
    "name": "ipython",
    "version": 3
   },
   "file_extension": ".py",
   "mimetype": "text/x-python",
   "name": "python",
   "nbconvert_exporter": "python",
   "pygments_lexer": "ipython3",
   "version": "3.9.12"
  }
 },
 "nbformat": 4,
 "nbformat_minor": 5
}
