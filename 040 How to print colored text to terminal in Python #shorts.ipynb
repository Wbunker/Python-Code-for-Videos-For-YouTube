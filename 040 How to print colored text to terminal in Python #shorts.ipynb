{
 "cells": [
  {
   "cell_type": "code",
   "execution_count": 1,
   "id": "96eb5226",
   "metadata": {},
   "outputs": [
    {
     "name": "stdout",
     "output_type": "stream",
     "text": [
      "\u001b[5m\u001b[7m\u001b[31mHello, world!\u001b[0m\n",
      "\u001b[40m\u001b[32mGoodby Cruel World\u001b[0m\n"
     ]
    }
   ],
   "source": [
    "# curses not supported on windows\n",
    "from termcolor import colored\n",
    "from termcolor import cprint\n",
    "import os\n",
    "\n",
    "if os.name == 'nt':\n",
    "    os.system('color')\n",
    "    \n",
    "text = colored(\n",
    "    \"Hello, world!\", \n",
    "    \"red\", \n",
    "    attrs=[\"reverse\", \"blink\"])\n",
    "\n",
    "print(text)\n",
    "\n",
    "cprint(\"Goodby Cruel World\", \n",
    "       \"green\", \"on_grey\")"
   ]
  }
 ],
 "metadata": {
  "kernelspec": {
   "display_name": "Python 3 (ipykernel)",
   "language": "python",
   "name": "python3"
  },
  "language_info": {
   "codemirror_mode": {
    "name": "ipython",
    "version": 3
   },
   "file_extension": ".py",
   "mimetype": "text/x-python",
   "name": "python",
   "nbconvert_exporter": "python",
   "pygments_lexer": "ipython3",
   "version": "3.9.7"
  }
 },
 "nbformat": 4,
 "nbformat_minor": 5
}
