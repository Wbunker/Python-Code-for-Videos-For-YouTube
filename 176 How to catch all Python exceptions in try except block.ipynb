{
 "cells": [
  {
   "cell_type": "code",
   "execution_count": 2,
   "id": "971250c1",
   "metadata": {},
   "outputs": [
    {
     "name": "stderr",
     "output_type": "stream",
     "text": [
      "ERROR:root:Unhandled error: division by zero\n"
     ]
    },
    {
     "name": "stdout",
     "output_type": "stream",
     "text": [
      "regular code\n"
     ]
    }
   ],
   "source": [
    "import logging as l\n",
    "\n",
    "try:\n",
    "    print('regular code')\n",
    "    z = 15 / 0\n",
    "except Exception as ex:\n",
    "    l.error(f\"Unhandled error: {str(ex)}\")"
   ]
  },
  {
   "cell_type": "code",
   "execution_count": null,
   "id": "6df6743f",
   "metadata": {},
   "outputs": [],
   "source": []
  }
 ],
 "metadata": {
  "kernelspec": {
   "display_name": "Python 3 (ipykernel)",
   "language": "python",
   "name": "python3"
  },
  "language_info": {
   "codemirror_mode": {
    "name": "ipython",
    "version": 3
   },
   "file_extension": ".py",
   "mimetype": "text/x-python",
   "name": "python",
   "nbconvert_exporter": "python",
   "pygments_lexer": "ipython3",
   "version": "3.9.7"
  }
 },
 "nbformat": 4,
 "nbformat_minor": 5
}
