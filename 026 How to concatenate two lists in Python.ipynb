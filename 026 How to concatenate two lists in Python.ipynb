{
 "cells": [
  {
   "cell_type": "markdown",
   "id": "ea7b4dfb",
   "metadata": {},
   "source": [
    "# Another straightforward question"
   ]
  },
  {
   "cell_type": "code",
   "execution_count": 1,
   "id": "9f9fd5a1",
   "metadata": {},
   "outputs": [
    {
     "name": "stdout",
     "output_type": "stream",
     "text": [
      "[1, 2, 3, 4, 5, 100, 101, 103, 104, 105]\n"
     ]
    }
   ],
   "source": [
    "small = [1, 2, 3, 4, 5]\n",
    "\n",
    "big = [100, 101, 103, 104, 105]\n",
    "\n",
    "together = small + big\n",
    "\n",
    "\n",
    "print(together)"
   ]
  },
  {
   "cell_type": "markdown",
   "id": "1e316699",
   "metadata": {},
   "source": [
    "# What if you want to add one list to another?"
   ]
  },
  {
   "cell_type": "code",
   "execution_count": 2,
   "id": "cf4a3dde",
   "metadata": {},
   "outputs": [
    {
     "name": "stdout",
     "output_type": "stream",
     "text": [
      "[1, 2, 3, 4, 5, 6, 7]\n"
     ]
    }
   ],
   "source": [
    "total = [1, 2, 3, 4]\n",
    "\n",
    "total += [5, 6, 7]\n",
    "\n",
    "print(total)"
   ]
  },
  {
   "cell_type": "code",
   "execution_count": null,
   "id": "72828491",
   "metadata": {},
   "outputs": [],
   "source": []
  }
 ],
 "metadata": {
  "kernelspec": {
   "display_name": "Python 3 (ipykernel)",
   "language": "python",
   "name": "python3"
  },
  "language_info": {
   "codemirror_mode": {
    "name": "ipython",
    "version": 3
   },
   "file_extension": ".py",
   "mimetype": "text/x-python",
   "name": "python",
   "nbconvert_exporter": "python",
   "pygments_lexer": "ipython3",
   "version": "3.9.7"
  }
 },
 "nbformat": 4,
 "nbformat_minor": 5
}
