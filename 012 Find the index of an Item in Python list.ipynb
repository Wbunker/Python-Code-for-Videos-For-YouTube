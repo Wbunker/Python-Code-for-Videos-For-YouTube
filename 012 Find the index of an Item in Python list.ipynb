{
 "cells": [
  {
   "cell_type": "markdown",
   "id": "1ff2a89f",
   "metadata": {},
   "source": [
    "# The Basics are Super Easy"
   ]
  },
  {
   "cell_type": "code",
   "execution_count": 1,
   "id": "820c825a",
   "metadata": {},
   "outputs": [
    {
     "name": "stdout",
     "output_type": "stream",
     "text": [
      "2\n"
     ]
    }
   ],
   "source": [
    "list = [\"apple\", \"pear\", \"banana\", \"orange\", \"grapes\"]\n",
    "\n",
    "\n",
    "print(list.index('banana'))"
   ]
  },
  {
   "cell_type": "markdown",
   "id": "c1b8cc70",
   "metadata": {},
   "source": [
    "# Must be sure to error proof in production code"
   ]
  },
  {
   "cell_type": "code",
   "execution_count": 2,
   "id": "d1773eb7",
   "metadata": {},
   "outputs": [
    {
     "ename": "ValueError",
     "evalue": "'kiwi' is not in list",
     "output_type": "error",
     "traceback": [
      "\u001b[0;31m---------------------------------------------------------------------------\u001b[0m",
      "\u001b[0;31mValueError\u001b[0m                                Traceback (most recent call last)",
      "Input \u001b[0;32mIn [2]\u001b[0m, in \u001b[0;36m<cell line: 1>\u001b[0;34m()\u001b[0m\n\u001b[0;32m----> 1\u001b[0m \u001b[38;5;28mprint\u001b[39m(\u001b[38;5;28;43mlist\u001b[39;49m\u001b[38;5;241;43m.\u001b[39;49m\u001b[43mindex\u001b[49m\u001b[43m(\u001b[49m\u001b[38;5;124;43m'\u001b[39;49m\u001b[38;5;124;43mkiwi\u001b[39;49m\u001b[38;5;124;43m'\u001b[39;49m\u001b[43m)\u001b[49m)\n",
      "\u001b[0;31mValueError\u001b[0m: 'kiwi' is not in list"
     ]
    }
   ],
   "source": [
    "print(list.index('kiwi'))"
   ]
  },
  {
   "cell_type": "markdown",
   "id": "e406af72",
   "metadata": {},
   "source": [
    "# The Right Way to Check"
   ]
  },
  {
   "cell_type": "code",
   "execution_count": 3,
   "id": "81eef689",
   "metadata": {},
   "outputs": [
    {
     "name": "stdout",
     "output_type": "stream",
     "text": [
      "We are out of kiwis, can you go get some\n"
     ]
    }
   ],
   "source": [
    "try:\n",
    "    print(list.index('kiwi'))\n",
    "except ValueError as err:\n",
    "    print(\"We are out of kiwis, can you go get some\")"
   ]
  },
  {
   "cell_type": "markdown",
   "id": "1e280812",
   "metadata": {},
   "source": [
    "# It Searches From Start to Finish\n",
    "\n",
    "## Computer Science Alert!!!!!\n",
    "\n",
    "### Big O(n) or Linear Time\n",
    "\n",
    "Beware if you have a really long list"
   ]
  },
  {
   "cell_type": "code",
   "execution_count": 2,
   "id": "32f76c71",
   "metadata": {},
   "outputs": [
    {
     "name": "stdout",
     "output_type": "stream",
     "text": [
      "Building list of size 200000\n",
      "Going to test list of size 200000\n",
      "It took 0.6266507909999746 seconds\n",
      "\n",
      "\n",
      "Building list of size 2000000\n",
      "Going to test list of size 2000000\n",
      "It took 7.085764541999993 seconds\n",
      "\n",
      "\n"
     ]
    }
   ],
   "source": [
    "import timeit\n",
    "from random import choice\n",
    "from string import ascii_lowercase\n",
    "\n",
    "\n",
    "def test_if_in(a_list):\n",
    "    try:\n",
    "        a_list.index('vsdnalalzwdvujptilms')\n",
    "    except ValueError as err:\n",
    "        pass\n",
    "\n",
    "\n",
    "number_of_strings = 200000\n",
    "print(f\"Building list of size {number_of_strings}\")\n",
    "big_list = [''.join([choice(ascii_lowercase) for _ in range(20)]) for _ in range(number_of_strings)]\n",
    "\n",
    "print(f\"Going to test list of size {len(big_list)}\")\n",
    "time_expired = timeit.timeit(lambda: test_if_in(big_list) , number = 100)\n",
    "print(f\"It took {time_expired} seconds\\n\\n\")\n",
    "\n",
    "print(f\"Building list of size {number_of_strings* 10}\")\n",
    "big_list = [''.join([choice(ascii_lowercase) for _ in range(20)]) for _ in range(number_of_strings * 10)]\n",
    "\n",
    "print(f\"Going to test list of size {len(big_list)}\")\n",
    "time_expired = timeit.timeit(lambda: test_if_in(big_list) , number = 100)\n",
    "print(f\"It took {time_expired} seconds\\n\\n\")\n"
   ]
  },
  {
   "cell_type": "code",
   "execution_count": null,
   "id": "c2536cff",
   "metadata": {},
   "outputs": [],
   "source": []
  }
 ],
 "metadata": {
  "kernelspec": {
   "display_name": "Python 3 (ipykernel)",
   "language": "python",
   "name": "python3"
  },
  "language_info": {
   "codemirror_mode": {
    "name": "ipython",
    "version": 3
   },
   "file_extension": ".py",
   "mimetype": "text/x-python",
   "name": "python",
   "nbconvert_exporter": "python",
   "pygments_lexer": "ipython3",
   "version": "3.9.7"
  }
 },
 "nbformat": 4,
 "nbformat_minor": 5
}
