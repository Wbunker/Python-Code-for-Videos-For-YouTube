{
 "cells": [
  {
   "cell_type": "code",
   "execution_count": 1,
   "id": "8ccd41ba",
   "metadata": {},
   "outputs": [
    {
     "name": "stdout",
     "output_type": "stream",
     "text": [
      "Cat\n"
     ]
    }
   ],
   "source": [
    "x = \"c\"\n",
    "match x:\n",
    "    case 'a':\n",
    "        print(\"Apple\")\n",
    "    case 'b':\n",
    "        print(\"Bat\")\n",
    "    case 'c':\n",
    "        print(\"Cat\")\n",
    "    case other:\n",
    "        print(\"Missing that letter\")\n"
   ]
  },
  {
   "cell_type": "code",
   "execution_count": 3,
   "id": "b3e3fa86",
   "metadata": {},
   "outputs": [
    {
     "name": "stdout",
     "output_type": "stream",
     "text": [
      "Cat\n"
     ]
    }
   ],
   "source": [
    "if x == 'a':\n",
    "    print(\"Apple\")\n",
    "elif x == 'b':\n",
    "    print(\"Bat\")\n",
    "elif x == 'c':\n",
    "    print(\"Cat\")\n",
    "else:\n",
    "    print(\"Missing that letter\")"
   ]
  }
 ],
 "metadata": {
  "kernelspec": {
   "display_name": "3.11.1",
   "language": "python",
   "name": "3.11.1"
  },
  "language_info": {
   "codemirror_mode": {
    "name": "ipython",
    "version": 3
   },
   "file_extension": ".py",
   "mimetype": "text/x-python",
   "name": "python",
   "nbconvert_exporter": "python",
   "pygments_lexer": "ipython3",
   "version": "3.11.1"
  }
 },
 "nbformat": 4,
 "nbformat_minor": 5
}
