{
 "cells": [
  {
   "cell_type": "markdown",
   "id": "a8206cf7",
   "metadata": {},
   "source": [
    "# Use astype( type ) To Convert Fields"
   ]
  },
  {
   "cell_type": "code",
   "execution_count": 46,
   "id": "2326e3af",
   "metadata": {},
   "outputs": [
    {
     "name": "stdout",
     "output_type": "stream",
     "text": [
      "  name height width\n",
      "0   ab    1.2   4.2\n",
      "1   bd     70  0.03\n",
      "2   dc      5     0\n"
     ]
    }
   ],
   "source": [
    "import pandas as pd\n",
    "\n",
    "table = [\n",
    "    [ \"ab\",  '1.2',  '4.2' ],\n",
    "    [ \"bd\",  '70',   '0.03'],\n",
    "    [ \"dc\",  '5',    '0'   ]\n",
    "]\n",
    "\n",
    "df = pd.DataFrame(table, columns=[\"name\", \"height\", \"width\"])\n",
    "\n",
    "print(df)"
   ]
  },
  {
   "cell_type": "code",
   "execution_count": 47,
   "id": "7beb9088",
   "metadata": {},
   "outputs": [
    {
     "name": "stdout",
     "output_type": "stream",
     "text": [
      "name      object\n",
      "height    object\n",
      "width     object\n",
      "dtype: object\n"
     ]
    }
   ],
   "source": [
    "print(df.dtypes)"
   ]
  },
  {
   "cell_type": "code",
   "execution_count": 48,
   "id": "4d367cd2",
   "metadata": {},
   "outputs": [
    {
     "name": "stdout",
     "output_type": "stream",
     "text": [
      "name       object\n",
      "height    float64\n",
      "width     float64\n",
      "dtype: object\n"
     ]
    }
   ],
   "source": [
    "df['height'] = df['height'].astype(float)\n",
    "df['width'] = df['width'].astype(float)\n",
    "print(df.dtypes)"
   ]
  },
  {
   "cell_type": "markdown",
   "id": "23a5cef7",
   "metadata": {},
   "source": [
    "# Strings have a variable length so the are always objects"
   ]
  },
  {
   "cell_type": "code",
   "execution_count": 43,
   "id": "3cc016fe",
   "metadata": {},
   "outputs": [
    {
     "name": "stdout",
     "output_type": "stream",
     "text": [
      "name       object\n",
      "height    float64\n",
      "width     float64\n",
      "dtype: object\n"
     ]
    }
   ],
   "source": [
    "df['name'] = df['name'].astype(str)\n",
    "\n",
    "print(df.dtypes)"
   ]
  },
  {
   "cell_type": "code",
   "execution_count": 44,
   "id": "602fb762",
   "metadata": {},
   "outputs": [
    {
     "name": "stdout",
     "output_type": "stream",
     "text": [
      "0    ab\n",
      "1    bd\n",
      "2    dc\n",
      "Name: name, dtype: object\n"
     ]
    }
   ],
   "source": [
    "print(df['name'])"
   ]
  },
  {
   "cell_type": "code",
   "execution_count": null,
   "id": "2216349b",
   "metadata": {},
   "outputs": [],
   "source": []
  }
 ],
 "metadata": {
  "kernelspec": {
   "display_name": "3.10",
   "language": "python",
   "name": "python3.10"
  },
  "language_info": {
   "codemirror_mode": {
    "name": "ipython",
    "version": 3
   },
   "file_extension": ".py",
   "mimetype": "text/x-python",
   "name": "python",
   "nbconvert_exporter": "python",
   "pygments_lexer": "ipython3",
   "version": "3.10.7"
  }
 },
 "nbformat": 4,
 "nbformat_minor": 5
}
