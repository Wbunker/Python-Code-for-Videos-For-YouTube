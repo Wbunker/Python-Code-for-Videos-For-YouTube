{
 "cells": [
  {
   "cell_type": "markdown",
   "id": "2aaa59ae",
   "metadata": {},
   "source": [
    "# Me before I understood the word Pythonic"
   ]
  },
  {
   "cell_type": "code",
   "execution_count": 2,
   "id": "281ab6f5",
   "metadata": {},
   "outputs": [
    {
     "name": "stdout",
     "output_type": "stream",
     "text": [
      "Get's job done but not pythonic\n"
     ]
    }
   ],
   "source": [
    "empty_string = \"\"\n",
    "\n",
    "if len(empty_string) == 0:\n",
    "    print(\"Get's job done but not pythonic\")"
   ]
  },
  {
   "cell_type": "markdown",
   "id": "55b29829",
   "metadata": {},
   "source": [
    "# The New Pythonic You"
   ]
  },
  {
   "cell_type": "code",
   "execution_count": 4,
   "id": "400378de",
   "metadata": {},
   "outputs": [
    {
     "name": "stdout",
     "output_type": "stream",
     "text": [
      "Now I can hang out with all the cool kids\n"
     ]
    }
   ],
   "source": [
    "if not empty_string:\n",
    "    print(\"Now I can hang out with all the cool kids\")"
   ]
  },
  {
   "cell_type": "code",
   "execution_count": null,
   "id": "34a0371c",
   "metadata": {},
   "outputs": [],
   "source": []
  }
 ],
 "metadata": {
  "kernelspec": {
   "display_name": "Python 3",
   "language": "python",
   "name": "python3"
  },
  "language_info": {
   "codemirror_mode": {
    "name": "ipython",
    "version": 3
   },
   "file_extension": ".py",
   "mimetype": "text/x-python",
   "name": "python",
   "nbconvert_exporter": "python",
   "pygments_lexer": "ipython3",
   "version": "3.9.12"
  }
 },
 "nbformat": 4,
 "nbformat_minor": 5
}
