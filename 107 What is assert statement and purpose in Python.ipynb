{
 "cells": [
  {
   "cell_type": "markdown",
   "id": "83b9f9a7",
   "metadata": {},
   "source": [
    "# Way of documenting expectations for other programmers"
   ]
  },
  {
   "cell_type": "code",
   "execution_count": 2,
   "id": "4c87bc8c",
   "metadata": {},
   "outputs": [
    {
     "name": "stdout",
     "output_type": "stream",
     "text": [
      "24\n"
     ]
    }
   ],
   "source": [
    "x = 5\n",
    "\n",
    "\n",
    "def factorial(x):\n",
    "    \n",
    "    assert x > 0, \"Can only do factorials for positive integers\"\n",
    "    \n",
    "    total = 1\n",
    "    for i in range(x):\n",
    "        total *= (i+1)\n",
    "        \n",
    "    return total\n",
    "\n",
    "\n",
    "print(factorial(4))"
   ]
  },
  {
   "cell_type": "code",
   "execution_count": 3,
   "id": "aaaa979f",
   "metadata": {},
   "outputs": [
    {
     "ename": "AssertionError",
     "evalue": "Can only do factorials for positive integers",
     "output_type": "error",
     "traceback": [
      "\u001b[0;31m---------------------------------------------------------------------------\u001b[0m",
      "\u001b[0;31mAssertionError\u001b[0m                            Traceback (most recent call last)",
      "Cell \u001b[0;32mIn [3], line 1\u001b[0m\n\u001b[0;32m----> 1\u001b[0m \u001b[38;5;28mprint\u001b[39m(factorial(\u001b[38;5;241m-\u001b[39m\u001b[38;5;241m1\u001b[39m))\n",
      "Cell \u001b[0;32mIn [2], line 6\u001b[0m, in \u001b[0;36mfactorial\u001b[0;34m(x)\u001b[0m\n\u001b[1;32m      4\u001b[0m \u001b[38;5;28;01mdef\u001b[39;00m \u001b[38;5;21mfactorial\u001b[39m(x):\n\u001b[0;32m----> 6\u001b[0m     \u001b[38;5;28;01massert\u001b[39;00m x \u001b[38;5;241m>\u001b[39m \u001b[38;5;241m0\u001b[39m, \u001b[38;5;124m\"\u001b[39m\u001b[38;5;124mCan only do factorials for positive integers\u001b[39m\u001b[38;5;124m\"\u001b[39m\n\u001b[1;32m      8\u001b[0m     total \u001b[38;5;241m=\u001b[39m \u001b[38;5;241m1\u001b[39m\n\u001b[1;32m      9\u001b[0m     \u001b[38;5;28;01mfor\u001b[39;00m i \u001b[38;5;129;01min\u001b[39;00m \u001b[38;5;28mrange\u001b[39m(x):\n",
      "\u001b[0;31mAssertionError\u001b[0m: Can only do factorials for positive integers"
     ]
    }
   ],
   "source": [
    "print(factorial(-1))"
   ]
  },
  {
   "cell_type": "markdown",
   "id": "113053ad",
   "metadata": {},
   "source": [
    "# Won't this slow down my code?\n",
    "\n",
    "### Use -o for optimized to remove while in production"
   ]
  },
  {
   "cell_type": "code",
   "execution_count": null,
   "id": "d1399cab",
   "metadata": {},
   "outputs": [],
   "source": [
    "! python3 -o myscript.py"
   ]
  }
 ],
 "metadata": {
  "kernelspec": {
   "display_name": "Python 3 (ipykernel)",
   "language": "python",
   "name": "python3"
  },
  "language_info": {
   "codemirror_mode": {
    "name": "ipython",
    "version": 3
   },
   "file_extension": ".py",
   "mimetype": "text/x-python",
   "name": "python",
   "nbconvert_exporter": "python",
   "pygments_lexer": "ipython3",
   "version": "3.9.7"
  }
 },
 "nbformat": 4,
 "nbformat_minor": 5
}
